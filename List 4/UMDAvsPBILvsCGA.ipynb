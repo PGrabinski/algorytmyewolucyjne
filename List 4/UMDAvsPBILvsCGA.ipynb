{
 "cells": [
  {
   "cell_type": "code",
   "execution_count": 1,
   "id": "a28989d2-b653-4481-bf0d-09ba608d426e",
   "metadata": {},
   "outputs": [],
   "source": [
    "%load_ext autoreload\n",
    "%autoreload 2"
   ]
  },
  {
   "cell_type": "code",
   "execution_count": 2,
   "id": "0928c635-d62f-42f4-832e-d40493e4bb6d",
   "metadata": {},
   "outputs": [],
   "source": [
    "import numpy as np\n",
    "import wandb\n",
    "from tqdm.notebook import tqdm\n",
    "import multiprocessing\n",
    "import datetime\n",
    "\n",
    "from benchmarks import OneMax, DeceptiveOneMax, KDeceptiveOneMax\n",
    "from UMDA import UMDA\n",
    "from PBIL import PBIL\n",
    "from CGA import CGA"
   ]
  },
  {
   "cell_type": "code",
   "execution_count": 3,
   "id": "027549ef-bbed-400a-a516-7280dbc978a9",
   "metadata": {},
   "outputs": [],
   "source": [
    "def run_experiment(config):\n",
    "    run = wandb.init(config=config, reinit=True)\n",
    "    with run:\n",
    "        optimizer = config['optimizer'](**config, wandb_run=run)\n",
    "        optimizer.evolve()\n",
    "    return datetime.datetime.now()"
   ]
  },
  {
   "cell_type": "code",
   "execution_count": 10,
   "id": "9a2cf55a-776b-4d6f-9df7-efdbac616492",
   "metadata": {},
   "outputs": [],
   "source": [
    "configs = [\n",
    "    # # Onemax d=10\n",
    "    # {\n",
    "    #     'optimizer': UMDA,\n",
    "    #     'fitness_function': OneMax(),\n",
    "    #     'fitness_function_name': str(OneMax()),\n",
    "    #     'population_size': 100,\n",
    "    #     'problem_dimension': 10,\n",
    "    #     'top_k': 10,\n",
    "    #     'max_iter': 1000\n",
    "    # },\n",
    "    # {\n",
    "    #     'optimizer': PBIL,\n",
    "    #     'fitness_function': OneMax(),\n",
    "    #     'fitness_function_name': str(OneMax()),\n",
    "    #     'population_size': 100,\n",
    "    #     'problem_dimension': 10,\n",
    "    #     'learning_rate': 0.01,\n",
    "    #     'mutation_rate': 0.01,\n",
    "    #     'mutation_distortion_rate': 0.01,\n",
    "    #     'max_iter': 1000\n",
    "    # },\n",
    "    # {\n",
    "    #     'optimizer': PBIL,\n",
    "    #     'fitness_function': OneMax(),\n",
    "    #     'fitness_function_name': str(OneMax()),\n",
    "    #     'population_size': 100,\n",
    "    #     'problem_dimension': 10,\n",
    "    #     'learning_rate': 0.1,\n",
    "    #     'mutation_rate': 0.01,\n",
    "    #     'mutation_distortion_rate': 0.01,\n",
    "    #     'max_iter': 1000\n",
    "    # },\n",
    "    # {\n",
    "    #     'optimizer': PBIL,\n",
    "    #     'fitness_function': OneMax(),\n",
    "    #     'fitness_function_name': str(OneMax()),\n",
    "    #     'population_size': 100,\n",
    "    #     'problem_dimension': 10,\n",
    "    #     'learning_rate': 0.1,\n",
    "    #     'mutation_rate': 0.1,\n",
    "    #     'mutation_distortion_rate': 0.01,\n",
    "    #     'max_iter': 1000\n",
    "    # },\n",
    "    # {\n",
    "    #     'optimizer': CGA,\n",
    "    #     'fitness_function': OneMax(),\n",
    "    #     'fitness_function_name': str(OneMax()),\n",
    "    #     'problem_dimension': 10,\n",
    "    #     'learning_rate': 0.01,\n",
    "    #     'max_iter': 1000\n",
    "    # },\n",
    "    # {\n",
    "    #     'optimizer': CGA,\n",
    "    #     'fitness_function': OneMax(),\n",
    "    #     'fitness_function_name': str(OneMax()),\n",
    "    #     'problem_dimension': 10,\n",
    "    #     'learning_rate': 0.1,\n",
    "    #     'max_iter': 1000\n",
    "    # },\n",
    "    # # OneMax d=100\n",
    "    # {\n",
    "    #     'optimizer': UMDA,\n",
    "    #     'fitness_function': OneMax(),\n",
    "    #     'fitness_function_name': str(OneMax()),\n",
    "    #     'population_size': 1000,\n",
    "    #     'problem_dimension': 100,\n",
    "    #     'top_k': 100,\n",
    "    #     'max_iter': 1000\n",
    "    # },\n",
    "    # {\n",
    "    #     'optimizer': PBIL,\n",
    "    #     'fitness_function': OneMax(),\n",
    "    #     'fitness_function_name': str(OneMax()),\n",
    "    #     'population_size': 1000,\n",
    "    #     'problem_dimension': 100,\n",
    "    #     'learning_rate': 0.01,\n",
    "    #     'mutation_rate': 0.01,\n",
    "    #     'mutation_distortion_rate': 0.01,\n",
    "    #     'max_iter': 1000\n",
    "    # },\n",
    "    # {\n",
    "    #     'optimizer': PBIL,\n",
    "    #     'fitness_function': OneMax(),\n",
    "    #     'fitness_function_name': str(OneMax()),\n",
    "    #     'population_size': 1000,\n",
    "    #     'problem_dimension': 100,\n",
    "    #     'learning_rate': 0.1,\n",
    "    #     'mutation_rate': 0.01,\n",
    "    #     'mutation_distortion_rate': 0.01,\n",
    "    #     'max_iter': 1000\n",
    "    # },\n",
    "    # {\n",
    "    #     'optimizer': PBIL,\n",
    "    #     'fitness_function': OneMax(),\n",
    "    #     'fitness_function_name': str(OneMax()),\n",
    "    #     'population_size': 1000,\n",
    "    #     'problem_dimension': 100,\n",
    "    #     'learning_rate': 0.1,\n",
    "    #     'mutation_rate': 0.1,\n",
    "    #     'mutation_distortion_rate': 0.01,\n",
    "    #     'max_iter': 1000\n",
    "    # },\n",
    "    # {\n",
    "    #     'optimizer': CGA,\n",
    "    #     'fitness_function': OneMax(),\n",
    "    #     'fitness_function_name': str(OneMax()),\n",
    "    #     'problem_dimension': 100,\n",
    "    #     'learning_rate': 0.01,\n",
    "    #     'max_iter': 1000\n",
    "    # },\n",
    "    # {\n",
    "    #     'optimizer': CGA,\n",
    "    #     'fitness_function': OneMax(),\n",
    "    #     'fitness_function_name': str(OneMax()),\n",
    "    #     'problem_dimension': 100,\n",
    "    #     'learning_rate': 0.1,\n",
    "    #     'max_iter': 1000\n",
    "    # },\n",
    "    # # OneMax d=1000\n",
    "    # {\n",
    "    #     'optimizer': UMDA,\n",
    "    #     'fitness_function': OneMax(),\n",
    "    #     'fitness_function_name': str(OneMax()),\n",
    "    #     'population_size': 10000,\n",
    "    #     'problem_dimension': 1000,\n",
    "    #     'top_k': 1000,\n",
    "    #     'max_iter': 1000\n",
    "    # },\n",
    "    # {\n",
    "    #     'optimizer': PBIL,\n",
    "    #     'fitness_function': OneMax(),\n",
    "    #     'fitness_function_name': str(OneMax()),\n",
    "    #     'population_size': 10000,\n",
    "    #     'problem_dimension': 1000,\n",
    "    #     'learning_rate': 0.01,\n",
    "    #     'mutation_rate': 0.01,\n",
    "    #     'mutation_distortion_rate': 0.01,\n",
    "    #     'max_iter': 1000\n",
    "    # },\n",
    "    # {\n",
    "    #     'optimizer': PBIL,\n",
    "    #     'fitness_function': OneMax(),\n",
    "    #     'fitness_function_name': str(OneMax()),\n",
    "    #     'population_size': 10000,\n",
    "    #     'problem_dimension': 1000,\n",
    "    #     'learning_rate': 0.1,\n",
    "    #     'mutation_rate': 0.01,\n",
    "    #     'mutation_distortion_rate': 0.01,\n",
    "    #     'max_iter': 1000\n",
    "    # },\n",
    "    # {\n",
    "    #     'optimizer': PBIL,\n",
    "    #     'fitness_function': OneMax(),\n",
    "    #     'fitness_function_name': str(OneMax()),\n",
    "    #     'population_size': 10000,\n",
    "    #     'problem_dimension': 1000,\n",
    "    #     'learning_rate': 0.1,\n",
    "    #     'mutation_rate': 0.1,\n",
    "    #     'mutation_distortion_rate': 0.01,\n",
    "    #     'max_iter': 1000\n",
    "    # },\n",
    "    # {\n",
    "    #     'optimizer': CGA,\n",
    "    #     'fitness_function': OneMax(),\n",
    "    #     'fitness_function_name': str(OneMax()),\n",
    "    #     'problem_dimension': 1000,\n",
    "    #     'learning_rate': 0.01,\n",
    "    #     'max_iter': 1000\n",
    "    # },\n",
    "    # {\n",
    "    #     'optimizer': CGA,\n",
    "    #     'fitness_function': OneMax(),\n",
    "    #     'fitness_function_name': str(OneMax()),\n",
    "    #     'problem_dimension': 1000,\n",
    "    #     'learning_rate': 0.1,\n",
    "    #     'max_iter': 1000\n",
    "    # },\n",
    "    # # DECEPTIVE\n",
    "    # # DeceptiveOneMax d=10\n",
    "    # {\n",
    "    #     'optimizer': UMDA,\n",
    "    #     'fitness_function': DeceptiveOneMax(),\n",
    "    #     'fitness_function_name': str(DeceptiveOneMax()),\n",
    "    #     'population_size': 100,\n",
    "    #     'problem_dimension': 10,\n",
    "    #     'top_k': 10,\n",
    "    #     'max_iter': 1000\n",
    "    # },\n",
    "    # {\n",
    "    #     'optimizer': PBIL,\n",
    "    #     'fitness_function': DeceptiveOneMax(),\n",
    "    #     'fitness_function_name': str(DeceptiveOneMax()),\n",
    "    #     'population_size': 100,\n",
    "    #     'problem_dimension': 10,\n",
    "    #     'learning_rate': 0.01,\n",
    "    #     'mutation_rate': 0.01,\n",
    "    #     'mutation_distortion_rate': 0.01,\n",
    "    #     'max_iter': 1000\n",
    "    # },\n",
    "    # {\n",
    "    #     'optimizer': PBIL,\n",
    "    #     'fitness_function': DeceptiveOneMax(),\n",
    "    #     'fitness_function_name': str(DeceptiveOneMax()),\n",
    "    #     'population_size': 100,\n",
    "    #     'problem_dimension': 10,\n",
    "    #     'learning_rate': 0.1,\n",
    "    #     'mutation_rate': 0.01,\n",
    "    #     'mutation_distortion_rate': 0.01,\n",
    "    #     'max_iter': 1000\n",
    "    # },\n",
    "    # {\n",
    "    #     'optimizer': PBIL,\n",
    "    #     'fitness_function': DeceptiveOneMax(),\n",
    "    #     'fitness_function_name': str(DeceptiveOneMax()),\n",
    "    #     'population_size': 100,\n",
    "    #     'problem_dimension': 10,\n",
    "    #     'learning_rate': 0.1,\n",
    "    #     'mutation_rate': 0.1,\n",
    "    #     'mutation_distortion_rate': 0.01,\n",
    "    #     'max_iter': 1000\n",
    "    # },\n",
    "    # {\n",
    "    #     'optimizer': CGA,\n",
    "    #     'fitness_function': DeceptiveOneMax(),\n",
    "    #     'fitness_function_name': str(DeceptiveOneMax()),\n",
    "    #     'problem_dimension': 10,\n",
    "    #     'learning_rate': 0.01,\n",
    "    #     'max_iter': 1000\n",
    "    # },\n",
    "    # {\n",
    "    #     'optimizer': CGA,\n",
    "    #     'fitness_function': DeceptiveOneMax(),\n",
    "    #     'fitness_function_name': str(DeceptiveOneMax()),\n",
    "    #     'problem_dimension': 10,\n",
    "    #     'learning_rate': 0.1,\n",
    "    #     'max_iter': 1000\n",
    "    # },\n",
    "    # # DeceptiveOneMax d=100\n",
    "    # {\n",
    "    #     'optimizer': UMDA,\n",
    "    #     'fitness_function': DeceptiveOneMax(),\n",
    "    #     'fitness_function_name': str(DeceptiveOneMax()),\n",
    "    #     'population_size': 1000,\n",
    "    #     'problem_dimension': 100,\n",
    "    #     'top_k': 100,\n",
    "    #     'max_iter': 1000\n",
    "    # },\n",
    "    # {\n",
    "    #     'optimizer': PBIL,\n",
    "    #     'fitness_function': DeceptiveOneMax(),\n",
    "    #     'fitness_function_name': str(DeceptiveOneMax()),\n",
    "    #     'population_size': 1000,\n",
    "    #     'problem_dimension': 100,\n",
    "    #     'learning_rate': 0.01,\n",
    "    #     'mutation_rate': 0.01,\n",
    "    #     'mutation_distortion_rate': 0.01,\n",
    "    #     'max_iter': 1000\n",
    "    # },\n",
    "    # {\n",
    "    #     'optimizer': PBIL,\n",
    "    #     'fitness_function': DeceptiveOneMax(),\n",
    "    #     'fitness_function_name': str(DeceptiveOneMax()),\n",
    "    #     'population_size': 1000,\n",
    "    #     'problem_dimension': 100,\n",
    "    #     'learning_rate': 0.1,\n",
    "    #     'mutation_rate': 0.01,\n",
    "    #     'mutation_distortion_rate': 0.01,\n",
    "    #     'max_iter': 1000\n",
    "    # },\n",
    "    # {\n",
    "    #     'optimizer': PBIL,\n",
    "    #     'fitness_function': DeceptiveOneMax(),\n",
    "    #     'fitness_function_name': str(DeceptiveOneMax()),\n",
    "    #     'population_size': 1000,\n",
    "    #     'problem_dimension': 100,\n",
    "    #     'learning_rate': 0.1,\n",
    "    #     'mutation_rate': 0.1,\n",
    "    #     'mutation_distortion_rate': 0.01,\n",
    "    #     'max_iter': 1000\n",
    "    # },\n",
    "    # {\n",
    "    #     'optimizer': CGA,\n",
    "    #     'fitness_function': DeceptiveOneMax(),\n",
    "    #     'fitness_function_name': str(DeceptiveOneMax()),\n",
    "    #     'problem_dimension': 100,\n",
    "    #     'learning_rate': 0.01,\n",
    "    #     'max_iter': 1000\n",
    "    # },\n",
    "    # {\n",
    "    #     'optimizer': CGA,\n",
    "    #     'fitness_function': DeceptiveOneMax(),\n",
    "    #     'fitness_function_name': str(DeceptiveOneMax()),\n",
    "    #     'problem_dimension': 100,\n",
    "    #     'learning_rate': 0.1,\n",
    "    #     'max_iter': 1000\n",
    "    # },\n",
    "    # # DeceptiveOneMax d=1000\n",
    "    # {\n",
    "    #     'optimizer': UMDA,\n",
    "    #     'fitness_function': DeceptiveOneMax(),\n",
    "    #     'fitness_function_name': str(DeceptiveOneMax()),\n",
    "    #     'population_size': 10000,\n",
    "    #     'problem_dimension': 1000,\n",
    "    #     'top_k': 1000,\n",
    "    #     'max_iter': 1000\n",
    "    # },\n",
    "    # {\n",
    "    #     'optimizer': PBIL,\n",
    "    #     'fitness_function': DeceptiveOneMax(),\n",
    "    #     'fitness_function_name': str(DeceptiveOneMax()),\n",
    "    #     'population_size': 10000,\n",
    "    #     'problem_dimension': 1000,\n",
    "    #     'learning_rate': 0.01,\n",
    "    #     'mutation_rate': 0.01,\n",
    "    #     'mutation_distortion_rate': 0.01,\n",
    "    #     'max_iter': 1000\n",
    "    # },\n",
    "    # {\n",
    "    #     'optimizer': PBIL,\n",
    "    #     'fitness_function': DeceptiveOneMax(),\n",
    "    #     'fitness_function_name': str(DeceptiveOneMax()),\n",
    "    #     'population_size': 10000,\n",
    "    #     'problem_dimension': 1000,\n",
    "    #     'learning_rate': 0.1,\n",
    "    #     'mutation_rate': 0.01,\n",
    "    #     'mutation_distortion_rate': 0.01,\n",
    "    #     'max_iter': 1000\n",
    "    # },\n",
    "    # {\n",
    "    #     'optimizer': PBIL,\n",
    "    #     'fitness_function': DeceptiveOneMax(),\n",
    "    #     'fitness_function_name': str(DeceptiveOneMax()),\n",
    "    #     'population_size': 10000,\n",
    "    #     'problem_dimension': 1000,\n",
    "    #     'learning_rate': 0.1,\n",
    "    #     'mutation_rate': 0.1,\n",
    "    #     'mutation_distortion_rate': 0.01,\n",
    "    #     'max_iter': 1000\n",
    "    # },\n",
    "    # {\n",
    "    #     'optimizer': CGA,\n",
    "    #     'fitness_function': DeceptiveOneMax(),\n",
    "    #     'fitness_function_name': str(DeceptiveOneMax()),\n",
    "    #     'problem_dimension': 1000,\n",
    "    #     'learning_rate': 0.01,\n",
    "    #     'max_iter': 1000\n",
    "    # },\n",
    "    # {\n",
    "    #     'optimizer': CGA,\n",
    "    #     'fitness_function': DeceptiveOneMax(),\n",
    "    #     'fitness_function_name': str(DeceptiveOneMax()),\n",
    "    #     'problem_dimension': 1000,\n",
    "    #     'learning_rate': 0.1,\n",
    "    #     'max_iter': 1000\n",
    "    # },\n",
    "    # # k=0.2d-DECEPTIVE ONEMAX\n",
    "    # # KDeceptiveOnemax(2) d=10\n",
    "    # {\n",
    "    #     'optimizer': UMDA,\n",
    "    #     'fitness_function': KDeceptiveOneMax(2),\n",
    "    #     'fitness_function_name': str(KDeceptiveOneMax(2)),\n",
    "    #     'population_size': 100,\n",
    "    #     'problem_dimension': 10,\n",
    "    #     'top_k': 10,\n",
    "    #     'max_iter': 1000\n",
    "    # },\n",
    "    # {\n",
    "    #     'optimizer': PBIL,\n",
    "    #     'fitness_function': KDeceptiveOneMax(2),\n",
    "    #     'fitness_function_name': str(KDeceptiveOneMax(2)),\n",
    "    #     'population_size': 100,\n",
    "    #     'problem_dimension': 10,\n",
    "    #     'learning_rate': 0.01,\n",
    "    #     'mutation_rate': 0.01,\n",
    "    #     'mutation_distortion_rate': 0.01,\n",
    "    #     'max_iter': 1000\n",
    "    # },\n",
    "    # {\n",
    "    #     'optimizer': PBIL,\n",
    "    #     'fitness_function': KDeceptiveOneMax(2),\n",
    "    #     'fitness_function_name': str(KDeceptiveOneMax(2)),\n",
    "    #     'population_size': 100,\n",
    "    #     'problem_dimension': 10,\n",
    "    #     'learning_rate': 0.1,\n",
    "    #     'mutation_rate': 0.01,\n",
    "    #     'mutation_distortion_rate': 0.01,\n",
    "    #     'max_iter': 1000\n",
    "    # },\n",
    "    # {\n",
    "    #     'optimizer': PBIL,\n",
    "    #     'fitness_function': KDeceptiveOneMax(2),\n",
    "    #     'fitness_function_name': str(KDeceptiveOneMax(2)),\n",
    "    #     'population_size': 100,\n",
    "    #     'problem_dimension': 10,\n",
    "    #     'learning_rate': 0.1,\n",
    "    #     'mutation_rate': 0.1,\n",
    "    #     'mutation_distortion_rate': 0.01,\n",
    "    #     'max_iter': 1000\n",
    "    # },\n",
    "    # {\n",
    "    #     'optimizer': CGA,\n",
    "    #     'fitness_function': KDeceptiveOneMax(2),\n",
    "    #     'fitness_function_name': str(KDeceptiveOneMax(2)),\n",
    "    #     'problem_dimension': 10,\n",
    "    #     'learning_rate': 0.01,\n",
    "    #     'max_iter': 1000\n",
    "    # },\n",
    "    # {\n",
    "    #     'optimizer': CGA,\n",
    "    #     'fitness_function': KDeceptiveOneMax(2),\n",
    "    #     'fitness_function_name': str(KDeceptiveOneMax(2)),\n",
    "    #     'problem_dimension': 10,\n",
    "    #     'learning_rate': 0.1,\n",
    "    #     'max_iter': 1000\n",
    "    # },\n",
    "    # # KDeceptiveOnemax(20) d=100\n",
    "    # {\n",
    "    #     'optimizer': UMDA,\n",
    "    #     'fitness_function': KDeceptiveOneMax(20),\n",
    "    #     'fitness_function_name': str(KDeceptiveOneMax(20)),\n",
    "    #     'population_size': 1000,\n",
    "    #     'problem_dimension': 100,\n",
    "    #     'top_k': 100,\n",
    "    #     'max_iter': 1000\n",
    "    # },\n",
    "    # {\n",
    "    #     'optimizer': PBIL,\n",
    "    #     'fitness_function': KDeceptiveOneMax(20),\n",
    "    #     'fitness_function_name': str(KDeceptiveOneMax(20)),\n",
    "    #     'population_size': 1000,\n",
    "    #     'problem_dimension': 100,\n",
    "    #     'learning_rate': 0.01,\n",
    "    #     'mutation_rate': 0.01,\n",
    "    #     'mutation_distortion_rate': 0.01,\n",
    "    #     'max_iter': 1000\n",
    "    # },\n",
    "    # {\n",
    "    #     'optimizer': PBIL,\n",
    "    #     'fitness_function': KDeceptiveOneMax(20),\n",
    "    #     'fitness_function_name': str(KDeceptiveOneMax(20)),\n",
    "    #     'population_size': 1000,\n",
    "    #     'problem_dimension': 100,\n",
    "    #     'learning_rate': 0.1,\n",
    "    #     'mutation_rate': 0.01,\n",
    "    #     'mutation_distortion_rate': 0.01,\n",
    "    #     'max_iter': 1000\n",
    "    # },\n",
    "    # {\n",
    "    #     'optimizer': PBIL,\n",
    "    #     'fitness_function': KDeceptiveOneMax(20),\n",
    "    #     'fitness_function_name': str(KDeceptiveOneMax(20)),\n",
    "    #     'population_size': 1000,\n",
    "    #     'problem_dimension': 100,\n",
    "    #     'learning_rate': 0.1,\n",
    "    #     'mutation_rate': 0.1,\n",
    "    #     'mutation_distortion_rate': 0.01,\n",
    "    #     'max_iter': 1000\n",
    "    # },\n",
    "    # {\n",
    "    #     'optimizer': CGA,\n",
    "    #     'fitness_function': KDeceptiveOneMax(20),\n",
    "    #     'fitness_function_name': str(KDeceptiveOneMax(20)),\n",
    "    #     'problem_dimension': 100,\n",
    "    #     'learning_rate': 0.01,\n",
    "    #     'max_iter': 1000\n",
    "    # },\n",
    "    # {\n",
    "    #     'optimizer': CGA,\n",
    "    #     'fitness_function': KDeceptiveOneMax(20),\n",
    "    #     'fitness_function_name': str(KDeceptiveOneMax(20)),\n",
    "    #     'problem_dimension': 100,\n",
    "    #     'learning_rate': 0.1,\n",
    "    #     'max_iter': 1000\n",
    "    # },\n",
    "    # # KDeceptiveOnemax(200) d=1000\n",
    "    # {\n",
    "    #     'optimizer': UMDA,\n",
    "    #     'fitness_function': KDeceptiveOneMax(200),\n",
    "    #     'fitness_function_name': str(KDeceptiveOneMax(200)),\n",
    "    #     'population_size': 10000,\n",
    "    #     'problem_dimension': 1000,\n",
    "    #     'top_k': 1000,\n",
    "    #     'max_iter': 1000\n",
    "    # },\n",
    "    # {\n",
    "    #     'optimizer': PBIL,\n",
    "    #     'fitness_function': KDeceptiveOneMax(200),\n",
    "    #     'fitness_function_name': str(KDeceptiveOneMax(200)),\n",
    "    #     'population_size': 10000,\n",
    "    #     'problem_dimension': 1000,\n",
    "    #     'learning_rate': 0.01,\n",
    "    #     'mutation_rate': 0.01,\n",
    "    #     'mutation_distortion_rate': 0.01,\n",
    "    #     'max_iter': 1000\n",
    "    # },\n",
    "    # {\n",
    "    #     'optimizer': PBIL,\n",
    "    #     'fitness_function': KDeceptiveOneMax(200),\n",
    "    #     'fitness_function_name': str(KDeceptiveOneMax(200)),\n",
    "    #     'population_size': 10000,\n",
    "    #     'problem_dimension': 1000,\n",
    "    #     'learning_rate': 0.1,\n",
    "    #     'mutation_rate': 0.01,\n",
    "    #     'mutation_distortion_rate': 0.01,\n",
    "    #     'max_iter': 1000\n",
    "    # },\n",
    "    # {\n",
    "    #     'optimizer': PBIL,\n",
    "    #     'fitness_function': KDeceptiveOneMax(200),\n",
    "    #     'fitness_function_name': str(KDeceptiveOneMax(200)),\n",
    "    #     'population_size': 10000,\n",
    "    #     'problem_dimension': 1000,\n",
    "    #     'learning_rate': 0.1,\n",
    "    #     'mutation_rate': 0.1,\n",
    "    #     'mutation_distortion_rate': 0.01,\n",
    "    #     'max_iter': 1000\n",
    "    # },\n",
    "    # {\n",
    "    #     'optimizer': CGA,\n",
    "    #     'fitness_function': KDeceptiveOneMax(200),\n",
    "    #     'fitness_function_name': str(KDeceptiveOneMax(200)),\n",
    "    #     'problem_dimension': 1000,\n",
    "    #     'learning_rate': 0.01,\n",
    "    #     'max_iter': 1000\n",
    "    # },\n",
    "    # {\n",
    "    #     'optimizer': CGA,\n",
    "    #     'fitness_function': KDeceptiveOneMax(200),\n",
    "    #     'fitness_function_name': str(KDeceptiveOneMax(200)),\n",
    "    #     'problem_dimension': 1000,\n",
    "    #     'learning_rate': 0.1,\n",
    "    #     'max_iter': 1000\n",
    "    # },\n",
    "    # # KDeceptiveOnemax(20) d=1000\n",
    "    # {\n",
    "    #     'optimizer': UMDA,\n",
    "    #     'fitness_function': KDeceptiveOneMax(20),\n",
    "    #     'fitness_function_name': str(KDeceptiveOneMax(20)),\n",
    "    #     'population_size': 10000,\n",
    "    #     'problem_dimension': 1000,\n",
    "    #     'top_k': 1000,\n",
    "    #     'max_iter': 1000\n",
    "    # },\n",
    "    # {\n",
    "    #     'optimizer': PBIL,\n",
    "    #     'fitness_function': KDeceptiveOneMax(20),\n",
    "    #     'fitness_function_name': str(KDeceptiveOneMax(20)),\n",
    "    #     'population_size': 10000,\n",
    "    #     'problem_dimension': 1000,\n",
    "    #     'learning_rate': 0.01,\n",
    "    #     'mutation_rate': 0.01,\n",
    "    #     'mutation_distortion_rate': 0.01,\n",
    "    #     'max_iter': 1000\n",
    "    # },\n",
    "    # {\n",
    "    #     'optimizer': PBIL,\n",
    "    #     'fitness_function': KDeceptiveOneMax(20),\n",
    "    #     'fitness_function_name': str(KDeceptiveOneMax(20)),\n",
    "    #     'population_size': 10000,\n",
    "    #     'problem_dimension': 1000,\n",
    "    #     'learning_rate': 0.1,\n",
    "    #     'mutation_rate': 0.01,\n",
    "    #     'mutation_distortion_rate': 0.01,\n",
    "    #     'max_iter': 1000\n",
    "    # },\n",
    "    # {\n",
    "    #     'optimizer': PBIL,\n",
    "    #     'fitness_function': KDeceptiveOneMax(20),\n",
    "    #     'fitness_function_name': str(KDeceptiveOneMax(20)),\n",
    "    #     'population_size': 10000,\n",
    "    #     'problem_dimension': 1000,\n",
    "    #     'learning_rate': 0.1,\n",
    "    #     'mutation_rate': 0.1,\n",
    "    #     'mutation_distortion_rate': 0.01,\n",
    "    #     'max_iter': 1000\n",
    "    # },\n",
    "    # {\n",
    "    #     'optimizer': CGA,\n",
    "    #     'fitness_function': KDeceptiveOneMax(20),\n",
    "    #     'fitness_function_name': str(KDeceptiveOneMax(20)),\n",
    "    #     'problem_dimension': 1000,\n",
    "    #     'learning_rate': 0.01,\n",
    "    #     'max_iter': 1000\n",
    "    # },\n",
    "    # {\n",
    "    #     'optimizer': CGA,\n",
    "    #     'fitness_function': KDeceptiveOneMax(20),\n",
    "    #     'fitness_function_name': str(KDeceptiveOneMax(20)),\n",
    "    #     'problem_dimension': 1000,\n",
    "    #     'learning_rate': 0.1,\n",
    "    #     'max_iter': 1000\n",
    "    # },\n",
    "    # KDeceptiveOnemax(5) d=1000\n",
    "    # {\n",
    "    #     'optimizer': UMDA,\n",
    "    #     'fitness_function': KDeceptiveOneMax(5),\n",
    "    #     'fitness_function_name': str(KDeceptiveOneMax(5)),\n",
    "    #     'population_size': 10000,\n",
    "    #     'problem_dimension': 1000,\n",
    "    #     'top_k': 1000,\n",
    "    #     'max_iter': 1000\n",
    "    # },\n",
    "    # {\n",
    "    #     'optimizer': PBIL,\n",
    "    #     'fitness_function': KDeceptiveOneMax(5),\n",
    "    #     'fitness_function_name': str(KDeceptiveOneMax(5)),\n",
    "    #     'population_size': 10000,\n",
    "    #     'problem_dimension': 1000,\n",
    "    #     'learning_rate': 0.01,\n",
    "    #     'mutation_rate': 0.01,\n",
    "    #     'mutation_distortion_rate': 0.01,\n",
    "    #     'max_iter': 1000\n",
    "    # },\n",
    "    # {\n",
    "    #     'optimizer': PBIL,\n",
    "    #     'fitness_function': KDeceptiveOneMax(5),\n",
    "    #     'fitness_function_name': str(KDeceptiveOneMax(5)),\n",
    "    #     'population_size': 10000,\n",
    "    #     'problem_dimension': 1000,\n",
    "    #     'learning_rate': 0.1,\n",
    "    #     'mutation_rate': 0.01,\n",
    "    #     'mutation_distortion_rate': 0.01,\n",
    "    #     'max_iter': 1000\n",
    "    # },\n",
    "    # {\n",
    "    #     'optimizer': PBIL,\n",
    "    #     'fitness_function': KDeceptiveOneMax(5),\n",
    "    #     'fitness_function_name': str(KDeceptiveOneMax(5)),\n",
    "    #     'population_size': 10000,\n",
    "    #     'problem_dimension': 1000,\n",
    "    #     'learning_rate': 0.1,\n",
    "    #     'mutation_rate': 0.1,\n",
    "    #     'mutation_distortion_rate': 0.01,\n",
    "    #     'max_iter': 1000\n",
    "    # },\n",
    "    # {\n",
    "    #     'optimizer': CGA,\n",
    "    #     'fitness_function': KDeceptiveOneMax(5),\n",
    "    #     'fitness_function_name': str(KDeceptiveOneMax(5)),\n",
    "    #     'problem_dimension': 1000,\n",
    "    #     'learning_rate': 0.01,\n",
    "    #     'max_iter': 1000\n",
    "    # },\n",
    "    # {\n",
    "    #     'optimizer': CGA,\n",
    "    #     'fitness_function': KDeceptiveOneMax(5),\n",
    "    #     'fitness_function_name': str(KDeceptiveOneMax(5)),\n",
    "    #     'problem_dimension': 1000,\n",
    "    #     'learning_rate': 0.1,\n",
    "    #     'max_iter': 1000\n",
    "    # },\n",
    "    # Other experiments for KDeceptiveOneMax(5) for d=1000\n",
    "    # {\n",
    "    #     'optimizer': UMDA,\n",
    "    #     'fitness_function': KDeceptiveOneMax(5),\n",
    "    #     'fitness_function_name': str(KDeceptiveOneMax(5)),\n",
    "    #     'population_size': 10000,\n",
    "    #     'problem_dimension': 1000,\n",
    "    #     'top_k': 100,\n",
    "    #     'max_iter': 1000\n",
    "    # },\n",
    "    # {\n",
    "    #     'optimizer': PBIL,\n",
    "    #     'fitness_function': KDeceptiveOneMax(5),\n",
    "    #     'fitness_function_name': str(KDeceptiveOneMax(5)),\n",
    "    #     'population_size': 10000,\n",
    "    #     'problem_dimension': 1000,\n",
    "    #     'learning_rate': 0.1,\n",
    "    #     'mutation_rate': 0.1,\n",
    "    #     'mutation_distortion_rate': 0.1,\n",
    "    #     'max_iter': 1000\n",
    "    # },\n",
    "    # {\n",
    "    #     'optimizer': PBIL,\n",
    "    #     'fitness_function': KDeceptiveOneMax(5),\n",
    "    #     'fitness_function_name': str(KDeceptiveOneMax(5)),\n",
    "    #     'population_size': 10000,\n",
    "    #     'problem_dimension': 1000,\n",
    "    #     'learning_rate': 0.1,\n",
    "    #     'mutation_rate': 0.25,\n",
    "    #     'mutation_distortion_rate': 0.1,\n",
    "    #     'max_iter': 1000\n",
    "    # },\n",
    "    # {\n",
    "    #     'optimizer': CGA,\n",
    "    #     'fitness_function': KDeceptiveOneMax(5),\n",
    "    #     'fitness_function_name': str(KDeceptiveOneMax(5)),\n",
    "    #     'problem_dimension': 1000,\n",
    "    #     'learning_rate': 0.25,\n",
    "    #     'max_iter': 1000\n",
    "    # },\n",
    "]"
   ]
  },
  {
   "cell_type": "code",
   "execution_count": 11,
   "id": "f5e82d5a",
   "metadata": {},
   "outputs": [
    {
     "data": {
      "application/vnd.jupyter.widget-view+json": {
       "model_id": "df6f232146af49c8bf0878ecae0b8042",
       "version_major": 2,
       "version_minor": 0
      },
      "text/plain": [
       "  0%|          | 0/4 [00:00<?, ?it/s]"
      ]
     },
     "metadata": {},
     "output_type": "display_data"
    },
    {
     "data": {
      "text/html": [
       "wandb version 0.16.1 is available!  To upgrade, please run:\n",
       " $ pip install wandb --upgrade"
      ],
      "text/plain": [
       "<IPython.core.display.HTML object>"
      ]
     },
     "metadata": {},
     "output_type": "display_data"
    },
    {
     "data": {
      "text/html": [
       "Tracking run with wandb version 0.15.12"
      ],
      "text/plain": [
       "<IPython.core.display.HTML object>"
      ]
     },
     "metadata": {},
     "output_type": "display_data"
    },
    {
     "data": {
      "text/html": [
       "Run data is saved locally in <code>/workspaces/Algorytmy Ewolucyjne/List 4/wandb/run-20240102_144653-bj3na64h</code>"
      ],
      "text/plain": [
       "<IPython.core.display.HTML object>"
      ]
     },
     "metadata": {},
     "output_type": "display_data"
    },
    {
     "data": {
      "text/html": [
       "Syncing run <strong><a href='https://wandb.ai/pgrabinski/Algorytmy%20Ewolucyjne-List%204_List%204/runs/bj3na64h' target=\"_blank\">glad-shadow-96</a></strong> to <a href='https://wandb.ai/pgrabinski/Algorytmy%20Ewolucyjne-List%204_List%204' target=\"_blank\">Weights & Biases</a> (<a href='https://wandb.me/run' target=\"_blank\">docs</a>)<br/>"
      ],
      "text/plain": [
       "<IPython.core.display.HTML object>"
      ]
     },
     "metadata": {},
     "output_type": "display_data"
    },
    {
     "data": {
      "text/html": [
       " View project at <a href='https://wandb.ai/pgrabinski/Algorytmy%20Ewolucyjne-List%204_List%204' target=\"_blank\">https://wandb.ai/pgrabinski/Algorytmy%20Ewolucyjne-List%204_List%204</a>"
      ],
      "text/plain": [
       "<IPython.core.display.HTML object>"
      ]
     },
     "metadata": {},
     "output_type": "display_data"
    },
    {
     "data": {
      "text/html": [
       " View run at <a href='https://wandb.ai/pgrabinski/Algorytmy%20Ewolucyjne-List%204_List%204/runs/bj3na64h' target=\"_blank\">https://wandb.ai/pgrabinski/Algorytmy%20Ewolucyjne-List%204_List%204/runs/bj3na64h</a>"
      ],
      "text/plain": [
       "<IPython.core.display.HTML object>"
      ]
     },
     "metadata": {},
     "output_type": "display_data"
    },
    {
     "data": {
      "text/html": [
       "Waiting for W&B process to finish... <strong style=\"color:green\">(success).</strong>"
      ],
      "text/plain": [
       "<IPython.core.display.HTML object>"
      ]
     },
     "metadata": {},
     "output_type": "display_data"
    },
    {
     "data": {
      "application/vnd.jupyter.widget-view+json": {
       "model_id": "b2f5d356d09a40a4b63f01af647dc360",
       "version_major": 2,
       "version_minor": 0
      },
      "text/plain": [
       "VBox(children=(Label(value='0.002 MB of 0.005 MB uploaded (0.000 MB deduped)\\r'), FloatProgress(value=0.438533…"
      ]
     },
     "metadata": {},
     "output_type": "display_data"
    },
    {
     "data": {
      "text/html": [
       "<style>\n",
       "    table.wandb td:nth-child(1) { padding: 0 10px; text-align: left ; width: auto;} td:nth-child(2) {text-align: left ; width: 100%}\n",
       "    .wandb-row { display: flex; flex-direction: row; flex-wrap: wrap; justify-content: flex-start; width: 100% }\n",
       "    .wandb-col { display: flex; flex-direction: column; flex-basis: 100%; flex: 1; padding: 10px; }\n",
       "    </style>\n",
       "<div class=\"wandb-row\"><div class=\"wandb-col\"><h3>Run history:</h3><br/><table class=\"wandb\"><tr><td>fitness_max</td><td>▁███████████████████████████████████████</td></tr><tr><td>fitness_mean</td><td>▁███████████████████████████████████████</td></tr><tr><td>fitness_min</td><td>▁███████████████████████████████████████</td></tr></table><br/></div><div class=\"wandb-col\"><h3>Run summary:</h3><br/><table class=\"wandb\"><tr><td>fitness_max</td><td>1000</td></tr><tr><td>fitness_mean</td><td>1000.0</td></tr><tr><td>fitness_min</td><td>1000</td></tr></table><br/></div></div>"
      ],
      "text/plain": [
       "<IPython.core.display.HTML object>"
      ]
     },
     "metadata": {},
     "output_type": "display_data"
    },
    {
     "data": {
      "text/html": [
       " View run <strong style=\"color:#cdcd00\">glad-shadow-96</strong> at: <a href='https://wandb.ai/pgrabinski/Algorytmy%20Ewolucyjne-List%204_List%204/runs/bj3na64h' target=\"_blank\">https://wandb.ai/pgrabinski/Algorytmy%20Ewolucyjne-List%204_List%204/runs/bj3na64h</a><br/> View job at <a href='https://wandb.ai/pgrabinski/Algorytmy%20Ewolucyjne-List%204_List%204/jobs/QXJ0aWZhY3RDb2xsZWN0aW9uOjEyNjczODU0MQ==/version_details/v5' target=\"_blank\">https://wandb.ai/pgrabinski/Algorytmy%20Ewolucyjne-List%204_List%204/jobs/QXJ0aWZhY3RDb2xsZWN0aW9uOjEyNjczODU0MQ==/version_details/v5</a><br/>Synced 4 W&B file(s), 0 media file(s), 0 artifact file(s) and 0 other file(s)"
      ],
      "text/plain": [
       "<IPython.core.display.HTML object>"
      ]
     },
     "metadata": {},
     "output_type": "display_data"
    },
    {
     "data": {
      "text/html": [
       "Find logs at: <code>./wandb/run-20240102_144653-bj3na64h/logs</code>"
      ],
      "text/plain": [
       "<IPython.core.display.HTML object>"
      ]
     },
     "metadata": {},
     "output_type": "display_data"
    },
    {
     "data": {
      "application/vnd.jupyter.widget-view+json": {
       "model_id": "b8509935ca3a4c7dbf58c35897bc2e6d",
       "version_major": 2,
       "version_minor": 0
      },
      "text/plain": [
       "VBox(children=(Label(value='Waiting for wandb.init()...\\r'), FloatProgress(value=0.011112288055584132, max=1.0…"
      ]
     },
     "metadata": {},
     "output_type": "display_data"
    },
    {
     "data": {
      "text/html": [
       "wandb version 0.16.1 is available!  To upgrade, please run:\n",
       " $ pip install wandb --upgrade"
      ],
      "text/plain": [
       "<IPython.core.display.HTML object>"
      ]
     },
     "metadata": {},
     "output_type": "display_data"
    },
    {
     "data": {
      "text/html": [
       "Tracking run with wandb version 0.15.12"
      ],
      "text/plain": [
       "<IPython.core.display.HTML object>"
      ]
     },
     "metadata": {},
     "output_type": "display_data"
    },
    {
     "data": {
      "text/html": [
       "Run data is saved locally in <code>/workspaces/Algorytmy Ewolucyjne/List 4/wandb/run-20240102_154852-55rn9fx4</code>"
      ],
      "text/plain": [
       "<IPython.core.display.HTML object>"
      ]
     },
     "metadata": {},
     "output_type": "display_data"
    },
    {
     "data": {
      "text/html": [
       "Syncing run <strong><a href='https://wandb.ai/pgrabinski/Algorytmy%20Ewolucyjne-List%204_List%204/runs/55rn9fx4' target=\"_blank\">sunny-valley-97</a></strong> to <a href='https://wandb.ai/pgrabinski/Algorytmy%20Ewolucyjne-List%204_List%204' target=\"_blank\">Weights & Biases</a> (<a href='https://wandb.me/run' target=\"_blank\">docs</a>)<br/>"
      ],
      "text/plain": [
       "<IPython.core.display.HTML object>"
      ]
     },
     "metadata": {},
     "output_type": "display_data"
    },
    {
     "data": {
      "text/html": [
       " View project at <a href='https://wandb.ai/pgrabinski/Algorytmy%20Ewolucyjne-List%204_List%204' target=\"_blank\">https://wandb.ai/pgrabinski/Algorytmy%20Ewolucyjne-List%204_List%204</a>"
      ],
      "text/plain": [
       "<IPython.core.display.HTML object>"
      ]
     },
     "metadata": {},
     "output_type": "display_data"
    },
    {
     "data": {
      "text/html": [
       " View run at <a href='https://wandb.ai/pgrabinski/Algorytmy%20Ewolucyjne-List%204_List%204/runs/55rn9fx4' target=\"_blank\">https://wandb.ai/pgrabinski/Algorytmy%20Ewolucyjne-List%204_List%204/runs/55rn9fx4</a>"
      ],
      "text/plain": [
       "<IPython.core.display.HTML object>"
      ]
     },
     "metadata": {},
     "output_type": "display_data"
    },
    {
     "data": {
      "text/html": [
       "Waiting for W&B process to finish... <strong style=\"color:green\">(success).</strong>"
      ],
      "text/plain": [
       "<IPython.core.display.HTML object>"
      ]
     },
     "metadata": {},
     "output_type": "display_data"
    },
    {
     "data": {
      "application/vnd.jupyter.widget-view+json": {
       "model_id": "b0815f86d708450e95bc802ccc28c82e",
       "version_major": 2,
       "version_minor": 0
      },
      "text/plain": [
       "VBox(children=(Label(value='0.002 MB of 0.005 MB uploaded (0.000 MB deduped)\\r'), FloatProgress(value=0.430363…"
      ]
     },
     "metadata": {},
     "output_type": "display_data"
    },
    {
     "data": {
      "text/html": [
       "<style>\n",
       "    table.wandb td:nth-child(1) { padding: 0 10px; text-align: left ; width: auto;} td:nth-child(2) {text-align: left ; width: 100%}\n",
       "    .wandb-row { display: flex; flex-direction: row; flex-wrap: wrap; justify-content: flex-start; width: 100% }\n",
       "    .wandb-col { display: flex; flex-direction: column; flex-basis: 100%; flex: 1; padding: 10px; }\n",
       "    </style>\n",
       "<div class=\"wandb-row\"><div class=\"wandb-col\"><h3>Run history:</h3><br/><table class=\"wandb\"><tr><td>fitness_max</td><td>▁▂▄▅▇▃▅▅▆█▅▇▃▄▅▃▄▄▆▅▅▄▅▅▇▄▆▇█▆▆▆▆▅▆▆▇▅▇▆</td></tr><tr><td>fitness_mean</td><td>▁▂▄▄▇▃▅▅▆█▅▇▃▄▅▃▄▄▅▄▅▄▅▅▇▄▆▆█▆▆▆▆▄▆▆▇▅▇▆</td></tr><tr><td>fitness_min</td><td>▁▂▄▄▇▃▄▅▆█▅▇▃▄▄▃▄▄▅▄▅▄▅▅▇▄▆▆█▅▆▅▆▄▆▆▇▅▇▆</td></tr></table><br/></div><div class=\"wandb-col\"><h3>Run summary:</h3><br/><table class=\"wandb\"><tr><td>fitness_max</td><td>822</td></tr><tr><td>fitness_mean</td><td>766.4776</td></tr><tr><td>fitness_min</td><td>719</td></tr></table><br/></div></div>"
      ],
      "text/plain": [
       "<IPython.core.display.HTML object>"
      ]
     },
     "metadata": {},
     "output_type": "display_data"
    },
    {
     "data": {
      "text/html": [
       " View run <strong style=\"color:#cdcd00\">sunny-valley-97</strong> at: <a href='https://wandb.ai/pgrabinski/Algorytmy%20Ewolucyjne-List%204_List%204/runs/55rn9fx4' target=\"_blank\">https://wandb.ai/pgrabinski/Algorytmy%20Ewolucyjne-List%204_List%204/runs/55rn9fx4</a><br/> View job at <a href='https://wandb.ai/pgrabinski/Algorytmy%20Ewolucyjne-List%204_List%204/jobs/QXJ0aWZhY3RDb2xsZWN0aW9uOjEyNjczODU0MQ==/version_details/v5' target=\"_blank\">https://wandb.ai/pgrabinski/Algorytmy%20Ewolucyjne-List%204_List%204/jobs/QXJ0aWZhY3RDb2xsZWN0aW9uOjEyNjczODU0MQ==/version_details/v5</a><br/>Synced 4 W&B file(s), 0 media file(s), 0 artifact file(s) and 0 other file(s)"
      ],
      "text/plain": [
       "<IPython.core.display.HTML object>"
      ]
     },
     "metadata": {},
     "output_type": "display_data"
    },
    {
     "data": {
      "text/html": [
       "Find logs at: <code>./wandb/run-20240102_154852-55rn9fx4/logs</code>"
      ],
      "text/plain": [
       "<IPython.core.display.HTML object>"
      ]
     },
     "metadata": {},
     "output_type": "display_data"
    },
    {
     "data": {
      "application/vnd.jupyter.widget-view+json": {
       "model_id": "dd05270218f74ec7931a5fe439464348",
       "version_major": 2,
       "version_minor": 0
      },
      "text/plain": [
       "VBox(children=(Label(value='Waiting for wandb.init()...\\r'), FloatProgress(value=0.011112462077774884, max=1.0…"
      ]
     },
     "metadata": {},
     "output_type": "display_data"
    },
    {
     "data": {
      "text/html": [
       "wandb version 0.16.1 is available!  To upgrade, please run:\n",
       " $ pip install wandb --upgrade"
      ],
      "text/plain": [
       "<IPython.core.display.HTML object>"
      ]
     },
     "metadata": {},
     "output_type": "display_data"
    },
    {
     "data": {
      "text/html": [
       "Tracking run with wandb version 0.15.12"
      ],
      "text/plain": [
       "<IPython.core.display.HTML object>"
      ]
     },
     "metadata": {},
     "output_type": "display_data"
    },
    {
     "data": {
      "text/html": [
       "Run data is saved locally in <code>/workspaces/Algorytmy Ewolucyjne/List 4/wandb/run-20240102_165336-j8zj7n05</code>"
      ],
      "text/plain": [
       "<IPython.core.display.HTML object>"
      ]
     },
     "metadata": {},
     "output_type": "display_data"
    },
    {
     "data": {
      "text/html": [
       "Syncing run <strong><a href='https://wandb.ai/pgrabinski/Algorytmy%20Ewolucyjne-List%204_List%204/runs/j8zj7n05' target=\"_blank\">breezy-butterfly-98</a></strong> to <a href='https://wandb.ai/pgrabinski/Algorytmy%20Ewolucyjne-List%204_List%204' target=\"_blank\">Weights & Biases</a> (<a href='https://wandb.me/run' target=\"_blank\">docs</a>)<br/>"
      ],
      "text/plain": [
       "<IPython.core.display.HTML object>"
      ]
     },
     "metadata": {},
     "output_type": "display_data"
    },
    {
     "data": {
      "text/html": [
       " View project at <a href='https://wandb.ai/pgrabinski/Algorytmy%20Ewolucyjne-List%204_List%204' target=\"_blank\">https://wandb.ai/pgrabinski/Algorytmy%20Ewolucyjne-List%204_List%204</a>"
      ],
      "text/plain": [
       "<IPython.core.display.HTML object>"
      ]
     },
     "metadata": {},
     "output_type": "display_data"
    },
    {
     "data": {
      "text/html": [
       " View run at <a href='https://wandb.ai/pgrabinski/Algorytmy%20Ewolucyjne-List%204_List%204/runs/j8zj7n05' target=\"_blank\">https://wandb.ai/pgrabinski/Algorytmy%20Ewolucyjne-List%204_List%204/runs/j8zj7n05</a>"
      ],
      "text/plain": [
       "<IPython.core.display.HTML object>"
      ]
     },
     "metadata": {},
     "output_type": "display_data"
    },
    {
     "data": {
      "text/html": [
       "Waiting for W&B process to finish... <strong style=\"color:green\">(success).</strong>"
      ],
      "text/plain": [
       "<IPython.core.display.HTML object>"
      ]
     },
     "metadata": {},
     "output_type": "display_data"
    },
    {
     "data": {
      "application/vnd.jupyter.widget-view+json": {
       "model_id": "792c2ff3ac764508bb595dcae649ac2e",
       "version_major": 2,
       "version_minor": 0
      },
      "text/plain": [
       "VBox(children=(Label(value='0.002 MB of 0.005 MB uploaded (0.000 MB deduped)\\r'), FloatProgress(value=0.430178…"
      ]
     },
     "metadata": {},
     "output_type": "display_data"
    },
    {
     "data": {
      "text/html": [
       "<style>\n",
       "    table.wandb td:nth-child(1) { padding: 0 10px; text-align: left ; width: auto;} td:nth-child(2) {text-align: left ; width: 100%}\n",
       "    .wandb-row { display: flex; flex-direction: row; flex-wrap: wrap; justify-content: flex-start; width: 100% }\n",
       "    .wandb-col { display: flex; flex-direction: column; flex-basis: 100%; flex: 1; padding: 10px; }\n",
       "    </style>\n",
       "<div class=\"wandb-row\"><div class=\"wandb-col\"><h3>Run history:</h3><br/><table class=\"wandb\"><tr><td>fitness_max</td><td>▃▆▇█▆▆▃▁▄▄▆▅▄▆▆▅▅▆▃▃▆▄▂▃▂▂▂▃▄▅▃▅▆▆▃▅▇▇▅▆</td></tr><tr><td>fitness_mean</td><td>▃▆▇█▆▆▃▁▄▄▆▄▄▆▆▄▅▆▂▃▅▃▁▃▁▂▂▂▃▅▃▅▆▆▃▅▇▇▄▆</td></tr><tr><td>fitness_min</td><td>▃▆▇█▆▆▃▁▄▄▆▄▄▆▆▅▅▆▂▃▅▃▁▃▁▂▃▂▃▅▃▅▆▆▃▅▇▇▄▆</td></tr></table><br/></div><div class=\"wandb-col\"><h3>Run summary:</h3><br/><table class=\"wandb\"><tr><td>fitness_max</td><td>811</td></tr><tr><td>fitness_mean</td><td>766.6338</td></tr><tr><td>fitness_min</td><td>718</td></tr></table><br/></div></div>"
      ],
      "text/plain": [
       "<IPython.core.display.HTML object>"
      ]
     },
     "metadata": {},
     "output_type": "display_data"
    },
    {
     "data": {
      "text/html": [
       " View run <strong style=\"color:#cdcd00\">breezy-butterfly-98</strong> at: <a href='https://wandb.ai/pgrabinski/Algorytmy%20Ewolucyjne-List%204_List%204/runs/j8zj7n05' target=\"_blank\">https://wandb.ai/pgrabinski/Algorytmy%20Ewolucyjne-List%204_List%204/runs/j8zj7n05</a><br/> View job at <a href='https://wandb.ai/pgrabinski/Algorytmy%20Ewolucyjne-List%204_List%204/jobs/QXJ0aWZhY3RDb2xsZWN0aW9uOjEyNjczODU0MQ==/version_details/v5' target=\"_blank\">https://wandb.ai/pgrabinski/Algorytmy%20Ewolucyjne-List%204_List%204/jobs/QXJ0aWZhY3RDb2xsZWN0aW9uOjEyNjczODU0MQ==/version_details/v5</a><br/>Synced 4 W&B file(s), 0 media file(s), 0 artifact file(s) and 0 other file(s)"
      ],
      "text/plain": [
       "<IPython.core.display.HTML object>"
      ]
     },
     "metadata": {},
     "output_type": "display_data"
    },
    {
     "data": {
      "text/html": [
       "Find logs at: <code>./wandb/run-20240102_165336-j8zj7n05/logs</code>"
      ],
      "text/plain": [
       "<IPython.core.display.HTML object>"
      ]
     },
     "metadata": {},
     "output_type": "display_data"
    },
    {
     "data": {
      "application/vnd.jupyter.widget-view+json": {
       "model_id": "963f966c6968480d83f28c945f61646e",
       "version_major": 2,
       "version_minor": 0
      },
      "text/plain": [
       "VBox(children=(Label(value='Waiting for wandb.init()...\\r'), FloatProgress(value=0.011112634766686825, max=1.0…"
      ]
     },
     "metadata": {},
     "output_type": "display_data"
    },
    {
     "data": {
      "text/html": [
       "wandb version 0.16.1 is available!  To upgrade, please run:\n",
       " $ pip install wandb --upgrade"
      ],
      "text/plain": [
       "<IPython.core.display.HTML object>"
      ]
     },
     "metadata": {},
     "output_type": "display_data"
    },
    {
     "data": {
      "text/html": [
       "Tracking run with wandb version 0.15.12"
      ],
      "text/plain": [
       "<IPython.core.display.HTML object>"
      ]
     },
     "metadata": {},
     "output_type": "display_data"
    },
    {
     "data": {
      "text/html": [
       "Run data is saved locally in <code>/workspaces/Algorytmy Ewolucyjne/List 4/wandb/run-20240102_200004-gu04gtm3</code>"
      ],
      "text/plain": [
       "<IPython.core.display.HTML object>"
      ]
     },
     "metadata": {},
     "output_type": "display_data"
    },
    {
     "data": {
      "text/html": [
       "Syncing run <strong><a href='https://wandb.ai/pgrabinski/Algorytmy%20Ewolucyjne-List%204_List%204/runs/gu04gtm3' target=\"_blank\">hardy-river-99</a></strong> to <a href='https://wandb.ai/pgrabinski/Algorytmy%20Ewolucyjne-List%204_List%204' target=\"_blank\">Weights & Biases</a> (<a href='https://wandb.me/run' target=\"_blank\">docs</a>)<br/>"
      ],
      "text/plain": [
       "<IPython.core.display.HTML object>"
      ]
     },
     "metadata": {},
     "output_type": "display_data"
    },
    {
     "data": {
      "text/html": [
       " View project at <a href='https://wandb.ai/pgrabinski/Algorytmy%20Ewolucyjne-List%204_List%204' target=\"_blank\">https://wandb.ai/pgrabinski/Algorytmy%20Ewolucyjne-List%204_List%204</a>"
      ],
      "text/plain": [
       "<IPython.core.display.HTML object>"
      ]
     },
     "metadata": {},
     "output_type": "display_data"
    },
    {
     "data": {
      "text/html": [
       " View run at <a href='https://wandb.ai/pgrabinski/Algorytmy%20Ewolucyjne-List%204_List%204/runs/gu04gtm3' target=\"_blank\">https://wandb.ai/pgrabinski/Algorytmy%20Ewolucyjne-List%204_List%204/runs/gu04gtm3</a>"
      ],
      "text/plain": [
       "<IPython.core.display.HTML object>"
      ]
     },
     "metadata": {},
     "output_type": "display_data"
    },
    {
     "data": {
      "text/html": [
       "Waiting for W&B process to finish... <strong style=\"color:green\">(success).</strong>"
      ],
      "text/plain": [
       "<IPython.core.display.HTML object>"
      ]
     },
     "metadata": {},
     "output_type": "display_data"
    },
    {
     "data": {
      "text/html": [
       "<style>\n",
       "    table.wandb td:nth-child(1) { padding: 0 10px; text-align: left ; width: auto;} td:nth-child(2) {text-align: left ; width: 100%}\n",
       "    .wandb-row { display: flex; flex-direction: row; flex-wrap: wrap; justify-content: flex-start; width: 100% }\n",
       "    .wandb-col { display: flex; flex-direction: column; flex-basis: 100%; flex: 1; padding: 10px; }\n",
       "    </style>\n",
       "<div class=\"wandb-row\"><div class=\"wandb-col\"><h3>Run history:</h3><br/><table class=\"wandb\"><tr><td>fitness_max</td><td>▁▇██████████████████████████████████████</td></tr><tr><td>fitness_mean</td><td>▁▇██████████████████████████████████████</td></tr><tr><td>fitness_min</td><td>▁▇██████████████████████████████████████</td></tr></table><br/></div><div class=\"wandb-col\"><h3>Run summary:</h3><br/><table class=\"wandb\"><tr><td>fitness_max</td><td>608</td></tr><tr><td>fitness_mean</td><td>608.0</td></tr><tr><td>fitness_min</td><td>608</td></tr></table><br/></div></div>"
      ],
      "text/plain": [
       "<IPython.core.display.HTML object>"
      ]
     },
     "metadata": {},
     "output_type": "display_data"
    },
    {
     "data": {
      "text/html": [
       " View run <strong style=\"color:#cdcd00\">hardy-river-99</strong> at: <a href='https://wandb.ai/pgrabinski/Algorytmy%20Ewolucyjne-List%204_List%204/runs/gu04gtm3' target=\"_blank\">https://wandb.ai/pgrabinski/Algorytmy%20Ewolucyjne-List%204_List%204/runs/gu04gtm3</a><br/> View job at <a href='https://wandb.ai/pgrabinski/Algorytmy%20Ewolucyjne-List%204_List%204/jobs/QXJ0aWZhY3RDb2xsZWN0aW9uOjEyNjczODU0MQ==/version_details/v5' target=\"_blank\">https://wandb.ai/pgrabinski/Algorytmy%20Ewolucyjne-List%204_List%204/jobs/QXJ0aWZhY3RDb2xsZWN0aW9uOjEyNjczODU0MQ==/version_details/v5</a><br/>Synced 4 W&B file(s), 0 media file(s), 0 artifact file(s) and 0 other file(s)"
      ],
      "text/plain": [
       "<IPython.core.display.HTML object>"
      ]
     },
     "metadata": {},
     "output_type": "display_data"
    },
    {
     "data": {
      "text/html": [
       "Find logs at: <code>./wandb/run-20240102_200004-gu04gtm3/logs</code>"
      ],
      "text/plain": [
       "<IPython.core.display.HTML object>"
      ]
     },
     "metadata": {},
     "output_type": "display_data"
    }
   ],
   "source": [
    "for config in tqdm(configs):\n",
    "    run_experiment(config)"
   ]
  },
  {
   "cell_type": "code",
   "execution_count": 6,
   "id": "883bef76-4fcb-43d3-9b65-9962ce033361",
   "metadata": {},
   "outputs": [],
   "source": [
    "# results = list(Parallel(n_jobs=-1, verbose=10)(delayed(run_experiment)(config) for config in configs))"
   ]
  },
  {
   "cell_type": "code",
   "execution_count": 15,
   "id": "831d8a5e-7b54-4e7a-b02a-be37f32b8e35",
   "metadata": {},
   "outputs": [
    {
     "data": {
      "application/vnd.jupyter.widget-view+json": {
       "model_id": "ead2698b7afb486d8efccda911e8c5da",
       "version_major": 2,
       "version_minor": 0
      },
      "text/plain": [
       "  0%|          | 0/20 [00:00<?, ?it/s]"
      ]
     },
     "metadata": {},
     "output_type": "display_data"
    },
    {
     "data": {
      "text/html": [
       "wandb version 0.16.1 is available!  To upgrade, please run:\n",
       " $ pip install wandb --upgrade"
      ],
      "text/plain": [
       "<IPython.core.display.HTML object>"
      ]
     },
     "metadata": {},
     "output_type": "display_data"
    },
    {
     "data": {
      "text/html": [
       "Tracking run with wandb version 0.15.12"
      ],
      "text/plain": [
       "<IPython.core.display.HTML object>"
      ]
     },
     "metadata": {},
     "output_type": "display_data"
    },
    {
     "data": {
      "text/html": [
       "Run data is saved locally in <code>/workspaces/Algorytmy Ewolucyjne/List 4/wandb/run-20240102_221109-xo9xbm03</code>"
      ],
      "text/plain": [
       "<IPython.core.display.HTML object>"
      ]
     },
     "metadata": {},
     "output_type": "display_data"
    },
    {
     "data": {
      "text/html": [
       "Syncing run <strong><a href='https://wandb.ai/pgrabinski/Algorytmy%20Ewolucyjne-List%204_List%204/runs/xo9xbm03' target=\"_blank\">laced-terrain-111</a></strong> to <a href='https://wandb.ai/pgrabinski/Algorytmy%20Ewolucyjne-List%204_List%204' target=\"_blank\">Weights & Biases</a> (<a href='https://wandb.me/run' target=\"_blank\">docs</a>)<br/>"
      ],
      "text/plain": [
       "<IPython.core.display.HTML object>"
      ]
     },
     "metadata": {},
     "output_type": "display_data"
    },
    {
     "data": {
      "text/html": [
       " View project at <a href='https://wandb.ai/pgrabinski/Algorytmy%20Ewolucyjne-List%204_List%204' target=\"_blank\">https://wandb.ai/pgrabinski/Algorytmy%20Ewolucyjne-List%204_List%204</a>"
      ],
      "text/plain": [
       "<IPython.core.display.HTML object>"
      ]
     },
     "metadata": {},
     "output_type": "display_data"
    },
    {
     "data": {
      "text/html": [
       " View run at <a href='https://wandb.ai/pgrabinski/Algorytmy%20Ewolucyjne-List%204_List%204/runs/xo9xbm03' target=\"_blank\">https://wandb.ai/pgrabinski/Algorytmy%20Ewolucyjne-List%204_List%204/runs/xo9xbm03</a>"
      ],
      "text/plain": [
       "<IPython.core.display.HTML object>"
      ]
     },
     "metadata": {},
     "output_type": "display_data"
    },
    {
     "data": {
      "text/html": [
       "Waiting for W&B process to finish... <strong style=\"color:green\">(success).</strong>"
      ],
      "text/plain": [
       "<IPython.core.display.HTML object>"
      ]
     },
     "metadata": {},
     "output_type": "display_data"
    },
    {
     "data": {
      "application/vnd.jupyter.widget-view+json": {
       "model_id": "5a460b14e3034c678b41606c61b3011e",
       "version_major": 2,
       "version_minor": 0
      },
      "text/plain": [
       "VBox(children=(Label(value='0.002 MB of 0.005 MB uploaded (0.000 MB deduped)\\r'), FloatProgress(value=0.438794…"
      ]
     },
     "metadata": {},
     "output_type": "display_data"
    },
    {
     "data": {
      "text/html": [
       "<style>\n",
       "    table.wandb td:nth-child(1) { padding: 0 10px; text-align: left ; width: auto;} td:nth-child(2) {text-align: left ; width: 100%}\n",
       "    .wandb-row { display: flex; flex-direction: row; flex-wrap: wrap; justify-content: flex-start; width: 100% }\n",
       "    .wandb-col { display: flex; flex-direction: column; flex-basis: 100%; flex: 1; padding: 10px; }\n",
       "    </style>\n",
       "<div class=\"wandb-row\"><div class=\"wandb-col\"><h3>Run history:</h3><br/><table class=\"wandb\"><tr><td>fitness_max</td><td>▁▁▁▁▁▁▁▁▁▁▁▁▁▁▁▁▁▁▁▁▁▁▁▁▁▁▁▁▁▁▁▁▁▁▁▁▁▁▁▁</td></tr><tr><td>fitness_mean</td><td>▁███████████████████████████████████████</td></tr><tr><td>fitness_min</td><td>▁███████████████████████████████████████</td></tr></table><br/></div><div class=\"wandb-col\"><h3>Run summary:</h3><br/><table class=\"wandb\"><tr><td>fitness_max</td><td>73</td></tr><tr><td>fitness_mean</td><td>73.0</td></tr><tr><td>fitness_min</td><td>73</td></tr></table><br/></div></div>"
      ],
      "text/plain": [
       "<IPython.core.display.HTML object>"
      ]
     },
     "metadata": {},
     "output_type": "display_data"
    },
    {
     "data": {
      "text/html": [
       " View run <strong style=\"color:#cdcd00\">laced-terrain-111</strong> at: <a href='https://wandb.ai/pgrabinski/Algorytmy%20Ewolucyjne-List%204_List%204/runs/xo9xbm03' target=\"_blank\">https://wandb.ai/pgrabinski/Algorytmy%20Ewolucyjne-List%204_List%204/runs/xo9xbm03</a><br/> View job at <a href='https://wandb.ai/pgrabinski/Algorytmy%20Ewolucyjne-List%204_List%204/jobs/QXJ0aWZhY3RDb2xsZWN0aW9uOjEyNjczODU0MQ==/version_details/v5' target=\"_blank\">https://wandb.ai/pgrabinski/Algorytmy%20Ewolucyjne-List%204_List%204/jobs/QXJ0aWZhY3RDb2xsZWN0aW9uOjEyNjczODU0MQ==/version_details/v5</a><br/>Synced 4 W&B file(s), 0 media file(s), 0 artifact file(s) and 0 other file(s)"
      ],
      "text/plain": [
       "<IPython.core.display.HTML object>"
      ]
     },
     "metadata": {},
     "output_type": "display_data"
    },
    {
     "data": {
      "text/html": [
       "Find logs at: <code>./wandb/run-20240102_221109-xo9xbm03/logs</code>"
      ],
      "text/plain": [
       "<IPython.core.display.HTML object>"
      ]
     },
     "metadata": {},
     "output_type": "display_data"
    },
    {
     "data": {
      "application/vnd.jupyter.widget-view+json": {
       "model_id": "22bc3e1dcf504ad8906cd8d9e27861c3",
       "version_major": 2,
       "version_minor": 0
      },
      "text/plain": [
       "VBox(children=(Label(value='Waiting for wandb.init()...\\r'), FloatProgress(value=0.011112309055574265, max=1.0…"
      ]
     },
     "metadata": {},
     "output_type": "display_data"
    },
    {
     "data": {
      "text/html": [
       "wandb version 0.16.1 is available!  To upgrade, please run:\n",
       " $ pip install wandb --upgrade"
      ],
      "text/plain": [
       "<IPython.core.display.HTML object>"
      ]
     },
     "metadata": {},
     "output_type": "display_data"
    },
    {
     "data": {
      "text/html": [
       "Tracking run with wandb version 0.15.12"
      ],
      "text/plain": [
       "<IPython.core.display.HTML object>"
      ]
     },
     "metadata": {},
     "output_type": "display_data"
    },
    {
     "data": {
      "text/html": [
       "Run data is saved locally in <code>/workspaces/Algorytmy Ewolucyjne/List 4/wandb/run-20240102_221116-su97biq2</code>"
      ],
      "text/plain": [
       "<IPython.core.display.HTML object>"
      ]
     },
     "metadata": {},
     "output_type": "display_data"
    },
    {
     "data": {
      "text/html": [
       "Syncing run <strong><a href='https://wandb.ai/pgrabinski/Algorytmy%20Ewolucyjne-List%204_List%204/runs/su97biq2' target=\"_blank\">quiet-fire-112</a></strong> to <a href='https://wandb.ai/pgrabinski/Algorytmy%20Ewolucyjne-List%204_List%204' target=\"_blank\">Weights & Biases</a> (<a href='https://wandb.me/run' target=\"_blank\">docs</a>)<br/>"
      ],
      "text/plain": [
       "<IPython.core.display.HTML object>"
      ]
     },
     "metadata": {},
     "output_type": "display_data"
    },
    {
     "data": {
      "text/html": [
       " View project at <a href='https://wandb.ai/pgrabinski/Algorytmy%20Ewolucyjne-List%204_List%204' target=\"_blank\">https://wandb.ai/pgrabinski/Algorytmy%20Ewolucyjne-List%204_List%204</a>"
      ],
      "text/plain": [
       "<IPython.core.display.HTML object>"
      ]
     },
     "metadata": {},
     "output_type": "display_data"
    },
    {
     "data": {
      "text/html": [
       " View run at <a href='https://wandb.ai/pgrabinski/Algorytmy%20Ewolucyjne-List%204_List%204/runs/su97biq2' target=\"_blank\">https://wandb.ai/pgrabinski/Algorytmy%20Ewolucyjne-List%204_List%204/runs/su97biq2</a>"
      ],
      "text/plain": [
       "<IPython.core.display.HTML object>"
      ]
     },
     "metadata": {},
     "output_type": "display_data"
    },
    {
     "data": {
      "text/html": [
       "Waiting for W&B process to finish... <strong style=\"color:green\">(success).</strong>"
      ],
      "text/plain": [
       "<IPython.core.display.HTML object>"
      ]
     },
     "metadata": {},
     "output_type": "display_data"
    },
    {
     "data": {
      "application/vnd.jupyter.widget-view+json": {
       "model_id": "b75e4468d9a245c098932acc92c46192",
       "version_major": 2,
       "version_minor": 0
      },
      "text/plain": [
       "VBox(children=(Label(value='0.002 MB of 0.005 MB uploaded (0.000 MB deduped)\\r'), FloatProgress(value=0.438923…"
      ]
     },
     "metadata": {},
     "output_type": "display_data"
    },
    {
     "data": {
      "text/html": [
       "<style>\n",
       "    table.wandb td:nth-child(1) { padding: 0 10px; text-align: left ; width: auto;} td:nth-child(2) {text-align: left ; width: 100%}\n",
       "    .wandb-row { display: flex; flex-direction: row; flex-wrap: wrap; justify-content: flex-start; width: 100% }\n",
       "    .wandb-col { display: flex; flex-direction: column; flex-basis: 100%; flex: 1; padding: 10px; }\n",
       "    </style>\n",
       "<div class=\"wandb-row\"><div class=\"wandb-col\"><h3>Run history:</h3><br/><table class=\"wandb\"><tr><td>fitness_max</td><td>▁▃▇█████████████████████████████████████</td></tr><tr><td>fitness_mean</td><td>▁▂▅▇████████████████████████████████████</td></tr><tr><td>fitness_min</td><td>▁▃▅▇████████████████████████████████████</td></tr></table><br/></div><div class=\"wandb-col\"><h3>Run summary:</h3><br/><table class=\"wandb\"><tr><td>fitness_max</td><td>88</td></tr><tr><td>fitness_mean</td><td>88.0</td></tr><tr><td>fitness_min</td><td>88</td></tr></table><br/></div></div>"
      ],
      "text/plain": [
       "<IPython.core.display.HTML object>"
      ]
     },
     "metadata": {},
     "output_type": "display_data"
    },
    {
     "data": {
      "text/html": [
       " View run <strong style=\"color:#cdcd00\">quiet-fire-112</strong> at: <a href='https://wandb.ai/pgrabinski/Algorytmy%20Ewolucyjne-List%204_List%204/runs/su97biq2' target=\"_blank\">https://wandb.ai/pgrabinski/Algorytmy%20Ewolucyjne-List%204_List%204/runs/su97biq2</a><br/> View job at <a href='https://wandb.ai/pgrabinski/Algorytmy%20Ewolucyjne-List%204_List%204/jobs/QXJ0aWZhY3RDb2xsZWN0aW9uOjEyNjczODU0MQ==/version_details/v5' target=\"_blank\">https://wandb.ai/pgrabinski/Algorytmy%20Ewolucyjne-List%204_List%204/jobs/QXJ0aWZhY3RDb2xsZWN0aW9uOjEyNjczODU0MQ==/version_details/v5</a><br/>Synced 4 W&B file(s), 0 media file(s), 0 artifact file(s) and 0 other file(s)"
      ],
      "text/plain": [
       "<IPython.core.display.HTML object>"
      ]
     },
     "metadata": {},
     "output_type": "display_data"
    },
    {
     "data": {
      "text/html": [
       "Find logs at: <code>./wandb/run-20240102_221116-su97biq2/logs</code>"
      ],
      "text/plain": [
       "<IPython.core.display.HTML object>"
      ]
     },
     "metadata": {},
     "output_type": "display_data"
    },
    {
     "data": {
      "application/vnd.jupyter.widget-view+json": {
       "model_id": "d747eef143f74e1bab028dc5c4c97714",
       "version_major": 2,
       "version_minor": 0
      },
      "text/plain": [
       "VBox(children=(Label(value='Waiting for wandb.init()...\\r'), FloatProgress(value=0.011112564933379568, max=1.0…"
      ]
     },
     "metadata": {},
     "output_type": "display_data"
    },
    {
     "data": {
      "text/html": [
       "wandb version 0.16.1 is available!  To upgrade, please run:\n",
       " $ pip install wandb --upgrade"
      ],
      "text/plain": [
       "<IPython.core.display.HTML object>"
      ]
     },
     "metadata": {},
     "output_type": "display_data"
    },
    {
     "data": {
      "text/html": [
       "Tracking run with wandb version 0.15.12"
      ],
      "text/plain": [
       "<IPython.core.display.HTML object>"
      ]
     },
     "metadata": {},
     "output_type": "display_data"
    },
    {
     "data": {
      "text/html": [
       "Run data is saved locally in <code>/workspaces/Algorytmy Ewolucyjne/List 4/wandb/run-20240102_221124-k8qzfjh0</code>"
      ],
      "text/plain": [
       "<IPython.core.display.HTML object>"
      ]
     },
     "metadata": {},
     "output_type": "display_data"
    },
    {
     "data": {
      "text/html": [
       "Syncing run <strong><a href='https://wandb.ai/pgrabinski/Algorytmy%20Ewolucyjne-List%204_List%204/runs/k8qzfjh0' target=\"_blank\">celestial-dream-113</a></strong> to <a href='https://wandb.ai/pgrabinski/Algorytmy%20Ewolucyjne-List%204_List%204' target=\"_blank\">Weights & Biases</a> (<a href='https://wandb.me/run' target=\"_blank\">docs</a>)<br/>"
      ],
      "text/plain": [
       "<IPython.core.display.HTML object>"
      ]
     },
     "metadata": {},
     "output_type": "display_data"
    },
    {
     "data": {
      "text/html": [
       " View project at <a href='https://wandb.ai/pgrabinski/Algorytmy%20Ewolucyjne-List%204_List%204' target=\"_blank\">https://wandb.ai/pgrabinski/Algorytmy%20Ewolucyjne-List%204_List%204</a>"
      ],
      "text/plain": [
       "<IPython.core.display.HTML object>"
      ]
     },
     "metadata": {},
     "output_type": "display_data"
    },
    {
     "data": {
      "text/html": [
       " View run at <a href='https://wandb.ai/pgrabinski/Algorytmy%20Ewolucyjne-List%204_List%204/runs/k8qzfjh0' target=\"_blank\">https://wandb.ai/pgrabinski/Algorytmy%20Ewolucyjne-List%204_List%204/runs/k8qzfjh0</a>"
      ],
      "text/plain": [
       "<IPython.core.display.HTML object>"
      ]
     },
     "metadata": {},
     "output_type": "display_data"
    },
    {
     "data": {
      "text/html": [
       "Waiting for W&B process to finish... <strong style=\"color:green\">(success).</strong>"
      ],
      "text/plain": [
       "<IPython.core.display.HTML object>"
      ]
     },
     "metadata": {},
     "output_type": "display_data"
    },
    {
     "data": {
      "application/vnd.jupyter.widget-view+json": {
       "model_id": "ce5fa1dd3f2143c593165bf68f98298c",
       "version_major": 2,
       "version_minor": 0
      },
      "text/plain": [
       "VBox(children=(Label(value='0.002 MB of 0.005 MB uploaded (0.000 MB deduped)\\r'), FloatProgress(value=0.439028…"
      ]
     },
     "metadata": {},
     "output_type": "display_data"
    },
    {
     "data": {
      "text/html": [
       "<style>\n",
       "    table.wandb td:nth-child(1) { padding: 0 10px; text-align: left ; width: auto;} td:nth-child(2) {text-align: left ; width: 100%}\n",
       "    .wandb-row { display: flex; flex-direction: row; flex-wrap: wrap; justify-content: flex-start; width: 100% }\n",
       "    .wandb-col { display: flex; flex-direction: column; flex-basis: 100%; flex: 1; padding: 10px; }\n",
       "    </style>\n",
       "<div class=\"wandb-row\"><div class=\"wandb-col\"><h3>Run history:</h3><br/><table class=\"wandb\"><tr><td>fitness_max</td><td>▁▂▅▇████████████████████████████████████</td></tr><tr><td>fitness_mean</td><td>▁▂▄▆████████████████████████████████████</td></tr><tr><td>fitness_min</td><td>▁▂▃▆████████████████████████████████████</td></tr></table><br/></div><div class=\"wandb-col\"><h3>Run summary:</h3><br/><table class=\"wandb\"><tr><td>fitness_max</td><td>93</td></tr><tr><td>fitness_mean</td><td>93.0</td></tr><tr><td>fitness_min</td><td>93</td></tr></table><br/></div></div>"
      ],
      "text/plain": [
       "<IPython.core.display.HTML object>"
      ]
     },
     "metadata": {},
     "output_type": "display_data"
    },
    {
     "data": {
      "text/html": [
       " View run <strong style=\"color:#cdcd00\">celestial-dream-113</strong> at: <a href='https://wandb.ai/pgrabinski/Algorytmy%20Ewolucyjne-List%204_List%204/runs/k8qzfjh0' target=\"_blank\">https://wandb.ai/pgrabinski/Algorytmy%20Ewolucyjne-List%204_List%204/runs/k8qzfjh0</a><br/> View job at <a href='https://wandb.ai/pgrabinski/Algorytmy%20Ewolucyjne-List%204_List%204/jobs/QXJ0aWZhY3RDb2xsZWN0aW9uOjEyNjczODU0MQ==/version_details/v5' target=\"_blank\">https://wandb.ai/pgrabinski/Algorytmy%20Ewolucyjne-List%204_List%204/jobs/QXJ0aWZhY3RDb2xsZWN0aW9uOjEyNjczODU0MQ==/version_details/v5</a><br/>Synced 4 W&B file(s), 0 media file(s), 0 artifact file(s) and 0 other file(s)"
      ],
      "text/plain": [
       "<IPython.core.display.HTML object>"
      ]
     },
     "metadata": {},
     "output_type": "display_data"
    },
    {
     "data": {
      "text/html": [
       "Find logs at: <code>./wandb/run-20240102_221124-k8qzfjh0/logs</code>"
      ],
      "text/plain": [
       "<IPython.core.display.HTML object>"
      ]
     },
     "metadata": {},
     "output_type": "display_data"
    },
    {
     "data": {
      "application/vnd.jupyter.widget-view+json": {
       "model_id": "70e5645b4d284598a549ae782b65df3c",
       "version_major": 2,
       "version_minor": 0
      },
      "text/plain": [
       "VBox(children=(Label(value='Waiting for wandb.init()...\\r'), FloatProgress(value=0.011112502755551961, max=1.0…"
      ]
     },
     "metadata": {},
     "output_type": "display_data"
    },
    {
     "data": {
      "text/html": [
       "wandb version 0.16.1 is available!  To upgrade, please run:\n",
       " $ pip install wandb --upgrade"
      ],
      "text/plain": [
       "<IPython.core.display.HTML object>"
      ]
     },
     "metadata": {},
     "output_type": "display_data"
    },
    {
     "data": {
      "text/html": [
       "Tracking run with wandb version 0.15.12"
      ],
      "text/plain": [
       "<IPython.core.display.HTML object>"
      ]
     },
     "metadata": {},
     "output_type": "display_data"
    },
    {
     "data": {
      "text/html": [
       "Run data is saved locally in <code>/workspaces/Algorytmy Ewolucyjne/List 4/wandb/run-20240102_221131-obeuyep2</code>"
      ],
      "text/plain": [
       "<IPython.core.display.HTML object>"
      ]
     },
     "metadata": {},
     "output_type": "display_data"
    },
    {
     "data": {
      "text/html": [
       "Syncing run <strong><a href='https://wandb.ai/pgrabinski/Algorytmy%20Ewolucyjne-List%204_List%204/runs/obeuyep2' target=\"_blank\">sweet-thunder-114</a></strong> to <a href='https://wandb.ai/pgrabinski/Algorytmy%20Ewolucyjne-List%204_List%204' target=\"_blank\">Weights & Biases</a> (<a href='https://wandb.me/run' target=\"_blank\">docs</a>)<br/>"
      ],
      "text/plain": [
       "<IPython.core.display.HTML object>"
      ]
     },
     "metadata": {},
     "output_type": "display_data"
    },
    {
     "data": {
      "text/html": [
       " View project at <a href='https://wandb.ai/pgrabinski/Algorytmy%20Ewolucyjne-List%204_List%204' target=\"_blank\">https://wandb.ai/pgrabinski/Algorytmy%20Ewolucyjne-List%204_List%204</a>"
      ],
      "text/plain": [
       "<IPython.core.display.HTML object>"
      ]
     },
     "metadata": {},
     "output_type": "display_data"
    },
    {
     "data": {
      "text/html": [
       " View run at <a href='https://wandb.ai/pgrabinski/Algorytmy%20Ewolucyjne-List%204_List%204/runs/obeuyep2' target=\"_blank\">https://wandb.ai/pgrabinski/Algorytmy%20Ewolucyjne-List%204_List%204/runs/obeuyep2</a>"
      ],
      "text/plain": [
       "<IPython.core.display.HTML object>"
      ]
     },
     "metadata": {},
     "output_type": "display_data"
    },
    {
     "data": {
      "text/html": [
       "Waiting for W&B process to finish... <strong style=\"color:green\">(success).</strong>"
      ],
      "text/plain": [
       "<IPython.core.display.HTML object>"
      ]
     },
     "metadata": {},
     "output_type": "display_data"
    },
    {
     "data": {
      "application/vnd.jupyter.widget-view+json": {
       "model_id": "037fd2247fb2492ba21a87790365aeaf",
       "version_major": 2,
       "version_minor": 0
      },
      "text/plain": [
       "VBox(children=(Label(value='0.002 MB of 0.005 MB uploaded (0.000 MB deduped)\\r'), FloatProgress(value=0.439028…"
      ]
     },
     "metadata": {},
     "output_type": "display_data"
    },
    {
     "data": {
      "text/html": [
       "<style>\n",
       "    table.wandb td:nth-child(1) { padding: 0 10px; text-align: left ; width: auto;} td:nth-child(2) {text-align: left ; width: 100%}\n",
       "    .wandb-row { display: flex; flex-direction: row; flex-wrap: wrap; justify-content: flex-start; width: 100% }\n",
       "    .wandb-col { display: flex; flex-direction: column; flex-basis: 100%; flex: 1; padding: 10px; }\n",
       "    </style>\n",
       "<div class=\"wandb-row\"><div class=\"wandb-col\"><h3>Run history:</h3><br/><table class=\"wandb\"><tr><td>fitness_max</td><td>▁▂▅▆████████████████████████████████████</td></tr><tr><td>fitness_mean</td><td>▁▂▄▆████████████████████████████████████</td></tr><tr><td>fitness_min</td><td>▁▁▃▅▇███████████████████████████████████</td></tr></table><br/></div><div class=\"wandb-col\"><h3>Run summary:</h3><br/><table class=\"wandb\"><tr><td>fitness_max</td><td>99</td></tr><tr><td>fitness_mean</td><td>99.0</td></tr><tr><td>fitness_min</td><td>99</td></tr></table><br/></div></div>"
      ],
      "text/plain": [
       "<IPython.core.display.HTML object>"
      ]
     },
     "metadata": {},
     "output_type": "display_data"
    },
    {
     "data": {
      "text/html": [
       " View run <strong style=\"color:#cdcd00\">sweet-thunder-114</strong> at: <a href='https://wandb.ai/pgrabinski/Algorytmy%20Ewolucyjne-List%204_List%204/runs/obeuyep2' target=\"_blank\">https://wandb.ai/pgrabinski/Algorytmy%20Ewolucyjne-List%204_List%204/runs/obeuyep2</a><br/> View job at <a href='https://wandb.ai/pgrabinski/Algorytmy%20Ewolucyjne-List%204_List%204/jobs/QXJ0aWZhY3RDb2xsZWN0aW9uOjEyNjczODU0MQ==/version_details/v5' target=\"_blank\">https://wandb.ai/pgrabinski/Algorytmy%20Ewolucyjne-List%204_List%204/jobs/QXJ0aWZhY3RDb2xsZWN0aW9uOjEyNjczODU0MQ==/version_details/v5</a><br/>Synced 4 W&B file(s), 0 media file(s), 0 artifact file(s) and 0 other file(s)"
      ],
      "text/plain": [
       "<IPython.core.display.HTML object>"
      ]
     },
     "metadata": {},
     "output_type": "display_data"
    },
    {
     "data": {
      "text/html": [
       "Find logs at: <code>./wandb/run-20240102_221131-obeuyep2/logs</code>"
      ],
      "text/plain": [
       "<IPython.core.display.HTML object>"
      ]
     },
     "metadata": {},
     "output_type": "display_data"
    },
    {
     "data": {
      "application/vnd.jupyter.widget-view+json": {
       "model_id": "0674d69370fe497b9185f12c82df6921",
       "version_major": 2,
       "version_minor": 0
      },
      "text/plain": [
       "VBox(children=(Label(value='Waiting for wandb.init()...\\r'), FloatProgress(value=0.011112495944447194, max=1.0…"
      ]
     },
     "metadata": {},
     "output_type": "display_data"
    },
    {
     "data": {
      "text/html": [
       "wandb version 0.16.1 is available!  To upgrade, please run:\n",
       " $ pip install wandb --upgrade"
      ],
      "text/plain": [
       "<IPython.core.display.HTML object>"
      ]
     },
     "metadata": {},
     "output_type": "display_data"
    },
    {
     "data": {
      "text/html": [
       "Tracking run with wandb version 0.15.12"
      ],
      "text/plain": [
       "<IPython.core.display.HTML object>"
      ]
     },
     "metadata": {},
     "output_type": "display_data"
    },
    {
     "data": {
      "text/html": [
       "Run data is saved locally in <code>/workspaces/Algorytmy Ewolucyjne/List 4/wandb/run-20240102_221139-1dhk3arz</code>"
      ],
      "text/plain": [
       "<IPython.core.display.HTML object>"
      ]
     },
     "metadata": {},
     "output_type": "display_data"
    },
    {
     "data": {
      "text/html": [
       "Syncing run <strong><a href='https://wandb.ai/pgrabinski/Algorytmy%20Ewolucyjne-List%204_List%204/runs/1dhk3arz' target=\"_blank\">wise-silence-115</a></strong> to <a href='https://wandb.ai/pgrabinski/Algorytmy%20Ewolucyjne-List%204_List%204' target=\"_blank\">Weights & Biases</a> (<a href='https://wandb.me/run' target=\"_blank\">docs</a>)<br/>"
      ],
      "text/plain": [
       "<IPython.core.display.HTML object>"
      ]
     },
     "metadata": {},
     "output_type": "display_data"
    },
    {
     "data": {
      "text/html": [
       " View project at <a href='https://wandb.ai/pgrabinski/Algorytmy%20Ewolucyjne-List%204_List%204' target=\"_blank\">https://wandb.ai/pgrabinski/Algorytmy%20Ewolucyjne-List%204_List%204</a>"
      ],
      "text/plain": [
       "<IPython.core.display.HTML object>"
      ]
     },
     "metadata": {},
     "output_type": "display_data"
    },
    {
     "data": {
      "text/html": [
       " View run at <a href='https://wandb.ai/pgrabinski/Algorytmy%20Ewolucyjne-List%204_List%204/runs/1dhk3arz' target=\"_blank\">https://wandb.ai/pgrabinski/Algorytmy%20Ewolucyjne-List%204_List%204/runs/1dhk3arz</a>"
      ],
      "text/plain": [
       "<IPython.core.display.HTML object>"
      ]
     },
     "metadata": {},
     "output_type": "display_data"
    },
    {
     "data": {
      "text/html": [
       "Waiting for W&B process to finish... <strong style=\"color:green\">(success).</strong>"
      ],
      "text/plain": [
       "<IPython.core.display.HTML object>"
      ]
     },
     "metadata": {},
     "output_type": "display_data"
    },
    {
     "data": {
      "application/vnd.jupyter.widget-view+json": {
       "model_id": "8824eb53f3a6456e94d7ce9055408155",
       "version_major": 2,
       "version_minor": 0
      },
      "text/plain": [
       "VBox(children=(Label(value='0.002 MB of 0.005 MB uploaded (0.000 MB deduped)\\r'), FloatProgress(value=0.439028…"
      ]
     },
     "metadata": {},
     "output_type": "display_data"
    },
    {
     "data": {
      "text/html": [
       "<style>\n",
       "    table.wandb td:nth-child(1) { padding: 0 10px; text-align: left ; width: auto;} td:nth-child(2) {text-align: left ; width: 100%}\n",
       "    .wandb-row { display: flex; flex-direction: row; flex-wrap: wrap; justify-content: flex-start; width: 100% }\n",
       "    .wandb-col { display: flex; flex-direction: column; flex-basis: 100%; flex: 1; padding: 10px; }\n",
       "    </style>\n",
       "<div class=\"wandb-row\"><div class=\"wandb-col\"><h3>Run history:</h3><br/><table class=\"wandb\"><tr><td>fitness_max</td><td>▁▂▄▅▇███████████████████████████████████</td></tr><tr><td>fitness_mean</td><td>▁▁▃▄▆███████████████████████████████████</td></tr><tr><td>fitness_min</td><td>▁▁▂▄▅▇██████████████████████████████████</td></tr></table><br/></div><div class=\"wandb-col\"><h3>Run summary:</h3><br/><table class=\"wandb\"><tr><td>fitness_max</td><td>104</td></tr><tr><td>fitness_mean</td><td>104.0</td></tr><tr><td>fitness_min</td><td>104</td></tr></table><br/></div></div>"
      ],
      "text/plain": [
       "<IPython.core.display.HTML object>"
      ]
     },
     "metadata": {},
     "output_type": "display_data"
    },
    {
     "data": {
      "text/html": [
       " View run <strong style=\"color:#cdcd00\">wise-silence-115</strong> at: <a href='https://wandb.ai/pgrabinski/Algorytmy%20Ewolucyjne-List%204_List%204/runs/1dhk3arz' target=\"_blank\">https://wandb.ai/pgrabinski/Algorytmy%20Ewolucyjne-List%204_List%204/runs/1dhk3arz</a><br/> View job at <a href='https://wandb.ai/pgrabinski/Algorytmy%20Ewolucyjne-List%204_List%204/jobs/QXJ0aWZhY3RDb2xsZWN0aW9uOjEyNjczODU0MQ==/version_details/v5' target=\"_blank\">https://wandb.ai/pgrabinski/Algorytmy%20Ewolucyjne-List%204_List%204/jobs/QXJ0aWZhY3RDb2xsZWN0aW9uOjEyNjczODU0MQ==/version_details/v5</a><br/>Synced 4 W&B file(s), 0 media file(s), 0 artifact file(s) and 0 other file(s)"
      ],
      "text/plain": [
       "<IPython.core.display.HTML object>"
      ]
     },
     "metadata": {},
     "output_type": "display_data"
    },
    {
     "data": {
      "text/html": [
       "Find logs at: <code>./wandb/run-20240102_221139-1dhk3arz/logs</code>"
      ],
      "text/plain": [
       "<IPython.core.display.HTML object>"
      ]
     },
     "metadata": {},
     "output_type": "display_data"
    },
    {
     "data": {
      "application/vnd.jupyter.widget-view+json": {
       "model_id": "342fa5e18f3345b18f08caf70ec0719e",
       "version_major": 2,
       "version_minor": 0
      },
      "text/plain": [
       "VBox(children=(Label(value='Waiting for wandb.init()...\\r'), FloatProgress(value=0.011112317322274773, max=1.0…"
      ]
     },
     "metadata": {},
     "output_type": "display_data"
    },
    {
     "data": {
      "text/html": [
       "wandb version 0.16.1 is available!  To upgrade, please run:\n",
       " $ pip install wandb --upgrade"
      ],
      "text/plain": [
       "<IPython.core.display.HTML object>"
      ]
     },
     "metadata": {},
     "output_type": "display_data"
    },
    {
     "data": {
      "text/html": [
       "Tracking run with wandb version 0.15.12"
      ],
      "text/plain": [
       "<IPython.core.display.HTML object>"
      ]
     },
     "metadata": {},
     "output_type": "display_data"
    },
    {
     "data": {
      "text/html": [
       "Run data is saved locally in <code>/workspaces/Algorytmy Ewolucyjne/List 4/wandb/run-20240102_221146-rsmxx67j</code>"
      ],
      "text/plain": [
       "<IPython.core.display.HTML object>"
      ]
     },
     "metadata": {},
     "output_type": "display_data"
    },
    {
     "data": {
      "text/html": [
       "Syncing run <strong><a href='https://wandb.ai/pgrabinski/Algorytmy%20Ewolucyjne-List%204_List%204/runs/rsmxx67j' target=\"_blank\">deep-feather-116</a></strong> to <a href='https://wandb.ai/pgrabinski/Algorytmy%20Ewolucyjne-List%204_List%204' target=\"_blank\">Weights & Biases</a> (<a href='https://wandb.me/run' target=\"_blank\">docs</a>)<br/>"
      ],
      "text/plain": [
       "<IPython.core.display.HTML object>"
      ]
     },
     "metadata": {},
     "output_type": "display_data"
    },
    {
     "data": {
      "text/html": [
       " View project at <a href='https://wandb.ai/pgrabinski/Algorytmy%20Ewolucyjne-List%204_List%204' target=\"_blank\">https://wandb.ai/pgrabinski/Algorytmy%20Ewolucyjne-List%204_List%204</a>"
      ],
      "text/plain": [
       "<IPython.core.display.HTML object>"
      ]
     },
     "metadata": {},
     "output_type": "display_data"
    },
    {
     "data": {
      "text/html": [
       " View run at <a href='https://wandb.ai/pgrabinski/Algorytmy%20Ewolucyjne-List%204_List%204/runs/rsmxx67j' target=\"_blank\">https://wandb.ai/pgrabinski/Algorytmy%20Ewolucyjne-List%204_List%204/runs/rsmxx67j</a>"
      ],
      "text/plain": [
       "<IPython.core.display.HTML object>"
      ]
     },
     "metadata": {},
     "output_type": "display_data"
    },
    {
     "data": {
      "text/html": [
       "Waiting for W&B process to finish... <strong style=\"color:green\">(success).</strong>"
      ],
      "text/plain": [
       "<IPython.core.display.HTML object>"
      ]
     },
     "metadata": {},
     "output_type": "display_data"
    },
    {
     "data": {
      "application/vnd.jupyter.widget-view+json": {
       "model_id": "3d4cb77b84ac4be6ac4cc4bc068c0dbc",
       "version_major": 2,
       "version_minor": 0
      },
      "text/plain": [
       "VBox(children=(Label(value='0.002 MB of 0.005 MB uploaded (0.000 MB deduped)\\r'), FloatProgress(value=0.439028…"
      ]
     },
     "metadata": {},
     "output_type": "display_data"
    },
    {
     "data": {
      "text/html": [
       "<style>\n",
       "    table.wandb td:nth-child(1) { padding: 0 10px; text-align: left ; width: auto;} td:nth-child(2) {text-align: left ; width: 100%}\n",
       "    .wandb-row { display: flex; flex-direction: row; flex-wrap: wrap; justify-content: flex-start; width: 100% }\n",
       "    .wandb-col { display: flex; flex-direction: column; flex-basis: 100%; flex: 1; padding: 10px; }\n",
       "    </style>\n",
       "<div class=\"wandb-row\"><div class=\"wandb-col\"><h3>Run history:</h3><br/><table class=\"wandb\"><tr><td>fitness_max</td><td>▁▃▃▅▇███████████████████████████████████</td></tr><tr><td>fitness_mean</td><td>▁▂▃▄▇▇██████████████████████████████████</td></tr><tr><td>fitness_min</td><td>▁▂▃▄▆▇██████████████████████████████████</td></tr></table><br/></div><div class=\"wandb-col\"><h3>Run summary:</h3><br/><table class=\"wandb\"><tr><td>fitness_max</td><td>102</td></tr><tr><td>fitness_mean</td><td>102.0</td></tr><tr><td>fitness_min</td><td>102</td></tr></table><br/></div></div>"
      ],
      "text/plain": [
       "<IPython.core.display.HTML object>"
      ]
     },
     "metadata": {},
     "output_type": "display_data"
    },
    {
     "data": {
      "text/html": [
       " View run <strong style=\"color:#cdcd00\">deep-feather-116</strong> at: <a href='https://wandb.ai/pgrabinski/Algorytmy%20Ewolucyjne-List%204_List%204/runs/rsmxx67j' target=\"_blank\">https://wandb.ai/pgrabinski/Algorytmy%20Ewolucyjne-List%204_List%204/runs/rsmxx67j</a><br/> View job at <a href='https://wandb.ai/pgrabinski/Algorytmy%20Ewolucyjne-List%204_List%204/jobs/QXJ0aWZhY3RDb2xsZWN0aW9uOjEyNjczODU0MQ==/version_details/v5' target=\"_blank\">https://wandb.ai/pgrabinski/Algorytmy%20Ewolucyjne-List%204_List%204/jobs/QXJ0aWZhY3RDb2xsZWN0aW9uOjEyNjczODU0MQ==/version_details/v5</a><br/>Synced 4 W&B file(s), 0 media file(s), 0 artifact file(s) and 0 other file(s)"
      ],
      "text/plain": [
       "<IPython.core.display.HTML object>"
      ]
     },
     "metadata": {},
     "output_type": "display_data"
    },
    {
     "data": {
      "text/html": [
       "Find logs at: <code>./wandb/run-20240102_221146-rsmxx67j/logs</code>"
      ],
      "text/plain": [
       "<IPython.core.display.HTML object>"
      ]
     },
     "metadata": {},
     "output_type": "display_data"
    },
    {
     "data": {
      "application/vnd.jupyter.widget-view+json": {
       "model_id": "a28ee31dc7ba4e56a9292dff3f8d6ff1",
       "version_major": 2,
       "version_minor": 0
      },
      "text/plain": [
       "VBox(children=(Label(value='Waiting for wandb.init()...\\r'), FloatProgress(value=0.011112476277776295, max=1.0…"
      ]
     },
     "metadata": {},
     "output_type": "display_data"
    },
    {
     "data": {
      "text/html": [
       "wandb version 0.16.1 is available!  To upgrade, please run:\n",
       " $ pip install wandb --upgrade"
      ],
      "text/plain": [
       "<IPython.core.display.HTML object>"
      ]
     },
     "metadata": {},
     "output_type": "display_data"
    },
    {
     "data": {
      "text/html": [
       "Tracking run with wandb version 0.15.12"
      ],
      "text/plain": [
       "<IPython.core.display.HTML object>"
      ]
     },
     "metadata": {},
     "output_type": "display_data"
    },
    {
     "data": {
      "text/html": [
       "Run data is saved locally in <code>/workspaces/Algorytmy Ewolucyjne/List 4/wandb/run-20240102_221154-y7gm484i</code>"
      ],
      "text/plain": [
       "<IPython.core.display.HTML object>"
      ]
     },
     "metadata": {},
     "output_type": "display_data"
    },
    {
     "data": {
      "text/html": [
       "Syncing run <strong><a href='https://wandb.ai/pgrabinski/Algorytmy%20Ewolucyjne-List%204_List%204/runs/y7gm484i' target=\"_blank\">misty-firebrand-117</a></strong> to <a href='https://wandb.ai/pgrabinski/Algorytmy%20Ewolucyjne-List%204_List%204' target=\"_blank\">Weights & Biases</a> (<a href='https://wandb.me/run' target=\"_blank\">docs</a>)<br/>"
      ],
      "text/plain": [
       "<IPython.core.display.HTML object>"
      ]
     },
     "metadata": {},
     "output_type": "display_data"
    },
    {
     "data": {
      "text/html": [
       " View project at <a href='https://wandb.ai/pgrabinski/Algorytmy%20Ewolucyjne-List%204_List%204' target=\"_blank\">https://wandb.ai/pgrabinski/Algorytmy%20Ewolucyjne-List%204_List%204</a>"
      ],
      "text/plain": [
       "<IPython.core.display.HTML object>"
      ]
     },
     "metadata": {},
     "output_type": "display_data"
    },
    {
     "data": {
      "text/html": [
       " View run at <a href='https://wandb.ai/pgrabinski/Algorytmy%20Ewolucyjne-List%204_List%204/runs/y7gm484i' target=\"_blank\">https://wandb.ai/pgrabinski/Algorytmy%20Ewolucyjne-List%204_List%204/runs/y7gm484i</a>"
      ],
      "text/plain": [
       "<IPython.core.display.HTML object>"
      ]
     },
     "metadata": {},
     "output_type": "display_data"
    },
    {
     "data": {
      "text/html": [
       "Waiting for W&B process to finish... <strong style=\"color:green\">(success).</strong>"
      ],
      "text/plain": [
       "<IPython.core.display.HTML object>"
      ]
     },
     "metadata": {},
     "output_type": "display_data"
    },
    {
     "data": {
      "application/vnd.jupyter.widget-view+json": {
       "model_id": "11cede72898d4d509ad6f7c2c39efe3d",
       "version_major": 2,
       "version_minor": 0
      },
      "text/plain": [
       "VBox(children=(Label(value='0.002 MB of 0.005 MB uploaded (0.000 MB deduped)\\r'), FloatProgress(value=0.439028…"
      ]
     },
     "metadata": {},
     "output_type": "display_data"
    },
    {
     "data": {
      "text/html": [
       "<style>\n",
       "    table.wandb td:nth-child(1) { padding: 0 10px; text-align: left ; width: auto;} td:nth-child(2) {text-align: left ; width: 100%}\n",
       "    .wandb-row { display: flex; flex-direction: row; flex-wrap: wrap; justify-content: flex-start; width: 100% }\n",
       "    .wandb-col { display: flex; flex-direction: column; flex-basis: 100%; flex: 1; padding: 10px; }\n",
       "    </style>\n",
       "<div class=\"wandb-row\"><div class=\"wandb-col\"><h3>Run history:</h3><br/><table class=\"wandb\"><tr><td>fitness_max</td><td>▁▁▃▄▇███████████████████████████████████</td></tr><tr><td>fitness_mean</td><td>▁▁▂▃▆▇██████████████████████████████████</td></tr><tr><td>fitness_min</td><td>▁▁▂▃▆▇▇█████████████████████████████████</td></tr></table><br/></div><div class=\"wandb-col\"><h3>Run summary:</h3><br/><table class=\"wandb\"><tr><td>fitness_max</td><td>104</td></tr><tr><td>fitness_mean</td><td>104.0</td></tr><tr><td>fitness_min</td><td>104</td></tr></table><br/></div></div>"
      ],
      "text/plain": [
       "<IPython.core.display.HTML object>"
      ]
     },
     "metadata": {},
     "output_type": "display_data"
    },
    {
     "data": {
      "text/html": [
       " View run <strong style=\"color:#cdcd00\">misty-firebrand-117</strong> at: <a href='https://wandb.ai/pgrabinski/Algorytmy%20Ewolucyjne-List%204_List%204/runs/y7gm484i' target=\"_blank\">https://wandb.ai/pgrabinski/Algorytmy%20Ewolucyjne-List%204_List%204/runs/y7gm484i</a><br/> View job at <a href='https://wandb.ai/pgrabinski/Algorytmy%20Ewolucyjne-List%204_List%204/jobs/QXJ0aWZhY3RDb2xsZWN0aW9uOjEyNjczODU0MQ==/version_details/v5' target=\"_blank\">https://wandb.ai/pgrabinski/Algorytmy%20Ewolucyjne-List%204_List%204/jobs/QXJ0aWZhY3RDb2xsZWN0aW9uOjEyNjczODU0MQ==/version_details/v5</a><br/>Synced 4 W&B file(s), 0 media file(s), 0 artifact file(s) and 0 other file(s)"
      ],
      "text/plain": [
       "<IPython.core.display.HTML object>"
      ]
     },
     "metadata": {},
     "output_type": "display_data"
    },
    {
     "data": {
      "text/html": [
       "Find logs at: <code>./wandb/run-20240102_221154-y7gm484i/logs</code>"
      ],
      "text/plain": [
       "<IPython.core.display.HTML object>"
      ]
     },
     "metadata": {},
     "output_type": "display_data"
    },
    {
     "data": {
      "application/vnd.jupyter.widget-view+json": {
       "model_id": "b24742f3267046a098512b3c6e575b42",
       "version_major": 2,
       "version_minor": 0
      },
      "text/plain": [
       "VBox(children=(Label(value='Waiting for wandb.init()...\\r'), FloatProgress(value=0.01111249732219019, max=1.0)…"
      ]
     },
     "metadata": {},
     "output_type": "display_data"
    },
    {
     "data": {
      "text/html": [
       "wandb version 0.16.1 is available!  To upgrade, please run:\n",
       " $ pip install wandb --upgrade"
      ],
      "text/plain": [
       "<IPython.core.display.HTML object>"
      ]
     },
     "metadata": {},
     "output_type": "display_data"
    },
    {
     "data": {
      "text/html": [
       "Tracking run with wandb version 0.15.12"
      ],
      "text/plain": [
       "<IPython.core.display.HTML object>"
      ]
     },
     "metadata": {},
     "output_type": "display_data"
    },
    {
     "data": {
      "text/html": [
       "Run data is saved locally in <code>/workspaces/Algorytmy Ewolucyjne/List 4/wandb/run-20240102_221202-iszflol6</code>"
      ],
      "text/plain": [
       "<IPython.core.display.HTML object>"
      ]
     },
     "metadata": {},
     "output_type": "display_data"
    },
    {
     "data": {
      "text/html": [
       "Syncing run <strong><a href='https://wandb.ai/pgrabinski/Algorytmy%20Ewolucyjne-List%204_List%204/runs/iszflol6' target=\"_blank\">stellar-water-118</a></strong> to <a href='https://wandb.ai/pgrabinski/Algorytmy%20Ewolucyjne-List%204_List%204' target=\"_blank\">Weights & Biases</a> (<a href='https://wandb.me/run' target=\"_blank\">docs</a>)<br/>"
      ],
      "text/plain": [
       "<IPython.core.display.HTML object>"
      ]
     },
     "metadata": {},
     "output_type": "display_data"
    },
    {
     "data": {
      "text/html": [
       " View project at <a href='https://wandb.ai/pgrabinski/Algorytmy%20Ewolucyjne-List%204_List%204' target=\"_blank\">https://wandb.ai/pgrabinski/Algorytmy%20Ewolucyjne-List%204_List%204</a>"
      ],
      "text/plain": [
       "<IPython.core.display.HTML object>"
      ]
     },
     "metadata": {},
     "output_type": "display_data"
    },
    {
     "data": {
      "text/html": [
       " View run at <a href='https://wandb.ai/pgrabinski/Algorytmy%20Ewolucyjne-List%204_List%204/runs/iszflol6' target=\"_blank\">https://wandb.ai/pgrabinski/Algorytmy%20Ewolucyjne-List%204_List%204/runs/iszflol6</a>"
      ],
      "text/plain": [
       "<IPython.core.display.HTML object>"
      ]
     },
     "metadata": {},
     "output_type": "display_data"
    },
    {
     "data": {
      "text/html": [
       "Waiting for W&B process to finish... <strong style=\"color:green\">(success).</strong>"
      ],
      "text/plain": [
       "<IPython.core.display.HTML object>"
      ]
     },
     "metadata": {},
     "output_type": "display_data"
    },
    {
     "data": {
      "application/vnd.jupyter.widget-view+json": {
       "model_id": "dde588c50835437db6fb1823e669463f",
       "version_major": 2,
       "version_minor": 0
      },
      "text/plain": [
       "VBox(children=(Label(value='0.002 MB of 0.005 MB uploaded (0.000 MB deduped)\\r'), FloatProgress(value=0.438923…"
      ]
     },
     "metadata": {},
     "output_type": "display_data"
    },
    {
     "data": {
      "text/html": [
       "<style>\n",
       "    table.wandb td:nth-child(1) { padding: 0 10px; text-align: left ; width: auto;} td:nth-child(2) {text-align: left ; width: 100%}\n",
       "    .wandb-row { display: flex; flex-direction: row; flex-wrap: wrap; justify-content: flex-start; width: 100% }\n",
       "    .wandb-col { display: flex; flex-direction: column; flex-basis: 100%; flex: 1; padding: 10px; }\n",
       "    </style>\n",
       "<div class=\"wandb-row\"><div class=\"wandb-col\"><h3>Run history:</h3><br/><table class=\"wandb\"><tr><td>fitness_max</td><td>▁▁▂▄▇███████████████████████████████████</td></tr><tr><td>fitness_mean</td><td>▁▁▂▃▆▇██████████████████████████████████</td></tr><tr><td>fitness_min</td><td>▁▁▂▃▅▆▇█████████████████████████████████</td></tr></table><br/></div><div class=\"wandb-col\"><h3>Run summary:</h3><br/><table class=\"wandb\"><tr><td>fitness_max</td><td>103</td></tr><tr><td>fitness_mean</td><td>103.0</td></tr><tr><td>fitness_min</td><td>103</td></tr></table><br/></div></div>"
      ],
      "text/plain": [
       "<IPython.core.display.HTML object>"
      ]
     },
     "metadata": {},
     "output_type": "display_data"
    },
    {
     "data": {
      "text/html": [
       " View run <strong style=\"color:#cdcd00\">stellar-water-118</strong> at: <a href='https://wandb.ai/pgrabinski/Algorytmy%20Ewolucyjne-List%204_List%204/runs/iszflol6' target=\"_blank\">https://wandb.ai/pgrabinski/Algorytmy%20Ewolucyjne-List%204_List%204/runs/iszflol6</a><br/> View job at <a href='https://wandb.ai/pgrabinski/Algorytmy%20Ewolucyjne-List%204_List%204/jobs/QXJ0aWZhY3RDb2xsZWN0aW9uOjEyNjczODU0MQ==/version_details/v5' target=\"_blank\">https://wandb.ai/pgrabinski/Algorytmy%20Ewolucyjne-List%204_List%204/jobs/QXJ0aWZhY3RDb2xsZWN0aW9uOjEyNjczODU0MQ==/version_details/v5</a><br/>Synced 4 W&B file(s), 0 media file(s), 0 artifact file(s) and 0 other file(s)"
      ],
      "text/plain": [
       "<IPython.core.display.HTML object>"
      ]
     },
     "metadata": {},
     "output_type": "display_data"
    },
    {
     "data": {
      "text/html": [
       "Find logs at: <code>./wandb/run-20240102_221202-iszflol6/logs</code>"
      ],
      "text/plain": [
       "<IPython.core.display.HTML object>"
      ]
     },
     "metadata": {},
     "output_type": "display_data"
    },
    {
     "data": {
      "application/vnd.jupyter.widget-view+json": {
       "model_id": "948313cbe67e4e77ba0f307754084ec3",
       "version_major": 2,
       "version_minor": 0
      },
      "text/plain": [
       "VBox(children=(Label(value='Waiting for wandb.init()...\\r'), FloatProgress(value=0.01111230854439782, max=1.0)…"
      ]
     },
     "metadata": {},
     "output_type": "display_data"
    },
    {
     "data": {
      "text/html": [
       "wandb version 0.16.1 is available!  To upgrade, please run:\n",
       " $ pip install wandb --upgrade"
      ],
      "text/plain": [
       "<IPython.core.display.HTML object>"
      ]
     },
     "metadata": {},
     "output_type": "display_data"
    },
    {
     "data": {
      "text/html": [
       "Tracking run with wandb version 0.15.12"
      ],
      "text/plain": [
       "<IPython.core.display.HTML object>"
      ]
     },
     "metadata": {},
     "output_type": "display_data"
    },
    {
     "data": {
      "text/html": [
       "Run data is saved locally in <code>/workspaces/Algorytmy Ewolucyjne/List 4/wandb/run-20240102_221209-0siy8fzi</code>"
      ],
      "text/plain": [
       "<IPython.core.display.HTML object>"
      ]
     },
     "metadata": {},
     "output_type": "display_data"
    },
    {
     "data": {
      "text/html": [
       "Syncing run <strong><a href='https://wandb.ai/pgrabinski/Algorytmy%20Ewolucyjne-List%204_List%204/runs/0siy8fzi' target=\"_blank\">snowy-music-119</a></strong> to <a href='https://wandb.ai/pgrabinski/Algorytmy%20Ewolucyjne-List%204_List%204' target=\"_blank\">Weights & Biases</a> (<a href='https://wandb.me/run' target=\"_blank\">docs</a>)<br/>"
      ],
      "text/plain": [
       "<IPython.core.display.HTML object>"
      ]
     },
     "metadata": {},
     "output_type": "display_data"
    },
    {
     "data": {
      "text/html": [
       " View project at <a href='https://wandb.ai/pgrabinski/Algorytmy%20Ewolucyjne-List%204_List%204' target=\"_blank\">https://wandb.ai/pgrabinski/Algorytmy%20Ewolucyjne-List%204_List%204</a>"
      ],
      "text/plain": [
       "<IPython.core.display.HTML object>"
      ]
     },
     "metadata": {},
     "output_type": "display_data"
    },
    {
     "data": {
      "text/html": [
       " View run at <a href='https://wandb.ai/pgrabinski/Algorytmy%20Ewolucyjne-List%204_List%204/runs/0siy8fzi' target=\"_blank\">https://wandb.ai/pgrabinski/Algorytmy%20Ewolucyjne-List%204_List%204/runs/0siy8fzi</a>"
      ],
      "text/plain": [
       "<IPython.core.display.HTML object>"
      ]
     },
     "metadata": {},
     "output_type": "display_data"
    },
    {
     "data": {
      "text/html": [
       "Waiting for W&B process to finish... <strong style=\"color:green\">(success).</strong>"
      ],
      "text/plain": [
       "<IPython.core.display.HTML object>"
      ]
     },
     "metadata": {},
     "output_type": "display_data"
    },
    {
     "data": {
      "application/vnd.jupyter.widget-view+json": {
       "model_id": "82235f9236a2430da1f45f48e3fe0467",
       "version_major": 2,
       "version_minor": 0
      },
      "text/plain": [
       "VBox(children=(Label(value='0.002 MB of 0.005 MB uploaded (0.000 MB deduped)\\r'), FloatProgress(value=0.438923…"
      ]
     },
     "metadata": {},
     "output_type": "display_data"
    },
    {
     "data": {
      "text/html": [
       "<style>\n",
       "    table.wandb td:nth-child(1) { padding: 0 10px; text-align: left ; width: auto;} td:nth-child(2) {text-align: left ; width: 100%}\n",
       "    .wandb-row { display: flex; flex-direction: row; flex-wrap: wrap; justify-content: flex-start; width: 100% }\n",
       "    .wandb-col { display: flex; flex-direction: column; flex-basis: 100%; flex: 1; padding: 10px; }\n",
       "    </style>\n",
       "<div class=\"wandb-row\"><div class=\"wandb-col\"><h3>Run history:</h3><br/><table class=\"wandb\"><tr><td>fitness_max</td><td>▁▁▄▅████████████████████████████████████</td></tr><tr><td>fitness_mean</td><td>▁▂▃▅▇███████████████████████████████████</td></tr><tr><td>fitness_min</td><td>▁▁▃▄▇▇██████████████████████████████████</td></tr></table><br/></div><div class=\"wandb-col\"><h3>Run summary:</h3><br/><table class=\"wandb\"><tr><td>fitness_max</td><td>100</td></tr><tr><td>fitness_mean</td><td>100.0</td></tr><tr><td>fitness_min</td><td>100</td></tr></table><br/></div></div>"
      ],
      "text/plain": [
       "<IPython.core.display.HTML object>"
      ]
     },
     "metadata": {},
     "output_type": "display_data"
    },
    {
     "data": {
      "text/html": [
       " View run <strong style=\"color:#cdcd00\">snowy-music-119</strong> at: <a href='https://wandb.ai/pgrabinski/Algorytmy%20Ewolucyjne-List%204_List%204/runs/0siy8fzi' target=\"_blank\">https://wandb.ai/pgrabinski/Algorytmy%20Ewolucyjne-List%204_List%204/runs/0siy8fzi</a><br/> View job at <a href='https://wandb.ai/pgrabinski/Algorytmy%20Ewolucyjne-List%204_List%204/jobs/QXJ0aWZhY3RDb2xsZWN0aW9uOjEyNjczODU0MQ==/version_details/v5' target=\"_blank\">https://wandb.ai/pgrabinski/Algorytmy%20Ewolucyjne-List%204_List%204/jobs/QXJ0aWZhY3RDb2xsZWN0aW9uOjEyNjczODU0MQ==/version_details/v5</a><br/>Synced 4 W&B file(s), 0 media file(s), 0 artifact file(s) and 0 other file(s)"
      ],
      "text/plain": [
       "<IPython.core.display.HTML object>"
      ]
     },
     "metadata": {},
     "output_type": "display_data"
    },
    {
     "data": {
      "text/html": [
       "Find logs at: <code>./wandb/run-20240102_221209-0siy8fzi/logs</code>"
      ],
      "text/plain": [
       "<IPython.core.display.HTML object>"
      ]
     },
     "metadata": {},
     "output_type": "display_data"
    },
    {
     "data": {
      "application/vnd.jupyter.widget-view+json": {
       "model_id": "4d0e7fb8973b42e2b9d30adb5b2a709f",
       "version_major": 2,
       "version_minor": 0
      },
      "text/plain": [
       "VBox(children=(Label(value='Waiting for wandb.init()...\\r'), FloatProgress(value=0.011112207933345214, max=1.0…"
      ]
     },
     "metadata": {},
     "output_type": "display_data"
    },
    {
     "data": {
      "text/html": [
       "wandb version 0.16.1 is available!  To upgrade, please run:\n",
       " $ pip install wandb --upgrade"
      ],
      "text/plain": [
       "<IPython.core.display.HTML object>"
      ]
     },
     "metadata": {},
     "output_type": "display_data"
    },
    {
     "data": {
      "text/html": [
       "Tracking run with wandb version 0.15.12"
      ],
      "text/plain": [
       "<IPython.core.display.HTML object>"
      ]
     },
     "metadata": {},
     "output_type": "display_data"
    },
    {
     "data": {
      "text/html": [
       "Run data is saved locally in <code>/workspaces/Algorytmy Ewolucyjne/List 4/wandb/run-20240102_221217-qr6urk30</code>"
      ],
      "text/plain": [
       "<IPython.core.display.HTML object>"
      ]
     },
     "metadata": {},
     "output_type": "display_data"
    },
    {
     "data": {
      "text/html": [
       "Syncing run <strong><a href='https://wandb.ai/pgrabinski/Algorytmy%20Ewolucyjne-List%204_List%204/runs/qr6urk30' target=\"_blank\">revived-sound-120</a></strong> to <a href='https://wandb.ai/pgrabinski/Algorytmy%20Ewolucyjne-List%204_List%204' target=\"_blank\">Weights & Biases</a> (<a href='https://wandb.me/run' target=\"_blank\">docs</a>)<br/>"
      ],
      "text/plain": [
       "<IPython.core.display.HTML object>"
      ]
     },
     "metadata": {},
     "output_type": "display_data"
    },
    {
     "data": {
      "text/html": [
       " View project at <a href='https://wandb.ai/pgrabinski/Algorytmy%20Ewolucyjne-List%204_List%204' target=\"_blank\">https://wandb.ai/pgrabinski/Algorytmy%20Ewolucyjne-List%204_List%204</a>"
      ],
      "text/plain": [
       "<IPython.core.display.HTML object>"
      ]
     },
     "metadata": {},
     "output_type": "display_data"
    },
    {
     "data": {
      "text/html": [
       " View run at <a href='https://wandb.ai/pgrabinski/Algorytmy%20Ewolucyjne-List%204_List%204/runs/qr6urk30' target=\"_blank\">https://wandb.ai/pgrabinski/Algorytmy%20Ewolucyjne-List%204_List%204/runs/qr6urk30</a>"
      ],
      "text/plain": [
       "<IPython.core.display.HTML object>"
      ]
     },
     "metadata": {},
     "output_type": "display_data"
    },
    {
     "data": {
      "text/html": [
       "Waiting for W&B process to finish... <strong style=\"color:green\">(success).</strong>"
      ],
      "text/plain": [
       "<IPython.core.display.HTML object>"
      ]
     },
     "metadata": {},
     "output_type": "display_data"
    },
    {
     "data": {
      "text/html": [
       "<style>\n",
       "    table.wandb td:nth-child(1) { padding: 0 10px; text-align: left ; width: auto;} td:nth-child(2) {text-align: left ; width: 100%}\n",
       "    .wandb-row { display: flex; flex-direction: row; flex-wrap: wrap; justify-content: flex-start; width: 100% }\n",
       "    .wandb-col { display: flex; flex-direction: column; flex-basis: 100%; flex: 1; padding: 10px; }\n",
       "    </style>\n",
       "<div class=\"wandb-row\"><div class=\"wandb-col\"><h3>Run history:</h3><br/><table class=\"wandb\"><tr><td>fitness_max</td><td>▁▁▃▄▇███████████████████████████████████</td></tr><tr><td>fitness_mean</td><td>▁▂▃▄▇███████████████████████████████████</td></tr><tr><td>fitness_min</td><td>▁▂▃▄▆▇██████████████████████████████████</td></tr></table><br/></div><div class=\"wandb-col\"><h3>Run summary:</h3><br/><table class=\"wandb\"><tr><td>fitness_max</td><td>100</td></tr><tr><td>fitness_mean</td><td>100.0</td></tr><tr><td>fitness_min</td><td>100</td></tr></table><br/></div></div>"
      ],
      "text/plain": [
       "<IPython.core.display.HTML object>"
      ]
     },
     "metadata": {},
     "output_type": "display_data"
    },
    {
     "data": {
      "text/html": [
       " View run <strong style=\"color:#cdcd00\">revived-sound-120</strong> at: <a href='https://wandb.ai/pgrabinski/Algorytmy%20Ewolucyjne-List%204_List%204/runs/qr6urk30' target=\"_blank\">https://wandb.ai/pgrabinski/Algorytmy%20Ewolucyjne-List%204_List%204/runs/qr6urk30</a><br/> View job at <a href='https://wandb.ai/pgrabinski/Algorytmy%20Ewolucyjne-List%204_List%204/jobs/QXJ0aWZhY3RDb2xsZWN0aW9uOjEyNjczODU0MQ==/version_details/v5' target=\"_blank\">https://wandb.ai/pgrabinski/Algorytmy%20Ewolucyjne-List%204_List%204/jobs/QXJ0aWZhY3RDb2xsZWN0aW9uOjEyNjczODU0MQ==/version_details/v5</a><br/>Synced 4 W&B file(s), 0 media file(s), 0 artifact file(s) and 0 other file(s)"
      ],
      "text/plain": [
       "<IPython.core.display.HTML object>"
      ]
     },
     "metadata": {},
     "output_type": "display_data"
    },
    {
     "data": {
      "text/html": [
       "Find logs at: <code>./wandb/run-20240102_221217-qr6urk30/logs</code>"
      ],
      "text/plain": [
       "<IPython.core.display.HTML object>"
      ]
     },
     "metadata": {},
     "output_type": "display_data"
    },
    {
     "data": {
      "application/vnd.jupyter.widget-view+json": {
       "model_id": "897a28785c2c41f2982c4de8b1b646df",
       "version_major": 2,
       "version_minor": 0
      },
      "text/plain": [
       "VBox(children=(Label(value='Waiting for wandb.init()...\\r'), FloatProgress(value=0.011112181833353437, max=1.0…"
      ]
     },
     "metadata": {},
     "output_type": "display_data"
    },
    {
     "data": {
      "text/html": [
       "wandb version 0.16.1 is available!  To upgrade, please run:\n",
       " $ pip install wandb --upgrade"
      ],
      "text/plain": [
       "<IPython.core.display.HTML object>"
      ]
     },
     "metadata": {},
     "output_type": "display_data"
    },
    {
     "data": {
      "text/html": [
       "Tracking run with wandb version 0.15.12"
      ],
      "text/plain": [
       "<IPython.core.display.HTML object>"
      ]
     },
     "metadata": {},
     "output_type": "display_data"
    },
    {
     "data": {
      "text/html": [
       "Run data is saved locally in <code>/workspaces/Algorytmy Ewolucyjne/List 4/wandb/run-20240102_221227-0rlw7oyl</code>"
      ],
      "text/plain": [
       "<IPython.core.display.HTML object>"
      ]
     },
     "metadata": {},
     "output_type": "display_data"
    },
    {
     "data": {
      "text/html": [
       "Syncing run <strong><a href='https://wandb.ai/pgrabinski/Algorytmy%20Ewolucyjne-List%204_List%204/runs/0rlw7oyl' target=\"_blank\">fine-surf-121</a></strong> to <a href='https://wandb.ai/pgrabinski/Algorytmy%20Ewolucyjne-List%204_List%204' target=\"_blank\">Weights & Biases</a> (<a href='https://wandb.me/run' target=\"_blank\">docs</a>)<br/>"
      ],
      "text/plain": [
       "<IPython.core.display.HTML object>"
      ]
     },
     "metadata": {},
     "output_type": "display_data"
    },
    {
     "data": {
      "text/html": [
       " View project at <a href='https://wandb.ai/pgrabinski/Algorytmy%20Ewolucyjne-List%204_List%204' target=\"_blank\">https://wandb.ai/pgrabinski/Algorytmy%20Ewolucyjne-List%204_List%204</a>"
      ],
      "text/plain": [
       "<IPython.core.display.HTML object>"
      ]
     },
     "metadata": {},
     "output_type": "display_data"
    },
    {
     "data": {
      "text/html": [
       " View run at <a href='https://wandb.ai/pgrabinski/Algorytmy%20Ewolucyjne-List%204_List%204/runs/0rlw7oyl' target=\"_blank\">https://wandb.ai/pgrabinski/Algorytmy%20Ewolucyjne-List%204_List%204/runs/0rlw7oyl</a>"
      ],
      "text/plain": [
       "<IPython.core.display.HTML object>"
      ]
     },
     "metadata": {},
     "output_type": "display_data"
    },
    {
     "data": {
      "text/html": [
       "Waiting for W&B process to finish... <strong style=\"color:green\">(success).</strong>"
      ],
      "text/plain": [
       "<IPython.core.display.HTML object>"
      ]
     },
     "metadata": {},
     "output_type": "display_data"
    },
    {
     "data": {
      "application/vnd.jupyter.widget-view+json": {
       "model_id": "2e3762f38c3d4d66a92815c0871f7cc6",
       "version_major": 2,
       "version_minor": 0
      },
      "text/plain": [
       "VBox(children=(Label(value='0.002 MB of 0.005 MB uploaded (0.000 MB deduped)\\r'), FloatProgress(value=0.438946…"
      ]
     },
     "metadata": {},
     "output_type": "display_data"
    },
    {
     "data": {
      "text/html": [
       "<style>\n",
       "    table.wandb td:nth-child(1) { padding: 0 10px; text-align: left ; width: auto;} td:nth-child(2) {text-align: left ; width: 100%}\n",
       "    .wandb-row { display: flex; flex-direction: row; flex-wrap: wrap; justify-content: flex-start; width: 100% }\n",
       "    .wandb-col { display: flex; flex-direction: column; flex-basis: 100%; flex: 1; padding: 10px; }\n",
       "    </style>\n",
       "<div class=\"wandb-row\"><div class=\"wandb-col\"><h3>Run history:</h3><br/><table class=\"wandb\"><tr><td>fitness_max</td><td>▁▁▃▅▇███████████████████████████████████</td></tr><tr><td>fitness_mean</td><td>▁▂▂▄▆▇██████████████████████████████████</td></tr><tr><td>fitness_min</td><td>▁▂▂▃▅▆▇█████████████████████████████████</td></tr></table><br/></div><div class=\"wandb-col\"><h3>Run summary:</h3><br/><table class=\"wandb\"><tr><td>fitness_max</td><td>102</td></tr><tr><td>fitness_mean</td><td>102.0</td></tr><tr><td>fitness_min</td><td>102</td></tr></table><br/></div></div>"
      ],
      "text/plain": [
       "<IPython.core.display.HTML object>"
      ]
     },
     "metadata": {},
     "output_type": "display_data"
    },
    {
     "data": {
      "text/html": [
       " View run <strong style=\"color:#cdcd00\">fine-surf-121</strong> at: <a href='https://wandb.ai/pgrabinski/Algorytmy%20Ewolucyjne-List%204_List%204/runs/0rlw7oyl' target=\"_blank\">https://wandb.ai/pgrabinski/Algorytmy%20Ewolucyjne-List%204_List%204/runs/0rlw7oyl</a><br/> View job at <a href='https://wandb.ai/pgrabinski/Algorytmy%20Ewolucyjne-List%204_List%204/jobs/QXJ0aWZhY3RDb2xsZWN0aW9uOjEyNjczODU0MQ==/version_details/v5' target=\"_blank\">https://wandb.ai/pgrabinski/Algorytmy%20Ewolucyjne-List%204_List%204/jobs/QXJ0aWZhY3RDb2xsZWN0aW9uOjEyNjczODU0MQ==/version_details/v5</a><br/>Synced 4 W&B file(s), 0 media file(s), 0 artifact file(s) and 0 other file(s)"
      ],
      "text/plain": [
       "<IPython.core.display.HTML object>"
      ]
     },
     "metadata": {},
     "output_type": "display_data"
    },
    {
     "data": {
      "text/html": [
       "Find logs at: <code>./wandb/run-20240102_221227-0rlw7oyl/logs</code>"
      ],
      "text/plain": [
       "<IPython.core.display.HTML object>"
      ]
     },
     "metadata": {},
     "output_type": "display_data"
    },
    {
     "data": {
      "application/vnd.jupyter.widget-view+json": {
       "model_id": "66b2b17158c24b17809f4632de14aef1",
       "version_major": 2,
       "version_minor": 0
      },
      "text/plain": [
       "VBox(children=(Label(value='Waiting for wandb.init()...\\r'), FloatProgress(value=0.011112428711122549, max=1.0…"
      ]
     },
     "metadata": {},
     "output_type": "display_data"
    },
    {
     "data": {
      "text/html": [
       "wandb version 0.16.1 is available!  To upgrade, please run:\n",
       " $ pip install wandb --upgrade"
      ],
      "text/plain": [
       "<IPython.core.display.HTML object>"
      ]
     },
     "metadata": {},
     "output_type": "display_data"
    },
    {
     "data": {
      "text/html": [
       "Tracking run with wandb version 0.15.12"
      ],
      "text/plain": [
       "<IPython.core.display.HTML object>"
      ]
     },
     "metadata": {},
     "output_type": "display_data"
    },
    {
     "data": {
      "text/html": [
       "Run data is saved locally in <code>/workspaces/Algorytmy Ewolucyjne/List 4/wandb/run-20240102_221234-8ecxwdpa</code>"
      ],
      "text/plain": [
       "<IPython.core.display.HTML object>"
      ]
     },
     "metadata": {},
     "output_type": "display_data"
    },
    {
     "data": {
      "text/html": [
       "Syncing run <strong><a href='https://wandb.ai/pgrabinski/Algorytmy%20Ewolucyjne-List%204_List%204/runs/8ecxwdpa' target=\"_blank\">fearless-sound-122</a></strong> to <a href='https://wandb.ai/pgrabinski/Algorytmy%20Ewolucyjne-List%204_List%204' target=\"_blank\">Weights & Biases</a> (<a href='https://wandb.me/run' target=\"_blank\">docs</a>)<br/>"
      ],
      "text/plain": [
       "<IPython.core.display.HTML object>"
      ]
     },
     "metadata": {},
     "output_type": "display_data"
    },
    {
     "data": {
      "text/html": [
       " View project at <a href='https://wandb.ai/pgrabinski/Algorytmy%20Ewolucyjne-List%204_List%204' target=\"_blank\">https://wandb.ai/pgrabinski/Algorytmy%20Ewolucyjne-List%204_List%204</a>"
      ],
      "text/plain": [
       "<IPython.core.display.HTML object>"
      ]
     },
     "metadata": {},
     "output_type": "display_data"
    },
    {
     "data": {
      "text/html": [
       " View run at <a href='https://wandb.ai/pgrabinski/Algorytmy%20Ewolucyjne-List%204_List%204/runs/8ecxwdpa' target=\"_blank\">https://wandb.ai/pgrabinski/Algorytmy%20Ewolucyjne-List%204_List%204/runs/8ecxwdpa</a>"
      ],
      "text/plain": [
       "<IPython.core.display.HTML object>"
      ]
     },
     "metadata": {},
     "output_type": "display_data"
    },
    {
     "data": {
      "text/html": [
       "Waiting for W&B process to finish... <strong style=\"color:green\">(success).</strong>"
      ],
      "text/plain": [
       "<IPython.core.display.HTML object>"
      ]
     },
     "metadata": {},
     "output_type": "display_data"
    },
    {
     "data": {
      "application/vnd.jupyter.widget-view+json": {
       "model_id": "3f4392be83bf400fbe1c360ef2621156",
       "version_major": 2,
       "version_minor": 0
      },
      "text/plain": [
       "VBox(children=(Label(value='0.002 MB of 0.005 MB uploaded (0.000 MB deduped)\\r'), FloatProgress(value=0.438946…"
      ]
     },
     "metadata": {},
     "output_type": "display_data"
    },
    {
     "data": {
      "text/html": [
       "<style>\n",
       "    table.wandb td:nth-child(1) { padding: 0 10px; text-align: left ; width: auto;} td:nth-child(2) {text-align: left ; width: 100%}\n",
       "    .wandb-row { display: flex; flex-direction: row; flex-wrap: wrap; justify-content: flex-start; width: 100% }\n",
       "    .wandb-col { display: flex; flex-direction: column; flex-basis: 100%; flex: 1; padding: 10px; }\n",
       "    </style>\n",
       "<div class=\"wandb-row\"><div class=\"wandb-col\"><h3>Run history:</h3><br/><table class=\"wandb\"><tr><td>fitness_max</td><td>▁▂▃▅▇███████████████████████████████████</td></tr><tr><td>fitness_mean</td><td>▁▂▃▄▆▇██████████████████████████████████</td></tr><tr><td>fitness_min</td><td>▁▂▂▃▆▇██████████████████████████████████</td></tr></table><br/></div><div class=\"wandb-col\"><h3>Run summary:</h3><br/><table class=\"wandb\"><tr><td>fitness_max</td><td>101</td></tr><tr><td>fitness_mean</td><td>101.0</td></tr><tr><td>fitness_min</td><td>101</td></tr></table><br/></div></div>"
      ],
      "text/plain": [
       "<IPython.core.display.HTML object>"
      ]
     },
     "metadata": {},
     "output_type": "display_data"
    },
    {
     "data": {
      "text/html": [
       " View run <strong style=\"color:#cdcd00\">fearless-sound-122</strong> at: <a href='https://wandb.ai/pgrabinski/Algorytmy%20Ewolucyjne-List%204_List%204/runs/8ecxwdpa' target=\"_blank\">https://wandb.ai/pgrabinski/Algorytmy%20Ewolucyjne-List%204_List%204/runs/8ecxwdpa</a><br/> View job at <a href='https://wandb.ai/pgrabinski/Algorytmy%20Ewolucyjne-List%204_List%204/jobs/QXJ0aWZhY3RDb2xsZWN0aW9uOjEyNjczODU0MQ==/version_details/v5' target=\"_blank\">https://wandb.ai/pgrabinski/Algorytmy%20Ewolucyjne-List%204_List%204/jobs/QXJ0aWZhY3RDb2xsZWN0aW9uOjEyNjczODU0MQ==/version_details/v5</a><br/>Synced 4 W&B file(s), 0 media file(s), 0 artifact file(s) and 0 other file(s)"
      ],
      "text/plain": [
       "<IPython.core.display.HTML object>"
      ]
     },
     "metadata": {},
     "output_type": "display_data"
    },
    {
     "data": {
      "text/html": [
       "Find logs at: <code>./wandb/run-20240102_221234-8ecxwdpa/logs</code>"
      ],
      "text/plain": [
       "<IPython.core.display.HTML object>"
      ]
     },
     "metadata": {},
     "output_type": "display_data"
    },
    {
     "data": {
      "application/vnd.jupyter.widget-view+json": {
       "model_id": "5be89b6b4bb5450caa131a6c9430ce26",
       "version_major": 2,
       "version_minor": 0
      },
      "text/plain": [
       "VBox(children=(Label(value='Waiting for wandb.init()...\\r'), FloatProgress(value=0.011112324288923345, max=1.0…"
      ]
     },
     "metadata": {},
     "output_type": "display_data"
    },
    {
     "data": {
      "text/html": [
       "wandb version 0.16.1 is available!  To upgrade, please run:\n",
       " $ pip install wandb --upgrade"
      ],
      "text/plain": [
       "<IPython.core.display.HTML object>"
      ]
     },
     "metadata": {},
     "output_type": "display_data"
    },
    {
     "data": {
      "text/html": [
       "Tracking run with wandb version 0.15.12"
      ],
      "text/plain": [
       "<IPython.core.display.HTML object>"
      ]
     },
     "metadata": {},
     "output_type": "display_data"
    },
    {
     "data": {
      "text/html": [
       "Run data is saved locally in <code>/workspaces/Algorytmy Ewolucyjne/List 4/wandb/run-20240102_221242-l08c5xwj</code>"
      ],
      "text/plain": [
       "<IPython.core.display.HTML object>"
      ]
     },
     "metadata": {},
     "output_type": "display_data"
    },
    {
     "data": {
      "text/html": [
       "Syncing run <strong><a href='https://wandb.ai/pgrabinski/Algorytmy%20Ewolucyjne-List%204_List%204/runs/l08c5xwj' target=\"_blank\">dry-sun-123</a></strong> to <a href='https://wandb.ai/pgrabinski/Algorytmy%20Ewolucyjne-List%204_List%204' target=\"_blank\">Weights & Biases</a> (<a href='https://wandb.me/run' target=\"_blank\">docs</a>)<br/>"
      ],
      "text/plain": [
       "<IPython.core.display.HTML object>"
      ]
     },
     "metadata": {},
     "output_type": "display_data"
    },
    {
     "data": {
      "text/html": [
       " View project at <a href='https://wandb.ai/pgrabinski/Algorytmy%20Ewolucyjne-List%204_List%204' target=\"_blank\">https://wandb.ai/pgrabinski/Algorytmy%20Ewolucyjne-List%204_List%204</a>"
      ],
      "text/plain": [
       "<IPython.core.display.HTML object>"
      ]
     },
     "metadata": {},
     "output_type": "display_data"
    },
    {
     "data": {
      "text/html": [
       " View run at <a href='https://wandb.ai/pgrabinski/Algorytmy%20Ewolucyjne-List%204_List%204/runs/l08c5xwj' target=\"_blank\">https://wandb.ai/pgrabinski/Algorytmy%20Ewolucyjne-List%204_List%204/runs/l08c5xwj</a>"
      ],
      "text/plain": [
       "<IPython.core.display.HTML object>"
      ]
     },
     "metadata": {},
     "output_type": "display_data"
    },
    {
     "data": {
      "text/html": [
       "Waiting for W&B process to finish... <strong style=\"color:green\">(success).</strong>"
      ],
      "text/plain": [
       "<IPython.core.display.HTML object>"
      ]
     },
     "metadata": {},
     "output_type": "display_data"
    },
    {
     "data": {
      "application/vnd.jupyter.widget-view+json": {
       "model_id": "11166558f282449da6ad1d203e4cffa8",
       "version_major": 2,
       "version_minor": 0
      },
      "text/plain": [
       "VBox(children=(Label(value='0.002 MB of 0.005 MB uploaded (0.000 MB deduped)\\r'), FloatProgress(value=0.438946…"
      ]
     },
     "metadata": {},
     "output_type": "display_data"
    },
    {
     "data": {
      "text/html": [
       "<style>\n",
       "    table.wandb td:nth-child(1) { padding: 0 10px; text-align: left ; width: auto;} td:nth-child(2) {text-align: left ; width: 100%}\n",
       "    .wandb-row { display: flex; flex-direction: row; flex-wrap: wrap; justify-content: flex-start; width: 100% }\n",
       "    .wandb-col { display: flex; flex-direction: column; flex-basis: 100%; flex: 1; padding: 10px; }\n",
       "    </style>\n",
       "<div class=\"wandb-row\"><div class=\"wandb-col\"><h3>Run history:</h3><br/><table class=\"wandb\"><tr><td>fitness_max</td><td>▁▂▃▄████████████████████████████████████</td></tr><tr><td>fitness_mean</td><td>▁▂▂▄▆▇██████████████████████████████████</td></tr><tr><td>fitness_min</td><td>▁▁▂▃▅▇▇█████████████████████████████████</td></tr></table><br/></div><div class=\"wandb-col\"><h3>Run summary:</h3><br/><table class=\"wandb\"><tr><td>fitness_max</td><td>102</td></tr><tr><td>fitness_mean</td><td>102.0</td></tr><tr><td>fitness_min</td><td>102</td></tr></table><br/></div></div>"
      ],
      "text/plain": [
       "<IPython.core.display.HTML object>"
      ]
     },
     "metadata": {},
     "output_type": "display_data"
    },
    {
     "data": {
      "text/html": [
       " View run <strong style=\"color:#cdcd00\">dry-sun-123</strong> at: <a href='https://wandb.ai/pgrabinski/Algorytmy%20Ewolucyjne-List%204_List%204/runs/l08c5xwj' target=\"_blank\">https://wandb.ai/pgrabinski/Algorytmy%20Ewolucyjne-List%204_List%204/runs/l08c5xwj</a><br/> View job at <a href='https://wandb.ai/pgrabinski/Algorytmy%20Ewolucyjne-List%204_List%204/jobs/QXJ0aWZhY3RDb2xsZWN0aW9uOjEyNjczODU0MQ==/version_details/v5' target=\"_blank\">https://wandb.ai/pgrabinski/Algorytmy%20Ewolucyjne-List%204_List%204/jobs/QXJ0aWZhY3RDb2xsZWN0aW9uOjEyNjczODU0MQ==/version_details/v5</a><br/>Synced 4 W&B file(s), 0 media file(s), 0 artifact file(s) and 0 other file(s)"
      ],
      "text/plain": [
       "<IPython.core.display.HTML object>"
      ]
     },
     "metadata": {},
     "output_type": "display_data"
    },
    {
     "data": {
      "text/html": [
       "Find logs at: <code>./wandb/run-20240102_221242-l08c5xwj/logs</code>"
      ],
      "text/plain": [
       "<IPython.core.display.HTML object>"
      ]
     },
     "metadata": {},
     "output_type": "display_data"
    },
    {
     "data": {
      "application/vnd.jupyter.widget-view+json": {
       "model_id": "74c00ab08d644ee2b0fa54b76547b5e6",
       "version_major": 2,
       "version_minor": 0
      },
      "text/plain": [
       "VBox(children=(Label(value='Waiting for wandb.init()...\\r'), FloatProgress(value=0.011112294066616514, max=1.0…"
      ]
     },
     "metadata": {},
     "output_type": "display_data"
    },
    {
     "data": {
      "text/html": [
       "wandb version 0.16.1 is available!  To upgrade, please run:\n",
       " $ pip install wandb --upgrade"
      ],
      "text/plain": [
       "<IPython.core.display.HTML object>"
      ]
     },
     "metadata": {},
     "output_type": "display_data"
    },
    {
     "data": {
      "text/html": [
       "Tracking run with wandb version 0.15.12"
      ],
      "text/plain": [
       "<IPython.core.display.HTML object>"
      ]
     },
     "metadata": {},
     "output_type": "display_data"
    },
    {
     "data": {
      "text/html": [
       "Run data is saved locally in <code>/workspaces/Algorytmy Ewolucyjne/List 4/wandb/run-20240102_221249-mly30jtf</code>"
      ],
      "text/plain": [
       "<IPython.core.display.HTML object>"
      ]
     },
     "metadata": {},
     "output_type": "display_data"
    },
    {
     "data": {
      "text/html": [
       "Syncing run <strong><a href='https://wandb.ai/pgrabinski/Algorytmy%20Ewolucyjne-List%204_List%204/runs/mly30jtf' target=\"_blank\">desert-brook-124</a></strong> to <a href='https://wandb.ai/pgrabinski/Algorytmy%20Ewolucyjne-List%204_List%204' target=\"_blank\">Weights & Biases</a> (<a href='https://wandb.me/run' target=\"_blank\">docs</a>)<br/>"
      ],
      "text/plain": [
       "<IPython.core.display.HTML object>"
      ]
     },
     "metadata": {},
     "output_type": "display_data"
    },
    {
     "data": {
      "text/html": [
       " View project at <a href='https://wandb.ai/pgrabinski/Algorytmy%20Ewolucyjne-List%204_List%204' target=\"_blank\">https://wandb.ai/pgrabinski/Algorytmy%20Ewolucyjne-List%204_List%204</a>"
      ],
      "text/plain": [
       "<IPython.core.display.HTML object>"
      ]
     },
     "metadata": {},
     "output_type": "display_data"
    },
    {
     "data": {
      "text/html": [
       " View run at <a href='https://wandb.ai/pgrabinski/Algorytmy%20Ewolucyjne-List%204_List%204/runs/mly30jtf' target=\"_blank\">https://wandb.ai/pgrabinski/Algorytmy%20Ewolucyjne-List%204_List%204/runs/mly30jtf</a>"
      ],
      "text/plain": [
       "<IPython.core.display.HTML object>"
      ]
     },
     "metadata": {},
     "output_type": "display_data"
    },
    {
     "data": {
      "text/html": [
       "Waiting for W&B process to finish... <strong style=\"color:green\">(success).</strong>"
      ],
      "text/plain": [
       "<IPython.core.display.HTML object>"
      ]
     },
     "metadata": {},
     "output_type": "display_data"
    },
    {
     "data": {
      "application/vnd.jupyter.widget-view+json": {
       "model_id": "099b4494eda04c9891ab9b2f54d06d6d",
       "version_major": 2,
       "version_minor": 0
      },
      "text/plain": [
       "VBox(children=(Label(value='0.002 MB of 0.005 MB uploaded (0.000 MB deduped)\\r'), FloatProgress(value=0.438946…"
      ]
     },
     "metadata": {},
     "output_type": "display_data"
    },
    {
     "data": {
      "text/html": [
       "<style>\n",
       "    table.wandb td:nth-child(1) { padding: 0 10px; text-align: left ; width: auto;} td:nth-child(2) {text-align: left ; width: 100%}\n",
       "    .wandb-row { display: flex; flex-direction: row; flex-wrap: wrap; justify-content: flex-start; width: 100% }\n",
       "    .wandb-col { display: flex; flex-direction: column; flex-basis: 100%; flex: 1; padding: 10px; }\n",
       "    </style>\n",
       "<div class=\"wandb-row\"><div class=\"wandb-col\"><h3>Run history:</h3><br/><table class=\"wandb\"><tr><td>fitness_max</td><td>▁▃▄▅████████████████████████████████████</td></tr><tr><td>fitness_mean</td><td>▁▂▃▄▇███████████████████████████████████</td></tr><tr><td>fitness_min</td><td>▁▂▃▄▆▇██████████████████████████████████</td></tr></table><br/></div><div class=\"wandb-col\"><h3>Run summary:</h3><br/><table class=\"wandb\"><tr><td>fitness_max</td><td>101</td></tr><tr><td>fitness_mean</td><td>101.0</td></tr><tr><td>fitness_min</td><td>101</td></tr></table><br/></div></div>"
      ],
      "text/plain": [
       "<IPython.core.display.HTML object>"
      ]
     },
     "metadata": {},
     "output_type": "display_data"
    },
    {
     "data": {
      "text/html": [
       " View run <strong style=\"color:#cdcd00\">desert-brook-124</strong> at: <a href='https://wandb.ai/pgrabinski/Algorytmy%20Ewolucyjne-List%204_List%204/runs/mly30jtf' target=\"_blank\">https://wandb.ai/pgrabinski/Algorytmy%20Ewolucyjne-List%204_List%204/runs/mly30jtf</a><br/> View job at <a href='https://wandb.ai/pgrabinski/Algorytmy%20Ewolucyjne-List%204_List%204/jobs/QXJ0aWZhY3RDb2xsZWN0aW9uOjEyNjczODU0MQ==/version_details/v5' target=\"_blank\">https://wandb.ai/pgrabinski/Algorytmy%20Ewolucyjne-List%204_List%204/jobs/QXJ0aWZhY3RDb2xsZWN0aW9uOjEyNjczODU0MQ==/version_details/v5</a><br/>Synced 4 W&B file(s), 0 media file(s), 0 artifact file(s) and 0 other file(s)"
      ],
      "text/plain": [
       "<IPython.core.display.HTML object>"
      ]
     },
     "metadata": {},
     "output_type": "display_data"
    },
    {
     "data": {
      "text/html": [
       "Find logs at: <code>./wandb/run-20240102_221249-mly30jtf/logs</code>"
      ],
      "text/plain": [
       "<IPython.core.display.HTML object>"
      ]
     },
     "metadata": {},
     "output_type": "display_data"
    },
    {
     "data": {
      "application/vnd.jupyter.widget-view+json": {
       "model_id": "f009bc4eac134562b877dca5422ac0c8",
       "version_major": 2,
       "version_minor": 0
      },
      "text/plain": [
       "VBox(children=(Label(value='Waiting for wandb.init()...\\r'), FloatProgress(value=0.011112312822256677, max=1.0…"
      ]
     },
     "metadata": {},
     "output_type": "display_data"
    },
    {
     "data": {
      "text/html": [
       "wandb version 0.16.1 is available!  To upgrade, please run:\n",
       " $ pip install wandb --upgrade"
      ],
      "text/plain": [
       "<IPython.core.display.HTML object>"
      ]
     },
     "metadata": {},
     "output_type": "display_data"
    },
    {
     "data": {
      "text/html": [
       "Tracking run with wandb version 0.15.12"
      ],
      "text/plain": [
       "<IPython.core.display.HTML object>"
      ]
     },
     "metadata": {},
     "output_type": "display_data"
    },
    {
     "data": {
      "text/html": [
       "Run data is saved locally in <code>/workspaces/Algorytmy Ewolucyjne/List 4/wandb/run-20240102_221257-pvroc1j0</code>"
      ],
      "text/plain": [
       "<IPython.core.display.HTML object>"
      ]
     },
     "metadata": {},
     "output_type": "display_data"
    },
    {
     "data": {
      "text/html": [
       "Syncing run <strong><a href='https://wandb.ai/pgrabinski/Algorytmy%20Ewolucyjne-List%204_List%204/runs/pvroc1j0' target=\"_blank\">dark-night-125</a></strong> to <a href='https://wandb.ai/pgrabinski/Algorytmy%20Ewolucyjne-List%204_List%204' target=\"_blank\">Weights & Biases</a> (<a href='https://wandb.me/run' target=\"_blank\">docs</a>)<br/>"
      ],
      "text/plain": [
       "<IPython.core.display.HTML object>"
      ]
     },
     "metadata": {},
     "output_type": "display_data"
    },
    {
     "data": {
      "text/html": [
       " View project at <a href='https://wandb.ai/pgrabinski/Algorytmy%20Ewolucyjne-List%204_List%204' target=\"_blank\">https://wandb.ai/pgrabinski/Algorytmy%20Ewolucyjne-List%204_List%204</a>"
      ],
      "text/plain": [
       "<IPython.core.display.HTML object>"
      ]
     },
     "metadata": {},
     "output_type": "display_data"
    },
    {
     "data": {
      "text/html": [
       " View run at <a href='https://wandb.ai/pgrabinski/Algorytmy%20Ewolucyjne-List%204_List%204/runs/pvroc1j0' target=\"_blank\">https://wandb.ai/pgrabinski/Algorytmy%20Ewolucyjne-List%204_List%204/runs/pvroc1j0</a>"
      ],
      "text/plain": [
       "<IPython.core.display.HTML object>"
      ]
     },
     "metadata": {},
     "output_type": "display_data"
    },
    {
     "data": {
      "text/html": [
       "Waiting for W&B process to finish... <strong style=\"color:green\">(success).</strong>"
      ],
      "text/plain": [
       "<IPython.core.display.HTML object>"
      ]
     },
     "metadata": {},
     "output_type": "display_data"
    },
    {
     "data": {
      "application/vnd.jupyter.widget-view+json": {
       "model_id": "0f1316fcff674e7a9ec290719b1c3b26",
       "version_major": 2,
       "version_minor": 0
      },
      "text/plain": [
       "VBox(children=(Label(value='0.002 MB of 0.005 MB uploaded (0.000 MB deduped)\\r'), FloatProgress(value=0.438946…"
      ]
     },
     "metadata": {},
     "output_type": "display_data"
    },
    {
     "data": {
      "text/html": [
       "<style>\n",
       "    table.wandb td:nth-child(1) { padding: 0 10px; text-align: left ; width: auto;} td:nth-child(2) {text-align: left ; width: 100%}\n",
       "    .wandb-row { display: flex; flex-direction: row; flex-wrap: wrap; justify-content: flex-start; width: 100% }\n",
       "    .wandb-col { display: flex; flex-direction: column; flex-basis: 100%; flex: 1; padding: 10px; }\n",
       "    </style>\n",
       "<div class=\"wandb-row\"><div class=\"wandb-col\"><h3>Run history:</h3><br/><table class=\"wandb\"><tr><td>fitness_max</td><td>▁▁▂▄▇███████████████████████████████████</td></tr><tr><td>fitness_mean</td><td>▁▁▃▄▆▇██████████████████████████████████</td></tr><tr><td>fitness_min</td><td>▁▂▂▃▅▇██████████████████████████████████</td></tr></table><br/></div><div class=\"wandb-col\"><h3>Run summary:</h3><br/><table class=\"wandb\"><tr><td>fitness_max</td><td>101</td></tr><tr><td>fitness_mean</td><td>101.0</td></tr><tr><td>fitness_min</td><td>101</td></tr></table><br/></div></div>"
      ],
      "text/plain": [
       "<IPython.core.display.HTML object>"
      ]
     },
     "metadata": {},
     "output_type": "display_data"
    },
    {
     "data": {
      "text/html": [
       " View run <strong style=\"color:#cdcd00\">dark-night-125</strong> at: <a href='https://wandb.ai/pgrabinski/Algorytmy%20Ewolucyjne-List%204_List%204/runs/pvroc1j0' target=\"_blank\">https://wandb.ai/pgrabinski/Algorytmy%20Ewolucyjne-List%204_List%204/runs/pvroc1j0</a><br/> View job at <a href='https://wandb.ai/pgrabinski/Algorytmy%20Ewolucyjne-List%204_List%204/jobs/QXJ0aWZhY3RDb2xsZWN0aW9uOjEyNjczODU0MQ==/version_details/v5' target=\"_blank\">https://wandb.ai/pgrabinski/Algorytmy%20Ewolucyjne-List%204_List%204/jobs/QXJ0aWZhY3RDb2xsZWN0aW9uOjEyNjczODU0MQ==/version_details/v5</a><br/>Synced 4 W&B file(s), 0 media file(s), 0 artifact file(s) and 0 other file(s)"
      ],
      "text/plain": [
       "<IPython.core.display.HTML object>"
      ]
     },
     "metadata": {},
     "output_type": "display_data"
    },
    {
     "data": {
      "text/html": [
       "Find logs at: <code>./wandb/run-20240102_221257-pvroc1j0/logs</code>"
      ],
      "text/plain": [
       "<IPython.core.display.HTML object>"
      ]
     },
     "metadata": {},
     "output_type": "display_data"
    },
    {
     "data": {
      "application/vnd.jupyter.widget-view+json": {
       "model_id": "ed15500694664779b514f63533cb7532",
       "version_major": 2,
       "version_minor": 0
      },
      "text/plain": [
       "VBox(children=(Label(value='Waiting for wandb.init()...\\r'), FloatProgress(value=0.01111232132219205, max=1.0)…"
      ]
     },
     "metadata": {},
     "output_type": "display_data"
    },
    {
     "data": {
      "text/html": [
       "wandb version 0.16.1 is available!  To upgrade, please run:\n",
       " $ pip install wandb --upgrade"
      ],
      "text/plain": [
       "<IPython.core.display.HTML object>"
      ]
     },
     "metadata": {},
     "output_type": "display_data"
    },
    {
     "data": {
      "text/html": [
       "Tracking run with wandb version 0.15.12"
      ],
      "text/plain": [
       "<IPython.core.display.HTML object>"
      ]
     },
     "metadata": {},
     "output_type": "display_data"
    },
    {
     "data": {
      "text/html": [
       "Run data is saved locally in <code>/workspaces/Algorytmy Ewolucyjne/List 4/wandb/run-20240102_221305-8yiq6soa</code>"
      ],
      "text/plain": [
       "<IPython.core.display.HTML object>"
      ]
     },
     "metadata": {},
     "output_type": "display_data"
    },
    {
     "data": {
      "text/html": [
       "Syncing run <strong><a href='https://wandb.ai/pgrabinski/Algorytmy%20Ewolucyjne-List%204_List%204/runs/8yiq6soa' target=\"_blank\">magic-bush-126</a></strong> to <a href='https://wandb.ai/pgrabinski/Algorytmy%20Ewolucyjne-List%204_List%204' target=\"_blank\">Weights & Biases</a> (<a href='https://wandb.me/run' target=\"_blank\">docs</a>)<br/>"
      ],
      "text/plain": [
       "<IPython.core.display.HTML object>"
      ]
     },
     "metadata": {},
     "output_type": "display_data"
    },
    {
     "data": {
      "text/html": [
       " View project at <a href='https://wandb.ai/pgrabinski/Algorytmy%20Ewolucyjne-List%204_List%204' target=\"_blank\">https://wandb.ai/pgrabinski/Algorytmy%20Ewolucyjne-List%204_List%204</a>"
      ],
      "text/plain": [
       "<IPython.core.display.HTML object>"
      ]
     },
     "metadata": {},
     "output_type": "display_data"
    },
    {
     "data": {
      "text/html": [
       " View run at <a href='https://wandb.ai/pgrabinski/Algorytmy%20Ewolucyjne-List%204_List%204/runs/8yiq6soa' target=\"_blank\">https://wandb.ai/pgrabinski/Algorytmy%20Ewolucyjne-List%204_List%204/runs/8yiq6soa</a>"
      ],
      "text/plain": [
       "<IPython.core.display.HTML object>"
      ]
     },
     "metadata": {},
     "output_type": "display_data"
    },
    {
     "data": {
      "text/html": [
       "Waiting for W&B process to finish... <strong style=\"color:green\">(success).</strong>"
      ],
      "text/plain": [
       "<IPython.core.display.HTML object>"
      ]
     },
     "metadata": {},
     "output_type": "display_data"
    },
    {
     "data": {
      "application/vnd.jupyter.widget-view+json": {
       "model_id": "d4f9a0219b404f18a2c32da4a93f74ae",
       "version_major": 2,
       "version_minor": 0
      },
      "text/plain": [
       "VBox(children=(Label(value='0.002 MB of 0.005 MB uploaded (0.000 MB deduped)\\r'), FloatProgress(value=0.438840…"
      ]
     },
     "metadata": {},
     "output_type": "display_data"
    },
    {
     "data": {
      "text/html": [
       "<style>\n",
       "    table.wandb td:nth-child(1) { padding: 0 10px; text-align: left ; width: auto;} td:nth-child(2) {text-align: left ; width: 100%}\n",
       "    .wandb-row { display: flex; flex-direction: row; flex-wrap: wrap; justify-content: flex-start; width: 100% }\n",
       "    .wandb-col { display: flex; flex-direction: column; flex-basis: 100%; flex: 1; padding: 10px; }\n",
       "    </style>\n",
       "<div class=\"wandb-row\"><div class=\"wandb-col\"><h3>Run history:</h3><br/><table class=\"wandb\"><tr><td>fitness_max</td><td>▁▁▄▅▇███████████████████████████████████</td></tr><tr><td>fitness_mean</td><td>▁▂▃▄▆▇██████████████████████████████████</td></tr><tr><td>fitness_min</td><td>▁▂▃▃▆▇██████████████████████████████████</td></tr></table><br/></div><div class=\"wandb-col\"><h3>Run summary:</h3><br/><table class=\"wandb\"><tr><td>fitness_max</td><td>101</td></tr><tr><td>fitness_mean</td><td>101.0</td></tr><tr><td>fitness_min</td><td>101</td></tr></table><br/></div></div>"
      ],
      "text/plain": [
       "<IPython.core.display.HTML object>"
      ]
     },
     "metadata": {},
     "output_type": "display_data"
    },
    {
     "data": {
      "text/html": [
       " View run <strong style=\"color:#cdcd00\">magic-bush-126</strong> at: <a href='https://wandb.ai/pgrabinski/Algorytmy%20Ewolucyjne-List%204_List%204/runs/8yiq6soa' target=\"_blank\">https://wandb.ai/pgrabinski/Algorytmy%20Ewolucyjne-List%204_List%204/runs/8yiq6soa</a><br/> View job at <a href='https://wandb.ai/pgrabinski/Algorytmy%20Ewolucyjne-List%204_List%204/jobs/QXJ0aWZhY3RDb2xsZWN0aW9uOjEyNjczODU0MQ==/version_details/v5' target=\"_blank\">https://wandb.ai/pgrabinski/Algorytmy%20Ewolucyjne-List%204_List%204/jobs/QXJ0aWZhY3RDb2xsZWN0aW9uOjEyNjczODU0MQ==/version_details/v5</a><br/>Synced 4 W&B file(s), 0 media file(s), 0 artifact file(s) and 0 other file(s)"
      ],
      "text/plain": [
       "<IPython.core.display.HTML object>"
      ]
     },
     "metadata": {},
     "output_type": "display_data"
    },
    {
     "data": {
      "text/html": [
       "Find logs at: <code>./wandb/run-20240102_221305-8yiq6soa/logs</code>"
      ],
      "text/plain": [
       "<IPython.core.display.HTML object>"
      ]
     },
     "metadata": {},
     "output_type": "display_data"
    },
    {
     "data": {
      "application/vnd.jupyter.widget-view+json": {
       "model_id": "f39da7f5c1d24fc1afc97ed298c01a1a",
       "version_major": 2,
       "version_minor": 0
      },
      "text/plain": [
       "VBox(children=(Label(value='Waiting for wandb.init()...\\r'), FloatProgress(value=0.011112523655497676, max=1.0…"
      ]
     },
     "metadata": {},
     "output_type": "display_data"
    },
    {
     "data": {
      "text/html": [
       "wandb version 0.16.1 is available!  To upgrade, please run:\n",
       " $ pip install wandb --upgrade"
      ],
      "text/plain": [
       "<IPython.core.display.HTML object>"
      ]
     },
     "metadata": {},
     "output_type": "display_data"
    },
    {
     "data": {
      "text/html": [
       "Tracking run with wandb version 0.15.12"
      ],
      "text/plain": [
       "<IPython.core.display.HTML object>"
      ]
     },
     "metadata": {},
     "output_type": "display_data"
    },
    {
     "data": {
      "text/html": [
       "Run data is saved locally in <code>/workspaces/Algorytmy Ewolucyjne/List 4/wandb/run-20240102_221312-17p50ggo</code>"
      ],
      "text/plain": [
       "<IPython.core.display.HTML object>"
      ]
     },
     "metadata": {},
     "output_type": "display_data"
    },
    {
     "data": {
      "text/html": [
       "Syncing run <strong><a href='https://wandb.ai/pgrabinski/Algorytmy%20Ewolucyjne-List%204_List%204/runs/17p50ggo' target=\"_blank\">deft-glade-127</a></strong> to <a href='https://wandb.ai/pgrabinski/Algorytmy%20Ewolucyjne-List%204_List%204' target=\"_blank\">Weights & Biases</a> (<a href='https://wandb.me/run' target=\"_blank\">docs</a>)<br/>"
      ],
      "text/plain": [
       "<IPython.core.display.HTML object>"
      ]
     },
     "metadata": {},
     "output_type": "display_data"
    },
    {
     "data": {
      "text/html": [
       " View project at <a href='https://wandb.ai/pgrabinski/Algorytmy%20Ewolucyjne-List%204_List%204' target=\"_blank\">https://wandb.ai/pgrabinski/Algorytmy%20Ewolucyjne-List%204_List%204</a>"
      ],
      "text/plain": [
       "<IPython.core.display.HTML object>"
      ]
     },
     "metadata": {},
     "output_type": "display_data"
    },
    {
     "data": {
      "text/html": [
       " View run at <a href='https://wandb.ai/pgrabinski/Algorytmy%20Ewolucyjne-List%204_List%204/runs/17p50ggo' target=\"_blank\">https://wandb.ai/pgrabinski/Algorytmy%20Ewolucyjne-List%204_List%204/runs/17p50ggo</a>"
      ],
      "text/plain": [
       "<IPython.core.display.HTML object>"
      ]
     },
     "metadata": {},
     "output_type": "display_data"
    },
    {
     "data": {
      "text/html": [
       "Waiting for W&B process to finish... <strong style=\"color:green\">(success).</strong>"
      ],
      "text/plain": [
       "<IPython.core.display.HTML object>"
      ]
     },
     "metadata": {},
     "output_type": "display_data"
    },
    {
     "data": {
      "application/vnd.jupyter.widget-view+json": {
       "model_id": "ae4503408c8c4be8986db1023092e406",
       "version_major": 2,
       "version_minor": 0
      },
      "text/plain": [
       "VBox(children=(Label(value='0.002 MB of 0.005 MB uploaded (0.000 MB deduped)\\r'), FloatProgress(value=0.438735…"
      ]
     },
     "metadata": {},
     "output_type": "display_data"
    },
    {
     "data": {
      "text/html": [
       "<style>\n",
       "    table.wandb td:nth-child(1) { padding: 0 10px; text-align: left ; width: auto;} td:nth-child(2) {text-align: left ; width: 100%}\n",
       "    .wandb-row { display: flex; flex-direction: row; flex-wrap: wrap; justify-content: flex-start; width: 100% }\n",
       "    .wandb-col { display: flex; flex-direction: column; flex-basis: 100%; flex: 1; padding: 10px; }\n",
       "    </style>\n",
       "<div class=\"wandb-row\"><div class=\"wandb-col\"><h3>Run history:</h3><br/><table class=\"wandb\"><tr><td>fitness_max</td><td>▁▂▃▄▇███████████████████████████████████</td></tr><tr><td>fitness_mean</td><td>▁▂▃▃▆▆▇█████████████████████████████████</td></tr><tr><td>fitness_min</td><td>▁▂▂▃▅▆▆▇████████████████████████████████</td></tr></table><br/></div><div class=\"wandb-col\"><h3>Run summary:</h3><br/><table class=\"wandb\"><tr><td>fitness_max</td><td>102</td></tr><tr><td>fitness_mean</td><td>102.0</td></tr><tr><td>fitness_min</td><td>102</td></tr></table><br/></div></div>"
      ],
      "text/plain": [
       "<IPython.core.display.HTML object>"
      ]
     },
     "metadata": {},
     "output_type": "display_data"
    },
    {
     "data": {
      "text/html": [
       " View run <strong style=\"color:#cdcd00\">deft-glade-127</strong> at: <a href='https://wandb.ai/pgrabinski/Algorytmy%20Ewolucyjne-List%204_List%204/runs/17p50ggo' target=\"_blank\">https://wandb.ai/pgrabinski/Algorytmy%20Ewolucyjne-List%204_List%204/runs/17p50ggo</a><br/> View job at <a href='https://wandb.ai/pgrabinski/Algorytmy%20Ewolucyjne-List%204_List%204/jobs/QXJ0aWZhY3RDb2xsZWN0aW9uOjEyNjczODU0MQ==/version_details/v5' target=\"_blank\">https://wandb.ai/pgrabinski/Algorytmy%20Ewolucyjne-List%204_List%204/jobs/QXJ0aWZhY3RDb2xsZWN0aW9uOjEyNjczODU0MQ==/version_details/v5</a><br/>Synced 4 W&B file(s), 0 media file(s), 0 artifact file(s) and 0 other file(s)"
      ],
      "text/plain": [
       "<IPython.core.display.HTML object>"
      ]
     },
     "metadata": {},
     "output_type": "display_data"
    },
    {
     "data": {
      "text/html": [
       "Find logs at: <code>./wandb/run-20240102_221312-17p50ggo/logs</code>"
      ],
      "text/plain": [
       "<IPython.core.display.HTML object>"
      ]
     },
     "metadata": {},
     "output_type": "display_data"
    },
    {
     "data": {
      "application/vnd.jupyter.widget-view+json": {
       "model_id": "b201c9081837431286f3550c40b45bde",
       "version_major": 2,
       "version_minor": 0
      },
      "text/plain": [
       "VBox(children=(Label(value='Waiting for wandb.init()...\\r'), FloatProgress(value=0.011112307166654824, max=1.0…"
      ]
     },
     "metadata": {},
     "output_type": "display_data"
    },
    {
     "data": {
      "text/html": [
       "wandb version 0.16.1 is available!  To upgrade, please run:\n",
       " $ pip install wandb --upgrade"
      ],
      "text/plain": [
       "<IPython.core.display.HTML object>"
      ]
     },
     "metadata": {},
     "output_type": "display_data"
    },
    {
     "data": {
      "text/html": [
       "Tracking run with wandb version 0.15.12"
      ],
      "text/plain": [
       "<IPython.core.display.HTML object>"
      ]
     },
     "metadata": {},
     "output_type": "display_data"
    },
    {
     "data": {
      "text/html": [
       "Run data is saved locally in <code>/workspaces/Algorytmy Ewolucyjne/List 4/wandb/run-20240102_221320-rqpkirin</code>"
      ],
      "text/plain": [
       "<IPython.core.display.HTML object>"
      ]
     },
     "metadata": {},
     "output_type": "display_data"
    },
    {
     "data": {
      "text/html": [
       "Syncing run <strong><a href='https://wandb.ai/pgrabinski/Algorytmy%20Ewolucyjne-List%204_List%204/runs/rqpkirin' target=\"_blank\">peach-salad-128</a></strong> to <a href='https://wandb.ai/pgrabinski/Algorytmy%20Ewolucyjne-List%204_List%204' target=\"_blank\">Weights & Biases</a> (<a href='https://wandb.me/run' target=\"_blank\">docs</a>)<br/>"
      ],
      "text/plain": [
       "<IPython.core.display.HTML object>"
      ]
     },
     "metadata": {},
     "output_type": "display_data"
    },
    {
     "data": {
      "text/html": [
       " View project at <a href='https://wandb.ai/pgrabinski/Algorytmy%20Ewolucyjne-List%204_List%204' target=\"_blank\">https://wandb.ai/pgrabinski/Algorytmy%20Ewolucyjne-List%204_List%204</a>"
      ],
      "text/plain": [
       "<IPython.core.display.HTML object>"
      ]
     },
     "metadata": {},
     "output_type": "display_data"
    },
    {
     "data": {
      "text/html": [
       " View run at <a href='https://wandb.ai/pgrabinski/Algorytmy%20Ewolucyjne-List%204_List%204/runs/rqpkirin' target=\"_blank\">https://wandb.ai/pgrabinski/Algorytmy%20Ewolucyjne-List%204_List%204/runs/rqpkirin</a>"
      ],
      "text/plain": [
       "<IPython.core.display.HTML object>"
      ]
     },
     "metadata": {},
     "output_type": "display_data"
    },
    {
     "data": {
      "text/html": [
       "Waiting for W&B process to finish... <strong style=\"color:green\">(success).</strong>"
      ],
      "text/plain": [
       "<IPython.core.display.HTML object>"
      ]
     },
     "metadata": {},
     "output_type": "display_data"
    },
    {
     "data": {
      "application/vnd.jupyter.widget-view+json": {
       "model_id": "f26056ab09c04ec7a36b15ae48119cb0",
       "version_major": 2,
       "version_minor": 0
      },
      "text/plain": [
       "VBox(children=(Label(value='0.002 MB of 0.005 MB uploaded (0.000 MB deduped)\\r'), FloatProgress(value=0.438840…"
      ]
     },
     "metadata": {},
     "output_type": "display_data"
    },
    {
     "data": {
      "text/html": [
       "<style>\n",
       "    table.wandb td:nth-child(1) { padding: 0 10px; text-align: left ; width: auto;} td:nth-child(2) {text-align: left ; width: 100%}\n",
       "    .wandb-row { display: flex; flex-direction: row; flex-wrap: wrap; justify-content: flex-start; width: 100% }\n",
       "    .wandb-col { display: flex; flex-direction: column; flex-basis: 100%; flex: 1; padding: 10px; }\n",
       "    </style>\n",
       "<div class=\"wandb-row\"><div class=\"wandb-col\"><h3>Run history:</h3><br/><table class=\"wandb\"><tr><td>fitness_max</td><td>▁▁▃▄▇███████████████████████████████████</td></tr><tr><td>fitness_mean</td><td>▁▂▃▄▆▇██████████████████████████████████</td></tr><tr><td>fitness_min</td><td>▁▂▃▄▆▇▇█████████████████████████████████</td></tr></table><br/></div><div class=\"wandb-col\"><h3>Run summary:</h3><br/><table class=\"wandb\"><tr><td>fitness_max</td><td>100</td></tr><tr><td>fitness_mean</td><td>100.0</td></tr><tr><td>fitness_min</td><td>100</td></tr></table><br/></div></div>"
      ],
      "text/plain": [
       "<IPython.core.display.HTML object>"
      ]
     },
     "metadata": {},
     "output_type": "display_data"
    },
    {
     "data": {
      "text/html": [
       " View run <strong style=\"color:#cdcd00\">peach-salad-128</strong> at: <a href='https://wandb.ai/pgrabinski/Algorytmy%20Ewolucyjne-List%204_List%204/runs/rqpkirin' target=\"_blank\">https://wandb.ai/pgrabinski/Algorytmy%20Ewolucyjne-List%204_List%204/runs/rqpkirin</a><br/> View job at <a href='https://wandb.ai/pgrabinski/Algorytmy%20Ewolucyjne-List%204_List%204/jobs/QXJ0aWZhY3RDb2xsZWN0aW9uOjEyNjczODU0MQ==/version_details/v5' target=\"_blank\">https://wandb.ai/pgrabinski/Algorytmy%20Ewolucyjne-List%204_List%204/jobs/QXJ0aWZhY3RDb2xsZWN0aW9uOjEyNjczODU0MQ==/version_details/v5</a><br/>Synced 4 W&B file(s), 0 media file(s), 0 artifact file(s) and 0 other file(s)"
      ],
      "text/plain": [
       "<IPython.core.display.HTML object>"
      ]
     },
     "metadata": {},
     "output_type": "display_data"
    },
    {
     "data": {
      "text/html": [
       "Find logs at: <code>./wandb/run-20240102_221320-rqpkirin/logs</code>"
      ],
      "text/plain": [
       "<IPython.core.display.HTML object>"
      ]
     },
     "metadata": {},
     "output_type": "display_data"
    },
    {
     "data": {
      "application/vnd.jupyter.widget-view+json": {
       "model_id": "9f46819a71034e8e89951d4a93675d98",
       "version_major": 2,
       "version_minor": 0
      },
      "text/plain": [
       "VBox(children=(Label(value='Waiting for wandb.init()...\\r'), FloatProgress(value=0.011113151377826903, max=1.0…"
      ]
     },
     "metadata": {},
     "output_type": "display_data"
    },
    {
     "data": {
      "text/html": [
       "wandb version 0.16.1 is available!  To upgrade, please run:\n",
       " $ pip install wandb --upgrade"
      ],
      "text/plain": [
       "<IPython.core.display.HTML object>"
      ]
     },
     "metadata": {},
     "output_type": "display_data"
    },
    {
     "data": {
      "text/html": [
       "Tracking run with wandb version 0.15.12"
      ],
      "text/plain": [
       "<IPython.core.display.HTML object>"
      ]
     },
     "metadata": {},
     "output_type": "display_data"
    },
    {
     "data": {
      "text/html": [
       "Run data is saved locally in <code>/workspaces/Algorytmy Ewolucyjne/List 4/wandb/run-20240102_221327-rd1v839c</code>"
      ],
      "text/plain": [
       "<IPython.core.display.HTML object>"
      ]
     },
     "metadata": {},
     "output_type": "display_data"
    },
    {
     "data": {
      "text/html": [
       "Syncing run <strong><a href='https://wandb.ai/pgrabinski/Algorytmy%20Ewolucyjne-List%204_List%204/runs/rd1v839c' target=\"_blank\">desert-water-129</a></strong> to <a href='https://wandb.ai/pgrabinski/Algorytmy%20Ewolucyjne-List%204_List%204' target=\"_blank\">Weights & Biases</a> (<a href='https://wandb.me/run' target=\"_blank\">docs</a>)<br/>"
      ],
      "text/plain": [
       "<IPython.core.display.HTML object>"
      ]
     },
     "metadata": {},
     "output_type": "display_data"
    },
    {
     "data": {
      "text/html": [
       " View project at <a href='https://wandb.ai/pgrabinski/Algorytmy%20Ewolucyjne-List%204_List%204' target=\"_blank\">https://wandb.ai/pgrabinski/Algorytmy%20Ewolucyjne-List%204_List%204</a>"
      ],
      "text/plain": [
       "<IPython.core.display.HTML object>"
      ]
     },
     "metadata": {},
     "output_type": "display_data"
    },
    {
     "data": {
      "text/html": [
       " View run at <a href='https://wandb.ai/pgrabinski/Algorytmy%20Ewolucyjne-List%204_List%204/runs/rd1v839c' target=\"_blank\">https://wandb.ai/pgrabinski/Algorytmy%20Ewolucyjne-List%204_List%204/runs/rd1v839c</a>"
      ],
      "text/plain": [
       "<IPython.core.display.HTML object>"
      ]
     },
     "metadata": {},
     "output_type": "display_data"
    },
    {
     "data": {
      "text/html": [
       "Waiting for W&B process to finish... <strong style=\"color:green\">(success).</strong>"
      ],
      "text/plain": [
       "<IPython.core.display.HTML object>"
      ]
     },
     "metadata": {},
     "output_type": "display_data"
    },
    {
     "data": {
      "application/vnd.jupyter.widget-view+json": {
       "model_id": "939ed0cf9ec14857953f5bf0e3038c88",
       "version_major": 2,
       "version_minor": 0
      },
      "text/plain": [
       "VBox(children=(Label(value='0.002 MB of 0.005 MB uploaded (0.000 MB deduped)\\r'), FloatProgress(value=0.438946…"
      ]
     },
     "metadata": {},
     "output_type": "display_data"
    },
    {
     "data": {
      "text/html": [
       "<style>\n",
       "    table.wandb td:nth-child(1) { padding: 0 10px; text-align: left ; width: auto;} td:nth-child(2) {text-align: left ; width: 100%}\n",
       "    .wandb-row { display: flex; flex-direction: row; flex-wrap: wrap; justify-content: flex-start; width: 100% }\n",
       "    .wandb-col { display: flex; flex-direction: column; flex-basis: 100%; flex: 1; padding: 10px; }\n",
       "    </style>\n",
       "<div class=\"wandb-row\"><div class=\"wandb-col\"><h3>Run history:</h3><br/><table class=\"wandb\"><tr><td>fitness_max</td><td>▁▂▃▅▇███████████████████████████████████</td></tr><tr><td>fitness_mean</td><td>▁▂▃▄▆▇██████████████████████████████████</td></tr><tr><td>fitness_min</td><td>▁▁▂▃▅▆▇█████████████████████████████████</td></tr></table><br/></div><div class=\"wandb-col\"><h3>Run summary:</h3><br/><table class=\"wandb\"><tr><td>fitness_max</td><td>100</td></tr><tr><td>fitness_mean</td><td>100.0</td></tr><tr><td>fitness_min</td><td>100</td></tr></table><br/></div></div>"
      ],
      "text/plain": [
       "<IPython.core.display.HTML object>"
      ]
     },
     "metadata": {},
     "output_type": "display_data"
    },
    {
     "data": {
      "text/html": [
       " View run <strong style=\"color:#cdcd00\">desert-water-129</strong> at: <a href='https://wandb.ai/pgrabinski/Algorytmy%20Ewolucyjne-List%204_List%204/runs/rd1v839c' target=\"_blank\">https://wandb.ai/pgrabinski/Algorytmy%20Ewolucyjne-List%204_List%204/runs/rd1v839c</a><br/> View job at <a href='https://wandb.ai/pgrabinski/Algorytmy%20Ewolucyjne-List%204_List%204/jobs/QXJ0aWZhY3RDb2xsZWN0aW9uOjEyNjczODU0MQ==/version_details/v5' target=\"_blank\">https://wandb.ai/pgrabinski/Algorytmy%20Ewolucyjne-List%204_List%204/jobs/QXJ0aWZhY3RDb2xsZWN0aW9uOjEyNjczODU0MQ==/version_details/v5</a><br/>Synced 4 W&B file(s), 0 media file(s), 0 artifact file(s) and 0 other file(s)"
      ],
      "text/plain": [
       "<IPython.core.display.HTML object>"
      ]
     },
     "metadata": {},
     "output_type": "display_data"
    },
    {
     "data": {
      "text/html": [
       "Find logs at: <code>./wandb/run-20240102_221327-rd1v839c/logs</code>"
      ],
      "text/plain": [
       "<IPython.core.display.HTML object>"
      ]
     },
     "metadata": {},
     "output_type": "display_data"
    },
    {
     "data": {
      "application/vnd.jupyter.widget-view+json": {
       "model_id": "c2faad0dacb14233a0972bdcf8c3081c",
       "version_major": 2,
       "version_minor": 0
      },
      "text/plain": [
       "VBox(children=(Label(value='Waiting for wandb.init()...\\r'), FloatProgress(value=0.01111239430004692, max=1.0)…"
      ]
     },
     "metadata": {},
     "output_type": "display_data"
    },
    {
     "data": {
      "text/html": [
       "wandb version 0.16.1 is available!  To upgrade, please run:\n",
       " $ pip install wandb --upgrade"
      ],
      "text/plain": [
       "<IPython.core.display.HTML object>"
      ]
     },
     "metadata": {},
     "output_type": "display_data"
    },
    {
     "data": {
      "text/html": [
       "Tracking run with wandb version 0.15.12"
      ],
      "text/plain": [
       "<IPython.core.display.HTML object>"
      ]
     },
     "metadata": {},
     "output_type": "display_data"
    },
    {
     "data": {
      "text/html": [
       "Run data is saved locally in <code>/workspaces/Algorytmy Ewolucyjne/List 4/wandb/run-20240102_221335-e261bls9</code>"
      ],
      "text/plain": [
       "<IPython.core.display.HTML object>"
      ]
     },
     "metadata": {},
     "output_type": "display_data"
    },
    {
     "data": {
      "text/html": [
       "Syncing run <strong><a href='https://wandb.ai/pgrabinski/Algorytmy%20Ewolucyjne-List%204_List%204/runs/e261bls9' target=\"_blank\">volcanic-hill-130</a></strong> to <a href='https://wandb.ai/pgrabinski/Algorytmy%20Ewolucyjne-List%204_List%204' target=\"_blank\">Weights & Biases</a> (<a href='https://wandb.me/run' target=\"_blank\">docs</a>)<br/>"
      ],
      "text/plain": [
       "<IPython.core.display.HTML object>"
      ]
     },
     "metadata": {},
     "output_type": "display_data"
    },
    {
     "data": {
      "text/html": [
       " View project at <a href='https://wandb.ai/pgrabinski/Algorytmy%20Ewolucyjne-List%204_List%204' target=\"_blank\">https://wandb.ai/pgrabinski/Algorytmy%20Ewolucyjne-List%204_List%204</a>"
      ],
      "text/plain": [
       "<IPython.core.display.HTML object>"
      ]
     },
     "metadata": {},
     "output_type": "display_data"
    },
    {
     "data": {
      "text/html": [
       " View run at <a href='https://wandb.ai/pgrabinski/Algorytmy%20Ewolucyjne-List%204_List%204/runs/e261bls9' target=\"_blank\">https://wandb.ai/pgrabinski/Algorytmy%20Ewolucyjne-List%204_List%204/runs/e261bls9</a>"
      ],
      "text/plain": [
       "<IPython.core.display.HTML object>"
      ]
     },
     "metadata": {},
     "output_type": "display_data"
    },
    {
     "data": {
      "text/html": [
       "Waiting for W&B process to finish... <strong style=\"color:green\">(success).</strong>"
      ],
      "text/plain": [
       "<IPython.core.display.HTML object>"
      ]
     },
     "metadata": {},
     "output_type": "display_data"
    },
    {
     "data": {
      "application/vnd.jupyter.widget-view+json": {
       "model_id": "552512abcdec44dc86f53ad643390b7c",
       "version_major": 2,
       "version_minor": 0
      },
      "text/plain": [
       "VBox(children=(Label(value='0.002 MB of 0.005 MB uploaded (0.000 MB deduped)\\r'), FloatProgress(value=0.438946…"
      ]
     },
     "metadata": {},
     "output_type": "display_data"
    },
    {
     "data": {
      "text/html": [
       "<style>\n",
       "    table.wandb td:nth-child(1) { padding: 0 10px; text-align: left ; width: auto;} td:nth-child(2) {text-align: left ; width: 100%}\n",
       "    .wandb-row { display: flex; flex-direction: row; flex-wrap: wrap; justify-content: flex-start; width: 100% }\n",
       "    .wandb-col { display: flex; flex-direction: column; flex-basis: 100%; flex: 1; padding: 10px; }\n",
       "    </style>\n",
       "<div class=\"wandb-row\"><div class=\"wandb-col\"><h3>Run history:</h3><br/><table class=\"wandb\"><tr><td>fitness_max</td><td>▁▁▂▄▇███████████████████████████████████</td></tr><tr><td>fitness_mean</td><td>▁▁▂▃▆▇██████████████████████████████████</td></tr><tr><td>fitness_min</td><td>▁▂▂▃▅▆▇█████████████████████████████████</td></tr></table><br/></div><div class=\"wandb-col\"><h3>Run summary:</h3><br/><table class=\"wandb\"><tr><td>fitness_max</td><td>100</td></tr><tr><td>fitness_mean</td><td>100.0</td></tr><tr><td>fitness_min</td><td>100</td></tr></table><br/></div></div>"
      ],
      "text/plain": [
       "<IPython.core.display.HTML object>"
      ]
     },
     "metadata": {},
     "output_type": "display_data"
    },
    {
     "data": {
      "text/html": [
       " View run <strong style=\"color:#cdcd00\">volcanic-hill-130</strong> at: <a href='https://wandb.ai/pgrabinski/Algorytmy%20Ewolucyjne-List%204_List%204/runs/e261bls9' target=\"_blank\">https://wandb.ai/pgrabinski/Algorytmy%20Ewolucyjne-List%204_List%204/runs/e261bls9</a><br/> View job at <a href='https://wandb.ai/pgrabinski/Algorytmy%20Ewolucyjne-List%204_List%204/jobs/QXJ0aWZhY3RDb2xsZWN0aW9uOjEyNjczODU0MQ==/version_details/v5' target=\"_blank\">https://wandb.ai/pgrabinski/Algorytmy%20Ewolucyjne-List%204_List%204/jobs/QXJ0aWZhY3RDb2xsZWN0aW9uOjEyNjczODU0MQ==/version_details/v5</a><br/>Synced 4 W&B file(s), 0 media file(s), 0 artifact file(s) and 0 other file(s)"
      ],
      "text/plain": [
       "<IPython.core.display.HTML object>"
      ]
     },
     "metadata": {},
     "output_type": "display_data"
    },
    {
     "data": {
      "text/html": [
       "Find logs at: <code>./wandb/run-20240102_221335-e261bls9/logs</code>"
      ],
      "text/plain": [
       "<IPython.core.display.HTML object>"
      ]
     },
     "metadata": {},
     "output_type": "display_data"
    }
   ],
   "source": [
    "for i in tqdm(range(20)):\n",
    "    config = {\n",
    "        'optimizer': UMDA,\n",
    "        'fitness_function': KDeceptiveOneMax(5),\n",
    "        'fitness_function_name': str(KDeceptiveOneMax(5)),\n",
    "        'population_size': 1000,\n",
    "        'problem_dimension': 100,\n",
    "        'top_k': i+1,\n",
    "        'max_iter': 50\n",
    "    }\n",
    "    run_experiment(config)"
   ]
  },
  {
   "cell_type": "code",
   "execution_count": 7,
   "id": "25805448-508a-4502-a616-1d16341ab843",
   "metadata": {},
   "outputs": [],
   "source": [
    "# pool = multiprocessing.Pool()\n",
    "# results = pool.map(run_experiment, configs)"
   ]
  }
 ],
 "metadata": {
  "kernelspec": {
   "display_name": "Python 3 (ipykernel)",
   "language": "python",
   "name": "python3"
  },
  "language_info": {
   "codemirror_mode": {
    "name": "ipython",
    "version": 3
   },
   "file_extension": ".py",
   "mimetype": "text/x-python",
   "name": "python",
   "nbconvert_exporter": "python",
   "pygments_lexer": "ipython3",
   "version": "3.11.6"
  }
 },
 "nbformat": 4,
 "nbformat_minor": 5
}
