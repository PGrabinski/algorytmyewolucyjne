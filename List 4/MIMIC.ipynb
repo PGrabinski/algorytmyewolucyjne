{
 "cells": [
  {
   "cell_type": "code",
   "execution_count": 1,
   "id": "9ea50648-042a-4117-99d2-4b662b74d18a",
   "metadata": {},
   "outputs": [],
   "source": [
    "%load_ext autoreload\n",
    "%autoreload 2"
   ]
  },
  {
   "cell_type": "code",
   "execution_count": 2,
   "id": "8ca75dcb-feb0-4ae4-b09d-ef156da341ea",
   "metadata": {},
   "outputs": [],
   "source": [
    "import numpy as np\n",
    "import wandb\n",
    "from tqdm.notebook import tqdm\n",
    "import datetime\n",
    "\n",
    "from benchmarks import OneMax, DeceptiveOneMax, KDeceptiveOneMax\n",
    "from MIMIC import MIMIC"
   ]
  },
  {
   "cell_type": "code",
   "execution_count": 3,
   "id": "30952c2b-34a6-493a-81a6-4240a8c7572f",
   "metadata": {},
   "outputs": [],
   "source": [
    "def run_experiment(config):\n",
    "    run = wandb.init(config=config)\n",
    "    with run:\n",
    "        optimizer = config['optimizer'](**config, wandb_run=run)\n",
    "        optimizer.evolve()\n",
    "    return datetime.datetime.now()"
   ]
  },
  {
   "cell_type": "code",
   "execution_count": 9,
   "id": "fa7d5846-d97e-4399-b96b-43f370b4b7d5",
   "metadata": {},
   "outputs": [],
   "source": [
    "configs = [\n",
    "    # {\n",
    "    #     'optimizer': MIMIC,\n",
    "    #     'fitness_function': OneMax(),\n",
    "    #     'fitness_function_name': str(OneMax()),\n",
    "    #     'initial_population_size': 10000,\n",
    "    #     'descendant_population_size': 1000,\n",
    "    #     'problem_dimension': 100,\n",
    "    #     'percentile': 0.75,\n",
    "    #     'max_iter': 50 \n",
    "    # },\n",
    "    # {\n",
    "    #     'optimizer': MIMIC,\n",
    "    #     'fitness_function': KDeceptiveOneMax(5),\n",
    "    #     'fitness_function_name': str(KDeceptiveOneMax(5)),\n",
    "    #     'initial_population_size': 10000,\n",
    "    #     'descendant_population_size': 1000,\n",
    "    #     'problem_dimension': 100,\n",
    "    #     'percentile': 0.75,\n",
    "    #     'max_iter': 50 \n",
    "    # },\n",
    "    # {\n",
    "    #     'optimizer': MIMIC,\n",
    "    #     'fitness_function': KDeceptiveOneMax(10),\n",
    "    #     'fitness_function_name': str(KDeceptiveOneMax(10)),\n",
    "    #     'initial_population_size': 10000,\n",
    "    #     'descendant_population_size': 1000,\n",
    "    #     'problem_dimension': 100,\n",
    "    #     'percentile': 0.75,\n",
    "    #     'max_iter': 50 \n",
    "    # },\n",
    "    # {\n",
    "    #     'optimizer': MIMIC,\n",
    "    #     'fitness_function': KDeceptiveOneMax(20),\n",
    "    #     'fitness_function_name': str(KDeceptiveOneMax(20)),\n",
    "    #     'initial_population_size': 10000,\n",
    "    #     'descendant_population_size': 1000,\n",
    "    #     'problem_dimension': 100,\n",
    "    #     'percentile': 0.75,\n",
    "    #     'max_iter': 50 \n",
    "    # },\n",
    "    # {\n",
    "    #     'optimizer': MIMIC,\n",
    "    #     'fitness_function': KDeceptiveOneMax(2),\n",
    "    #     'fitness_function_name': str(KDeceptiveOneMax(2)),\n",
    "    #     'initial_population_size': 10000,\n",
    "    #     'descendant_population_size': 10000,\n",
    "    #     'problem_dimension': 100,\n",
    "    #     'percentile': 0.5,\n",
    "    #     'max_iter': 100,\n",
    "    #     'premature_success': True\n",
    "    # },\n",
    "    # {\n",
    "    #     'optimizer': MIMIC,\n",
    "    #     'fitness_function': KDeceptiveOneMax(3),\n",
    "    #     'fitness_function_name': str(KDeceptiveOneMax(3)),\n",
    "    #     'initial_population_size': 10000,\n",
    "    #     'descendant_population_size': 10000,\n",
    "    #     'problem_dimension': 100,\n",
    "    #     'percentile': 0.2,\n",
    "    #     'max_iter': 100,\n",
    "    #     'premature_success': True\n",
    "    # },\n",
    "    # {\n",
    "    #     'optimizer': MIMIC,\n",
    "    #     'fitness_function': KDeceptiveOneMax(4),\n",
    "    #     'fitness_function_name': str(KDeceptiveOneMax(4)),\n",
    "    #     'initial_population_size': 10000,\n",
    "    #     'descendant_population_size': 10000,\n",
    "    #     'problem_dimension': 100,\n",
    "    #     'percentile': 0.6,\n",
    "    #     'max_iter': 100,\n",
    "    #     'premature_success': True\n",
    "    # },\n",
    "    # {\n",
    "    #     'optimizer': MIMIC,\n",
    "    #     'fitness_function': KDeceptiveOneMax(4),\n",
    "    #     'fitness_function_name': str(KDeceptiveOneMax(4)),\n",
    "    #     'initial_population_size': 10000,\n",
    "    #     'descendant_population_size': 10000,\n",
    "    #     'problem_dimension': 100,\n",
    "    #     'percentile': 0.5,\n",
    "    #     'max_iter': 100,\n",
    "    #     'premature_success': True\n",
    "    # },\n",
    "    {\n",
    "        'optimizer': MIMIC,\n",
    "        'fitness_function': KDeceptiveOneMax(4),\n",
    "        'fitness_function_name': str(KDeceptiveOneMax(4)),\n",
    "        'initial_population_size': 10000,\n",
    "        'descendant_population_size': 5000,\n",
    "        'problem_dimension': 100,\n",
    "        'percentile': 0.67,\n",
    "        'max_iter': 200,\n",
    "        'premature_success': True\n",
    "    }\n",
    "]"
   ]
  },
  {
   "cell_type": "code",
   "execution_count": 5,
   "id": "fd4856ad-6022-48bd-8586-9253844bad79",
   "metadata": {},
   "outputs": [],
   "source": [
    "# for config in configs:\n",
    "#     run_experiment(config)"
   ]
  },
  {
   "cell_type": "code",
   "execution_count": 10,
   "id": "09a8f65e-c851-439d-b49b-0f4a3eac0c28",
   "metadata": {},
   "outputs": [
    {
     "data": {
      "application/vnd.jupyter.widget-view+json": {
       "model_id": "6853332a14a04a3fbfd89597003c5c8c",
       "version_major": 2,
       "version_minor": 0
      },
      "text/plain": [
       "  0%|          | 0/5 [00:00<?, ?it/s]"
      ]
     },
     "metadata": {},
     "output_type": "display_data"
    },
    {
     "data": {
      "text/html": [
       "wandb version 0.16.1 is available!  To upgrade, please run:\n",
       " $ pip install wandb --upgrade"
      ],
      "text/plain": [
       "<IPython.core.display.HTML object>"
      ]
     },
     "metadata": {},
     "output_type": "display_data"
    },
    {
     "data": {
      "text/html": [
       "Tracking run with wandb version 0.15.12"
      ],
      "text/plain": [
       "<IPython.core.display.HTML object>"
      ]
     },
     "metadata": {},
     "output_type": "display_data"
    },
    {
     "data": {
      "text/html": [
       "Run data is saved locally in <code>/workspaces/Algorytmy Ewolucyjne/List 4/wandb/run-20240108_212708-kio7k6gh</code>"
      ],
      "text/plain": [
       "<IPython.core.display.HTML object>"
      ]
     },
     "metadata": {},
     "output_type": "display_data"
    },
    {
     "data": {
      "text/html": [
       "Syncing run <strong><a href='https://wandb.ai/pgrabinski/Algorytmy%20Ewolucyjne-List%204_List%204/runs/kio7k6gh' target=\"_blank\">vivid-pyramid-230</a></strong> to <a href='https://wandb.ai/pgrabinski/Algorytmy%20Ewolucyjne-List%204_List%204' target=\"_blank\">Weights & Biases</a> (<a href='https://wandb.me/run' target=\"_blank\">docs</a>)<br/>"
      ],
      "text/plain": [
       "<IPython.core.display.HTML object>"
      ]
     },
     "metadata": {},
     "output_type": "display_data"
    },
    {
     "data": {
      "text/html": [
       " View project at <a href='https://wandb.ai/pgrabinski/Algorytmy%20Ewolucyjne-List%204_List%204' target=\"_blank\">https://wandb.ai/pgrabinski/Algorytmy%20Ewolucyjne-List%204_List%204</a>"
      ],
      "text/plain": [
       "<IPython.core.display.HTML object>"
      ]
     },
     "metadata": {},
     "output_type": "display_data"
    },
    {
     "data": {
      "text/html": [
       " View run at <a href='https://wandb.ai/pgrabinski/Algorytmy%20Ewolucyjne-List%204_List%204/runs/kio7k6gh' target=\"_blank\">https://wandb.ai/pgrabinski/Algorytmy%20Ewolucyjne-List%204_List%204/runs/kio7k6gh</a>"
      ],
      "text/plain": [
       "<IPython.core.display.HTML object>"
      ]
     },
     "metadata": {},
     "output_type": "display_data"
    },
    {
     "name": "stdout",
     "output_type": "stream",
     "text": [
      "fitness_max: 80, fitness_mean: 57.8078, fitness_min: 37 theta: 55, population_size: 10724\n",
      "fitness_max: 80, fitness_mean: 59.68970999745612, fitness_min: 41 theta: 57, population_size: 11826\n",
      "fitness_max: 80, fitness_mean: 60.601331273029835, fitness_min: 42 theta: 59, population_size: 11381\n",
      "fitness_max: 80, fitness_mean: 61.562419876686405, fitness_min: 40 theta: 60, population_size: 11830\n",
      "fitness_max: 80, fitness_mean: 62.13048128342246, fitness_min: 43 theta: 61, population_size: 11698\n",
      "fitness_max: 80, fitness_mean: 62.68181818181818, fitness_min: 41 theta: 61, population_size: 13624\n",
      "fitness_max: 80, fitness_mean: 62.83322594501718, fitness_min: 41 theta: 62, population_size: 12639\n",
      "fitness_max: 82, fitness_mean: 63.41000056692556, fitness_min: 40 theta: 62, population_size: 14364\n",
      "fitness_max: 82, fitness_mean: 63.57322867176203, fitness_min: 43 theta: 62, population_size: 16101\n",
      "fitness_max: 82, fitness_mean: 63.785460404720155, fitness_min: 42 theta: 63, population_size: 14358\n",
      "fitness_max: 82, fitness_mean: 64.28649653889865, fitness_min: 43 theta: 63, population_size: 15895\n",
      "fitness_max: 82, fitness_mean: 64.44455611390285, fitness_min: 43 theta: 63, population_size: 17463\n",
      "fitness_max: 82, fitness_mean: 64.58669812580688, fitness_min: 44 theta: 63, population_size: 19099\n",
      "fitness_max: 82, fitness_mean: 64.68268392879372, fitness_min: 44 theta: 64, population_size: 16300\n",
      "fitness_max: 82, fitness_mean: 65.2181220657277, fitness_min: 44 theta: 64, population_size: 17703\n",
      "fitness_max: 82, fitness_mean: 65.327181429767, fitness_min: 43 theta: 64, population_size: 19145\n",
      "fitness_max: 82, fitness_mean: 65.47641333609442, fitness_min: 41 theta: 64, population_size: 20691\n",
      "fitness_max: 82, fitness_mean: 65.57549336343466, fitness_min: 44 theta: 64, population_size: 22247\n",
      "fitness_max: 82, fitness_mean: 65.6613572136382, fitness_min: 44 theta: 65, population_size: 18421\n",
      "fitness_max: 83, fitness_mean: 66.20127236240981, fitness_min: 44 theta: 65, population_size: 19723\n",
      "fitness_max: 83, fitness_mean: 66.31654734457793, fitness_min: 44 theta: 65, population_size: 21102\n",
      "fitness_max: 83, fitness_mean: 66.40667381809823, fitness_min: 44 theta: 65, population_size: 22514\n",
      "fitness_max: 83, fitness_mean: 66.51141237188341, fitness_min: 46 theta: 65, population_size: 23986\n",
      "fitness_max: 83, fitness_mean: 66.61153660387774, fitness_min: 46 theta: 66, population_size: 19559\n",
      "fitness_max: 84, fitness_mean: 67.1195895598355, fitness_min: 44 theta: 66, population_size: 20774\n",
      "fitness_max: 84, fitness_mean: 67.24392798944673, fitness_min: 45 theta: 66, population_size: 22104\n",
      "fitness_max: 84, fitness_mean: 67.34946871310508, fitness_min: 47 theta: 66, population_size: 23473\n",
      "fitness_max: 84, fitness_mean: 67.42106557089173, fitness_min: 45 theta: 66, population_size: 24907\n",
      "fitness_max: 84, fitness_mean: 67.5120205971846, fitness_min: 46 theta: 66, population_size: 26397\n",
      "fitness_max: 84, fitness_mean: 67.60228684269198, fitness_min: 44 theta: 67, population_size: 21084\n",
      "fitness_max: 84, fitness_mean: 68.15538261002914, fitness_min: 46 theta: 67, population_size: 22427\n",
      "fitness_max: 84, fitness_mean: 68.23805009662011, fitness_min: 44 theta: 67, population_size: 23786\n",
      "fitness_max: 85, fitness_mean: 68.3360314041548, fitness_min: 48 theta: 67, population_size: 25215\n",
      "fitness_max: 85, fitness_mean: 68.43170610623862, fitness_min: 47 theta: 67, population_size: 26729\n",
      "fitness_max: 85, fitness_mean: 68.5160578650446, fitness_min: 46 theta: 67, population_size: 28251\n",
      "fitness_max: 85, fitness_mean: 68.57595260292923, fitness_min: 47 theta: 67, population_size: 29826\n",
      "fitness_max: 85, fitness_mean: 68.65031872738759, fitness_min: 49 theta: 68, population_size: 23488\n",
      "fitness_max: 85, fitness_mean: 69.26172423476551, fitness_min: 47 theta: 68, population_size: 24937\n",
      "fitness_max: 85, fitness_mean: 69.34729598824198, fitness_min: 48 theta: 68, population_size: 26443\n",
      "fitness_max: 85, fitness_mean: 69.42107941354196, fitness_min: 45 theta: 68, population_size: 27974\n",
      "fitness_max: 85, fitness_mean: 69.50833990416692, fitness_min: 46 theta: 68, population_size: 29593\n",
      "fitness_max: 85, fitness_mean: 69.57922122972856, fitness_min: 44 theta: 68, population_size: 31218\n",
      "fitness_max: 85, fitness_mean: 69.6612457893865, fitness_min: 47 theta: 69, population_size: 24305\n",
      "fitness_max: 85, fitness_mean: 70.30762668486607, fitness_min: 48 theta: 69, population_size: 25851\n",
      "fitness_max: 85, fitness_mean: 70.40763670545525, fitness_min: 49 theta: 69, population_size: 27467\n",
      "fitness_max: 85, fitness_mean: 70.49696615024486, fitness_min: 49 theta: 69, population_size: 29135\n",
      "fitness_max: 85, fitness_mean: 70.59285191152776, fitness_min: 44 theta: 69, population_size: 30931\n",
      "fitness_max: 87, fitness_mean: 70.6628259720019, fitness_min: 49 theta: 70, population_size: 24187\n",
      "fitness_max: 87, fitness_mean: 71.32932469935245, fitness_min: 48 theta: 70, population_size: 25828\n",
      "fitness_max: 87, fitness_mean: 71.4369080057091, fitness_min: 52 theta: 70, population_size: 27643\n",
      "fitness_max: 87, fitness_mean: 71.51995833716263, fitness_min: 52 theta: 70, population_size: 29485\n",
      "fitness_max: 87, fitness_mean: 71.62325648832825, fitness_min: 53 theta: 70, population_size: 31427\n",
      "fitness_max: 87, fitness_mean: 71.72995305679852, fitness_min: 52 theta: 71, population_size: 24615\n",
      "fitness_max: 89, fitness_mean: 72.43981090663515, fitness_min: 53 theta: 71, population_size: 26574\n",
      "fitness_max: 89, fitness_mean: 72.54082472920757, fitness_min: 51 theta: 71, population_size: 28616\n",
      "fitness_max: 89, fitness_mean: 72.6254164683484, fitness_min: 52 theta: 71, population_size: 30636\n",
      "fitness_max: 89, fitness_mean: 72.74048714782803, fitness_min: 53 theta: 72, population_size: 24240\n",
      "fitness_max: 89, fitness_mean: 73.46932284541724, fitness_min: 55 theta: 72, population_size: 26305\n",
      "fitness_max: 89, fitness_mean: 73.61274556780067, fitness_min: 53 theta: 73, population_size: 20995\n",
      "fitness_max: 89, fitness_mean: 74.35172148490095, fitness_min: 56 theta: 73, population_size: 23152\n",
      "fitness_max: 89, fitness_mean: 74.5078502415459, fitness_min: 55 theta: 73, population_size: 25384\n",
      "fitness_max: 89, fitness_mean: 74.64570168509742, fitness_min: 56 theta: 73, population_size: 27746\n",
      "fitness_max: 89, fitness_mean: 74.79234104928847, fitness_min: 54 theta: 74, population_size: 22391\n",
      "fitness_max: 91, fitness_mean: 75.59523201051441, fitness_min: 57 theta: 74, population_size: 24918\n",
      "fitness_max: 91, fitness_mean: 75.78009893709472, fitness_min: 58 theta: 75, population_size: 20346\n",
      "fitness_max: 91, fitness_mean: 76.61224650832479, fitness_min: 60 theta: 75, population_size: 23025\n",
      "fitness_max: 92, fitness_mean: 76.80713648528099, fitness_min: 58 theta: 76, population_size: 19100\n",
      "fitness_max: 92, fitness_mean: 77.69360995850623, fitness_min: 61 theta: 77, population_size: 16181\n",
      "fitness_max: 92, fitness_mean: 78.64265143288796, fitness_min: 59 theta: 77, population_size: 19134\n",
      "fitness_max: 92, fitness_mean: 78.91398027678794, fitness_min: 61 theta: 78, population_size: 16731\n",
      "fitness_max: 94, fitness_mean: 79.86691822741706, fitness_min: 62 theta: 79, population_size: 14997\n",
      "fitness_max: 94, fitness_mean: 80.8436265439816, fitness_min: 65 theta: 80, population_size: 13670\n",
      "fitness_max: 94, fitness_mean: 81.8617032672737, fitness_min: 66 theta: 81, population_size: 12747\n",
      "fitness_max: 95, fitness_mean: 82.98084183242239, fitness_min: 67 theta: 82, population_size: 12500\n",
      "fitness_max: 96, fitness_mean: 84.05405714285715, fitness_min: 69 theta: 83, population_size: 12424\n",
      "fitness_max: 96, fitness_mean: 85.12924701561066, fitness_min: 71 theta: 84, population_size: 12639\n",
      "fitness_max: 96, fitness_mean: 86.13260388910936, fitness_min: 74 theta: 85, population_size: 12836\n",
      "fitness_max: 97, fitness_mean: 87.10607759587351, fitness_min: 72 theta: 86, population_size: 13039\n",
      "fitness_max: 97, fitness_mean: 88.05033538444481, fitness_min: 72 theta: 87, population_size: 13137\n",
      "fitness_max: 99, fitness_mean: 88.98555439157523, fitness_min: 75 theta: 88, population_size: 13202\n",
      "fitness_max: 100, fitness_mean: 89.93621580046148, fitness_min: 78 theta: 89, population_size: 13164\n",
      "fitness_max: 100, fitness_mean: 90.84551860823608, fitness_min: 80 theta: 90, population_size: 13038\n",
      "fitness_max: 100, fitness_mean: 91.75069298148354, fitness_min: 80 theta: 91, population_size: 12721\n",
      "fitness_max: 100, fitness_mean: 92.67693696743976, fitness_min: 82 theta: 92, population_size: 12398\n",
      "fitness_max: 100, fitness_mean: 93.57897459478102, fitness_min: 84 theta: 93, population_size: 12146\n",
      "fitness_max: 100, fitness_mean: 94.43730316108713, fitness_min: 86 theta: 94, population_size: 11558\n",
      "fitness_max: 100, fitness_mean: 95.29309095301365, fitness_min: 86 theta: 94, population_size: 15593\n",
      "fitness_max: 100, fitness_mean: 95.4904093624047, fitness_min: 87 theta: 95, population_size: 14398\n",
      "fitness_max: 100, fitness_mean: 96.2538921538303, fitness_min: 88 theta: 95, population_size: 18495\n",
      "fitness_max: 100, fitness_mean: 96.40676739731857, fitness_min: 86 theta: 96, population_size: 16427\n",
      "fitness_max: 100, fitness_mean: 97.0868530358893, fitness_min: 90 theta: 96, population_size: 20600\n",
      "fitness_max: 100, fitness_mean: 97.2043359375, fitness_min: 90 theta: 97, population_size: 17154\n",
      "fitness_max: 100, fitness_mean: 97.86765369684933, fitness_min: 91 theta: 97, population_size: 21341\n",
      "fitness_max: 100, fitness_mean: 97.96055578755552, fitness_min: 92 theta: 97, population_size: 25576\n",
      "fitness_max: 100, fitness_mean: 98.03329408686551, fitness_min: 91 theta: 97, population_size: 29913\n",
      "fitness_max: 100, fitness_mean: 98.09068255377653, fitness_min: 91 theta: 97, population_size: 34301\n",
      "fitness_max: 100, fitness_mean: 98.14045444136282, fitness_min: 92 theta: 98, population_size: 26849\n",
      "fitness_max: 100, fitness_mean: 98.69923702471036, fitness_min: 94 theta: 98, population_size: 31112\n",
      "fitness_max: 100, fitness_mean: 98.74698161276031, fitness_min: 94 theta: 98, population_size: 35420\n",
      "fitness_max: 100, fitness_mean: 98.78468579910935, fitness_min: 93 theta: 98, population_size: 39770\n",
      "fitness_max: 100, fitness_mean: 98.81970069242797, fitness_min: 93 theta: 98, population_size: 44205\n",
      "fitness_max: 100, fitness_mean: 98.84782034346102, fitness_min: 93 theta: 98, population_size: 48632\n",
      "fitness_max: 100, fitness_mean: 98.87503729116945, fitness_min: 92 theta: 98, population_size: 53106\n",
      "fitness_max: 100, fitness_mean: 98.89649950091213, fitness_min: 94 theta: 98, population_size: 57556\n",
      "fitness_max: 100, fitness_mean: 98.91628301042266, fitness_min: 93 theta: 98, population_size: 62073\n",
      "fitness_max: 100, fitness_mean: 98.93355001267275, fitness_min: 95 theta: 98, population_size: 66601\n",
      "fitness_max: 100, fitness_mean: 98.9491068560495, fitness_min: 93 theta: 99, population_size: 48295\n",
      "fitness_max: 100, fitness_mean: 99.42024580166995, fitness_min: 95 theta: 99, population_size: 52714\n",
      "fitness_max: 100, fitness_mean: 99.4376407803999, fitness_min: 96 theta: 99, population_size: 57168\n",
      "fitness_max: 100, fitness_mean: 99.45354523227384, fitness_min: 96 theta: 99, population_size: 61651\n",
      "fitness_max: 100, fitness_mean: 99.46555940646051, fitness_min: 94 theta: 99, population_size: 66113\n",
      "fitness_max: 100, fitness_mean: 99.47964507192778, fitness_min: 95 theta: 99, population_size: 70627\n",
      "fitness_max: 100, fitness_mean: 99.49205971412326, fitness_min: 96 theta: 99, population_size: 75162\n",
      "fitness_max: 100, fitness_mean: 99.50268206881066, fitness_min: 95 theta: 99, population_size: 79729\n",
      "fitness_max: 100, fitness_mean: 99.5110292815919, fitness_min: 96 theta: 99, population_size: 84292\n",
      "fitness_max: 100, fitness_mean: 99.51917305021726, fitness_min: 96 theta: 99, population_size: 88836\n",
      "fitness_max: 100, fitness_mean: 99.52767594526621, fitness_min: 95 theta: 99, population_size: 93407\n",
      "fitness_max: 100, fitness_mean: 99.53500259127908, fitness_min: 95 theta: 99, population_size: 97975\n",
      "fitness_max: 100, fitness_mean: 99.5414809419762, fitness_min: 96 theta: 99, population_size: 102561\n"
     ]
    },
    {
     "data": {
      "text/html": [
       "Waiting for W&B process to finish... <strong style=\"color:green\">(success).</strong>"
      ],
      "text/plain": [
       "<IPython.core.display.HTML object>"
      ]
     },
     "metadata": {},
     "output_type": "display_data"
    },
    {
     "data": {
      "text/html": [
       "<style>\n",
       "    table.wandb td:nth-child(1) { padding: 0 10px; text-align: left ; width: auto;} td:nth-child(2) {text-align: left ; width: 100%}\n",
       "    .wandb-row { display: flex; flex-direction: row; flex-wrap: wrap; justify-content: flex-start; width: 100% }\n",
       "    .wandb-col { display: flex; flex-direction: column; flex-basis: 100%; flex: 1; padding: 10px; }\n",
       "    </style>\n",
       "<div class=\"wandb-row\"><div class=\"wandb-col\"><h3>Run history:</h3><br/><table class=\"wandb\"><tr><td>fitness_max</td><td>▁▁▁▂▂▂▂▂▂▂▂▃▃▃▃▃▃▃▄▄▄▅▅▆▆▇██████████████</td></tr><tr><td>fitness_mean</td><td>▁▂▂▂▂▂▂▂▃▃▃▃▃▃▃▃▃▃▃▄▄▄▄▅▅▆▆▇▇▇██████████</td></tr><tr><td>fitness_min</td><td>▁▁▁▂▂▂▂▂▂▂▂▂▂▂▂▂▂▃▃▃▃▃▄▄▄▅▅▆▇▇▇▇▇▇▇▇████</td></tr></table><br/></div><div class=\"wandb-col\"><h3>Run summary:</h3><br/><table class=\"wandb\"><tr><td>fitness_max</td><td>100</td></tr><tr><td>fitness_mean</td><td>99.54841</td></tr><tr><td>fitness_min</td><td>99</td></tr></table><br/></div></div>"
      ],
      "text/plain": [
       "<IPython.core.display.HTML object>"
      ]
     },
     "metadata": {},
     "output_type": "display_data"
    },
    {
     "data": {
      "text/html": [
       " View run <strong style=\"color:#cdcd00\">vivid-pyramid-230</strong> at: <a href='https://wandb.ai/pgrabinski/Algorytmy%20Ewolucyjne-List%204_List%204/runs/kio7k6gh' target=\"_blank\">https://wandb.ai/pgrabinski/Algorytmy%20Ewolucyjne-List%204_List%204/runs/kio7k6gh</a><br/> View job at <a href='https://wandb.ai/pgrabinski/Algorytmy%20Ewolucyjne-List%204_List%204/jobs/QXJ0aWZhY3RDb2xsZWN0aW9uOjEyODMxMzE0Mw==/version_details/v4' target=\"_blank\">https://wandb.ai/pgrabinski/Algorytmy%20Ewolucyjne-List%204_List%204/jobs/QXJ0aWZhY3RDb2xsZWN0aW9uOjEyODMxMzE0Mw==/version_details/v4</a><br/>Synced 5 W&B file(s), 0 media file(s), 0 artifact file(s) and 0 other file(s)"
      ],
      "text/plain": [
       "<IPython.core.display.HTML object>"
      ]
     },
     "metadata": {},
     "output_type": "display_data"
    },
    {
     "data": {
      "text/html": [
       "Find logs at: <code>./wandb/run-20240108_212708-kio7k6gh/logs</code>"
      ],
      "text/plain": [
       "<IPython.core.display.HTML object>"
      ]
     },
     "metadata": {},
     "output_type": "display_data"
    },
    {
     "data": {
      "application/vnd.jupyter.widget-view+json": {
       "model_id": "9c741c55ba2c4b219177c3555e5cfc12",
       "version_major": 2,
       "version_minor": 0
      },
      "text/plain": [
       "VBox(children=(Label(value='Waiting for wandb.init()...\\r'), FloatProgress(value=0.011112737466788127, max=1.0…"
      ]
     },
     "metadata": {},
     "output_type": "display_data"
    },
    {
     "data": {
      "text/html": [
       "wandb version 0.16.1 is available!  To upgrade, please run:\n",
       " $ pip install wandb --upgrade"
      ],
      "text/plain": [
       "<IPython.core.display.HTML object>"
      ]
     },
     "metadata": {},
     "output_type": "display_data"
    },
    {
     "data": {
      "text/html": [
       "Tracking run with wandb version 0.15.12"
      ],
      "text/plain": [
       "<IPython.core.display.HTML object>"
      ]
     },
     "metadata": {},
     "output_type": "display_data"
    },
    {
     "data": {
      "text/html": [
       "Run data is saved locally in <code>/workspaces/Algorytmy Ewolucyjne/List 4/wandb/run-20240108_214440-gpvd0leu</code>"
      ],
      "text/plain": [
       "<IPython.core.display.HTML object>"
      ]
     },
     "metadata": {},
     "output_type": "display_data"
    },
    {
     "data": {
      "text/html": [
       "Syncing run <strong><a href='https://wandb.ai/pgrabinski/Algorytmy%20Ewolucyjne-List%204_List%204/runs/gpvd0leu' target=\"_blank\">fanciful-snowflake-231</a></strong> to <a href='https://wandb.ai/pgrabinski/Algorytmy%20Ewolucyjne-List%204_List%204' target=\"_blank\">Weights & Biases</a> (<a href='https://wandb.me/run' target=\"_blank\">docs</a>)<br/>"
      ],
      "text/plain": [
       "<IPython.core.display.HTML object>"
      ]
     },
     "metadata": {},
     "output_type": "display_data"
    },
    {
     "data": {
      "text/html": [
       " View project at <a href='https://wandb.ai/pgrabinski/Algorytmy%20Ewolucyjne-List%204_List%204' target=\"_blank\">https://wandb.ai/pgrabinski/Algorytmy%20Ewolucyjne-List%204_List%204</a>"
      ],
      "text/plain": [
       "<IPython.core.display.HTML object>"
      ]
     },
     "metadata": {},
     "output_type": "display_data"
    },
    {
     "data": {
      "text/html": [
       " View run at <a href='https://wandb.ai/pgrabinski/Algorytmy%20Ewolucyjne-List%204_List%204/runs/gpvd0leu' target=\"_blank\">https://wandb.ai/pgrabinski/Algorytmy%20Ewolucyjne-List%204_List%204/runs/gpvd0leu</a>"
      ],
      "text/plain": [
       "<IPython.core.display.HTML object>"
      ]
     },
     "metadata": {},
     "output_type": "display_data"
    },
    {
     "name": "stdout",
     "output_type": "stream",
     "text": [
      "fitness_max: 81, fitness_mean: 57.805, fitness_min: 39 theta: 55, population_size: 10797\n",
      "fitness_max: 81, fitness_mean: 59.673798822561245, fitness_min: 40 theta: 57, population_size: 11766\n",
      "fitness_max: 81, fitness_mean: 60.59209113682453, fitness_min: 40 theta: 59, population_size: 11370\n",
      "fitness_max: 82, fitness_mean: 61.52168601099572, fitness_min: 40 theta: 60, population_size: 11800\n",
      "fitness_max: 82, fitness_mean: 62.08125, fitness_min: 39 theta: 61, population_size: 11656\n",
      "fitness_max: 82, fitness_mean: 62.64943563880884, fitness_min: 38 theta: 61, population_size: 13524\n",
      "fitness_max: 82, fitness_mean: 62.8387497300799, fitness_min: 43 theta: 62, population_size: 12580\n",
      "fitness_max: 83, fitness_mean: 63.408759954493746, fitness_min: 42 theta: 62, population_size: 14302\n",
      "fitness_max: 83, fitness_mean: 63.55859496425241, fitness_min: 40 theta: 62, population_size: 15978\n",
      "fitness_max: 83, fitness_mean: 63.74492325293164, fitness_min: 43 theta: 63, population_size: 14188\n",
      "fitness_max: 83, fitness_mean: 64.2546904315197, fitness_min: 39 theta: 63, population_size: 15689\n",
      "fitness_max: 83, fitness_mean: 64.40171105418338, fitness_min: 43 theta: 63, population_size: 17267\n",
      "fitness_max: 83, fitness_mean: 64.54093501594288, fitness_min: 44 theta: 63, population_size: 18819\n",
      "fitness_max: 83, fitness_mean: 64.64645870943365, fitness_min: 40 theta: 64, population_size: 16121\n",
      "fitness_max: 83, fitness_mean: 65.16613796695232, fitness_min: 43 theta: 64, population_size: 17502\n",
      "fitness_max: 83, fitness_mean: 65.30943916096346, fitness_min: 42 theta: 64, population_size: 18915\n",
      "fitness_max: 83, fitness_mean: 65.42487978256324, fitness_min: 45 theta: 64, population_size: 20396\n",
      "fitness_max: 83, fitness_mean: 65.53224917309812, fitness_min: 42 theta: 64, population_size: 21878\n",
      "fitness_max: 83, fitness_mean: 65.61526155219883, fitness_min: 43 theta: 65, population_size: 18053\n",
      "fitness_max: 83, fitness_mean: 66.14865744154774, fitness_min: 43 theta: 65, population_size: 19352\n",
      "fitness_max: 83, fitness_mean: 66.23102825229961, fitness_min: 44 theta: 65, population_size: 20666\n",
      "fitness_max: 83, fitness_mean: 66.36129509857399, fitness_min: 42 theta: 65, population_size: 22065\n",
      "fitness_max: 84, fitness_mean: 66.43033438019583, fitness_min: 46 theta: 65, population_size: 23486\n",
      "fitness_max: 85, fitness_mean: 66.54914694937864, fitness_min: 46 theta: 65, population_size: 24984\n",
      "fitness_max: 85, fitness_mean: 66.6264340981857, fitness_min: 45 theta: 66, population_size: 20168\n",
      "fitness_max: 85, fitness_mean: 67.18332803560077, fitness_min: 45 theta: 66, population_size: 21495\n",
      "fitness_max: 85, fitness_mean: 67.24589545197207, fitness_min: 44 theta: 66, population_size: 22809\n",
      "fitness_max: 85, fitness_mean: 67.34697400122262, fitness_min: 45 theta: 66, population_size: 24191\n",
      "fitness_max: 85, fitness_mean: 67.43945051556987, fitness_min: 46 theta: 66, population_size: 25677\n",
      "fitness_max: 85, fitness_mean: 67.53062555008638, fitness_min: 45 theta: 66, population_size: 27167\n",
      "fitness_max: 85, fitness_mean: 67.59570367146455, fitness_min: 44 theta: 66, population_size: 28667\n",
      "fitness_max: 85, fitness_mean: 67.65221136424393, fitness_min: 43 theta: 67, population_size: 22758\n",
      "fitness_max: 85, fitness_mean: 68.2120830030982, fitness_min: 45 theta: 67, population_size: 24077\n",
      "fitness_max: 85, fitness_mean: 68.30446744849881, fitness_min: 48 theta: 67, population_size: 25470\n",
      "fitness_max: 85, fitness_mean: 68.3870692484411, fitness_min: 45 theta: 67, population_size: 26917\n",
      "fitness_max: 85, fitness_mean: 68.46636588651816, fitness_min: 46 theta: 67, population_size: 28383\n",
      "fitness_max: 85, fitness_mean: 68.5594164694605, fitness_min: 46 theta: 67, population_size: 29939\n",
      "fitness_max: 85, fitness_mean: 68.6153295744011, fitness_min: 48 theta: 68, population_size: 23582\n",
      "fitness_max: 85, fitness_mean: 69.21191659086138, fitness_min: 47 theta: 68, population_size: 24959\n",
      "fitness_max: 85, fitness_mean: 69.3054507827364, fitness_min: 48 theta: 68, population_size: 26409\n",
      "fitness_max: 85, fitness_mean: 69.40781304721577, fitness_min: 50 theta: 68, population_size: 27966\n",
      "fitness_max: 85, fitness_mean: 69.46717830492022, fitness_min: 47 theta: 68, population_size: 29494\n",
      "fitness_max: 85, fitness_mean: 69.54609497303879, fitness_min: 48 theta: 68, population_size: 31117\n",
      "fitness_max: 85, fitness_mean: 69.61898828806379, fitness_min: 46 theta: 69, population_size: 24324\n",
      "fitness_max: 85, fitness_mean: 70.23311962897286, fitness_min: 48 theta: 69, population_size: 25779\n",
      "fitness_max: 86, fitness_mean: 70.30835959582832, fitness_min: 50 theta: 69, population_size: 27276\n",
      "fitness_max: 87, fitness_mean: 70.41052174990705, fitness_min: 51 theta: 69, population_size: 28874\n",
      "fitness_max: 87, fitness_mean: 70.4950994863317, fitness_min: 50 theta: 69, population_size: 30558\n",
      "fitness_max: 87, fitness_mean: 70.58375049215367, fitness_min: 50 theta: 69, population_size: 32359\n",
      "fitness_max: 87, fitness_mean: 70.66832623999572, fitness_min: 50 theta: 70, population_size: 25274\n",
      "fitness_max: 87, fitness_mean: 71.35565171434234, fitness_min: 47 theta: 70, population_size: 27009\n",
      "fitness_max: 87, fitness_mean: 71.43278452935112, fitness_min: 50 theta: 70, population_size: 28776\n",
      "fitness_max: 87, fitness_mean: 71.52113927048792, fitness_min: 50 theta: 70, population_size: 30595\n",
      "fitness_max: 87, fitness_mean: 71.6039331366765, fitness_min: 47 theta: 70, population_size: 32479\n",
      "fitness_max: 87, fitness_mean: 71.71226553536647, fitness_min: 51 theta: 71, population_size: 25381\n",
      "fitness_max: 87, fitness_mean: 72.42167802244825, fitness_min: 52 theta: 71, population_size: 27286\n",
      "fitness_max: 87, fitness_mean: 72.53614569782569, fitness_min: 50 theta: 71, population_size: 29287\n",
      "fitness_max: 87, fitness_mean: 72.63023886604252, fitness_min: 50 theta: 71, population_size: 31363\n",
      "fitness_max: 87, fitness_mean: 72.74212798723978, fitness_min: 53 theta: 72, population_size: 24689\n",
      "fitness_max: 87, fitness_mean: 73.49179830913806, fitness_min: 56 theta: 72, population_size: 26802\n",
      "fitness_max: 88, fitness_mean: 73.61307464939313, fitness_min: 54 theta: 72, population_size: 28989\n",
      "fitness_max: 88, fitness_mean: 73.7376209950278, fitness_min: 52 theta: 73, population_size: 23070\n",
      "fitness_max: 88, fitness_mean: 74.50673316708229, fitness_min: 55 theta: 73, population_size: 25363\n",
      "fitness_max: 88, fitness_mean: 74.66742416757238, fitness_min: 57 theta: 74, population_size: 20393\n",
      "fitness_max: 88, fitness_mean: 75.46280470995944, fitness_min: 56 theta: 74, population_size: 22813\n",
      "fitness_max: 89, fitness_mean: 75.67191601049869, fitness_min: 56 theta: 74, population_size: 25389\n",
      "fitness_max: 89, fitness_mean: 75.8394813912929, fitness_min: 56 theta: 75, population_size: 20746\n",
      "fitness_max: 89, fitness_mean: 76.70375980734872, fitness_min: 57 theta: 76, population_size: 17345\n",
      "fitness_max: 92, fitness_mean: 77.56983665249497, fitness_min: 60 theta: 76, population_size: 20092\n",
      "fitness_max: 92, fitness_mean: 77.82803283915192, fitness_min: 59 theta: 77, population_size: 17130\n",
      "fitness_max: 92, fitness_mean: 78.76140985088115, fitness_min: 61 theta: 78, population_size: 14901\n",
      "fitness_max: 92, fitness_mean: 79.77493593286769, fitness_min: 64 theta: 79, population_size: 13435\n",
      "fitness_max: 94, fitness_mean: 80.78388934092759, fitness_min: 65 theta: 80, population_size: 12441\n",
      "fitness_max: 96, fitness_mean: 81.85321942549166, fitness_min: 66 theta: 81, population_size: 12005\n",
      "fitness_max: 96, fitness_mean: 82.95383710673332, fitness_min: 65 theta: 82, population_size: 11776\n",
      "fitness_max: 96, fitness_mean: 84.07743204577969, fitness_min: 70 theta: 83, population_size: 11968\n",
      "fitness_max: 97, fitness_mean: 85.12517680339462, fitness_min: 71 theta: 84, population_size: 12268\n",
      "fitness_max: 97, fitness_mean: 86.1359161454714, fitness_min: 73 theta: 85, population_size: 12525\n",
      "fitness_max: 98, fitness_mean: 87.1593152639087, fitness_min: 75 theta: 86, population_size: 12910\n",
      "fitness_max: 98, fitness_mean: 88.10826353992184, fitness_min: 72 theta: 87, population_size: 13180\n",
      "fitness_max: 99, fitness_mean: 89.0608910891089, fitness_min: 76 theta: 88, population_size: 13334\n",
      "fitness_max: 99, fitness_mean: 89.9827642631177, fitness_min: 79 theta: 89, population_size: 13321\n",
      "fitness_max: 99, fitness_mean: 90.87708094536325, fitness_min: 80 theta: 90, population_size: 13255\n",
      "fitness_max: 100, fitness_mean: 91.77102163790742, fitness_min: 80 theta: 91, population_size: 12890\n",
      "fitness_max: 100, fitness_mean: 92.69083286752375, fitness_min: 80 theta: 92, population_size: 12595\n",
      "fitness_max: 100, fitness_mean: 93.56214833759591, fitness_min: 84 theta: 93, population_size: 12151\n",
      "fitness_max: 100, fitness_mean: 94.41991720599383, fitness_min: 83 theta: 94, population_size: 11610\n",
      "fitness_max: 100, fitness_mean: 95.2628537025888, fitness_min: 87 theta: 94, population_size: 15592\n",
      "fitness_max: 100, fitness_mean: 95.45692501942501, fitness_min: 88 theta: 95, population_size: 14236\n",
      "fitness_max: 100, fitness_mean: 96.2050322312331, fitness_min: 88 theta: 95, population_size: 18331\n",
      "fitness_max: 100, fitness_mean: 96.34876344777335, fitness_min: 87 theta: 96, population_size: 16074\n",
      "fitness_max: 100, fitness_mean: 97.05627787795387, fitness_min: 88 theta: 96, population_size: 20270\n",
      "fitness_max: 100, fitness_mean: 97.1643846458251, fitness_min: 89 theta: 96, population_size: 24496\n",
      "fitness_max: 100, fitness_mean: 97.25596691076755, fitness_min: 89 theta: 97, population_size: 20076\n",
      "fitness_max: 100, fitness_mean: 97.90373265273568, fitness_min: 91 theta: 97, population_size: 24287\n",
      "fitness_max: 100, fitness_mean: 97.9808447434015, fitness_min: 91 theta: 97, population_size: 28558\n",
      "fitness_max: 100, fitness_mean: 98.04749985100423, fitness_min: 91 theta: 97, population_size: 32896\n",
      "fitness_max: 100, fitness_mean: 98.09607874181972, fitness_min: 90 theta: 98, population_size: 25391\n",
      "fitness_max: 100, fitness_mean: 98.6732256260077, fitness_min: 94 theta: 98, population_size: 29661\n",
      "fitness_max: 100, fitness_mean: 98.72101208851447, fitness_min: 92 theta: 98, population_size: 33977\n",
      "fitness_max: 100, fitness_mean: 98.76167996510763, fitness_min: 94 theta: 98, population_size: 38314\n",
      "fitness_max: 100, fitness_mean: 98.79837927690816, fitness_min: 93 theta: 98, population_size: 42726\n",
      "fitness_max: 100, fitness_mean: 98.82921258852618, fitness_min: 94 theta: 98, population_size: 47165\n",
      "fitness_max: 100, fitness_mean: 98.85407840506086, fitness_min: 93 theta: 98, population_size: 51557\n",
      "fitness_max: 100, fitness_mean: 98.88181834255707, fitness_min: 90 theta: 98, population_size: 56057\n",
      "fitness_max: 100, fitness_mean: 98.90060107768151, fitness_min: 94 theta: 98, population_size: 60539\n",
      "fitness_max: 100, fitness_mean: 98.91849128000122, fitness_min: 94 theta: 98, population_size: 65065\n",
      "fitness_max: 100, fitness_mean: 98.93496039391994, fitness_min: 94 theta: 98, population_size: 69605\n",
      "fitness_max: 100, fitness_mean: 98.94966825279808, fitness_min: 94 theta: 99, population_size: 50429\n",
      "fitness_max: 100, fitness_mean: 99.41427772465677, fitness_min: 96 theta: 99, population_size: 54802\n",
      "fitness_max: 100, fitness_mean: 99.43246045282767, fitness_min: 95 theta: 99, population_size: 59269\n",
      "fitness_max: 100, fitness_mean: 99.44564253372543, fitness_min: 95 theta: 99, population_size: 63697\n",
      "fitness_max: 100, fitness_mean: 99.46039856180037, fitness_min: 95 theta: 99, population_size: 68193\n",
      "fitness_max: 100, fitness_mean: 99.47160247564658, fitness_min: 95 theta: 99, population_size: 72694\n",
      "fitness_max: 100, fitness_mean: 99.4822766236775, fitness_min: 96 theta: 99, population_size: 77185\n",
      "fitness_max: 100, fitness_mean: 99.49268114619456, fitness_min: 95 theta: 99, population_size: 81703\n",
      "fitness_max: 100, fitness_mean: 99.5026123663541, fitness_min: 95 theta: 99, population_size: 86236\n",
      "fitness_max: 100, fitness_mean: 99.51154149677758, fitness_min: 95 theta: 99, population_size: 90806\n",
      "fitness_max: 100, fitness_mean: 99.51951861052544, fitness_min: 95 theta: 99, population_size: 95394\n",
      "fitness_max: 100, fitness_mean: 99.52700360579317, fitness_min: 95 theta: 99, population_size: 99974\n",
      "fitness_max: 100, fitness_mean: 99.53387505477546, fitness_min: 95 theta: 99, population_size: 104563\n"
     ]
    },
    {
     "data": {
      "text/html": [
       "Waiting for W&B process to finish... <strong style=\"color:green\">(success).</strong>"
      ],
      "text/plain": [
       "<IPython.core.display.HTML object>"
      ]
     },
     "metadata": {},
     "output_type": "display_data"
    },
    {
     "data": {
      "application/vnd.jupyter.widget-view+json": {
       "model_id": "aac4bffc693540d2ba3a9d2ccdff97fa",
       "version_major": 2,
       "version_minor": 0
      },
      "text/plain": [
       "VBox(children=(Label(value='0.002 MB of 0.002 MB uploaded (0.000 MB deduped)\\r'), FloatProgress(value=1.0, max…"
      ]
     },
     "metadata": {},
     "output_type": "display_data"
    },
    {
     "data": {
      "text/html": [
       "<style>\n",
       "    table.wandb td:nth-child(1) { padding: 0 10px; text-align: left ; width: auto;} td:nth-child(2) {text-align: left ; width: 100%}\n",
       "    .wandb-row { display: flex; flex-direction: row; flex-wrap: wrap; justify-content: flex-start; width: 100% }\n",
       "    .wandb-col { display: flex; flex-direction: column; flex-basis: 100%; flex: 1; padding: 10px; }\n",
       "    </style>\n",
       "<div class=\"wandb-row\"><div class=\"wandb-col\"><h3>Run history:</h3><br/><table class=\"wandb\"><tr><td>fitness_max</td><td>▁▁▁▂▂▂▂▂▂▂▂▂▂▂▂▃▃▃▃▃▄▄▅▅▇▇██████████████</td></tr><tr><td>fitness_mean</td><td>▁▂▂▂▂▂▂▂▂▃▃▃▃▃▃▃▃▃▃▄▄▄▄▅▅▆▆▇▇▇██████████</td></tr><tr><td>fitness_min</td><td>▁▁▁▁▂▁▁▁▂▂▁▂▂▂▂▂▂▂▃▃▃▃▃▄▄▅▅▆▆▇▇▇▇▇▇▇████</td></tr></table><br/></div><div class=\"wandb-col\"><h3>Run summary:</h3><br/><table class=\"wandb\"><tr><td>fitness_max</td><td>100</td></tr><tr><td>fitness_mean</td><td>99.54059</td></tr><tr><td>fitness_min</td><td>99</td></tr></table><br/></div></div>"
      ],
      "text/plain": [
       "<IPython.core.display.HTML object>"
      ]
     },
     "metadata": {},
     "output_type": "display_data"
    },
    {
     "data": {
      "text/html": [
       " View run <strong style=\"color:#cdcd00\">fanciful-snowflake-231</strong> at: <a href='https://wandb.ai/pgrabinski/Algorytmy%20Ewolucyjne-List%204_List%204/runs/gpvd0leu' target=\"_blank\">https://wandb.ai/pgrabinski/Algorytmy%20Ewolucyjne-List%204_List%204/runs/gpvd0leu</a><br/> View job at <a href='https://wandb.ai/pgrabinski/Algorytmy%20Ewolucyjne-List%204_List%204/jobs/QXJ0aWZhY3RDb2xsZWN0aW9uOjEyODMxMzE0Mw==/version_details/v4' target=\"_blank\">https://wandb.ai/pgrabinski/Algorytmy%20Ewolucyjne-List%204_List%204/jobs/QXJ0aWZhY3RDb2xsZWN0aW9uOjEyODMxMzE0Mw==/version_details/v4</a><br/>Synced 5 W&B file(s), 0 media file(s), 0 artifact file(s) and 0 other file(s)"
      ],
      "text/plain": [
       "<IPython.core.display.HTML object>"
      ]
     },
     "metadata": {},
     "output_type": "display_data"
    },
    {
     "data": {
      "text/html": [
       "Find logs at: <code>./wandb/run-20240108_214440-gpvd0leu/logs</code>"
      ],
      "text/plain": [
       "<IPython.core.display.HTML object>"
      ]
     },
     "metadata": {},
     "output_type": "display_data"
    },
    {
     "data": {
      "application/vnd.jupyter.widget-view+json": {
       "model_id": "6f75368effd640dda66a779bbcd38e7e",
       "version_major": 2,
       "version_minor": 0
      },
      "text/plain": [
       "VBox(children=(Label(value='Waiting for wandb.init()...\\r'), FloatProgress(value=0.011112726788916108, max=1.0…"
      ]
     },
     "metadata": {},
     "output_type": "display_data"
    },
    {
     "data": {
      "text/html": [
       "wandb version 0.16.1 is available!  To upgrade, please run:\n",
       " $ pip install wandb --upgrade"
      ],
      "text/plain": [
       "<IPython.core.display.HTML object>"
      ]
     },
     "metadata": {},
     "output_type": "display_data"
    },
    {
     "data": {
      "text/html": [
       "Tracking run with wandb version 0.15.12"
      ],
      "text/plain": [
       "<IPython.core.display.HTML object>"
      ]
     },
     "metadata": {},
     "output_type": "display_data"
    },
    {
     "data": {
      "text/html": [
       "Run data is saved locally in <code>/workspaces/Algorytmy Ewolucyjne/List 4/wandb/run-20240108_220257-hqfpc73q</code>"
      ],
      "text/plain": [
       "<IPython.core.display.HTML object>"
      ]
     },
     "metadata": {},
     "output_type": "display_data"
    },
    {
     "data": {
      "text/html": [
       "Syncing run <strong><a href='https://wandb.ai/pgrabinski/Algorytmy%20Ewolucyjne-List%204_List%204/runs/hqfpc73q' target=\"_blank\">snowy-valley-232</a></strong> to <a href='https://wandb.ai/pgrabinski/Algorytmy%20Ewolucyjne-List%204_List%204' target=\"_blank\">Weights & Biases</a> (<a href='https://wandb.me/run' target=\"_blank\">docs</a>)<br/>"
      ],
      "text/plain": [
       "<IPython.core.display.HTML object>"
      ]
     },
     "metadata": {},
     "output_type": "display_data"
    },
    {
     "data": {
      "text/html": [
       " View project at <a href='https://wandb.ai/pgrabinski/Algorytmy%20Ewolucyjne-List%204_List%204' target=\"_blank\">https://wandb.ai/pgrabinski/Algorytmy%20Ewolucyjne-List%204_List%204</a>"
      ],
      "text/plain": [
       "<IPython.core.display.HTML object>"
      ]
     },
     "metadata": {},
     "output_type": "display_data"
    },
    {
     "data": {
      "text/html": [
       " View run at <a href='https://wandb.ai/pgrabinski/Algorytmy%20Ewolucyjne-List%204_List%204/runs/hqfpc73q' target=\"_blank\">https://wandb.ai/pgrabinski/Algorytmy%20Ewolucyjne-List%204_List%204/runs/hqfpc73q</a>"
      ],
      "text/plain": [
       "<IPython.core.display.HTML object>"
      ]
     },
     "metadata": {},
     "output_type": "display_data"
    },
    {
     "name": "stdout",
     "output_type": "stream",
     "text": [
      "fitness_max: 79, fitness_mean: 57.793, fitness_min: 41 theta: 55, population_size: 10864\n",
      "fitness_max: 79, fitness_mean: 59.60571104387292, fitness_min: 41 theta: 57, population_size: 11879\n",
      "fitness_max: 84, fitness_mean: 60.54866994490195, fitness_min: 41 theta: 59, population_size: 11446\n",
      "fitness_max: 84, fitness_mean: 61.46977988568649, fitness_min: 41 theta: 60, population_size: 11694\n",
      "fitness_max: 84, fitness_mean: 62.08613873247874, fitness_min: 41 theta: 61, population_size: 11474\n",
      "fitness_max: 84, fitness_mean: 62.659402695156004, fitness_min: 42 theta: 61, population_size: 13461\n",
      "fitness_max: 84, fitness_mean: 62.858025025729916, fitness_min: 39 theta: 62, population_size: 12493\n",
      "fitness_max: 84, fitness_mean: 63.41262219173384, fitness_min: 38 theta: 62, population_size: 14217\n",
      "fitness_max: 84, fitness_mean: 63.62278191184888, fitness_min: 42 theta: 62, population_size: 15981\n",
      "fitness_max: 85, fitness_mean: 63.83537486297126, fitness_min: 43 theta: 63, population_size: 14295\n",
      "fitness_max: 85, fitness_mean: 64.30961388960871, fitness_min: 41 theta: 63, population_size: 15878\n",
      "fitness_max: 85, fitness_mean: 64.44405594405595, fitness_min: 44 theta: 63, population_size: 17442\n",
      "fitness_max: 85, fitness_mean: 64.60676410302112, fitness_min: 44 theta: 63, population_size: 19103\n",
      "fitness_max: 85, fitness_mean: 64.73385055802183, fitness_min: 41 theta: 64, population_size: 16382\n",
      "fitness_max: 85, fitness_mean: 65.23931344121223, fitness_min: 44 theta: 64, population_size: 17792\n",
      "fitness_max: 85, fitness_mean: 65.37214812214812, fitness_min: 46 theta: 64, population_size: 19240\n",
      "fitness_max: 85, fitness_mean: 65.5131600660066, fitness_min: 43 theta: 64, population_size: 20781\n",
      "fitness_max: 85, fitness_mean: 65.61983631356425, fitness_min: 43 theta: 64, population_size: 22368\n",
      "fitness_max: 85, fitness_mean: 65.71229172756505, fitness_min: 45 theta: 65, population_size: 18464\n",
      "fitness_max: 85, fitness_mean: 66.23913228775997, fitness_min: 45 theta: 65, population_size: 19806\n",
      "fitness_max: 85, fitness_mean: 66.33874868983311, fitness_min: 45 theta: 65, population_size: 21167\n",
      "fitness_max: 85, fitness_mean: 66.468414415103, fitness_min: 45 theta: 65, population_size: 22663\n",
      "fitness_max: 85, fitness_mean: 66.57488341828434, fitness_min: 44 theta: 66, population_size: 18685\n",
      "fitness_max: 85, fitness_mean: 67.06793329111252, fitness_min: 45 theta: 66, population_size: 19994\n",
      "fitness_max: 85, fitness_mean: 67.1449947987517, fitness_min: 45 theta: 66, population_size: 21283\n",
      "fitness_max: 85, fitness_mean: 67.2969219647681, fitness_min: 47 theta: 66, population_size: 22714\n",
      "fitness_max: 85, fitness_mean: 67.36191094753555, fitness_min: 46 theta: 66, population_size: 24148\n",
      "fitness_max: 85, fitness_mean: 67.4541992589543, fitness_min: 46 theta: 66, population_size: 25586\n",
      "fitness_max: 85, fitness_mean: 67.56025632642385, fitness_min: 47 theta: 66, population_size: 27170\n",
      "fitness_max: 85, fitness_mean: 67.62110662107554, fitness_min: 44 theta: 67, population_size: 21660\n",
      "fitness_max: 85, fitness_mean: 68.20120030007502, fitness_min: 47 theta: 67, population_size: 23028\n",
      "fitness_max: 85, fitness_mean: 68.33116883116882, fitness_min: 48 theta: 67, population_size: 24492\n",
      "fitness_max: 85, fitness_mean: 68.41557032415571, fitness_min: 46 theta: 67, population_size: 26011\n",
      "fitness_max: 85, fitness_mean: 68.48760117377705, fitness_min: 44 theta: 67, population_size: 27578\n",
      "fitness_max: 85, fitness_mean: 68.57649333906318, fitness_min: 46 theta: 68, population_size: 21879\n",
      "fitness_max: 85, fitness_mean: 69.13497525949626, fitness_min: 49 theta: 68, population_size: 23233\n",
      "fitness_max: 85, fitness_mean: 69.2577834449049, fitness_min: 46 theta: 68, population_size: 24700\n",
      "fitness_max: 85, fitness_mean: 69.36239057239057, fitness_min: 49 theta: 68, population_size: 26253\n",
      "fitness_max: 85, fitness_mean: 69.4421975490353, fitness_min: 47 theta: 68, population_size: 27855\n",
      "fitness_max: 85, fitness_mean: 69.52756049307564, fitness_min: 50 theta: 68, population_size: 29516\n",
      "fitness_max: 85, fitness_mean: 69.59094333062927, fitness_min: 50 theta: 69, population_size: 23157\n",
      "fitness_max: 85, fitness_mean: 70.20982348971836, fitness_min: 48 theta: 69, population_size: 24634\n",
      "fitness_max: 85, fitness_mean: 70.3166295471418, fitness_min: 50 theta: 69, population_size: 26215\n",
      "fitness_max: 87, fitness_mean: 70.41092423514336, fitness_min: 47 theta: 69, population_size: 27879\n",
      "fitness_max: 87, fitness_mean: 70.51586118799233, fitness_min: 50 theta: 69, population_size: 29631\n",
      "fitness_max: 87, fitness_mean: 70.63356530276342, fitness_min: 42 theta: 70, population_size: 23209\n",
      "fitness_max: 87, fitness_mean: 71.27735828990748, fitness_min: 52 theta: 70, population_size: 24852\n",
      "fitness_max: 88, fitness_mean: 71.38345839474742, fitness_min: 46 theta: 70, population_size: 26578\n",
      "fitness_max: 88, fitness_mean: 71.50544683007156, fitness_min: 50 theta: 70, population_size: 28477\n",
      "fitness_max: 88, fitness_mean: 71.59748484033814, fitness_min: 51 theta: 70, population_size: 30467\n",
      "fitness_max: 88, fitness_mean: 71.69481489835621, fitness_min: 52 theta: 71, population_size: 23973\n",
      "fitness_max: 88, fitness_mean: 72.42146136057708, fitness_min: 52 theta: 71, population_size: 25973\n",
      "fitness_max: 88, fitness_mean: 72.54960772285538, fitness_min: 50 theta: 71, population_size: 28055\n",
      "fitness_max: 88, fitness_mean: 72.66540614127969, fitness_min: 53 theta: 72, population_size: 22324\n",
      "fitness_max: 88, fitness_mean: 73.39302444737227, fitness_min: 55 theta: 72, population_size: 24408\n",
      "fitness_max: 88, fitness_mean: 73.53937704026116, fitness_min: 55 theta: 72, population_size: 26616\n",
      "fitness_max: 88, fitness_mean: 73.67019863360323, fitness_min: 54 theta: 72, population_size: 28915\n",
      "fitness_max: 88, fitness_mean: 73.79336576735957, fitness_min: 56 theta: 73, population_size: 23103\n",
      "fitness_max: 90, fitness_mean: 74.60061203430239, fitness_min: 56 theta: 73, population_size: 25499\n",
      "fitness_max: 90, fitness_mean: 74.73310600347553, fitness_min: 56 theta: 74, population_size: 20660\n",
      "fitness_max: 90, fitness_mean: 75.55218238503507, fitness_min: 57 theta: 74, population_size: 23132\n",
      "fitness_max: 90, fitness_mean: 75.7456277548699, fitness_min: 59 theta: 75, population_size: 19080\n",
      "fitness_max: 90, fitness_mean: 76.59032392026577, fitness_min: 58 theta: 75, population_size: 21747\n",
      "fitness_max: 90, fitness_mean: 76.79851946012637, fitness_min: 61 theta: 76, population_size: 18126\n",
      "fitness_max: 90, fitness_mean: 77.68866211190867, fitness_min: 60 theta: 76, population_size: 20970\n",
      "fitness_max: 93, fitness_mean: 77.90939545629573, fitness_min: 59 theta: 77, population_size: 18012\n",
      "fitness_max: 93, fitness_mean: 78.82500434555884, fitness_min: 62 theta: 78, population_size: 15789\n",
      "fitness_max: 93, fitness_mean: 79.78676223002549, fitness_min: 62 theta: 79, population_size: 14037\n",
      "fitness_max: 98, fitness_mean: 80.80805799233073, fitness_min: 63 theta: 80, population_size: 12993\n",
      "fitness_max: 98, fitness_mean: 81.83954871338854, fitness_min: 65 theta: 81, population_size: 12279\n",
      "fitness_max: 98, fitness_mean: 82.94727704149545, fitness_min: 67 theta: 82, population_size: 12020\n",
      "fitness_max: 98, fitness_mean: 84.00616921269095, fitness_min: 68 theta: 83, population_size: 12115\n",
      "fitness_max: 98, fitness_mean: 85.0670172363424, fitness_min: 72 theta: 84, population_size: 12238\n",
      "fitness_max: 98, fitness_mean: 86.10958347836176, fitness_min: 73 theta: 85, population_size: 12478\n",
      "fitness_max: 98, fitness_mean: 87.12884769424419, fitness_min: 75 theta: 86, population_size: 12721\n",
      "fitness_max: 98, fitness_mean: 88.09587495062355, fitness_min: 73 theta: 87, population_size: 13047\n",
      "fitness_max: 98, fitness_mean: 89.02670804011747, fitness_min: 76 theta: 88, population_size: 13141\n",
      "fitness_max: 99, fitness_mean: 89.96135824926961, fitness_min: 78 theta: 89, population_size: 13136\n",
      "fitness_max: 99, fitness_mean: 90.88078958976621, fitness_min: 79 theta: 90, population_size: 13064\n",
      "fitness_max: 100, fitness_mean: 91.78493135518157, fitness_min: 79 theta: 91, population_size: 12871\n",
      "fitness_max: 100, fitness_mean: 92.66588327457893, fitness_min: 82 theta: 92, population_size: 12528\n",
      "fitness_max: 100, fitness_mean: 93.53896622546782, fitness_min: 84 theta: 93, population_size: 12039\n",
      "fitness_max: 100, fitness_mean: 94.4133458536299, fitness_min: 84 theta: 94, population_size: 11464\n",
      "fitness_max: 100, fitness_mean: 95.25170068027211, fitness_min: 85 theta: 94, population_size: 15459\n",
      "fitness_max: 100, fitness_mean: 95.4397575639083, fitness_min: 86 theta: 95, population_size: 14049\n",
      "fitness_max: 100, fitness_mean: 96.20924982938737, fitness_min: 88 theta: 95, population_size: 18116\n",
      "fitness_max: 100, fitness_mean: 96.3541702716733, fitness_min: 88 theta: 96, population_size: 15886\n",
      "fitness_max: 100, fitness_mean: 97.06602508857608, fitness_min: 90 theta: 96, population_size: 20056\n",
      "fitness_max: 100, fitness_mean: 97.18502554278416, fitness_min: 88 theta: 96, population_size: 24323\n",
      "fitness_max: 100, fitness_mean: 97.2742557037138, fitness_min: 90 theta: 97, population_size: 20195\n",
      "fitness_max: 100, fitness_mean: 97.90807699940464, fitness_min: 90 theta: 97, population_size: 24389\n",
      "fitness_max: 100, fitness_mean: 97.9908469155126, fitness_min: 91 theta: 97, population_size: 28690\n",
      "fitness_max: 100, fitness_mean: 98.05114277233601, fitness_min: 91 theta: 97, population_size: 33013\n",
      "fitness_max: 100, fitness_mean: 98.10262278694131, fitness_min: 91 theta: 98, population_size: 25549\n",
      "fitness_max: 100, fitness_mean: 98.68025139939114, fitness_min: 92 theta: 98, population_size: 29829\n",
      "fitness_max: 100, fitness_mean: 98.72620517384938, fitness_min: 93 theta: 98, population_size: 34108\n",
      "fitness_max: 100, fitness_mean: 98.77158126214586, fitness_min: 92 theta: 98, population_size: 38461\n",
      "fitness_max: 100, fitness_mean: 98.807022387888, fitness_min: 93 theta: 98, population_size: 42887\n",
      "fitness_max: 100, fitness_mean: 98.83440182095349, fitness_min: 93 theta: 98, population_size: 47322\n",
      "fitness_max: 100, fitness_mean: 98.85837697335728, fitness_min: 93 theta: 98, population_size: 51775\n",
      "fitness_max: 100, fitness_mean: 98.88334654337297, fitness_min: 93 theta: 98, population_size: 56300\n",
      "fitness_max: 100, fitness_mean: 98.90283849918434, fitness_min: 93 theta: 98, population_size: 60802\n",
      "fitness_max: 100, fitness_mean: 98.92099024345765, fitness_min: 93 theta: 98, population_size: 65276\n",
      "fitness_max: 100, fitness_mean: 98.93949570265809, fitness_min: 93 theta: 98, population_size: 69824\n",
      "fitness_max: 100, fitness_mean: 98.95341067037315, fitness_min: 93 theta: 99, population_size: 50650\n",
      "fitness_max: 100, fitness_mean: 99.42100628930818, fitness_min: 94 theta: 99, population_size: 55056\n",
      "fitness_max: 100, fitness_mean: 99.4392566937525, fitness_min: 94 theta: 99, population_size: 59518\n",
      "fitness_max: 100, fitness_mean: 99.4535168480114, fitness_min: 95 theta: 99, population_size: 63986\n",
      "fitness_max: 100, fitness_mean: 99.46796451453918, fitness_min: 96 theta: 99, population_size: 68492\n",
      "fitness_max: 100, fitness_mean: 99.47948075981058, fitness_min: 95 theta: 99, population_size: 72992\n",
      "fitness_max: 100, fitness_mean: 99.48975535952405, fitness_min: 95 theta: 99, population_size: 77514\n",
      "fitness_max: 100, fitness_mean: 99.50031509804397, fitness_min: 95 theta: 99, population_size: 82076\n",
      "fitness_max: 100, fitness_mean: 99.50972713491663, fitness_min: 95 theta: 99, population_size: 86650\n",
      "fitness_max: 100, fitness_mean: 99.51693398799782, fitness_min: 96 theta: 99, population_size: 91196\n",
      "fitness_max: 100, fitness_mean: 99.5256663478731, fitness_min: 96 theta: 99, population_size: 95789\n",
      "fitness_max: 100, fitness_mean: 99.53287561142585, fitness_min: 96 theta: 99, population_size: 100388\n"
     ]
    },
    {
     "data": {
      "text/html": [
       "Waiting for W&B process to finish... <strong style=\"color:green\">(success).</strong>"
      ],
      "text/plain": [
       "<IPython.core.display.HTML object>"
      ]
     },
     "metadata": {},
     "output_type": "display_data"
    },
    {
     "data": {
      "application/vnd.jupyter.widget-view+json": {
       "model_id": "2502aabfb2d948faa4ee094e4b3c73d0",
       "version_major": 2,
       "version_minor": 0
      },
      "text/plain": [
       "VBox(children=(Label(value='0.002 MB of 0.002 MB uploaded (0.000 MB deduped)\\r'), FloatProgress(value=1.0, max…"
      ]
     },
     "metadata": {},
     "output_type": "display_data"
    },
    {
     "data": {
      "text/html": [
       "<style>\n",
       "    table.wandb td:nth-child(1) { padding: 0 10px; text-align: left ; width: auto;} td:nth-child(2) {text-align: left ; width: 100%}\n",
       "    .wandb-row { display: flex; flex-direction: row; flex-wrap: wrap; justify-content: flex-start; width: 100% }\n",
       "    .wandb-col { display: flex; flex-direction: column; flex-basis: 100%; flex: 1; padding: 10px; }\n",
       "    </style>\n",
       "<div class=\"wandb-row\"><div class=\"wandb-col\"><h3>Run history:</h3><br/><table class=\"wandb\"><tr><td>fitness_max</td><td>▁▃▃▃▃▃▃▃▃▃▃▃▃▃▃▄▄▄▄▄▅▅▆▇▇▇██████████████</td></tr><tr><td>fitness_mean</td><td>▁▁▂▂▂▂▂▂▃▃▃▃▃▃▃▃▃▃▃▄▄▄▄▅▅▆▆▇▇▇██████████</td></tr><tr><td>fitness_min</td><td>▁▁▁▁▁▁▁▁▁▂▁▂▂▂▂▂▂▂▂▃▃▃▃▄▄▅▅▆▆▇▇▇▇▇▇▇████</td></tr></table><br/></div><div class=\"wandb-col\"><h3>Run summary:</h3><br/><table class=\"wandb\"><tr><td>fitness_max</td><td>100</td></tr><tr><td>fitness_mean</td><td>99.5397</td></tr><tr><td>fitness_min</td><td>99</td></tr></table><br/></div></div>"
      ],
      "text/plain": [
       "<IPython.core.display.HTML object>"
      ]
     },
     "metadata": {},
     "output_type": "display_data"
    },
    {
     "data": {
      "text/html": [
       " View run <strong style=\"color:#cdcd00\">snowy-valley-232</strong> at: <a href='https://wandb.ai/pgrabinski/Algorytmy%20Ewolucyjne-List%204_List%204/runs/hqfpc73q' target=\"_blank\">https://wandb.ai/pgrabinski/Algorytmy%20Ewolucyjne-List%204_List%204/runs/hqfpc73q</a><br/> View job at <a href='https://wandb.ai/pgrabinski/Algorytmy%20Ewolucyjne-List%204_List%204/jobs/QXJ0aWZhY3RDb2xsZWN0aW9uOjEyODMxMzE0Mw==/version_details/v4' target=\"_blank\">https://wandb.ai/pgrabinski/Algorytmy%20Ewolucyjne-List%204_List%204/jobs/QXJ0aWZhY3RDb2xsZWN0aW9uOjEyODMxMzE0Mw==/version_details/v4</a><br/>Synced 5 W&B file(s), 0 media file(s), 0 artifact file(s) and 0 other file(s)"
      ],
      "text/plain": [
       "<IPython.core.display.HTML object>"
      ]
     },
     "metadata": {},
     "output_type": "display_data"
    },
    {
     "data": {
      "text/html": [
       "Find logs at: <code>./wandb/run-20240108_220257-hqfpc73q/logs</code>"
      ],
      "text/plain": [
       "<IPython.core.display.HTML object>"
      ]
     },
     "metadata": {},
     "output_type": "display_data"
    },
    {
     "data": {
      "application/vnd.jupyter.widget-view+json": {
       "model_id": "65b4c3b7a80143e88674193c38217d99",
       "version_major": 2,
       "version_minor": 0
      },
      "text/plain": [
       "VBox(children=(Label(value='Waiting for wandb.init()...\\r'), FloatProgress(value=0.011112532588756746, max=1.0…"
      ]
     },
     "metadata": {},
     "output_type": "display_data"
    },
    {
     "data": {
      "text/html": [
       "wandb version 0.16.1 is available!  To upgrade, please run:\n",
       " $ pip install wandb --upgrade"
      ],
      "text/plain": [
       "<IPython.core.display.HTML object>"
      ]
     },
     "metadata": {},
     "output_type": "display_data"
    },
    {
     "data": {
      "text/html": [
       "Tracking run with wandb version 0.15.12"
      ],
      "text/plain": [
       "<IPython.core.display.HTML object>"
      ]
     },
     "metadata": {},
     "output_type": "display_data"
    },
    {
     "data": {
      "text/html": [
       "Run data is saved locally in <code>/workspaces/Algorytmy Ewolucyjne/List 4/wandb/run-20240108_222545-5jcspl87</code>"
      ],
      "text/plain": [
       "<IPython.core.display.HTML object>"
      ]
     },
     "metadata": {},
     "output_type": "display_data"
    },
    {
     "data": {
      "text/html": [
       "Syncing run <strong><a href='https://wandb.ai/pgrabinski/Algorytmy%20Ewolucyjne-List%204_List%204/runs/5jcspl87' target=\"_blank\">sandy-surf-233</a></strong> to <a href='https://wandb.ai/pgrabinski/Algorytmy%20Ewolucyjne-List%204_List%204' target=\"_blank\">Weights & Biases</a> (<a href='https://wandb.me/run' target=\"_blank\">docs</a>)<br/>"
      ],
      "text/plain": [
       "<IPython.core.display.HTML object>"
      ]
     },
     "metadata": {},
     "output_type": "display_data"
    },
    {
     "data": {
      "text/html": [
       " View project at <a href='https://wandb.ai/pgrabinski/Algorytmy%20Ewolucyjne-List%204_List%204' target=\"_blank\">https://wandb.ai/pgrabinski/Algorytmy%20Ewolucyjne-List%204_List%204</a>"
      ],
      "text/plain": [
       "<IPython.core.display.HTML object>"
      ]
     },
     "metadata": {},
     "output_type": "display_data"
    },
    {
     "data": {
      "text/html": [
       " View run at <a href='https://wandb.ai/pgrabinski/Algorytmy%20Ewolucyjne-List%204_List%204/runs/5jcspl87' target=\"_blank\">https://wandb.ai/pgrabinski/Algorytmy%20Ewolucyjne-List%204_List%204/runs/5jcspl87</a>"
      ],
      "text/plain": [
       "<IPython.core.display.HTML object>"
      ]
     },
     "metadata": {},
     "output_type": "display_data"
    },
    {
     "name": "stdout",
     "output_type": "stream",
     "text": [
      "fitness_max: 80, fitness_mean: 57.854866666666666, fitness_min: 39 theta: 55, population_size: 10841\n",
      "fitness_max: 80, fitness_mean: 59.684300233571115, fitness_min: 37 theta: 57, population_size: 11884\n",
      "fitness_max: 80, fitness_mean: 60.60856432125089, fitness_min: 39 theta: 59, population_size: 11440\n",
      "fitness_max: 80, fitness_mean: 61.55024330900243, fitness_min: 41 theta: 60, population_size: 11801\n",
      "fitness_max: 80, fitness_mean: 62.134277721564196, fitness_min: 40 theta: 61, population_size: 11640\n",
      "fitness_max: 82, fitness_mean: 62.72842548076923, fitness_min: 41 theta: 61, population_size: 13577\n",
      "fitness_max: 82, fitness_mean: 62.92017010281531, fitness_min: 43 theta: 62, population_size: 12659\n",
      "fitness_max: 82, fitness_mean: 63.47822640013591, fitness_min: 41 theta: 62, population_size: 14396\n",
      "fitness_max: 82, fitness_mean: 63.69266859146216, fitness_min: 41 theta: 63, population_size: 13027\n",
      "fitness_max: 82, fitness_mean: 64.1881067287957, fitness_min: 42 theta: 63, population_size: 14554\n",
      "fitness_max: 82, fitness_mean: 64.35455661245781, fitness_min: 40 theta: 63, population_size: 16119\n",
      "fitness_max: 82, fitness_mean: 64.51721198920403, fitness_min: 43 theta: 63, population_size: 17731\n",
      "fitness_max: 82, fitness_mean: 64.67555320927367, fitness_min: 43 theta: 64, population_size: 15368\n",
      "fitness_max: 82, fitness_mean: 65.17851531814611, fitness_min: 45 theta: 64, population_size: 16794\n",
      "fitness_max: 82, fitness_mean: 65.31169129118106, fitness_min: 40 theta: 64, population_size: 18271\n",
      "fitness_max: 82, fitness_mean: 65.45343990374286, fitness_min: 44 theta: 64, population_size: 19833\n",
      "fitness_max: 82, fitness_mean: 65.55853098699312, fitness_min: 44 theta: 64, population_size: 21401\n",
      "fitness_max: 82, fitness_mean: 65.64781637059203, fitness_min: 44 theta: 65, population_size: 17827\n",
      "fitness_max: 82, fitness_mean: 66.21093441976606, fitness_min: 43 theta: 65, population_size: 19185\n",
      "fitness_max: 82, fitness_mean: 66.30936530907587, fitness_min: 45 theta: 65, population_size: 20562\n",
      "fitness_max: 82, fitness_mean: 66.4453485642751, fitness_min: 45 theta: 65, population_size: 22090\n",
      "fitness_max: 82, fitness_mean: 66.54643779992617, fitness_min: 45 theta: 65, population_size: 23610\n",
      "fitness_max: 82, fitness_mean: 66.6419084236281, fitness_min: 46 theta: 66, population_size: 19302\n",
      "fitness_max: 83, fitness_mean: 67.15891696156694, fitness_min: 45 theta: 66, population_size: 20641\n",
      "fitness_max: 83, fitness_mean: 67.27276627276628, fitness_min: 44 theta: 66, population_size: 22033\n",
      "fitness_max: 83, fitness_mean: 67.38593570820849, fitness_min: 47 theta: 66, population_size: 23467\n",
      "fitness_max: 83, fitness_mean: 67.5025116801911, fitness_min: 47 theta: 66, population_size: 25026\n",
      "fitness_max: 83, fitness_mean: 67.57530140544861, fitness_min: 46 theta: 66, population_size: 26589\n",
      "fitness_max: 83, fitness_mean: 67.65345531672418, fitness_min: 45 theta: 67, population_size: 21261\n",
      "fitness_max: 83, fitness_mean: 68.26278511861696, fitness_min: 47 theta: 67, population_size: 22728\n",
      "fitness_max: 83, fitness_mean: 68.33893537218695, fitness_min: 46 theta: 67, population_size: 24167\n",
      "fitness_max: 83, fitness_mean: 68.42842938937841, fitness_min: 48 theta: 67, population_size: 25670\n",
      "fitness_max: 83, fitness_mean: 68.5049233778937, fitness_min: 43 theta: 67, population_size: 27267\n",
      "fitness_max: 83, fitness_mean: 68.60055164719373, fitness_min: 46 theta: 68, population_size: 21716\n",
      "fitness_max: 83, fitness_mean: 69.19082197933822, fitness_min: 49 theta: 68, population_size: 23164\n",
      "fitness_max: 85, fitness_mean: 69.29807555744922, fitness_min: 47 theta: 68, population_size: 24671\n",
      "fitness_max: 85, fitness_mean: 69.39900913349736, fitness_min: 48 theta: 68, population_size: 26287\n",
      "fitness_max: 89, fitness_mean: 69.51037171988366, fitness_min: 48 theta: 68, population_size: 27978\n",
      "fitness_max: 89, fitness_mean: 69.59603371944932, fitness_min: 48 theta: 68, population_size: 29707\n",
      "fitness_max: 89, fitness_mean: 69.65707206039127, fitness_min: 48 theta: 69, population_size: 23411\n",
      "fitness_max: 89, fitness_mean: 70.31836260603288, fitness_min: 49 theta: 69, population_size: 25002\n",
      "fitness_max: 89, fitness_mean: 70.43087127524832, fitness_min: 50 theta: 69, population_size: 26681\n",
      "fitness_max: 89, fitness_mean: 70.51216817650958, fitness_min: 50 theta: 69, population_size: 28459\n",
      "fitness_max: 89, fitness_mean: 70.62593024298396, fitness_min: 48 theta: 69, population_size: 30301\n",
      "fitness_max: 89, fitness_mean: 70.69949859777343, fitness_min: 48 theta: 70, population_size: 23863\n",
      "fitness_max: 89, fitness_mean: 71.3780618785296, fitness_min: 49 theta: 70, population_size: 25614\n",
      "fitness_max: 89, fitness_mean: 71.47883321356242, fitness_min: 51 theta: 70, population_size: 27462\n",
      "fitness_max: 89, fitness_mean: 71.58083297393875, fitness_min: 52 theta: 70, population_size: 29378\n",
      "fitness_max: 89, fitness_mean: 71.69329222176974, fitness_min: 50 theta: 71, population_size: 23323\n",
      "fitness_max: 89, fitness_mean: 72.40168767432829, fitness_min: 55 theta: 71, population_size: 25284\n",
      "fitness_max: 89, fitness_mean: 72.53470479461102, fitness_min: 54 theta: 71, population_size: 27334\n",
      "fitness_max: 89, fitness_mean: 72.65386280695243, fitness_min: 54 theta: 72, population_size: 21701\n",
      "fitness_max: 89, fitness_mean: 73.38691434777724, fitness_min: 54 theta: 72, population_size: 23748\n",
      "fitness_max: 89, fitness_mean: 73.54869903993321, fitness_min: 55 theta: 72, population_size: 25967\n",
      "fitness_max: 89, fitness_mean: 73.67129524978202, fitness_min: 55 theta: 73, population_size: 20814\n",
      "fitness_max: 90, fitness_mean: 74.48988920740683, fitness_min: 57 theta: 73, population_size: 23195\n",
      "fitness_max: 91, fitness_mean: 74.66533073239937, fitness_min: 57 theta: 73, population_size: 25669\n",
      "fitness_max: 91, fitness_mean: 74.80791678893998, fitness_min: 58 theta: 74, population_size: 20976\n",
      "fitness_max: 91, fitness_mean: 75.64317061903296, fitness_min: 59 theta: 74, population_size: 23595\n",
      "fitness_max: 91, fitness_mean: 75.81426822871131, fitness_min: 56 theta: 75, population_size: 19533\n",
      "fitness_max: 91, fitness_mean: 76.67431622712265, fitness_min: 58 theta: 75, population_size: 22250\n",
      "fitness_max: 91, fitness_mean: 76.90348623853211, fitness_min: 59 theta: 76, population_size: 18826\n",
      "fitness_max: 91, fitness_mean: 77.77574918156635, fitness_min: 62 theta: 77, population_size: 16189\n",
      "fitness_max: 92, fitness_mean: 78.7241493227618, fitness_min: 62 theta: 78, population_size: 14225\n",
      "fitness_max: 92, fitness_mean: 79.72291287386216, fitness_min: 64 theta: 79, population_size: 12884\n",
      "fitness_max: 94, fitness_mean: 80.77231044509058, fitness_min: 63 theta: 80, population_size: 12046\n",
      "fitness_max: 94, fitness_mean: 81.88407837615863, fitness_min: 68 theta: 81, population_size: 11670\n",
      "fitness_max: 94, fitness_mean: 82.97720455908818, fitness_min: 66 theta: 82, population_size: 11687\n",
      "fitness_max: 96, fitness_mean: 84.0821597650866, fitness_min: 70 theta: 83, population_size: 11971\n",
      "fitness_max: 96, fitness_mean: 85.14695657297743, fitness_min: 71 theta: 84, population_size: 12334\n",
      "fitness_max: 96, fitness_mean: 86.1405330564209, fitness_min: 74 theta: 85, population_size: 12689\n",
      "fitness_max: 98, fitness_mean: 87.14822771213748, fitness_min: 74 theta: 86, population_size: 12947\n",
      "fitness_max: 98, fitness_mean: 88.10542151891681, fitness_min: 77 theta: 87, population_size: 13160\n",
      "fitness_max: 98, fitness_mean: 89.0295704845815, fitness_min: 74 theta: 88, population_size: 13307\n",
      "fitness_max: 99, fitness_mean: 89.95411591194625, fitness_min: 76 theta: 89, population_size: 13277\n",
      "fitness_max: 100, fitness_mean: 90.88263938283087, fitness_min: 79 theta: 90, population_size: 13212\n",
      "fitness_max: 100, fitness_mean: 91.77311662640018, fitness_min: 80 theta: 91, population_size: 13020\n",
      "fitness_max: 100, fitness_mean: 92.64028856825749, fitness_min: 82 theta: 92, population_size: 12573\n",
      "fitness_max: 100, fitness_mean: 93.49803676094008, fitness_min: 81 theta: 93, population_size: 11962\n",
      "fitness_max: 100, fitness_mean: 94.38875132649451, fitness_min: 84 theta: 93, population_size: 15990\n",
      "fitness_max: 100, fitness_mean: 94.59990471653168, fitness_min: 85 theta: 94, population_size: 14812\n",
      "fitness_max: 100, fitness_mean: 95.36361800928731, fitness_min: 82 theta: 95, population_size: 13369\n",
      "fitness_max: 100, fitness_mean: 96.1712123686646, fitness_min: 89 theta: 95, population_size: 17473\n",
      "fitness_max: 100, fitness_mean: 96.32078494193031, fitness_min: 88 theta: 96, population_size: 15197\n",
      "fitness_max: 100, fitness_mean: 97.06253403970886, fitness_min: 89 theta: 96, population_size: 19370\n",
      "fitness_max: 100, fitness_mean: 97.17578990562167, fitness_min: 89 theta: 96, population_size: 23571\n",
      "fitness_max: 100, fitness_mean: 97.27660914913724, fitness_min: 90 theta: 97, population_size: 19661\n",
      "fitness_max: 100, fitness_mean: 97.91496695186733, fitness_min: 91 theta: 97, population_size: 23898\n",
      "fitness_max: 100, fitness_mean: 97.99356356841304, fitness_min: 91 theta: 97, population_size: 28142\n",
      "fitness_max: 100, fitness_mean: 98.06131193048095, fitness_min: 91 theta: 97, population_size: 32482\n",
      "fitness_max: 100, fitness_mean: 98.10797182647671, fitness_min: 91 theta: 98, population_size: 25114\n",
      "fitness_max: 100, fitness_mean: 98.69163844059241, fitness_min: 93 theta: 98, population_size: 29381\n",
      "fitness_max: 100, fitness_mean: 98.7404671184666, fitness_min: 92 theta: 98, population_size: 33702\n",
      "fitness_max: 100, fitness_mean: 98.78316366079272, fitness_min: 94 theta: 98, population_size: 38085\n",
      "fitness_max: 100, fitness_mean: 98.81750029012417, fitness_min: 93 theta: 98, population_size: 42486\n",
      "fitness_max: 100, fitness_mean: 98.84846059891336, fitness_min: 92 theta: 98, population_size: 46932\n",
      "fitness_max: 100, fitness_mean: 98.872390818763, fitness_min: 93 theta: 98, population_size: 51396\n",
      "fitness_max: 100, fitness_mean: 98.89415916022413, fitness_min: 92 theta: 98, population_size: 55893\n",
      "fitness_max: 100, fitness_mean: 98.91355328198644, fitness_min: 93 theta: 98, population_size: 60419\n",
      "fitness_max: 100, fitness_mean: 98.93096806738103, fitness_min: 93 theta: 98, population_size: 64927\n",
      "fitness_max: 100, fitness_mean: 98.9478885123057, fitness_min: 94 theta: 99, population_size: 47219\n",
      "fitness_max: 100, fitness_mean: 99.416821463452, fitness_min: 96 theta: 99, population_size: 51633\n",
      "fitness_max: 100, fitness_mean: 99.4372009252556, fitness_min: 95 theta: 99, population_size: 56130\n",
      "fitness_max: 100, fitness_mean: 99.45210207753966, fitness_min: 95 theta: 99, population_size: 60621\n",
      "fitness_max: 100, fitness_mean: 99.46383017631551, fitness_min: 94 theta: 99, population_size: 65086\n",
      "fitness_max: 100, fitness_mean: 99.47806979996005, fitness_min: 95 theta: 99, population_size: 69591\n",
      "fitness_max: 100, fitness_mean: 99.49046131570833, fitness_min: 95 theta: 99, population_size: 74124\n",
      "fitness_max: 100, fitness_mean: 99.4994059956524, fitness_min: 95 theta: 99, population_size: 78651\n",
      "fitness_max: 100, fitness_mean: 99.50824257928775, fitness_min: 96 theta: 99, population_size: 83215\n",
      "fitness_max: 100, fitness_mean: 99.5168735475826, fitness_min: 94 theta: 99, population_size: 87780\n",
      "fitness_max: 100, fitness_mean: 99.5257921965941, fitness_min: 95 theta: 99, population_size: 92387\n",
      "fitness_max: 100, fitness_mean: 99.53262755809297, fitness_min: 96 theta: 99, population_size: 96970\n",
      "fitness_max: 100, fitness_mean: 99.53902128076885, fitness_min: 96 theta: 99, population_size: 101563\n"
     ]
    },
    {
     "data": {
      "text/html": [
       "Waiting for W&B process to finish... <strong style=\"color:green\">(success).</strong>"
      ],
      "text/plain": [
       "<IPython.core.display.HTML object>"
      ]
     },
     "metadata": {},
     "output_type": "display_data"
    },
    {
     "data": {
      "application/vnd.jupyter.widget-view+json": {
       "model_id": "d667efe310e743e48f7124608164ec6c",
       "version_major": 2,
       "version_minor": 0
      },
      "text/plain": [
       "VBox(children=(Label(value='0.002 MB of 0.002 MB uploaded (0.000 MB deduped)\\r'), FloatProgress(value=1.0, max…"
      ]
     },
     "metadata": {},
     "output_type": "display_data"
    },
    {
     "data": {
      "text/html": [
       "<style>\n",
       "    table.wandb td:nth-child(1) { padding: 0 10px; text-align: left ; width: auto;} td:nth-child(2) {text-align: left ; width: 100%}\n",
       "    .wandb-row { display: flex; flex-direction: row; flex-wrap: wrap; justify-content: flex-start; width: 100% }\n",
       "    .wandb-col { display: flex; flex-direction: column; flex-basis: 100%; flex: 1; padding: 10px; }\n",
       "    </style>\n",
       "<div class=\"wandb-row\"><div class=\"wandb-col\"><h3>Run history:</h3><br/><table class=\"wandb\"><tr><td>fitness_max</td><td>▁▁▂▂▂▂▂▂▂▂▂▂▂▄▄▄▄▄▄▅▅▅▅▆▇▇██████████████</td></tr><tr><td>fitness_mean</td><td>▁▁▂▂▂▂▂▂▃▃▃▃▃▃▃▃▃▃▄▄▄▄▅▅▆▆▇▇▇███████████</td></tr><tr><td>fitness_min</td><td>▁▁▁▁▁▁▂▂▂▂▂▂▂▂▂▂▂▃▃▃▃▃▄▄▅▅▆▆▆▇▇▇▇▇▇█▇███</td></tr></table><br/></div><div class=\"wandb-col\"><h3>Run summary:</h3><br/><table class=\"wandb\"><tr><td>fitness_max</td><td>100</td></tr><tr><td>fitness_mean</td><td>99.54594</td></tr><tr><td>fitness_min</td><td>99</td></tr></table><br/></div></div>"
      ],
      "text/plain": [
       "<IPython.core.display.HTML object>"
      ]
     },
     "metadata": {},
     "output_type": "display_data"
    },
    {
     "data": {
      "text/html": [
       " View run <strong style=\"color:#cdcd00\">sandy-surf-233</strong> at: <a href='https://wandb.ai/pgrabinski/Algorytmy%20Ewolucyjne-List%204_List%204/runs/5jcspl87' target=\"_blank\">https://wandb.ai/pgrabinski/Algorytmy%20Ewolucyjne-List%204_List%204/runs/5jcspl87</a><br/> View job at <a href='https://wandb.ai/pgrabinski/Algorytmy%20Ewolucyjne-List%204_List%204/jobs/QXJ0aWZhY3RDb2xsZWN0aW9uOjEyODMxMzE0Mw==/version_details/v4' target=\"_blank\">https://wandb.ai/pgrabinski/Algorytmy%20Ewolucyjne-List%204_List%204/jobs/QXJ0aWZhY3RDb2xsZWN0aW9uOjEyODMxMzE0Mw==/version_details/v4</a><br/>Synced 5 W&B file(s), 0 media file(s), 0 artifact file(s) and 0 other file(s)"
      ],
      "text/plain": [
       "<IPython.core.display.HTML object>"
      ]
     },
     "metadata": {},
     "output_type": "display_data"
    },
    {
     "data": {
      "text/html": [
       "Find logs at: <code>./wandb/run-20240108_222545-5jcspl87/logs</code>"
      ],
      "text/plain": [
       "<IPython.core.display.HTML object>"
      ]
     },
     "metadata": {},
     "output_type": "display_data"
    },
    {
     "data": {
      "application/vnd.jupyter.widget-view+json": {
       "model_id": "f1571171866b4646b481f907acdc42bf",
       "version_major": 2,
       "version_minor": 0
      },
      "text/plain": [
       "VBox(children=(Label(value='Waiting for wandb.init()...\\r'), FloatProgress(value=0.01111591358914868, max=1.0)…"
      ]
     },
     "metadata": {},
     "output_type": "display_data"
    },
    {
     "data": {
      "text/html": [
       "wandb version 0.16.1 is available!  To upgrade, please run:\n",
       " $ pip install wandb --upgrade"
      ],
      "text/plain": [
       "<IPython.core.display.HTML object>"
      ]
     },
     "metadata": {},
     "output_type": "display_data"
    },
    {
     "data": {
      "text/html": [
       "Tracking run with wandb version 0.15.12"
      ],
      "text/plain": [
       "<IPython.core.display.HTML object>"
      ]
     },
     "metadata": {},
     "output_type": "display_data"
    },
    {
     "data": {
      "text/html": [
       "Run data is saved locally in <code>/workspaces/Algorytmy Ewolucyjne/List 4/wandb/run-20240108_224731-m2rxwedf</code>"
      ],
      "text/plain": [
       "<IPython.core.display.HTML object>"
      ]
     },
     "metadata": {},
     "output_type": "display_data"
    },
    {
     "data": {
      "text/html": [
       "Syncing run <strong><a href='https://wandb.ai/pgrabinski/Algorytmy%20Ewolucyjne-List%204_List%204/runs/m2rxwedf' target=\"_blank\">daily-dew-234</a></strong> to <a href='https://wandb.ai/pgrabinski/Algorytmy%20Ewolucyjne-List%204_List%204' target=\"_blank\">Weights & Biases</a> (<a href='https://wandb.me/run' target=\"_blank\">docs</a>)<br/>"
      ],
      "text/plain": [
       "<IPython.core.display.HTML object>"
      ]
     },
     "metadata": {},
     "output_type": "display_data"
    },
    {
     "data": {
      "text/html": [
       " View project at <a href='https://wandb.ai/pgrabinski/Algorytmy%20Ewolucyjne-List%204_List%204' target=\"_blank\">https://wandb.ai/pgrabinski/Algorytmy%20Ewolucyjne-List%204_List%204</a>"
      ],
      "text/plain": [
       "<IPython.core.display.HTML object>"
      ]
     },
     "metadata": {},
     "output_type": "display_data"
    },
    {
     "data": {
      "text/html": [
       " View run at <a href='https://wandb.ai/pgrabinski/Algorytmy%20Ewolucyjne-List%204_List%204/runs/m2rxwedf' target=\"_blank\">https://wandb.ai/pgrabinski/Algorytmy%20Ewolucyjne-List%204_List%204/runs/m2rxwedf</a>"
      ],
      "text/plain": [
       "<IPython.core.display.HTML object>"
      ]
     },
     "metadata": {},
     "output_type": "display_data"
    },
    {
     "name": "stdout",
     "output_type": "stream",
     "text": [
      "fitness_max: 80, fitness_mean: 57.8486, fitness_min: 37 theta: 55, population_size: 10873\n",
      "fitness_max: 80, fitness_mean: 59.64675864675865, fitness_min: 41 theta: 57, population_size: 11892\n",
      "fitness_max: 80, fitness_mean: 60.534750177598866, fitness_min: 39 theta: 58, population_size: 13137\n",
      "fitness_max: 80, fitness_mean: 61.15972873132271, fitness_min: 41 theta: 59, population_size: 13793\n",
      "fitness_max: 80, fitness_mean: 61.768105145532914, fitness_min: 42 theta: 60, population_size: 13885\n",
      "fitness_max: 80, fitness_mean: 62.37638337304739, fitness_min: 41 theta: 61, population_size: 13483\n",
      "fitness_max: 81, fitness_mean: 62.904452740356, fitness_min: 41 theta: 62, population_size: 12584\n",
      "fitness_max: 81, fitness_mean: 63.47503412192903, fitness_min: 44 theta: 62, population_size: 14319\n",
      "fitness_max: 81, fitness_mean: 63.642942181272325, fitness_min: 43 theta: 62, population_size: 16067\n",
      "fitness_max: 81, fitness_mean: 63.79095267479945, fitness_min: 41 theta: 63, population_size: 14267\n",
      "fitness_max: 83, fitness_mean: 64.30238231172471, fitness_min: 41 theta: 63, population_size: 15798\n",
      "fitness_max: 83, fitness_mean: 64.46042888739302, fitness_min: 44 theta: 63, population_size: 17323\n",
      "fitness_max: 83, fitness_mean: 64.59736594543745, fitness_min: 43 theta: 63, population_size: 18937\n",
      "fitness_max: 86, fitness_mean: 64.70861010151648, fitness_min: 42 theta: 64, population_size: 16218\n",
      "fitness_max: 86, fitness_mean: 65.2575643321708, fitness_min: 43 theta: 64, population_size: 17692\n",
      "fitness_max: 86, fitness_mean: 65.3649744403314, fitness_min: 41 theta: 64, population_size: 19176\n",
      "fitness_max: 86, fitness_mean: 65.4828755790867, fitness_min: 42 theta: 64, population_size: 20715\n",
      "fitness_max: 86, fitness_mean: 65.57608399766673, fitness_min: 45 theta: 64, population_size: 22238\n",
      "fitness_max: 86, fitness_mean: 65.66572435567957, fitness_min: 44 theta: 65, population_size: 18396\n",
      "fitness_max: 86, fitness_mean: 66.19994870918106, fitness_min: 44 theta: 65, population_size: 19708\n",
      "fitness_max: 86, fitness_mean: 66.33187631536344, fitness_min: 42 theta: 65, population_size: 21170\n",
      "fitness_max: 86, fitness_mean: 66.42323270920902, fitness_min: 42 theta: 65, population_size: 22617\n",
      "fitness_max: 86, fitness_mean: 66.50620994315096, fitness_min: 45 theta: 65, population_size: 24117\n",
      "fitness_max: 86, fitness_mean: 66.5697015489233, fitness_min: 45 theta: 66, population_size: 19549\n",
      "fitness_max: 86, fitness_mean: 67.12191942645322, fitness_min: 46 theta: 66, population_size: 20842\n",
      "fitness_max: 86, fitness_mean: 67.23368934293012, fitness_min: 45 theta: 66, population_size: 22144\n",
      "fitness_max: 86, fitness_mean: 67.3319702328323, fitness_min: 44 theta: 66, population_size: 23524\n",
      "fitness_max: 86, fitness_mean: 67.42848127892302, fitness_min: 44 theta: 66, population_size: 24962\n",
      "fitness_max: 86, fitness_mean: 67.50390494626527, fitness_min: 45 theta: 66, population_size: 26437\n",
      "fitness_max: 86, fitness_mean: 67.57247828991316, fitness_min: 45 theta: 66, population_size: 27975\n",
      "fitness_max: 86, fitness_mean: 67.66671721000758, fitness_min: 46 theta: 67, population_size: 22309\n",
      "fitness_max: 86, fitness_mean: 68.21967117067634, fitness_min: 47 theta: 67, population_size: 23633\n",
      "fitness_max: 86, fitness_mean: 68.3307721859393, fitness_min: 47 theta: 67, population_size: 25017\n",
      "fitness_max: 86, fitness_mean: 68.41956224805944, fitness_min: 47 theta: 67, population_size: 26487\n",
      "fitness_max: 86, fitness_mean: 68.47581541588592, fitness_min: 47 theta: 67, population_size: 27906\n",
      "fitness_max: 86, fitness_mean: 68.58393606029296, fitness_min: 47 theta: 68, population_size: 22067\n",
      "fitness_max: 86, fitness_mean: 69.15842169431411, fitness_min: 47 theta: 68, population_size: 23444\n",
      "fitness_max: 86, fitness_mean: 69.25256644635073, fitness_min: 48 theta: 68, population_size: 24900\n",
      "fitness_max: 86, fitness_mean: 69.33367892976588, fitness_min: 47 theta: 68, population_size: 26404\n",
      "fitness_max: 86, fitness_mean: 69.42093363902687, fitness_min: 48 theta: 68, population_size: 27964\n",
      "fitness_max: 87, fitness_mean: 69.52721150345832, fitness_min: 50 theta: 68, population_size: 29603\n",
      "fitness_max: 87, fitness_mean: 69.5809033898795, fitness_min: 46 theta: 69, population_size: 23252\n",
      "fitness_max: 87, fitness_mean: 70.19786209825853, fitness_min: 48 theta: 69, population_size: 24747\n",
      "fitness_max: 87, fitness_mean: 70.30211449894107, fitness_min: 51 theta: 69, population_size: 26288\n",
      "fitness_max: 87, fitness_mean: 70.4221426745078, fitness_min: 49 theta: 69, population_size: 28006\n",
      "fitness_max: 87, fitness_mean: 70.50196933890808, fitness_min: 51 theta: 69, population_size: 29731\n",
      "fitness_max: 87, fitness_mean: 70.58397397138003, fitness_min: 49 theta: 69, population_size: 31537\n",
      "fitness_max: 87, fitness_mean: 70.65374825519336, fitness_min: 51 theta: 70, population_size: 24693\n",
      "fitness_max: 87, fitness_mean: 71.35499949483044, fitness_min: 48 theta: 70, population_size: 26483\n",
      "fitness_max: 87, fitness_mean: 71.4506241463647, fitness_min: 52 theta: 70, population_size: 28321\n",
      "fitness_max: 87, fitness_mean: 71.54437141742444, fitness_min: 50 theta: 70, population_size: 30243\n",
      "fitness_max: 87, fitness_mean: 71.62880572028487, fitness_min: 50 theta: 70, population_size: 32206\n",
      "fitness_max: 87, fitness_mean: 71.73501585765737, fitness_min: 52 theta: 71, population_size: 25284\n",
      "fitness_max: 87, fitness_mean: 72.44026548672566, fitness_min: 53 theta: 71, population_size: 27240\n",
      "fitness_max: 89, fitness_mean: 72.56761786600497, fitness_min: 53 theta: 71, population_size: 29294\n",
      "fitness_max: 89, fitness_mean: 72.65769522365429, fitness_min: 52 theta: 71, population_size: 31376\n",
      "fitness_max: 89, fitness_mean: 72.76129865845613, fitness_min: 54 theta: 72, population_size: 24776\n",
      "fitness_max: 89, fitness_mean: 73.51071332616873, fitness_min: 52 theta: 72, population_size: 26917\n",
      "fitness_max: 89, fitness_mean: 73.62935112949212, fitness_min: 52 theta: 72, population_size: 29179\n",
      "fitness_max: 89, fitness_mean: 73.75087041750783, fitness_min: 55 theta: 73, population_size: 23160\n",
      "fitness_max: 89, fitness_mean: 74.559765625, fitness_min: 54 theta: 73, population_size: 25586\n",
      "fitness_max: 89, fitness_mean: 74.69499117243183, fitness_min: 57 theta: 74, population_size: 20610\n",
      "fitness_max: 89, fitness_mean: 75.50296759078485, fitness_min: 56 theta: 74, population_size: 23080\n",
      "fitness_max: 89, fitness_mean: 75.68340455840456, fitness_min: 60 theta: 74, population_size: 25679\n",
      "fitness_max: 89, fitness_mean: 75.85775286026272, fitness_min: 57 theta: 75, population_size: 21031\n",
      "fitness_max: 89, fitness_mean: 76.7186431562368, fitness_min: 55 theta: 76, population_size: 17517\n",
      "fitness_max: 90, fitness_mean: 77.638006839277, fitness_min: 58 theta: 76, population_size: 20363\n",
      "fitness_max: 91, fitness_mean: 77.856207861846, fitness_min: 60 theta: 77, population_size: 17418\n",
      "fitness_max: 92, fitness_mean: 78.77941832456062, fitness_min: 63 theta: 78, population_size: 15219\n",
      "fitness_max: 92, fitness_mean: 79.7577526089322, fitness_min: 62 theta: 79, population_size: 13584\n",
      "fitness_max: 93, fitness_mean: 80.78911967283685, fitness_min: 65 theta: 80, population_size: 12670\n",
      "fitness_max: 93, fitness_mean: 81.82642897566497, fitness_min: 66 theta: 81, population_size: 12066\n",
      "fitness_max: 96, fitness_mean: 82.91515293566155, fitness_min: 69 theta: 82, population_size: 11869\n",
      "fitness_max: 96, fitness_mean: 83.97871835912028, fitness_min: 69 theta: 83, population_size: 11901\n",
      "fitness_max: 96, fitness_mean: 85.01289864505058, fitness_min: 70 theta: 84, population_size: 11967\n",
      "fitness_max: 97, fitness_mean: 86.048034419756, fitness_min: 73 theta: 85, population_size: 12217\n",
      "fitness_max: 97, fitness_mean: 87.06005692048556, fitness_min: 73 theta: 86, population_size: 12485\n",
      "fitness_max: 98, fitness_mean: 88.04506720045754, fitness_min: 76 theta: 87, population_size: 12706\n",
      "fitness_max: 98, fitness_mean: 88.99774087879815, fitness_min: 76 theta: 88, population_size: 12872\n",
      "fitness_max: 100, fitness_mean: 89.94220008952551, fitness_min: 77 theta: 89, population_size: 12906\n",
      "fitness_max: 100, fitness_mean: 90.86496146543058, fitness_min: 78 theta: 90, population_size: 12846\n",
      "fitness_max: 100, fitness_mean: 91.75484702454331, fitness_min: 80 theta: 91, population_size: 12597\n",
      "fitness_max: 100, fitness_mean: 92.68579871569017, fitness_min: 82 theta: 92, population_size: 12429\n",
      "fitness_max: 100, fitness_mean: 93.55671581846347, fitness_min: 82 theta: 93, population_size: 12032\n",
      "fitness_max: 100, fitness_mean: 94.42549318929075, fitness_min: 84 theta: 94, population_size: 11469\n",
      "fitness_max: 100, fitness_mean: 95.27226911166434, fitness_min: 85 theta: 94, population_size: 15408\n",
      "fitness_max: 100, fitness_mean: 95.4921599372795, fitness_min: 87 theta: 95, population_size: 14184\n",
      "fitness_max: 100, fitness_mean: 96.25583819849875, fitness_min: 88 theta: 95, population_size: 18281\n",
      "fitness_max: 100, fitness_mean: 96.39809286542675, fitness_min: 87 theta: 96, population_size: 16253\n",
      "fitness_max: 100, fitness_mean: 97.0813061685409, fitness_min: 89 theta: 96, population_size: 20383\n",
      "fitness_max: 100, fitness_mean: 97.20068549816807, fitness_min: 91 theta: 96, population_size: 24624\n",
      "fitness_max: 100, fitness_mean: 97.28817850391574, fitness_min: 89 theta: 97, population_size: 20550\n",
      "fitness_max: 100, fitness_mean: 97.91013698630137, fitness_min: 91 theta: 97, population_size: 24769\n",
      "fitness_max: 100, fitness_mean: 97.98286808424872, fitness_min: 92 theta: 97, population_size: 29028\n",
      "fitness_max: 100, fitness_mean: 98.04508052192313, fitness_min: 92 theta: 97, population_size: 33340\n",
      "fitness_max: 100, fitness_mean: 98.09851330203443, fitness_min: 92 theta: 98, population_size: 25768\n",
      "fitness_max: 100, fitness_mean: 98.6696242849714, fitness_min: 92 theta: 98, population_size: 30034\n",
      "fitness_max: 100, fitness_mean: 98.7189016384084, fitness_min: 93 theta: 98, population_size: 34339\n",
      "fitness_max: 100, fitness_mean: 98.76435598261267, fitness_min: 93 theta: 98, population_size: 38699\n",
      "fitness_max: 100, fitness_mean: 98.79761550607566, fitness_min: 93 theta: 98, population_size: 43082\n",
      "fitness_max: 100, fitness_mean: 98.82719104862527, fitness_min: 92 theta: 98, population_size: 47509\n",
      "fitness_max: 100, fitness_mean: 98.85423451217886, fitness_min: 94 theta: 98, population_size: 51999\n",
      "fitness_max: 100, fitness_mean: 98.8765767820488, fitness_min: 94 theta: 98, population_size: 56469\n",
      "fitness_max: 100, fitness_mean: 98.8946623501277, fitness_min: 94 theta: 98, population_size: 60945\n",
      "fitness_max: 100, fitness_mean: 98.91253317158238, fitness_min: 91 theta: 98, population_size: 65452\n",
      "fitness_max: 100, fitness_mean: 98.92878839493557, fitness_min: 93 theta: 98, population_size: 69999\n",
      "fitness_max: 100, fitness_mean: 98.94465259536794, fitness_min: 93 theta: 99, population_size: 50476\n",
      "fitness_max: 100, fitness_mean: 99.41280914269234, fitness_min: 95 theta: 99, population_size: 54863\n",
      "fitness_max: 100, fitness_mean: 99.43024906870689, fitness_min: 94 theta: 99, population_size: 59285\n",
      "fitness_max: 100, fitness_mean: 99.44629384770941, fitness_min: 95 theta: 99, population_size: 63753\n",
      "fitness_max: 100, fitness_mean: 99.45938359053423, fitness_min: 95 theta: 99, population_size: 68237\n",
      "fitness_max: 100, fitness_mean: 99.47247975749963, fitness_min: 95 theta: 99, population_size: 72772\n",
      "fitness_max: 100, fitness_mean: 99.48271871624749, fitness_min: 95 theta: 99, population_size: 77282\n",
      "fitness_max: 100, fitness_mean: 99.4932184438881, fitness_min: 95 theta: 99, population_size: 81804\n",
      "fitness_max: 100, fitness_mean: 99.50296069305561, fitness_min: 95 theta: 99, population_size: 86375\n",
      "fitness_max: 100, fitness_mean: 99.51172640218878, fitness_min: 94 theta: 99, population_size: 90957\n",
      "fitness_max: 100, fitness_mean: 99.51802369811477, fitness_min: 96 theta: 99, population_size: 95487\n",
      "fitness_max: 100, fitness_mean: 99.52625712778767, fitness_min: 94 theta: 99, population_size: 100085\n"
     ]
    },
    {
     "data": {
      "text/html": [
       "Waiting for W&B process to finish... <strong style=\"color:green\">(success).</strong>"
      ],
      "text/plain": [
       "<IPython.core.display.HTML object>"
      ]
     },
     "metadata": {},
     "output_type": "display_data"
    },
    {
     "data": {
      "application/vnd.jupyter.widget-view+json": {
       "model_id": "5352dc33587544eda4f82c01bb1e4967",
       "version_major": 2,
       "version_minor": 0
      },
      "text/plain": [
       "VBox(children=(Label(value='0.002 MB of 0.002 MB uploaded (0.000 MB deduped)\\r'), FloatProgress(value=1.0, max…"
      ]
     },
     "metadata": {},
     "output_type": "display_data"
    },
    {
     "data": {
      "text/html": [
       "<style>\n",
       "    table.wandb td:nth-child(1) { padding: 0 10px; text-align: left ; width: auto;} td:nth-child(2) {text-align: left ; width: 100%}\n",
       "    .wandb-row { display: flex; flex-direction: row; flex-wrap: wrap; justify-content: flex-start; width: 100% }\n",
       "    .wandb-col { display: flex; flex-direction: column; flex-basis: 100%; flex: 1; padding: 10px; }\n",
       "    </style>\n",
       "<div class=\"wandb-row\"><div class=\"wandb-col\"><h3>Run history:</h3><br/><table class=\"wandb\"><tr><td>fitness_max</td><td>▁▁▁▁▂▃▃▃▃▃▃▃▃▃▃▃▃▃▄▄▄▄▅▅▇▇▇█████████████</td></tr><tr><td>fitness_mean</td><td>▁▂▂▂▂▂▂▂▃▃▃▃▃▃▃▃▃▃▃▄▄▄▄▅▅▆▆▇▇▇██████████</td></tr><tr><td>fitness_min</td><td>▁▁▁▁▂▁▂▂▂▂▂▂▂▂▂▃▂▂▃▃▃▄▃▄▅▅▅▆▆▇▇▇▇▇▇▇▇███</td></tr></table><br/></div><div class=\"wandb-col\"><h3>Run summary:</h3><br/><table class=\"wandb\"><tr><td>fitness_max</td><td>100</td></tr><tr><td>fitness_mean</td><td>99.5334</td></tr><tr><td>fitness_min</td><td>99</td></tr></table><br/></div></div>"
      ],
      "text/plain": [
       "<IPython.core.display.HTML object>"
      ]
     },
     "metadata": {},
     "output_type": "display_data"
    },
    {
     "data": {
      "text/html": [
       " View run <strong style=\"color:#cdcd00\">daily-dew-234</strong> at: <a href='https://wandb.ai/pgrabinski/Algorytmy%20Ewolucyjne-List%204_List%204/runs/m2rxwedf' target=\"_blank\">https://wandb.ai/pgrabinski/Algorytmy%20Ewolucyjne-List%204_List%204/runs/m2rxwedf</a><br/> View job at <a href='https://wandb.ai/pgrabinski/Algorytmy%20Ewolucyjne-List%204_List%204/jobs/QXJ0aWZhY3RDb2xsZWN0aW9uOjEyODMxMzE0Mw==/version_details/v4' target=\"_blank\">https://wandb.ai/pgrabinski/Algorytmy%20Ewolucyjne-List%204_List%204/jobs/QXJ0aWZhY3RDb2xsZWN0aW9uOjEyODMxMzE0Mw==/version_details/v4</a><br/>Synced 5 W&B file(s), 0 media file(s), 0 artifact file(s) and 0 other file(s)"
      ],
      "text/plain": [
       "<IPython.core.display.HTML object>"
      ]
     },
     "metadata": {},
     "output_type": "display_data"
    },
    {
     "data": {
      "text/html": [
       "Find logs at: <code>./wandb/run-20240108_224731-m2rxwedf/logs</code>"
      ],
      "text/plain": [
       "<IPython.core.display.HTML object>"
      ]
     },
     "metadata": {},
     "output_type": "display_data"
    }
   ],
   "source": [
    "for i in tqdm(range(5)):\n",
    "    run_experiment(configs[0])"
   ]
  },
  {
   "cell_type": "code",
   "execution_count": null,
   "id": "7c41e51d-3fea-456d-a92e-e7bfa307b3b3",
   "metadata": {},
   "outputs": [],
   "source": []
  }
 ],
 "metadata": {
  "kernelspec": {
   "display_name": "Python 3 (ipykernel)",
   "language": "python",
   "name": "python3"
  },
  "language_info": {
   "codemirror_mode": {
    "name": "ipython",
    "version": 3
   },
   "file_extension": ".py",
   "mimetype": "text/x-python",
   "name": "python",
   "nbconvert_exporter": "python",
   "pygments_lexer": "ipython3",
   "version": "3.11.6"
  }
 },
 "nbformat": 4,
 "nbformat_minor": 5
}
