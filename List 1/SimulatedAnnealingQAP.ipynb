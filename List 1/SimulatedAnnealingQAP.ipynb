{
 "cells": [
  {
   "cell_type": "markdown",
   "metadata": {
    "id": "CqWJwAqNQu4D"
   },
   "source": [
    "# QAP Problem Solving with Simulated Annealing\n",
    "\n",
    "Zadanie 1. (4 punkty)\n",
    "Zapoznaj się z algorytmem symulowanego wyżarzania (ang. Simulated Annealing, SA)\n",
    "wykonując skrypt Pythona umieszczony w materiałach do wykładu. Przedstawia on\n",
    "zastosowanie algorytmu SA do rozwiązywania problemu Quadratic Assignment Problem\n",
    "(QAP) omówionego na wykładzie.\n",
    "\n",
    "1. Postaraj się dobrać parametry algorytmu SA umożliwiające rozwiązywanie problemu\n",
    "QAP dla kilku innych instancji.\n",
    "1. Histogram w skrypcie pokazuje jaki jest rozkład wartości funkcji celu dla rozwiązań\n",
    "generowanych losowo. Zrób podobny histogram dla rozwiązań generowanych algorytmem\n",
    "SA (dla ustalonej instancji QAP i ustalonych parametrów algorytmu). Będzie to wymagać\n",
    "wielu uruchomień algorytmu i zapewne długich obliczeń.\n",
    "1. Sprawdź ile jest \"sukcesów\" (rozwiązanie q lepsze niż rozwiązanie p) i \"akceptowanych\n",
    "porażek\" (rozwiązanie q gorsze niż rozwiązanie p, ale zaakceptowane) w kolejnych\n",
    "iteracjach algorytmu SA (w miarę upływu czasu, \"sukcesy\" i \"akceptowalne porażki\" są\n",
    "coraz rzadsze) dla kilku wybranych ustawień parametrów algorytmu. Zilustruj to zjawisko\n",
    "wykresem.\n",
    "1. Jak można mierzyć odległość między permutacjami? Sprawdź jaka jest zależność\n",
    "między zmianami wartości funkcji celu f(p) - f(q) w sukcesach, a odległością między\n",
    "permutacjami p i q. Zilustruj to wykresem.\n",
    "1. Spróbuj ulepszyć algorytm proponując inny warunek akceptowania porażki."
   ]
  },
  {
   "cell_type": "code",
   "execution_count": 1,
   "metadata": {
    "id": "T02ryKmhQXe5"
   },
   "outputs": [],
   "source": [
    "import numpy as np\n",
    "import matplotlib.pyplot as plt\n",
    "import time\n",
    "import urllib.request\n",
    "from tqdm.notebook import tqdm, trange\n",
    "from joblib import Parallel, delayed\n",
    "\n",
    "%matplotlib inline"
   ]
  },
  {
   "cell_type": "markdown",
   "metadata": {
    "id": "48vP4i7USNHa"
   },
   "source": [
    "## Problem loader"
   ]
  },
  {
   "cell_type": "code",
   "execution_count": 2,
   "metadata": {
    "id": "CGWedGWpQumL"
   },
   "outputs": [],
   "source": [
    "def download_QAP_data(url, verbose=False):\n",
    "    with urllib.request.urlopen(url) as qap_instance_file:\n",
    "        line = qap_instance_file.readline()\n",
    "        n = int(line.decode()[:-1].split()[0])\n",
    "        if verbose:\n",
    "            print(f'Problem size: {n}')\n",
    "\n",
    "        A = np.empty((n, n))\n",
    "        qap_instance_file.readline()\n",
    "        for i in range(n):\n",
    "            line = qap_instance_file.readline()\n",
    "            A[i, :] = list(map(int, line.decode()[:-1].split()))\n",
    "        if verbose:\n",
    "            print(f'Flow matrix:\\n{A}')\n",
    "\n",
    "        B = np.empty((n, n))\n",
    "        qap_instance_file.readline()\n",
    "        for i in range(n):\n",
    "            line = qap_instance_file.readline()\n",
    "            B[i, :] = list(map(int, line.decode()[:-1].split()))\n",
    "        if verbose:\n",
    "            print(f'Distance matrix:\\n{B}')\n",
    "        return n, A, B"
   ]
  },
  {
   "cell_type": "code",
   "execution_count": 3,
   "metadata": {
    "colab": {
     "base_uri": "https://localhost:8080/"
    },
    "id": "ZclI7zR3Rn1f",
    "outputId": "19fc61f8-991b-43b9-e475-5d9b3f1eee69"
   },
   "outputs": [
    {
     "data": {
      "text/plain": [
       "(12,\n",
       " array([[0., 1., 2., 3., 1., 2., 3., 4., 2., 3., 4., 5.],\n",
       "        [1., 0., 1., 2., 2., 1., 2., 3., 3., 2., 3., 4.],\n",
       "        [2., 1., 0., 1., 3., 2., 1., 2., 4., 3., 2., 3.],\n",
       "        [3., 2., 1., 0., 4., 3., 2., 1., 5., 4., 3., 2.],\n",
       "        [1., 2., 3., 4., 0., 1., 2., 3., 1., 2., 3., 4.],\n",
       "        [2., 1., 2., 3., 1., 0., 1., 2., 2., 1., 2., 3.],\n",
       "        [3., 2., 1., 2., 2., 1., 0., 1., 3., 2., 1., 2.],\n",
       "        [4., 3., 2., 1., 3., 2., 1., 0., 4., 3., 2., 1.],\n",
       "        [2., 3., 4., 5., 1., 2., 3., 4., 0., 1., 2., 3.],\n",
       "        [3., 2., 3., 4., 2., 1., 2., 3., 1., 0., 1., 2.],\n",
       "        [4., 3., 2., 3., 3., 2., 1., 2., 2., 1., 0., 1.],\n",
       "        [5., 4., 3., 2., 4., 3., 2., 1., 3., 2., 1., 0.]]),\n",
       " array([[ 0.,  5.,  2.,  4.,  1.,  0.,  0.,  6.,  2.,  1.,  1.,  1.],\n",
       "        [ 5.,  0.,  3.,  0.,  2.,  2.,  2.,  0.,  4.,  5.,  0.,  0.],\n",
       "        [ 2.,  3.,  0.,  0.,  0.,  0.,  0.,  5.,  5.,  2.,  2.,  2.],\n",
       "        [ 4.,  0.,  0.,  0.,  5.,  2.,  2., 10.,  0.,  0.,  5.,  5.],\n",
       "        [ 1.,  2.,  0.,  5.,  0., 10.,  0.,  0.,  0.,  5.,  1.,  1.],\n",
       "        [ 0.,  2.,  0.,  2., 10.,  0.,  5.,  1.,  1.,  5.,  4.,  0.],\n",
       "        [ 0.,  2.,  0.,  2.,  0.,  5.,  0., 10.,  5.,  2.,  3.,  3.],\n",
       "        [ 6.,  0.,  5., 10.,  0.,  1., 10.,  0.,  0.,  0.,  5.,  0.],\n",
       "        [ 2.,  4.,  5.,  0.,  0.,  1.,  5.,  0.,  0.,  0., 10., 10.],\n",
       "        [ 1.,  5.,  2.,  0.,  5.,  5.,  2.,  0.,  0.,  0.,  5.,  0.],\n",
       "        [ 1.,  0.,  2.,  5.,  1.,  4.,  3.,  5., 10.,  5.,  0.,  2.],\n",
       "        [ 1.,  0.,  2.,  5.,  1.,  0.,  3.,  0., 10.,  0.,  2.,  0.]]))"
      ]
     },
     "execution_count": 3,
     "metadata": {},
     "output_type": "execute_result"
    }
   ],
   "source": [
    "download_QAP_data('https://qaplib.mgi.polymtl.ca/data.d/nug12.dat')"
   ]
  },
  {
   "cell_type": "markdown",
   "metadata": {
    "id": "Sg-FIpVPSPQS"
   },
   "source": [
    "## Loss function"
   ]
  },
  {
   "cell_type": "code",
   "execution_count": 4,
   "metadata": {
    "id": "XamLVv8nRsf2"
   },
   "outputs": [],
   "source": [
    "def qap_objective_function(p, A, B):\n",
    "    s = 0.0\n",
    "    n = A.shape[0]\n",
    "    for i in range(n):\n",
    "        s += (A[i, :] * B[p[i], p]).sum()\n",
    "    return s"
   ]
  },
  {
   "cell_type": "code",
   "execution_count": 5,
   "metadata": {
    "colab": {
     "base_uri": "https://localhost:8080/"
    },
    "id": "RNU7mEYRSeoe",
    "outputId": "a1c04138-3b0d-4731-836b-3eae1ccc44f3"
   },
   "outputs": [
    {
     "data": {
      "text/plain": [
       "578.0"
      ]
     },
     "execution_count": 5,
     "metadata": {},
     "output_type": "execute_result"
    }
   ],
   "source": [
    "nug12 = download_QAP_data('https://qaplib.mgi.polymtl.ca/data.d/nug12.dat')\n",
    "qap_objective_function([11, 6, 8, 2, 3, 7, 10, 0, 4, 5, 9, 1], nug12[1], nug12[2])"
   ]
  },
  {
   "cell_type": "markdown",
   "metadata": {
    "id": "nJ4wnjm1S1HP"
   },
   "source": [
    "## Simulated Annealing"
   ]
  },
  {
   "cell_type": "code",
   "execution_count": 6,
   "metadata": {
    "id": "kZUAmIz-SvAm"
   },
   "outputs": [],
   "source": [
    "def random_neighbor(p, radius):\n",
    "    q = p.copy()\n",
    "    n = p.shape[0]\n",
    "    for r in range(radius):\n",
    "        i, j = np.random.choice(n, 2, replace=False)\n",
    "        q[i], q[j] = q[j], q[i]\n",
    "    return q"
   ]
  },
  {
   "cell_type": "code",
   "execution_count": 15,
   "metadata": {
    "id": "yw6kr5OIS-D-"
   },
   "outputs": [],
   "source": [
    "def simulate_annealing(n, T, radius, alpha, loss, verbose=0):\n",
    "    p = np.random.permutation(n)\n",
    "    p_cost = loss(p)\n",
    "    costs = np.zeros(T)\n",
    "    for t in trange(T, disable=(verbose==0)):\n",
    "        q = random_neighbor(p, radius)\n",
    "        q_cost = loss(q)\n",
    "        if(q_cost < p_cost):\n",
    "            p, p_cost = q, q_cost\n",
    "        elif(np.random.rand() < np.exp(- alpha * (q_cost - p_cost) * t/T)):\n",
    "            p, p_cost = q, q_cost\n",
    "        costs[t] = p_cost\n",
    "    if verbose>1:\n",
    "        print(f'Minimal loss value: {costs.min()}')\n",
    "    return costs\n",
    "\n",
    "def simulate_annealing_min_cost(n, T, radius, alpha, loss, verbose=0):\n",
    "    return simulate_annealing(n, T, radius, alpha, loss, verbose=verbose).min()"
   ]
  },
  {
   "cell_type": "code",
   "execution_count": 16,
   "metadata": {
    "colab": {
     "base_uri": "https://localhost:8080/",
     "height": 66,
     "referenced_widgets": [
      "9cab16fad4f94bc5878b6e676e470984",
      "ff08b8d53e4e4bdea56e107b16d0c6ee",
      "5503a872a164488280c3a4c191183c09",
      "77ef030a017e442898b71f3e8a24dc14",
      "751152c45c5a42c6b6eb969fb43b782f",
      "c2fc909b9b4747d39cda4f11f1f83688",
      "efdadb6e324949fcb21aed134da3a867",
      "0b6d4877757d42418c15a8c6c9d33de9",
      "98a80f3d59f140e5a095223a6bc87a15",
      "c4d70053526a4bb1bee20ea9fb4e9088",
      "edad7dce397145f4af681616c97589e4"
     ]
    },
    "id": "QbRMIHI7rz60",
    "outputId": "cd00d56f-828a-470e-ba71-837bcf772bbb"
   },
   "outputs": [
    {
     "data": {
      "application/vnd.jupyter.widget-view+json": {
       "model_id": "52f4fd0f27f445d6aa2fc3534641e097",
       "version_major": 2,
       "version_minor": 0
      },
      "text/plain": [
       "  0%|          | 0/500000 [00:00<?, ?it/s]"
      ]
     },
     "metadata": {},
     "output_type": "display_data"
    },
    {
     "name": "stdout",
     "output_type": "stream",
     "text": [
      "Minimal loss value: 578.0\n"
     ]
    }
   ],
   "source": [
    "nug12_costs = simulate_annealing(nug12[0], 500000, 1, 1., lambda x: qap_objective_function(x, nug12[1], nug12[2]), verbose=2)"
   ]
  },
  {
   "cell_type": "markdown",
   "metadata": {
    "id": "PLo6h-bOAFGD"
   },
   "source": [
    "### 1) Postaraj się dobrać parametry algorytmu SA umożliwiające rozwiązywanie problemu QAP dla kilku innych instancji."
   ]
  },
  {
   "cell_type": "code",
   "execution_count": 8,
   "metadata": {
    "id": "965CFUtfRDwE"
   },
   "outputs": [],
   "source": [
    "QAP_instances = [\n",
    "    ('https://qaplib.mgi.polymtl.ca/data.d/nug12.dat', 578, 400000, 2, .8),\n",
    "    ('https://qaplib.mgi.polymtl.ca/data.d/had12.dat', 1652, 500000, 1, .8),\n",
    "    ('https://qaplib.mgi.polymtl.ca/data.d/rou12.dat', 235528, 750000, 5, .5),\n",
    "    ('https://qaplib.mgi.polymtl.ca/data.d/scr12.dat', 31410, 750000, 3, .5),\n",
    "    ('https://qaplib.mgi.polymtl.ca/data.d/nug14.dat', 1014, 500000, 2, .5)\n",
    "]"
   ]
  },
  {
   "cell_type": "code",
   "execution_count": 19,
   "metadata": {
    "colab": {
     "base_uri": "https://localhost:8080/"
    },
    "id": "1ECStKSYsZzl",
    "outputId": "6ac87835-15ca-42ca-eaf7-e9525cdc27fe"
   },
   "outputs": [
    {
     "data": {
      "application/vnd.jupyter.widget-view+json": {
       "model_id": "743a36929e1b45769b71e8636c50f5ec",
       "version_major": 2,
       "version_minor": 0
      },
      "text/plain": [
       "  0%|          | 0/400000 [00:00<?, ?it/s]"
      ]
     },
     "metadata": {},
     "output_type": "display_data"
    },
    {
     "name": "stdout",
     "output_type": "stream",
     "text": [
      "Minimal loss value: 578.0\n",
      "Minimal loss value for the run: 578.0 vs global minimum: 578.\n"
     ]
    },
    {
     "data": {
      "application/vnd.jupyter.widget-view+json": {
       "model_id": "ba131f451c79463d814f757723578479",
       "version_major": 2,
       "version_minor": 0
      },
      "text/plain": [
       "  0%|          | 0/500000 [00:00<?, ?it/s]"
      ]
     },
     "metadata": {},
     "output_type": "display_data"
    },
    {
     "name": "stdout",
     "output_type": "stream",
     "text": [
      "Minimal loss value: 1652.0\n",
      "Minimal loss value for the run: 1652.0 vs global minimum: 1652.\n"
     ]
    },
    {
     "data": {
      "application/vnd.jupyter.widget-view+json": {
       "model_id": "2a3143cc2d9f4c64a38bd56e1f99cb39",
       "version_major": 2,
       "version_minor": 0
      },
      "text/plain": [
       "  0%|          | 0/750000 [00:00<?, ?it/s]"
      ]
     },
     "metadata": {},
     "output_type": "display_data"
    },
    {
     "name": "stdout",
     "output_type": "stream",
     "text": [
      "Minimal loss value: 240038.0\n",
      "Minimal loss value for the run: 240038.0 vs global minimum: 235528.\n"
     ]
    },
    {
     "data": {
      "application/vnd.jupyter.widget-view+json": {
       "model_id": "790aacc16d20483692c474aaaf3fc6dd",
       "version_major": 2,
       "version_minor": 0
      },
      "text/plain": [
       "  0%|          | 0/750000 [00:00<?, ?it/s]"
      ]
     },
     "metadata": {},
     "output_type": "display_data"
    },
    {
     "name": "stdout",
     "output_type": "stream",
     "text": [
      "Minimal loss value: 33006.0\n",
      "Minimal loss value for the run: 33006.0 vs global minimum: 31410.\n"
     ]
    },
    {
     "data": {
      "application/vnd.jupyter.widget-view+json": {
       "model_id": "a5924544ed664961a316ec5b204d4862",
       "version_major": 2,
       "version_minor": 0
      },
      "text/plain": [
       "  0%|          | 0/500000 [00:00<?, ?it/s]"
      ]
     },
     "metadata": {},
     "output_type": "display_data"
    },
    {
     "name": "stdout",
     "output_type": "stream",
     "text": [
      "Minimal loss value: 1016.0\n",
      "Minimal loss value for the run: 1016.0 vs global minimum: 1014.\n"
     ]
    }
   ],
   "source": [
    "sm_results = []\n",
    "for url, minimum, T, radius, alpha in QAP_instances:\n",
    "    data = download_QAP_data(url)\n",
    "    qap_costs = simulate_annealing(data[0], T, radius, alpha, lambda x: qap_objective_function(x, data[1], data[2]), verbose=2)\n",
    "    print(f'Minimal loss value for the run: {qap_costs.min()} vs global minimum: {minimum}.')\n",
    "    sm_results.append((url, qap_costs))"
   ]
  },
  {
   "cell_type": "markdown",
   "metadata": {
    "id": "XCgZ_sPEAcy7"
   },
   "source": [
    "### 2)  Histogram w skrypcie pokazuje jaki jest rozkład wartości funkcji celu dla rozwiązań generowanych losowo. Zrób podobny histogram dla rozwiązań generowanych algorytmem SA (dla ustalonej instancji QAP i ustalonych parametrów algorytmu). Będzie to wymagać wielu uruchomień algorytmu i zapewne długich obliczeń."
   ]
  },
  {
   "cell_type": "code",
   "execution_count": 68,
   "metadata": {
    "colab": {
     "base_uri": "https://localhost:8080/",
     "height": 405,
     "referenced_widgets": [
      "20281dca0b5f4d949e5f37866765faa7",
      "ff606b21b2bc4f50962ac8d8216d3c7f",
      "1cbcdc9d6d5b4f1ca241b10e96d6ea4b",
      "df5b92748a854e31bdebe2aa2cf3b5ba",
      "5f33144082024abeb7bf2ef15a2e63b1",
      "5ee3000738764375aa180e94a814a916",
      "ed757a5d240341bda5e3b20a2a1b552e",
      "11d4f37249024e33b6be09678dc91591",
      "5b98669f00d0463686754c5bb1005611",
      "76eccf304cc541b48af712eb7cdc8527",
      "ccb235addfeb42ea8faf80a6bfabdac9"
     ]
    },
    "id": "yBKXvy6YvXpj",
    "outputId": "79c5c43e-ff2f-40a9-c817-5fe66d1b196b"
   },
   "outputs": [],
   "source": [
    "short_runs = []\n",
    "data_for_short_runs = download_QAP_data('https://qaplib.mgi.polymtl.ca/data.d/nug12.dat')\n",
    "short_runs = Parallel(n_jobs=10, verbose=10)(delayed(simulate_annealing_min_cost)(data_for_short_runs[0], 500, 1, .8, lambda x: qap_objective_function(x, data_for_short_runs[1], data_for_short_runs[2]), verbose=0) for i in range(1000000))"
   ]
  },
  {
   "cell_type": "code",
   "execution_count": 69,
   "metadata": {
    "colab": {
     "base_uri": "https://localhost:8080/",
     "height": 542
    },
    "id": "yWTGzKNWBUMl",
    "outputId": "5afc7d81-2947-4408-8d14-edd40f0e4c5a"
   },
   "outputs": [
    {
     "name": "stderr",
     "output_type": "stream",
     "text": [
      "No artists with labels found to put in legend.  Note that artists whose label start with an underscore are ignored when legend() is called with no argument.\n"
     ]
    },
    {
     "data": {
      "image/png": "[encoded data removed]",
      "text/plain": [
       "<Figure size 640x480 with 1 Axes>"
      ]
     },
     "metadata": {},
     "output_type": "display_data"
    }
   ],
   "source": [
    "import matplotlib.pyplot as plt\n",
    "\n",
    "fig, ax = plt.subplots()\n",
    "\n",
    "ax.hist(short_runs, density=True, bins=100)\n",
    "ax.set_xlabel('QAP Loss')\n",
    "ax.set_ylabel('Percentage')\n",
    "ax.legend().remove()\n",
    "\n",
    "plt.show()"
   ]
  },
  {
   "cell_type": "markdown",
   "metadata": {
    "id": "fYJCX7joNJaz"
   },
   "source": [
    "### 3) Sprawdź ile jest \"sukcesów\" (rozwiązanie q lepsze niż rozwiązanie p) i \"akceptowanych porażek\" (rozwiązanie q gorsze niż rozwiązanie p, ale zaakceptowane) w kolejnych iteracjach algorytmu SA (w miarę upływu czasu, \"sukcesy\" i \"akceptowalne porażki\" są coraz rzadsze) dla kilku wybranych ustawień parametrów algorytmu. Zilustruj to zjawisko wykresem."
   ]
  },
  {
   "cell_type": "code",
   "execution_count": 13,
   "metadata": {
    "id": "m2yV7S3lCSHW"
   },
   "outputs": [],
   "source": [
    "def simulate_annealing_with_success_counting(n, T, radius, alpha, loss, verbose=0):\n",
    "    p = np.random.permutation(n)\n",
    "    p_cost = loss(p)\n",
    "    costs = np.zeros(T)\n",
    "    successes = [0]\n",
    "    accepted_failures = [0]\n",
    "    for t in trange(T, disable=(verbose==0)):\n",
    "        q = random_neighbor(p, radius)\n",
    "        q_cost = loss(q)\n",
    "        if(q_cost < p_cost):\n",
    "            p, p_cost = q, q_cost\n",
    "            successes.append(successes[-1]+1)\n",
    "            accepted_failures.append(accepted_failures[-1])\n",
    "        elif(np.random.rand() < np.exp(- alpha * (q_cost - p_cost) * t/T)):\n",
    "            p, p_cost = q, q_cost\n",
    "            successes.append(successes[-1])\n",
    "            accepted_failures.append(accepted_failures[-1]+1)\n",
    "        else:\n",
    "            successes.append(successes[-1])\n",
    "            accepted_failures.append(accepted_failures[-1])\n",
    "        costs[t] = p_cost\n",
    "    if verbose>1:\n",
    "        print(f'Minimal loss value: {costs.min()}')\n",
    "\n",
    "    return costs, successes, accepted_failures"
   ]
  },
  {
   "cell_type": "markdown",
   "metadata": {
    "id": "GQTwfdH1N_bx"
   },
   "source": [
    "#### radius=1 alpha=1."
   ]
  },
  {
   "cell_type": "code",
   "execution_count": 62,
   "metadata": {
    "colab": {
     "base_uri": "https://localhost:8080/",
     "height": 66,
     "referenced_widgets": [
      "25c92987644449a9ada8a11fb148dcec",
      "2c988f29e41b4c48b8a546be4991313e",
      "fdcfd60e1d4b40ce8a1abcdd53858eba",
      "9def881b21ca485abb748d268fe4f920",
      "85b11d6610a24bf2ab72461e6312f2c4",
      "c748bf68d6ba4c42aa02f505cf03fb09",
      "a65331d270404f4fa1624bf586d530c0",
      "a5c7e1a14eec47d797199914f5ba433e",
      "8bbac597f2954c8fbd48d6a2b60c35da",
      "d6ad7e4471354d73ac5634870bee34b4",
      "a98d67f9787b4199b04333d13b9cdcac"
     ]
    },
    "id": "FvzHCXRcNpXh",
    "outputId": "00f81930-a4f2-420f-d818-6651edd01e37"
   },
   "outputs": [
    {
     "data": {
      "application/vnd.jupyter.widget-view+json": {
       "model_id": "c41441d9fd1d4a4bad48cfe904e033a8",
       "version_major": 2,
       "version_minor": 0
      },
      "text/plain": [
       "  0%|          | 0/500000 [00:00<?, ?it/s]"
      ]
     },
     "metadata": {},
     "output_type": "display_data"
    },
    {
     "name": "stdout",
     "output_type": "stream",
     "text": [
      "Minimal loss value: 578.0\n"
     ]
    }
   ],
   "source": [
    "_, successes_a, accepted_failues_a = simulate_annealing_with_success_counting(nug12[0], 500000, 1, 1., lambda x: qap_objective_function(x, nug12[1], nug12[2]), verbose=2)"
   ]
  },
  {
   "cell_type": "code",
   "execution_count": 66,
   "metadata": {
    "colab": {
     "base_uri": "https://localhost:8080/"
    },
    "id": "JAs8hzcgN8LZ",
    "outputId": "c1129561-df8d-4b9f-b9e4-349550574ffb"
   },
   "outputs": [
    {
     "data": {
      "image/png": "[encoded data removed]",
      "text/plain": [
       "<Figure size 640x480 with 1 Axes>"
      ]
     },
     "metadata": {},
     "output_type": "display_data"
    }
   ],
   "source": [
    "fig, ax = plt.subplots()\n",
    "\n",
    "ax.plot(successes_a, label='successes')\n",
    "ax.plot(accepted_failues_a, label='accepted failures')\n",
    "\n",
    "ax.set_title('Success count over time')\n",
    "ax.set_xlabel('Step')\n",
    "ax.set_ylabel('Count')\n",
    "\n",
    "ax.legend()\n",
    "\n",
    "plt.show()"
   ]
  },
  {
   "cell_type": "markdown",
   "metadata": {
    "id": "hoRFNWdAU7Ee"
   },
   "source": [
    "#### radius=2 alpha=1."
   ]
  },
  {
   "cell_type": "code",
   "execution_count": 64,
   "metadata": {
    "colab": {
     "base_uri": "https://localhost:8080/",
     "height": 66,
     "referenced_widgets": [
      "c0d9c6aec2e8461aab08d2f9e8c2ee60",
      "98b7bc38015345df94cd923b99890258",
      "1c05cb8dba1849e9b4ea897441386b19",
      "6fad13a754094e62b7a8121607aba336",
      "f94ca4af83be416ea6f90755783d5785",
      "2404a07f4ad542d783ff2d47b167dc7f",
      "3c5a069f040b4f55afb4cb37281fee07",
      "990e80c7a1624b8aba2760ecbcaa6f94",
      "91a11ee32fe14458a03e0cd7a02f97ce",
      "f5a2a64661924423b2b20b72996cb2b0",
      "1baad65dde0a475894d9036ce563a45f"
     ]
    },
    "id": "nWGX0YMLU7Ek",
    "outputId": "e59b5256-dcea-4d4f-b13b-cfc7905047c4"
   },
   "outputs": [
    {
     "data": {
      "application/vnd.jupyter.widget-view+json": {
       "model_id": "e4916cab91dc4f2ab763626f6e2a7602",
       "version_major": 2,
       "version_minor": 0
      },
      "text/plain": [
       "  0%|          | 0/500000 [00:00<?, ?it/s]"
      ]
     },
     "metadata": {},
     "output_type": "display_data"
    },
    {
     "name": "stdout",
     "output_type": "stream",
     "text": [
      "Minimal loss value: 586.0\n"
     ]
    }
   ],
   "source": [
    "_, successes_b, accepted_failues_b = simulate_annealing_with_success_counting(nug12[0], 500000, 2, 1., lambda x: qap_objective_function(x, nug12[1], nug12[2]), verbose=2)"
   ]
  },
  {
   "cell_type": "code",
   "execution_count": 67,
   "metadata": {
    "colab": {
     "base_uri": "https://localhost:8080/",
     "height": 542
    },
    "id": "tVQTJvv3U7El",
    "outputId": "3706b852-870c-494a-bee4-47eb8428fa03"
   },
   "outputs": [
    {
     "data": {
      "image/png": "[encoded data removed]",
      "text/plain": [
       "<Figure size 640x480 with 1 Axes>"
      ]
     },
     "metadata": {},
     "output_type": "display_data"
    }
   ],
   "source": [
    "fig, ax = plt.subplots()\n",
    "\n",
    "ax.plot(successes_b, label='successes')\n",
    "ax.plot(accepted_failues_b, label='accepted failures')\n",
    "\n",
    "ax.set_title('Success count over time')\n",
    "ax.set_xlabel('Step')\n",
    "ax.set_ylabel('Count')\n",
    "\n",
    "ax.legend()\n",
    "\n",
    "plt.show()"
   ]
  },
  {
   "cell_type": "markdown",
   "metadata": {},
   "source": [
    "### 4)\n",
    "Jak można mierzyć odległość między permutacjami? Sprawdź jaka jest zależność mmiędzy zmianami wartości funkcji celu f(p) - f(q) w sukcesach,   odległości między p\n",
    "permutacjami p i q. Zilustruj to wykresem."
   ]
  },
  {
   "cell_type": "code",
   "execution_count": 12,
   "metadata": {},
   "outputs": [],
   "source": [
    "def mean_absolute_error(x, y):\n",
    "    return np.abs((x-y)).mean()\n",
    "\n",
    "def mean_squared_error(x, y):\n",
    "    return np.power((x-y), 2).mean()\n",
    "\n",
    "def hamming_distance(x, y):\n",
    "    return (x!=y).sum()\n",
    "\n",
    "def my_kendall_tau_dist(p1, p2):\n",
    "  # p1, p2 are 0-based lists or np.arrays permutations\n",
    "  n = len(p1)\n",
    "  index_of = [None] * n  # lookup into p2\n",
    "  for i in range(n):\n",
    "    v = p2[i]; index_of[v] = i\n",
    "\n",
    "  d = 0  # raw distance = number pair mis-orderings\n",
    "  for i in range(n):  # scan thru p1\n",
    "    for j in range(i+1, n):\n",
    "      if index_of[p1[i]] > index_of[p1[j]]:  # replace \"gt\"\n",
    "        d += 1\n",
    "  normer = n * (n - 1) / 2.0  # total num pairs \n",
    "  nd = d / normer  # normalized distance\n",
    "  return (d, nd)"
   ]
  },
  {
   "cell_type": "code",
   "execution_count": 11,
   "metadata": {},
   "outputs": [],
   "source": [
    "def simulate_annealing_with_success_counting_and_distances(n, T, radius, alpha, loss, verbose=0):\n",
    "    p = np.random.permutation(n)\n",
    "    p_cost = loss(p)\n",
    "    costs = []\n",
    "    mae = []\n",
    "    mse = []\n",
    "    hamming = []\n",
    "    kt = []\n",
    "    nkt = []\n",
    "    for t in trange(T, disable=(verbose==0)):\n",
    "        q = random_neighbor(p, radius)\n",
    "        q_cost = loss(q)\n",
    "        if(q_cost < p_cost):\n",
    "            kt_pq, nkt_pq = my_kendall_tau_dist(p, q)\n",
    "            costs.append(p_cost - q_cost)\n",
    "            mae.append(mean_absolute_error(p, q))\n",
    "            mse.append(mean_squared_error(p, q))\n",
    "            hamming.append(hamming_distance(p, q))\n",
    "            kt.append(kt_pq)\n",
    "            nkt.append(nkt_pq)\n",
    "            p, p_cost = q, q_cost\n",
    "        elif(np.random.rand() < np.exp(- alpha * (q_cost - p_cost) * t/T)):\n",
    "            p, p_cost = q, q_cost\n",
    "    if verbose>1:\n",
    "        print(f'Minimal loss value: {min(costs)}')\n",
    "\n",
    "    return costs, mse, mae, hamming, kt, nkt"
   ]
  },
  {
   "cell_type": "code",
   "execution_count": 138,
   "metadata": {},
   "outputs": [
    {
     "data": {
      "application/vnd.jupyter.widget-view+json": {
       "model_id": "67a6fef247ca4b749f41ac9ade3207a7",
       "version_major": 2,
       "version_minor": 0
      },
      "text/plain": [
       "  0%|          | 0/100000 [00:00<?, ?it/s]"
      ]
     },
     "metadata": {},
     "output_type": "display_data"
    },
    {
     "name": "stdout",
     "output_type": "stream",
     "text": [
      "Minimal loss value: 2.0\n"
     ]
    }
   ],
   "source": [
    "costs_c, mse_c, mae_c, hamming, kt, nkt = simulate_annealing_with_success_counting_and_distances(nug12[0], 100000, 1, 1., lambda x: qap_objective_function(x, nug12[1], nug12[2]), verbose=2)"
   ]
  },
  {
   "cell_type": "code",
   "execution_count": 140,
   "metadata": {},
   "outputs": [
    {
     "data": {
      "image/png": "[encoded data removed]",
      "text/plain": [
       "<Figure size 640x480 with 6 Axes>"
      ]
     },
     "metadata": {},
     "output_type": "display_data"
    }
   ],
   "source": [
    "fig = plt.figure()\n",
    "ax1 = fig.add_subplot(2, 3, 1)\n",
    "ax2 = fig.add_subplot(2, 3, 2)\n",
    "ax3 = fig.add_subplot(2, 3, 3)\n",
    "ax4 = fig.add_subplot(2, 3, 4)\n",
    "ax5 = fig.add_subplot(2, 3, 5)\n",
    "ax6 = fig.add_subplot(2, 3, 6)\n",
    "\n",
    "ax1.scatter(costs_c, hamming , color='blue')\n",
    "ax2.scatter(costs_c, mae_c, color='red')\n",
    "ax3.scatter(costs_c, mse_c, color='green')\n",
    "ax4.plot(costs_c, color='purple', label='Objective')\n",
    "ax5.scatter(costs_c, kt, color='green')\n",
    "ax6.scatter(costs_c, nkt, color='green')\n",
    "\n",
    "ax1.set_title('Loss vs Hamming')\n",
    "ax2.set_title('Loss vs MAE')\n",
    "ax3.set_title('Loss vs MSE')\n",
    "ax4.set_title('Loss')\n",
    "ax5.set_title('Loss vs KT')\n",
    "ax6.set_title('Loss vs NKT')\n",
    "\n",
    "\n",
    "fig.tight_layout()\n",
    "plt.show()"
   ]
  },
  {
   "cell_type": "markdown",
   "metadata": {},
   "source": [
    "### 5)\n"
   ]
  },
  {
   "cell_type": "code",
   "execution_count": 19,
   "metadata": {},
   "outputs": [],
   "source": [
    "def simulate_annealing_improved(n, T, radius, alpha, loss, verbose=0):\n",
    "    p = np.random.permutation(n)\n",
    "    p_cost = loss(p)\n",
    "    costs = np.zeros(T)\n",
    "    for t in trange(T, disable=(verbose==0)):\n",
    "        q = random_neighbor(p, radius)\n",
    "        q_cost = loss(q)\n",
    "        if(q_cost < p_cost):\n",
    "            p, p_cost = q, q_cost\n",
    "        elif(np.random.rand() < np.exp(- alpha * (q_cost - p_cost) * t/T))*10**int(q_cost - p_cost<16):\n",
    "            p, p_cost = q, q_cost\n",
    "        costs[t] = p_cost\n",
    "    if verbose>1:\n",
    "        print(f'Minimal loss value: {costs.min()}')\n",
    "    return costs\n",
    "\n",
    "def simulate_annealing_improved_min_cost(n, T, radius, alpha, loss, verbose=0):\n",
    "    return simulate_annealing(n, T, radius, alpha, loss, verbose=verbose).min()"
   ]
  },
  {
   "cell_type": "code",
   "execution_count": 21,
   "metadata": {},
   "outputs": [],
   "source": [
    "data_for_short_runs = download_QAP_data('https://qaplib.mgi.polymtl.ca/data.d/nug12.dat')"
   ]
  },
  {
   "cell_type": "code",
   "execution_count": 26,
   "metadata": {
    "scrolled": true
   },
   "outputs": [
    {
     "name": "stderr",
     "output_type": "stream",
     "text": [
      "[Parallel(n_jobs=-1)]: Using backend LokyBackend with 12 concurrent workers.\n",
      "[Parallel(n_jobs=-1)]: Done  26 tasks      | elapsed:    0.9s\n",
      "[Parallel(n_jobs=-1)]: Done 476 tasks      | elapsed:    3.2s\n",
      "[Parallel(n_jobs=-1)]: Done 1476 tasks      | elapsed:    8.2s\n",
      "[Parallel(n_jobs=-1)]: Done 2876 tasks      | elapsed:   15.3s\n",
      "[Parallel(n_jobs=-1)]: Done 4676 tasks      | elapsed:   24.5s\n",
      "[Parallel(n_jobs=-1)]: Done 6876 tasks      | elapsed:   35.6s\n",
      "[Parallel(n_jobs=-1)]: Done 9476 tasks      | elapsed:   48.9s\n",
      "[Parallel(n_jobs=-1)]: Done 12476 tasks      | elapsed:  1.1min\n",
      "[Parallel(n_jobs=-1)]: Done 15876 tasks      | elapsed:  1.4min\n",
      "[Parallel(n_jobs=-1)]: Done 19676 tasks      | elapsed:  1.7min\n",
      "[Parallel(n_jobs=-1)]: Done 23876 tasks      | elapsed:  2.0min\n",
      "[Parallel(n_jobs=-1)]: Done 28476 tasks      | elapsed:  2.5min\n",
      "[Parallel(n_jobs=-1)]: Done 33476 tasks      | elapsed:  3.0min\n",
      "[Parallel(n_jobs=-1)]: Done 38876 tasks      | elapsed:  3.4min\n",
      "[Parallel(n_jobs=-1)]: Done 44676 tasks      | elapsed:  3.9min\n",
      "[Parallel(n_jobs=-1)]: Done 50876 tasks      | elapsed:  4.5min\n",
      "[Parallel(n_jobs=-1)]: Done 57476 tasks      | elapsed:  5.1min\n",
      "[Parallel(n_jobs=-1)]: Done 64476 tasks      | elapsed:  5.7min\n",
      "[Parallel(n_jobs=-1)]: Done 71876 tasks      | elapsed:  6.3min\n",
      "[Parallel(n_jobs=-1)]: Done 79676 tasks      | elapsed:  7.0min\n",
      "[Parallel(n_jobs=-1)]: Done 87876 tasks      | elapsed:  7.7min\n",
      "[Parallel(n_jobs=-1)]: Done 96476 tasks      | elapsed:  8.4min\n",
      "[Parallel(n_jobs=-1)]: Done 105476 tasks      | elapsed:  9.2min\n",
      "[Parallel(n_jobs=-1)]: Done 114876 tasks      | elapsed: 10.1min\n",
      "[Parallel(n_jobs=-1)]: Done 124676 tasks      | elapsed: 10.9min\n",
      "[Parallel(n_jobs=-1)]: Done 134876 tasks      | elapsed: 11.9min\n",
      "[Parallel(n_jobs=-1)]: Done 145476 tasks      | elapsed: 12.8min\n",
      "[Parallel(n_jobs=-1)]: Done 156476 tasks      | elapsed: 13.7min\n",
      "[Parallel(n_jobs=-1)]: Done 167876 tasks      | elapsed: 14.7min\n",
      "[Parallel(n_jobs=-1)]: Done 179676 tasks      | elapsed: 15.7min\n",
      "[Parallel(n_jobs=-1)]: Done 191876 tasks      | elapsed: 16.8min\n",
      "[Parallel(n_jobs=-1)]: Done 204476 tasks      | elapsed: 17.8min\n",
      "[Parallel(n_jobs=-1)]: Done 217476 tasks      | elapsed: 18.9min\n",
      "[Parallel(n_jobs=-1)]: Done 230876 tasks      | elapsed: 20.1min\n",
      "[Parallel(n_jobs=-1)]: Done 244676 tasks      | elapsed: 21.4min\n",
      "[Parallel(n_jobs=-1)]: Done 258876 tasks      | elapsed: 22.7min\n",
      "[Parallel(n_jobs=-1)]: Done 273476 tasks      | elapsed: 24.0min\n",
      "[Parallel(n_jobs=-1)]: Done 288476 tasks      | elapsed: 25.3min\n",
      "[Parallel(n_jobs=-1)]: Done 303876 tasks      | elapsed: 26.6min\n",
      "[Parallel(n_jobs=-1)]: Done 319676 tasks      | elapsed: 27.9min\n",
      "[Parallel(n_jobs=-1)]: Done 335876 tasks      | elapsed: 29.2min\n",
      "[Parallel(n_jobs=-1)]: Done 352476 tasks      | elapsed: 30.6min\n",
      "[Parallel(n_jobs=-1)]: Done 369476 tasks      | elapsed: 32.0min\n",
      "[Parallel(n_jobs=-1)]: Done 386876 tasks      | elapsed: 33.5min\n",
      "[Parallel(n_jobs=-1)]: Done 404676 tasks      | elapsed: 35.0min\n",
      "[Parallel(n_jobs=-1)]: Done 422876 tasks      | elapsed: 36.5min\n",
      "[Parallel(n_jobs=-1)]: Done 441476 tasks      | elapsed: 38.1min\n",
      "[Parallel(n_jobs=-1)]: Done 460476 tasks      | elapsed: 39.7min\n",
      "[Parallel(n_jobs=-1)]: Done 479876 tasks      | elapsed: 41.4min\n",
      "[Parallel(n_jobs=-1)]: Done 499676 tasks      | elapsed: 43.0min\n",
      "[Parallel(n_jobs=-1)]: Done 519876 tasks      | elapsed: 44.7min\n",
      "[Parallel(n_jobs=-1)]: Done 540476 tasks      | elapsed: 46.4min\n",
      "[Parallel(n_jobs=-1)]: Done 561476 tasks      | elapsed: 48.1min\n",
      "[Parallel(n_jobs=-1)]: Done 582876 tasks      | elapsed: 49.8min\n",
      "[Parallel(n_jobs=-1)]: Done 604676 tasks      | elapsed: 51.6min\n",
      "[Parallel(n_jobs=-1)]: Done 626876 tasks      | elapsed: 53.5min\n",
      "[Parallel(n_jobs=-1)]: Done 649476 tasks      | elapsed: 55.3min\n",
      "[Parallel(n_jobs=-1)]: Done 672476 tasks      | elapsed: 57.2min\n",
      "[Parallel(n_jobs=-1)]: Done 695876 tasks      | elapsed: 59.2min\n",
      "[Parallel(n_jobs=-1)]: Done 719676 tasks      | elapsed: 61.1min\n",
      "[Parallel(n_jobs=-1)]: Done 743876 tasks      | elapsed: 63.1min\n",
      "[Parallel(n_jobs=-1)]: Done 768476 tasks      | elapsed: 65.1min\n",
      "[Parallel(n_jobs=-1)]: Done 793476 tasks      | elapsed: 67.2min\n",
      "[Parallel(n_jobs=-1)]: Done 818876 tasks      | elapsed: 69.3min\n",
      "[Parallel(n_jobs=-1)]: Done 844676 tasks      | elapsed: 71.4min\n",
      "[Parallel(n_jobs=-1)]: Done 870876 tasks      | elapsed: 73.5min\n",
      "[Parallel(n_jobs=-1)]: Done 897476 tasks      | elapsed: 75.7min\n",
      "[Parallel(n_jobs=-1)]: Done 924476 tasks      | elapsed: 77.9min\n",
      "[Parallel(n_jobs=-1)]: Done 951876 tasks      | elapsed: 80.2min\n",
      "[Parallel(n_jobs=-1)]: Done 979676 tasks      | elapsed: 82.4min\n",
      "[Parallel(n_jobs=-1)]: Done 1000000 out of 1000000 | elapsed: 84.1min finished\n"
     ]
    }
   ],
   "source": [
    "short_runs = Parallel(n_jobs=-1, verbose=1)(delayed(simulate_annealing_improved_min_cost)(data_for_short_runs[0], 500, 1, .8, lambda x: qap_objective_function(x, data_for_short_runs[1], data_for_short_runs[2]), verbose=0) for i in range(1000000))"
   ]
  },
  {
   "cell_type": "code",
   "execution_count": 27,
   "metadata": {},
   "outputs": [
    {
     "name": "stderr",
     "output_type": "stream",
     "text": [
      "No artists with labels found to put in legend.  Note that artists whose label start with an underscore are ignored when legend() is called with no argument.\n"
     ]
    },
    {
     "data": {
      "image/png": "[encoded data removed]",
      "text/plain": [
       "<Figure size 640x480 with 1 Axes>"
      ]
     },
     "metadata": {},
     "output_type": "display_data"
    }
   ],
   "source": [
    "import matplotlib.pyplot as plt\n",
    "\n",
    "fig, ax = plt.subplots()\n",
    "\n",
    "ax.hist(short_runs, density=True, bins=100)\n",
    "ax.set_xlabel('QAP Loss')\n",
    "ax.set_ylabel('Percentage')\n",
    "ax.legend().remove()\n",
    "\n",
    "plt.show()"
   ]
  },
  {
   "cell_type": "code",
   "execution_count": null,
   "metadata": {},
   "outputs": [],
   "source": []
  }
 ],
 "metadata": {
  "colab": {
   "provenance": []
  },
  "kernelspec": {
   "display_name": "Python 3 (ipykernel)",
   "language": "python",
   "name": "python3"
  },
  "language_info": {
   "codemirror_mode": {
    "name": "ipython",
    "version": 3
   },
   "file_extension": ".py",
   "mimetype": "text/x-python",
   "name": "python",
   "nbconvert_exporter": "python",
   "pygments_lexer": "ipython3",
   "version": "3.11.6"
  },
  "widgets": {
   "application/vnd.jupyter.widget-state+json": {
    "0b6d4877757d42418c15a8c6c9d33de9": {
     "model_module": "@jupyter-widgets/base",
     "model_module_version": "1.2.0",
     "model_name": "LayoutModel",
     "state": {
      "_model_module": "@jupyter-widgets/base",
      "_model_module_version": "1.2.0",
      "_model_name": "LayoutModel",
      "_view_count": null,
      "_view_module": "@jupyter-widgets/base",
      "_view_module_version": "1.2.0",
      "_view_name": "LayoutView",
      "align_content": null,
      "align_items": null,
      "align_self": null,
      "border": null,
      "bottom": null,
      "display": null,
      "flex": null,
      "flex_flow": null,
      "grid_area": null,
      "grid_auto_columns": null,
      "grid_auto_flow": null,
      "grid_auto_rows": null,
      "grid_column": null,
      "grid_gap": null,
      "grid_row": null,
      "grid_template_areas": null,
      "grid_template_columns": null,
      "grid_template_rows": null,
      "height": null,
      "justify_content": null,
      "justify_items": null,
      "left": null,
      "margin": null,
      "max_height": null,
      "max_width": null,
      "min_height": null,
      "min_width": null,
      "object_fit": null,
      "object_position": null,
      "order": null,
      "overflow": null,
      "overflow_x": null,
      "overflow_y": null,
      "padding": null,
      "right": null,
      "top": null,
      "visibility": null,
      "width": null
     }
    },
    "11d4f37249024e33b6be09678dc91591": {
     "model_module": "@jupyter-widgets/base",
     "model_module_version": "1.2.0",
     "model_name": "LayoutModel",
     "state": {
      "_model_module": "@jupyter-widgets/base",
      "_model_module_version": "1.2.0",
      "_model_name": "LayoutModel",
      "_view_count": null,
      "_view_module": "@jupyter-widgets/base",
      "_view_module_version": "1.2.0",
      "_view_name": "LayoutView",
      "align_content": null,
      "align_items": null,
      "align_self": null,
      "border": null,
      "bottom": null,
      "display": null,
      "flex": null,
      "flex_flow": null,
      "grid_area": null,
      "grid_auto_columns": null,
      "grid_auto_flow": null,
      "grid_auto_rows": null,
      "grid_column": null,
      "grid_gap": null,
      "grid_row": null,
      "grid_template_areas": null,
      "grid_template_columns": null,
      "grid_template_rows": null,
      "height": null,
      "justify_content": null,
      "justify_items": null,
      "left": null,
      "margin": null,
      "max_height": null,
      "max_width": null,
      "min_height": null,
      "min_width": null,
      "object_fit": null,
      "object_position": null,
      "order": null,
      "overflow": null,
      "overflow_x": null,
      "overflow_y": null,
      "padding": null,
      "right": null,
      "top": null,
      "visibility": null,
      "width": null
     }
    },
    "1baad65dde0a475894d9036ce563a45f": {
     "model_module": "@jupyter-widgets/controls",
     "model_module_version": "1.5.0",
     "model_name": "DescriptionStyleModel",
     "state": {
      "_model_module": "@jupyter-widgets/controls",
      "_model_module_version": "1.5.0",
      "_model_name": "DescriptionStyleModel",
      "_view_count": null,
      "_view_module": "@jupyter-widgets/base",
      "_view_module_version": "1.2.0",
      "_view_name": "StyleView",
      "description_width": ""
     }
    },
    "1c05cb8dba1849e9b4ea897441386b19": {
     "model_module": "@jupyter-widgets/controls",
     "model_module_version": "1.5.0",
     "model_name": "FloatProgressModel",
     "state": {
      "_dom_classes": [],
      "_model_module": "@jupyter-widgets/controls",
      "_model_module_version": "1.5.0",
      "_model_name": "FloatProgressModel",
      "_view_count": null,
      "_view_module": "@jupyter-widgets/controls",
      "_view_module_version": "1.5.0",
      "_view_name": "ProgressView",
      "bar_style": "success",
      "description": "",
      "description_tooltip": null,
      "layout": "IPY_MODEL_990e80c7a1624b8aba2760ecbcaa6f94",
      "max": 500000,
      "min": 0,
      "orientation": "horizontal",
      "style": "IPY_MODEL_91a11ee32fe14458a03e0cd7a02f97ce",
      "value": 500000
     }
    },
    "1cbcdc9d6d5b4f1ca241b10e96d6ea4b": {
     "model_module": "@jupyter-widgets/controls",
     "model_module_version": "1.5.0",
     "model_name": "FloatProgressModel",
     "state": {
      "_dom_classes": [],
      "_model_module": "@jupyter-widgets/controls",
      "_model_module_version": "1.5.0",
      "_model_name": "FloatProgressModel",
      "_view_count": null,
      "_view_module": "@jupyter-widgets/controls",
      "_view_module_version": "1.5.0",
      "_view_name": "ProgressView",
      "bar_style": "danger",
      "description": "",
      "description_tooltip": null,
      "layout": "IPY_MODEL_11d4f37249024e33b6be09678dc91591",
      "max": 100000,
      "min": 0,
      "orientation": "horizontal",
      "style": "IPY_MODEL_5b98669f00d0463686754c5bb1005611",
      "value": 1710
     }
    },
    "20281dca0b5f4d949e5f37866765faa7": {
     "model_module": "@jupyter-widgets/controls",
     "model_module_version": "1.5.0",
     "model_name": "HBoxModel",
     "state": {
      "_dom_classes": [],
      "_model_module": "@jupyter-widgets/controls",
      "_model_module_version": "1.5.0",
      "_model_name": "HBoxModel",
      "_view_count": null,
      "_view_module": "@jupyter-widgets/controls",
      "_view_module_version": "1.5.0",
      "_view_name": "HBoxView",
      "box_style": "",
      "children": [
       "IPY_MODEL_ff606b21b2bc4f50962ac8d8216d3c7f",
       "IPY_MODEL_1cbcdc9d6d5b4f1ca241b10e96d6ea4b",
       "IPY_MODEL_df5b92748a854e31bdebe2aa2cf3b5ba"
      ],
      "layout": "IPY_MODEL_5f33144082024abeb7bf2ef15a2e63b1"
     }
    },
    "2404a07f4ad542d783ff2d47b167dc7f": {
     "model_module": "@jupyter-widgets/base",
     "model_module_version": "1.2.0",
     "model_name": "LayoutModel",
     "state": {
      "_model_module": "@jupyter-widgets/base",
      "_model_module_version": "1.2.0",
      "_model_name": "LayoutModel",
      "_view_count": null,
      "_view_module": "@jupyter-widgets/base",
      "_view_module_version": "1.2.0",
      "_view_name": "LayoutView",
      "align_content": null,
      "align_items": null,
      "align_self": null,
      "border": null,
      "bottom": null,
      "display": null,
      "flex": null,
      "flex_flow": null,
      "grid_area": null,
      "grid_auto_columns": null,
      "grid_auto_flow": null,
      "grid_auto_rows": null,
      "grid_column": null,
      "grid_gap": null,
      "grid_row": null,
      "grid_template_areas": null,
      "grid_template_columns": null,
      "grid_template_rows": null,
      "height": null,
      "justify_content": null,
      "justify_items": null,
      "left": null,
      "margin": null,
      "max_height": null,
      "max_width": null,
      "min_height": null,
      "min_width": null,
      "object_fit": null,
      "object_position": null,
      "order": null,
      "overflow": null,
      "overflow_x": null,
      "overflow_y": null,
      "padding": null,
      "right": null,
      "top": null,
      "visibility": null,
      "width": null
     }
    },
    "25c92987644449a9ada8a11fb148dcec": {
     "model_module": "@jupyter-widgets/controls",
     "model_module_version": "1.5.0",
     "model_name": "HBoxModel",
     "state": {
      "_dom_classes": [],
      "_model_module": "@jupyter-widgets/controls",
      "_model_module_version": "1.5.0",
      "_model_name": "HBoxModel",
      "_view_count": null,
      "_view_module": "@jupyter-widgets/controls",
      "_view_module_version": "1.5.0",
      "_view_name": "HBoxView",
      "box_style": "",
      "children": [
       "IPY_MODEL_2c988f29e41b4c48b8a546be4991313e",
       "IPY_MODEL_fdcfd60e1d4b40ce8a1abcdd53858eba",
       "IPY_MODEL_9def881b21ca485abb748d268fe4f920"
      ],
      "layout": "IPY_MODEL_85b11d6610a24bf2ab72461e6312f2c4"
     }
    },
    "2c988f29e41b4c48b8a546be4991313e": {
     "model_module": "@jupyter-widgets/controls",
     "model_module_version": "1.5.0",
     "model_name": "HTMLModel",
     "state": {
      "_dom_classes": [],
      "_model_module": "@jupyter-widgets/controls",
      "_model_module_version": "1.5.0",
      "_model_name": "HTMLModel",
      "_view_count": null,
      "_view_module": "@jupyter-widgets/controls",
      "_view_module_version": "1.5.0",
      "_view_name": "HTMLView",
      "description": "",
      "description_tooltip": null,
      "layout": "IPY_MODEL_c748bf68d6ba4c42aa02f505cf03fb09",
      "placeholder": "​",
      "style": "IPY_MODEL_a65331d270404f4fa1624bf586d530c0",
      "value": "100%"
     }
    },
    "3c5a069f040b4f55afb4cb37281fee07": {
     "model_module": "@jupyter-widgets/controls",
     "model_module_version": "1.5.0",
     "model_name": "DescriptionStyleModel",
     "state": {
      "_model_module": "@jupyter-widgets/controls",
      "_model_module_version": "1.5.0",
      "_model_name": "DescriptionStyleModel",
      "_view_count": null,
      "_view_module": "@jupyter-widgets/base",
      "_view_module_version": "1.2.0",
      "_view_name": "StyleView",
      "description_width": ""
     }
    },
    "5503a872a164488280c3a4c191183c09": {
     "model_module": "@jupyter-widgets/controls",
     "model_module_version": "1.5.0",
     "model_name": "FloatProgressModel",
     "state": {
      "_dom_classes": [],
      "_model_module": "@jupyter-widgets/controls",
      "_model_module_version": "1.5.0",
      "_model_name": "FloatProgressModel",
      "_view_count": null,
      "_view_module": "@jupyter-widgets/controls",
      "_view_module_version": "1.5.0",
      "_view_name": "ProgressView",
      "bar_style": "success",
      "description": "",
      "description_tooltip": null,
      "layout": "IPY_MODEL_0b6d4877757d42418c15a8c6c9d33de9",
      "max": 500000,
      "min": 0,
      "orientation": "horizontal",
      "style": "IPY_MODEL_98a80f3d59f140e5a095223a6bc87a15",
      "value": 500000
     }
    },
    "5b98669f00d0463686754c5bb1005611": {
     "model_module": "@jupyter-widgets/controls",
     "model_module_version": "1.5.0",
     "model_name": "ProgressStyleModel",
     "state": {
      "_model_module": "@jupyter-widgets/controls",
      "_model_module_version": "1.5.0",
      "_model_name": "ProgressStyleModel",
      "_view_count": null,
      "_view_module": "@jupyter-widgets/base",
      "_view_module_version": "1.2.0",
      "_view_name": "StyleView",
      "bar_color": null,
      "description_width": ""
     }
    },
    "5ee3000738764375aa180e94a814a916": {
     "model_module": "@jupyter-widgets/base",
     "model_module_version": "1.2.0",
     "model_name": "LayoutModel",
     "state": {
      "_model_module": "@jupyter-widgets/base",
      "_model_module_version": "1.2.0",
      "_model_name": "LayoutModel",
      "_view_count": null,
      "_view_module": "@jupyter-widgets/base",
      "_view_module_version": "1.2.0",
      "_view_name": "LayoutView",
      "align_content": null,
      "align_items": null,
      "align_self": null,
      "border": null,
      "bottom": null,
      "display": null,
      "flex": null,
      "flex_flow": null,
      "grid_area": null,
      "grid_auto_columns": null,
      "grid_auto_flow": null,
      "grid_auto_rows": null,
      "grid_column": null,
      "grid_gap": null,
      "grid_row": null,
      "grid_template_areas": null,
      "grid_template_columns": null,
      "grid_template_rows": null,
      "height": null,
      "justify_content": null,
      "justify_items": null,
      "left": null,
      "margin": null,
      "max_height": null,
      "max_width": null,
      "min_height": null,
      "min_width": null,
      "object_fit": null,
      "object_position": null,
      "order": null,
      "overflow": null,
      "overflow_x": null,
      "overflow_y": null,
      "padding": null,
      "right": null,
      "top": null,
      "visibility": null,
      "width": null
     }
    },
    "5f33144082024abeb7bf2ef15a2e63b1": {
     "model_module": "@jupyter-widgets/base",
     "model_module_version": "1.2.0",
     "model_name": "LayoutModel",
     "state": {
      "_model_module": "@jupyter-widgets/base",
      "_model_module_version": "1.2.0",
      "_model_name": "LayoutModel",
      "_view_count": null,
      "_view_module": "@jupyter-widgets/base",
      "_view_module_version": "1.2.0",
      "_view_name": "LayoutView",
      "align_content": null,
      "align_items": null,
      "align_self": null,
      "border": null,
      "bottom": null,
      "display": null,
      "flex": null,
      "flex_flow": null,
      "grid_area": null,
      "grid_auto_columns": null,
      "grid_auto_flow": null,
      "grid_auto_rows": null,
      "grid_column": null,
      "grid_gap": null,
      "grid_row": null,
      "grid_template_areas": null,
      "grid_template_columns": null,
      "grid_template_rows": null,
      "height": null,
      "justify_content": null,
      "justify_items": null,
      "left": null,
      "margin": null,
      "max_height": null,
      "max_width": null,
      "min_height": null,
      "min_width": null,
      "object_fit": null,
      "object_position": null,
      "order": null,
      "overflow": null,
      "overflow_x": null,
      "overflow_y": null,
      "padding": null,
      "right": null,
      "top": null,
      "visibility": null,
      "width": null
     }
    },
    "6fad13a754094e62b7a8121607aba336": {
     "model_module": "@jupyter-widgets/controls",
     "model_module_version": "1.5.0",
     "model_name": "HTMLModel",
     "state": {
      "_dom_classes": [],
      "_model_module": "@jupyter-widgets/controls",
      "_model_module_version": "1.5.0",
      "_model_name": "HTMLModel",
      "_view_count": null,
      "_view_module": "@jupyter-widgets/controls",
      "_view_module_version": "1.5.0",
      "_view_name": "HTMLView",
      "description": "",
      "description_tooltip": null,
      "layout": "IPY_MODEL_f5a2a64661924423b2b20b72996cb2b0",
      "placeholder": "​",
      "style": "IPY_MODEL_1baad65dde0a475894d9036ce563a45f",
      "value": " 500000/500000 [00:45&lt;00:00, 12358.98it/s]"
     }
    },
    "751152c45c5a42c6b6eb969fb43b782f": {
     "model_module": "@jupyter-widgets/base",
     "model_module_version": "1.2.0",
     "model_name": "LayoutModel",
     "state": {
      "_model_module": "@jupyter-widgets/base",
      "_model_module_version": "1.2.0",
      "_model_name": "LayoutModel",
      "_view_count": null,
      "_view_module": "@jupyter-widgets/base",
      "_view_module_version": "1.2.0",
      "_view_name": "LayoutView",
      "align_content": null,
      "align_items": null,
      "align_self": null,
      "border": null,
      "bottom": null,
      "display": null,
      "flex": null,
      "flex_flow": null,
      "grid_area": null,
      "grid_auto_columns": null,
      "grid_auto_flow": null,
      "grid_auto_rows": null,
      "grid_column": null,
      "grid_gap": null,
      "grid_row": null,
      "grid_template_areas": null,
      "grid_template_columns": null,
      "grid_template_rows": null,
      "height": null,
      "justify_content": null,
      "justify_items": null,
      "left": null,
      "margin": null,
      "max_height": null,
      "max_width": null,
      "min_height": null,
      "min_width": null,
      "object_fit": null,
      "object_position": null,
      "order": null,
      "overflow": null,
      "overflow_x": null,
      "overflow_y": null,
      "padding": null,
      "right": null,
      "top": null,
      "visibility": null,
      "width": null
     }
    },
    "76eccf304cc541b48af712eb7cdc8527": {
     "model_module": "@jupyter-widgets/base",
     "model_module_version": "1.2.0",
     "model_name": "LayoutModel",
     "state": {
      "_model_module": "@jupyter-widgets/base",
      "_model_module_version": "1.2.0",
      "_model_name": "LayoutModel",
      "_view_count": null,
      "_view_module": "@jupyter-widgets/base",
      "_view_module_version": "1.2.0",
      "_view_name": "LayoutView",
      "align_content": null,
      "align_items": null,
      "align_self": null,
      "border": null,
      "bottom": null,
      "display": null,
      "flex": null,
      "flex_flow": null,
      "grid_area": null,
      "grid_auto_columns": null,
      "grid_auto_flow": null,
      "grid_auto_rows": null,
      "grid_column": null,
      "grid_gap": null,
      "grid_row": null,
      "grid_template_areas": null,
      "grid_template_columns": null,
      "grid_template_rows": null,
      "height": null,
      "justify_content": null,
      "justify_items": null,
      "left": null,
      "margin": null,
      "max_height": null,
      "max_width": null,
      "min_height": null,
      "min_width": null,
      "object_fit": null,
      "object_position": null,
      "order": null,
      "overflow": null,
      "overflow_x": null,
      "overflow_y": null,
      "padding": null,
      "right": null,
      "top": null,
      "visibility": null,
      "width": null
     }
    },
    "77ef030a017e442898b71f3e8a24dc14": {
     "model_module": "@jupyter-widgets/controls",
     "model_module_version": "1.5.0",
     "model_name": "HTMLModel",
     "state": {
      "_dom_classes": [],
      "_model_module": "@jupyter-widgets/controls",
      "_model_module_version": "1.5.0",
      "_model_name": "HTMLModel",
      "_view_count": null,
      "_view_module": "@jupyter-widgets/controls",
      "_view_module_version": "1.5.0",
      "_view_name": "HTMLView",
      "description": "",
      "description_tooltip": null,
      "layout": "IPY_MODEL_c4d70053526a4bb1bee20ea9fb4e9088",
      "placeholder": "​",
      "style": "IPY_MODEL_edad7dce397145f4af681616c97589e4",
      "value": " 500000/500000 [00:41&lt;00:00, 14685.14it/s]"
     }
    },
    "85b11d6610a24bf2ab72461e6312f2c4": {
     "model_module": "@jupyter-widgets/base",
     "model_module_version": "1.2.0",
     "model_name": "LayoutModel",
     "state": {
      "_model_module": "@jupyter-widgets/base",
      "_model_module_version": "1.2.0",
      "_model_name": "LayoutModel",
      "_view_count": null,
      "_view_module": "@jupyter-widgets/base",
      "_view_module_version": "1.2.0",
      "_view_name": "LayoutView",
      "align_content": null,
      "align_items": null,
      "align_self": null,
      "border": null,
      "bottom": null,
      "display": null,
      "flex": null,
      "flex_flow": null,
      "grid_area": null,
      "grid_auto_columns": null,
      "grid_auto_flow": null,
      "grid_auto_rows": null,
      "grid_column": null,
      "grid_gap": null,
      "grid_row": null,
      "grid_template_areas": null,
      "grid_template_columns": null,
      "grid_template_rows": null,
      "height": null,
      "justify_content": null,
      "justify_items": null,
      "left": null,
      "margin": null,
      "max_height": null,
      "max_width": null,
      "min_height": null,
      "min_width": null,
      "object_fit": null,
      "object_position": null,
      "order": null,
      "overflow": null,
      "overflow_x": null,
      "overflow_y": null,
      "padding": null,
      "right": null,
      "top": null,
      "visibility": null,
      "width": null
     }
    },
    "8bbac597f2954c8fbd48d6a2b60c35da": {
     "model_module": "@jupyter-widgets/controls",
     "model_module_version": "1.5.0",
     "model_name": "ProgressStyleModel",
     "state": {
      "_model_module": "@jupyter-widgets/controls",
      "_model_module_version": "1.5.0",
      "_model_name": "ProgressStyleModel",
      "_view_count": null,
      "_view_module": "@jupyter-widgets/base",
      "_view_module_version": "1.2.0",
      "_view_name": "StyleView",
      "bar_color": null,
      "description_width": ""
     }
    },
    "91a11ee32fe14458a03e0cd7a02f97ce": {
     "model_module": "@jupyter-widgets/controls",
     "model_module_version": "1.5.0",
     "model_name": "ProgressStyleModel",
     "state": {
      "_model_module": "@jupyter-widgets/controls",
      "_model_module_version": "1.5.0",
      "_model_name": "ProgressStyleModel",
      "_view_count": null,
      "_view_module": "@jupyter-widgets/base",
      "_view_module_version": "1.2.0",
      "_view_name": "StyleView",
      "bar_color": null,
      "description_width": ""
     }
    },
    "98a80f3d59f140e5a095223a6bc87a15": {
     "model_module": "@jupyter-widgets/controls",
     "model_module_version": "1.5.0",
     "model_name": "ProgressStyleModel",
     "state": {
      "_model_module": "@jupyter-widgets/controls",
      "_model_module_version": "1.5.0",
      "_model_name": "ProgressStyleModel",
      "_view_count": null,
      "_view_module": "@jupyter-widgets/base",
      "_view_module_version": "1.2.0",
      "_view_name": "StyleView",
      "bar_color": null,
      "description_width": ""
     }
    },
    "98b7bc38015345df94cd923b99890258": {
     "model_module": "@jupyter-widgets/controls",
     "model_module_version": "1.5.0",
     "model_name": "HTMLModel",
     "state": {
      "_dom_classes": [],
      "_model_module": "@jupyter-widgets/controls",
      "_model_module_version": "1.5.0",
      "_model_name": "HTMLModel",
      "_view_count": null,
      "_view_module": "@jupyter-widgets/controls",
      "_view_module_version": "1.5.0",
      "_view_name": "HTMLView",
      "description": "",
      "description_tooltip": null,
      "layout": "IPY_MODEL_2404a07f4ad542d783ff2d47b167dc7f",
      "placeholder": "​",
      "style": "IPY_MODEL_3c5a069f040b4f55afb4cb37281fee07",
      "value": "100%"
     }
    },
    "990e80c7a1624b8aba2760ecbcaa6f94": {
     "model_module": "@jupyter-widgets/base",
     "model_module_version": "1.2.0",
     "model_name": "LayoutModel",
     "state": {
      "_model_module": "@jupyter-widgets/base",
      "_model_module_version": "1.2.0",
      "_model_name": "LayoutModel",
      "_view_count": null,
      "_view_module": "@jupyter-widgets/base",
      "_view_module_version": "1.2.0",
      "_view_name": "LayoutView",
      "align_content": null,
      "align_items": null,
      "align_self": null,
      "border": null,
      "bottom": null,
      "display": null,
      "flex": null,
      "flex_flow": null,
      "grid_area": null,
      "grid_auto_columns": null,
      "grid_auto_flow": null,
      "grid_auto_rows": null,
      "grid_column": null,
      "grid_gap": null,
      "grid_row": null,
      "grid_template_areas": null,
      "grid_template_columns": null,
      "grid_template_rows": null,
      "height": null,
      "justify_content": null,
      "justify_items": null,
      "left": null,
      "margin": null,
      "max_height": null,
      "max_width": null,
      "min_height": null,
      "min_width": null,
      "object_fit": null,
      "object_position": null,
      "order": null,
      "overflow": null,
      "overflow_x": null,
      "overflow_y": null,
      "padding": null,
      "right": null,
      "top": null,
      "visibility": null,
      "width": null
     }
    },
    "9cab16fad4f94bc5878b6e676e470984": {
     "model_module": "@jupyter-widgets/controls",
     "model_module_version": "1.5.0",
     "model_name": "HBoxModel",
     "state": {
      "_dom_classes": [],
      "_model_module": "@jupyter-widgets/controls",
      "_model_module_version": "1.5.0",
      "_model_name": "HBoxModel",
      "_view_count": null,
      "_view_module": "@jupyter-widgets/controls",
      "_view_module_version": "1.5.0",
      "_view_name": "HBoxView",
      "box_style": "",
      "children": [
       "IPY_MODEL_ff08b8d53e4e4bdea56e107b16d0c6ee",
       "IPY_MODEL_5503a872a164488280c3a4c191183c09",
       "IPY_MODEL_77ef030a017e442898b71f3e8a24dc14"
      ],
      "layout": "IPY_MODEL_751152c45c5a42c6b6eb969fb43b782f"
     }
    },
    "9def881b21ca485abb748d268fe4f920": {
     "model_module": "@jupyter-widgets/controls",
     "model_module_version": "1.5.0",
     "model_name": "HTMLModel",
     "state": {
      "_dom_classes": [],
      "_model_module": "@jupyter-widgets/controls",
      "_model_module_version": "1.5.0",
      "_model_name": "HTMLModel",
      "_view_count": null,
      "_view_module": "@jupyter-widgets/controls",
      "_view_module_version": "1.5.0",
      "_view_name": "HTMLView",
      "description": "",
      "description_tooltip": null,
      "layout": "IPY_MODEL_d6ad7e4471354d73ac5634870bee34b4",
      "placeholder": "​",
      "style": "IPY_MODEL_a98d67f9787b4199b04333d13b9cdcac",
      "value": " 500000/500000 [00:39&lt;00:00, 9077.15it/s]"
     }
    },
    "a5c7e1a14eec47d797199914f5ba433e": {
     "model_module": "@jupyter-widgets/base",
     "model_module_version": "1.2.0",
     "model_name": "LayoutModel",
     "state": {
      "_model_module": "@jupyter-widgets/base",
      "_model_module_version": "1.2.0",
      "_model_name": "LayoutModel",
      "_view_count": null,
      "_view_module": "@jupyter-widgets/base",
      "_view_module_version": "1.2.0",
      "_view_name": "LayoutView",
      "align_content": null,
      "align_items": null,
      "align_self": null,
      "border": null,
      "bottom": null,
      "display": null,
      "flex": null,
      "flex_flow": null,
      "grid_area": null,
      "grid_auto_columns": null,
      "grid_auto_flow": null,
      "grid_auto_rows": null,
      "grid_column": null,
      "grid_gap": null,
      "grid_row": null,
      "grid_template_areas": null,
      "grid_template_columns": null,
      "grid_template_rows": null,
      "height": null,
      "justify_content": null,
      "justify_items": null,
      "left": null,
      "margin": null,
      "max_height": null,
      "max_width": null,
      "min_height": null,
      "min_width": null,
      "object_fit": null,
      "object_position": null,
      "order": null,
      "overflow": null,
      "overflow_x": null,
      "overflow_y": null,
      "padding": null,
      "right": null,
      "top": null,
      "visibility": null,
      "width": null
     }
    },
    "a65331d270404f4fa1624bf586d530c0": {
     "model_module": "@jupyter-widgets/controls",
     "model_module_version": "1.5.0",
     "model_name": "DescriptionStyleModel",
     "state": {
      "_model_module": "@jupyter-widgets/controls",
      "_model_module_version": "1.5.0",
      "_model_name": "DescriptionStyleModel",
      "_view_count": null,
      "_view_module": "@jupyter-widgets/base",
      "_view_module_version": "1.2.0",
      "_view_name": "StyleView",
      "description_width": ""
     }
    },
    "a98d67f9787b4199b04333d13b9cdcac": {
     "model_module": "@jupyter-widgets/controls",
     "model_module_version": "1.5.0",
     "model_name": "DescriptionStyleModel",
     "state": {
      "_model_module": "@jupyter-widgets/controls",
      "_model_module_version": "1.5.0",
      "_model_name": "DescriptionStyleModel",
      "_view_count": null,
      "_view_module": "@jupyter-widgets/base",
      "_view_module_version": "1.2.0",
      "_view_name": "StyleView",
      "description_width": ""
     }
    },
    "c0d9c6aec2e8461aab08d2f9e8c2ee60": {
     "model_module": "@jupyter-widgets/controls",
     "model_module_version": "1.5.0",
     "model_name": "HBoxModel",
     "state": {
      "_dom_classes": [],
      "_model_module": "@jupyter-widgets/controls",
      "_model_module_version": "1.5.0",
      "_model_name": "HBoxModel",
      "_view_count": null,
      "_view_module": "@jupyter-widgets/controls",
      "_view_module_version": "1.5.0",
      "_view_name": "HBoxView",
      "box_style": "",
      "children": [
       "IPY_MODEL_98b7bc38015345df94cd923b99890258",
       "IPY_MODEL_1c05cb8dba1849e9b4ea897441386b19",
       "IPY_MODEL_6fad13a754094e62b7a8121607aba336"
      ],
      "layout": "IPY_MODEL_f94ca4af83be416ea6f90755783d5785"
     }
    },
    "c2fc909b9b4747d39cda4f11f1f83688": {
     "model_module": "@jupyter-widgets/base",
     "model_module_version": "1.2.0",
     "model_name": "LayoutModel",
     "state": {
      "_model_module": "@jupyter-widgets/base",
      "_model_module_version": "1.2.0",
      "_model_name": "LayoutModel",
      "_view_count": null,
      "_view_module": "@jupyter-widgets/base",
      "_view_module_version": "1.2.0",
      "_view_name": "LayoutView",
      "align_content": null,
      "align_items": null,
      "align_self": null,
      "border": null,
      "bottom": null,
      "display": null,
      "flex": null,
      "flex_flow": null,
      "grid_area": null,
      "grid_auto_columns": null,
      "grid_auto_flow": null,
      "grid_auto_rows": null,
      "grid_column": null,
      "grid_gap": null,
      "grid_row": null,
      "grid_template_areas": null,
      "grid_template_columns": null,
      "grid_template_rows": null,
      "height": null,
      "justify_content": null,
      "justify_items": null,
      "left": null,
      "margin": null,
      "max_height": null,
      "max_width": null,
      "min_height": null,
      "min_width": null,
      "object_fit": null,
      "object_position": null,
      "order": null,
      "overflow": null,
      "overflow_x": null,
      "overflow_y": null,
      "padding": null,
      "right": null,
      "top": null,
      "visibility": null,
      "width": null
     }
    },
    "c4d70053526a4bb1bee20ea9fb4e9088": {
     "model_module": "@jupyter-widgets/base",
     "model_module_version": "1.2.0",
     "model_name": "LayoutModel",
     "state": {
      "_model_module": "@jupyter-widgets/base",
      "_model_module_version": "1.2.0",
      "_model_name": "LayoutModel",
      "_view_count": null,
      "_view_module": "@jupyter-widgets/base",
      "_view_module_version": "1.2.0",
      "_view_name": "LayoutView",
      "align_content": null,
      "align_items": null,
      "align_self": null,
      "border": null,
      "bottom": null,
      "display": null,
      "flex": null,
      "flex_flow": null,
      "grid_area": null,
      "grid_auto_columns": null,
      "grid_auto_flow": null,
      "grid_auto_rows": null,
      "grid_column": null,
      "grid_gap": null,
      "grid_row": null,
      "grid_template_areas": null,
      "grid_template_columns": null,
      "grid_template_rows": null,
      "height": null,
      "justify_content": null,
      "justify_items": null,
      "left": null,
      "margin": null,
      "max_height": null,
      "max_width": null,
      "min_height": null,
      "min_width": null,
      "object_fit": null,
      "object_position": null,
      "order": null,
      "overflow": null,
      "overflow_x": null,
      "overflow_y": null,
      "padding": null,
      "right": null,
      "top": null,
      "visibility": null,
      "width": null
     }
    },
    "c748bf68d6ba4c42aa02f505cf03fb09": {
     "model_module": "@jupyter-widgets/base",
     "model_module_version": "1.2.0",
     "model_name": "LayoutModel",
     "state": {
      "_model_module": "@jupyter-widgets/base",
      "_model_module_version": "1.2.0",
      "_model_name": "LayoutModel",
      "_view_count": null,
      "_view_module": "@jupyter-widgets/base",
      "_view_module_version": "1.2.0",
      "_view_name": "LayoutView",
      "align_content": null,
      "align_items": null,
      "align_self": null,
      "border": null,
      "bottom": null,
      "display": null,
      "flex": null,
      "flex_flow": null,
      "grid_area": null,
      "grid_auto_columns": null,
      "grid_auto_flow": null,
      "grid_auto_rows": null,
      "grid_column": null,
      "grid_gap": null,
      "grid_row": null,
      "grid_template_areas": null,
      "grid_template_columns": null,
      "grid_template_rows": null,
      "height": null,
      "justify_content": null,
      "justify_items": null,
      "left": null,
      "margin": null,
      "max_height": null,
      "max_width": null,
      "min_height": null,
      "min_width": null,
      "object_fit": null,
      "object_position": null,
      "order": null,
      "overflow": null,
      "overflow_x": null,
      "overflow_y": null,
      "padding": null,
      "right": null,
      "top": null,
      "visibility": null,
      "width": null
     }
    },
    "ccb235addfeb42ea8faf80a6bfabdac9": {
     "model_module": "@jupyter-widgets/controls",
     "model_module_version": "1.5.0",
     "model_name": "DescriptionStyleModel",
     "state": {
      "_model_module": "@jupyter-widgets/controls",
      "_model_module_version": "1.5.0",
      "_model_name": "DescriptionStyleModel",
      "_view_count": null,
      "_view_module": "@jupyter-widgets/base",
      "_view_module_version": "1.2.0",
      "_view_name": "StyleView",
      "description_width": ""
     }
    },
    "d6ad7e4471354d73ac5634870bee34b4": {
     "model_module": "@jupyter-widgets/base",
     "model_module_version": "1.2.0",
     "model_name": "LayoutModel",
     "state": {
      "_model_module": "@jupyter-widgets/base",
      "_model_module_version": "1.2.0",
      "_model_name": "LayoutModel",
      "_view_count": null,
      "_view_module": "@jupyter-widgets/base",
      "_view_module_version": "1.2.0",
      "_view_name": "LayoutView",
      "align_content": null,
      "align_items": null,
      "align_self": null,
      "border": null,
      "bottom": null,
      "display": null,
      "flex": null,
      "flex_flow": null,
      "grid_area": null,
      "grid_auto_columns": null,
      "grid_auto_flow": null,
      "grid_auto_rows": null,
      "grid_column": null,
      "grid_gap": null,
      "grid_row": null,
      "grid_template_areas": null,
      "grid_template_columns": null,
      "grid_template_rows": null,
      "height": null,
      "justify_content": null,
      "justify_items": null,
      "left": null,
      "margin": null,
      "max_height": null,
      "max_width": null,
      "min_height": null,
      "min_width": null,
      "object_fit": null,
      "object_position": null,
      "order": null,
      "overflow": null,
      "overflow_x": null,
      "overflow_y": null,
      "padding": null,
      "right": null,
      "top": null,
      "visibility": null,
      "width": null
     }
    },
    "df5b92748a854e31bdebe2aa2cf3b5ba": {
     "model_module": "@jupyter-widgets/controls",
     "model_module_version": "1.5.0",
     "model_name": "HTMLModel",
     "state": {
      "_dom_classes": [],
      "_model_module": "@jupyter-widgets/controls",
      "_model_module_version": "1.5.0",
      "_model_name": "HTMLModel",
      "_view_count": null,
      "_view_module": "@jupyter-widgets/controls",
      "_view_module_version": "1.5.0",
      "_view_name": "HTMLView",
      "description": "",
      "description_tooltip": null,
      "layout": "IPY_MODEL_76eccf304cc541b48af712eb7cdc8527",
      "placeholder": "​",
      "style": "IPY_MODEL_ccb235addfeb42ea8faf80a6bfabdac9",
      "value": " 1710/100000 [03:14&lt;2:52:12,  9.51it/s]"
     }
    },
    "ed757a5d240341bda5e3b20a2a1b552e": {
     "model_module": "@jupyter-widgets/controls",
     "model_module_version": "1.5.0",
     "model_name": "DescriptionStyleModel",
     "state": {
      "_model_module": "@jupyter-widgets/controls",
      "_model_module_version": "1.5.0",
      "_model_name": "DescriptionStyleModel",
      "_view_count": null,
      "_view_module": "@jupyter-widgets/base",
      "_view_module_version": "1.2.0",
      "_view_name": "StyleView",
      "description_width": ""
     }
    },
    "edad7dce397145f4af681616c97589e4": {
     "model_module": "@jupyter-widgets/controls",
     "model_module_version": "1.5.0",
     "model_name": "DescriptionStyleModel",
     "state": {
      "_model_module": "@jupyter-widgets/controls",
      "_model_module_version": "1.5.0",
      "_model_name": "DescriptionStyleModel",
      "_view_count": null,
      "_view_module": "@jupyter-widgets/base",
      "_view_module_version": "1.2.0",
      "_view_name": "StyleView",
      "description_width": ""
     }
    },
    "efdadb6e324949fcb21aed134da3a867": {
     "model_module": "@jupyter-widgets/controls",
     "model_module_version": "1.5.0",
     "model_name": "DescriptionStyleModel",
     "state": {
      "_model_module": "@jupyter-widgets/controls",
      "_model_module_version": "1.5.0",
      "_model_name": "DescriptionStyleModel",
      "_view_count": null,
      "_view_module": "@jupyter-widgets/base",
      "_view_module_version": "1.2.0",
      "_view_name": "StyleView",
      "description_width": ""
     }
    },
    "f5a2a64661924423b2b20b72996cb2b0": {
     "model_module": "@jupyter-widgets/base",
     "model_module_version": "1.2.0",
     "model_name": "LayoutModel",
     "state": {
      "_model_module": "@jupyter-widgets/base",
      "_model_module_version": "1.2.0",
      "_model_name": "LayoutModel",
      "_view_count": null,
      "_view_module": "@jupyter-widgets/base",
      "_view_module_version": "1.2.0",
      "_view_name": "LayoutView",
      "align_content": null,
      "align_items": null,
      "align_self": null,
      "border": null,
      "bottom": null,
      "display": null,
      "flex": null,
      "flex_flow": null,
      "grid_area": null,
      "grid_auto_columns": null,
      "grid_auto_flow": null,
      "grid_auto_rows": null,
      "grid_column": null,
      "grid_gap": null,
      "grid_row": null,
      "grid_template_areas": null,
      "grid_template_columns": null,
      "grid_template_rows": null,
      "height": null,
      "justify_content": null,
      "justify_items": null,
      "left": null,
      "margin": null,
      "max_height": null,
      "max_width": null,
      "min_height": null,
      "min_width": null,
      "object_fit": null,
      "object_position": null,
      "order": null,
      "overflow": null,
      "overflow_x": null,
      "overflow_y": null,
      "padding": null,
      "right": null,
      "top": null,
      "visibility": null,
      "width": null
     }
    },
    "f94ca4af83be416ea6f90755783d5785": {
     "model_module": "@jupyter-widgets/base",
     "model_module_version": "1.2.0",
     "model_name": "LayoutModel",
     "state": {
      "_model_module": "@jupyter-widgets/base",
      "_model_module_version": "1.2.0",
      "_model_name": "LayoutModel",
      "_view_count": null,
      "_view_module": "@jupyter-widgets/base",
      "_view_module_version": "1.2.0",
      "_view_name": "LayoutView",
      "align_content": null,
      "align_items": null,
      "align_self": null,
      "border": null,
      "bottom": null,
      "display": null,
      "flex": null,
      "flex_flow": null,
      "grid_area": null,
      "grid_auto_columns": null,
      "grid_auto_flow": null,
      "grid_auto_rows": null,
      "grid_column": null,
      "grid_gap": null,
      "grid_row": null,
      "grid_template_areas": null,
      "grid_template_columns": null,
      "grid_template_rows": null,
      "height": null,
      "justify_content": null,
      "justify_items": null,
      "left": null,
      "margin": null,
      "max_height": null,
      "max_width": null,
      "min_height": null,
      "min_width": null,
      "object_fit": null,
      "object_position": null,
      "order": null,
      "overflow": null,
      "overflow_x": null,
      "overflow_y": null,
      "padding": null,
      "right": null,
      "top": null,
      "visibility": null,
      "width": null
     }
    },
    "fdcfd60e1d4b40ce8a1abcdd53858eba": {
     "model_module": "@jupyter-widgets/controls",
     "model_module_version": "1.5.0",
     "model_name": "FloatProgressModel",
     "state": {
      "_dom_classes": [],
      "_model_module": "@jupyter-widgets/controls",
      "_model_module_version": "1.5.0",
      "_model_name": "FloatProgressModel",
      "_view_count": null,
      "_view_module": "@jupyter-widgets/controls",
      "_view_module_version": "1.5.0",
      "_view_name": "ProgressView",
      "bar_style": "success",
      "description": "",
      "description_tooltip": null,
      "layout": "IPY_MODEL_a5c7e1a14eec47d797199914f5ba433e",
      "max": 500000,
      "min": 0,
      "orientation": "horizontal",
      "style": "IPY_MODEL_8bbac597f2954c8fbd48d6a2b60c35da",
      "value": 500000
     }
    },
    "ff08b8d53e4e4bdea56e107b16d0c6ee": {
     "model_module": "@jupyter-widgets/controls",
     "model_module_version": "1.5.0",
     "model_name": "HTMLModel",
     "state": {
      "_dom_classes": [],
      "_model_module": "@jupyter-widgets/controls",
      "_model_module_version": "1.5.0",
      "_model_name": "HTMLModel",
      "_view_count": null,
      "_view_module": "@jupyter-widgets/controls",
      "_view_module_version": "1.5.0",
      "_view_name": "HTMLView",
      "description": "",
      "description_tooltip": null,
      "layout": "IPY_MODEL_c2fc909b9b4747d39cda4f11f1f83688",
      "placeholder": "​",
      "style": "IPY_MODEL_efdadb6e324949fcb21aed134da3a867",
      "value": "100%"
     }
    },
    "ff606b21b2bc4f50962ac8d8216d3c7f": {
     "model_module": "@jupyter-widgets/controls",
     "model_module_version": "1.5.0",
     "model_name": "HTMLModel",
     "state": {
      "_dom_classes": [],
      "_model_module": "@jupyter-widgets/controls",
      "_model_module_version": "1.5.0",
      "_model_name": "HTMLModel",
      "_view_count": null,
      "_view_module": "@jupyter-widgets/controls",
      "_view_module_version": "1.5.0",
      "_view_name": "HTMLView",
      "description": "",
      "description_tooltip": null,
      "layout": "IPY_MODEL_5ee3000738764375aa180e94a814a916",
      "placeholder": "​",
      "style": "IPY_MODEL_ed757a5d240341bda5e3b20a2a1b552e",
      "value": "  2%"
     }
    }
   }
  }
 },
 "nbformat": 4,
 "nbformat_minor": 4
}
