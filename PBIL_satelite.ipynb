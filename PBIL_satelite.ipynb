{
 "cells": [
  {
   "cell_type": "markdown",
   "id": "c66a3db2-b80e-45cf-8e5f-31132c21fc01",
   "metadata": {},
   "source": [
    "# PBIL Spectral Satelite Image Classification"
   ]
  },
  {
   "cell_type": "markdown",
   "id": "06a5bbb6-3e43-4fe4-8272-0be3d308e724",
   "metadata": {},
   "source": [
    "## Imports"
   ]
  },
  {
   "cell_type": "code",
   "execution_count": 5,
   "id": "f3b56706-742b-4a2f-955d-b9ab0e6c5a95",
   "metadata": {},
   "outputs": [],
   "source": [
    "import numpy as np\n",
    "import pandas as pd\n",
    "\n",
    "import wandb\n",
    "\n",
    "import matplotlib.pyplot as plt\n",
    "\n",
    "from tqdm.notebook import trange\n",
    "\n",
    "from joblib import Parallel, delayed"
   ]
  },
  {
   "cell_type": "code",
   "execution_count": 6,
   "id": "5f8b20f6-ed6a-4b0c-a5b5-b19c9679c735",
   "metadata": {},
   "outputs": [
    {
     "name": "stderr",
     "output_type": "stream",
     "text": [
      "\u001b[34m\u001b[1mwandb\u001b[0m: Logging into wandb.ai. (Learn how to deploy a W&B server locally: https://wandb.me/wandb-server)\n",
      "\u001b[34m\u001b[1mwandb\u001b[0m: You can find your API key in your browser here: https://wandb.ai/authorize\n",
      "\u001b[34m\u001b[1mwandb\u001b[0m: Paste an API key from your profile and hit enter, or press ctrl+c to quit:"
     ]
    },
    {
     "name": "stdin",
     "output_type": "stream",
     "text": [
      "  ········\n"
     ]
    },
    {
     "name": "stderr",
     "output_type": "stream",
     "text": [
      "\u001b[34m\u001b[1mwandb\u001b[0m: Appending key for api.wandb.ai to your netrc file: /root/.netrc\n"
     ]
    },
    {
     "data": {
      "text/plain": [
       "True"
      ]
     },
     "execution_count": 6,
     "metadata": {},
     "output_type": "execute_result"
    }
   ],
   "source": [
    "wandb.login()"
   ]
  },
  {
   "cell_type": "markdown",
   "id": "dcbc4cb7-bbf4-4237-8d4f-b24802d75b33",
   "metadata": {},
   "source": [
    "## PBIL class"
   ]
  },
  {
   "cell_type": "code",
   "execution_count": 34,
   "id": "26202ac2-3e95-4e94-93b0-53945959e896",
   "metadata": {},
   "outputs": [],
   "source": [
    "class PBIL:\n",
    "    def __init__(self,\n",
    "                 chromosome_length,\n",
    "                 population_size,\n",
    "                 learning_rate,\n",
    "                 mutation_rate,\n",
    "                 mutation_distortion_rate,\n",
    "                 objective,\n",
    "                 name=None,\n",
    "                 wandb_log=True):\n",
    "        self.chromosome_length = chromosome_length\n",
    "        self.population_size = population_size\n",
    "        self.learning_rate = learning_rate\n",
    "        self.mutation_rate = mutation_rate\n",
    "        self.mutation_distortion_rate = mutation_distortion_rate\n",
    "        self.name = name\n",
    "        self.objective = objective\n",
    "\n",
    "        self.wandb_log = wandb_log\n",
    "\n",
    "        self.probabilities = np.ones((self.chromosome_length,))*0.5\n",
    "        self.resample_population()\n",
    "\n",
    "        self.objective_values = []\n",
    "        self.historical_probabilities = []\n",
    "\n",
    "    def resample_population(self):\n",
    "        population = np.random.random((self.population_size, self.chromosome_length))\n",
    "        population = (population < self.probabilities).astype('int')\n",
    "        self.population = population\n",
    "\n",
    "    def evaluate_objective(self):\n",
    "        objective = self.objective(self.population)\n",
    "        self.objective_values.append(self.objective(self.population))\n",
    "        self.historical_probabilities.append(self.probabilities.tolist())\n",
    "        if self.wandb_log:\n",
    "            logs = {\n",
    "                'objective_best': objective.max(),\n",
    "                'objective_worst': objective.min(),\n",
    "                'objective_avg': objective.mean(),\n",
    "                'probabilities_vector': self.probabilities.tolist()\n",
    "            }\n",
    "            logs.update(\n",
    "                {f'probability_{key}': value for key, value in enumerate(self.probabilities.tolist())}\n",
    "            )\n",
    "            wandb.log(logs)\n",
    "\n",
    "    def evolve(self, epochs):\n",
    "        for epoch in trange(epochs):\n",
    "            self.evaluate_objective()\n",
    "            best_chromosome = self.population[self.objective_values[-1].argmax()]\n",
    "            self.probabilities = self.probabilities*(1-self.learning_rate) + self.learning_rate*best_chromosome\n",
    "\n",
    "            if np.random.rand() < self.mutation_rate:\n",
    "                self.probabilities = self.probabilities*(1-self.mutation_distortion_rate) + self.mutation_distortion_rate*int(np.random.rand()<0.5)\n",
    "\n",
    "            self.resample_population()\n",
    "        self.evaluate_objective()\n",
    "\n",
    "    def plot_evolution(self, backend='plt'):\n",
    "        if backend == 'plotly':\n",
    "            fig = make_subplots(rows=1, cols=2)\n",
    "            for line, values in self.get_scores().items():\n",
    "                fig.add_trace(\n",
    "                    go.Scatter(y=values, mode='lines', name=line), row=1, col=1\n",
    "                )\n",
    "        \n",
    "            for i, prob in enumerate(zip(*self.get_historical_probabilities())):\n",
    "                fig.add_trace(\n",
    "                    go.Scatter(y=prob, mode='lines', name=i), row=1, col=2\n",
    "                )\n",
    "    \n",
    "            fig.update_layout(width=1200, height=600, title_text=\"PBIL Experiment\")\n",
    "            fig.show()\n",
    "        else:\n",
    "\n",
    "            # Create subplot with two plots\n",
    "            fig, axs = plt.subplots(1, 2, figsize=(12, 6))\n",
    "            \n",
    "            # Plot line plot in first plot\n",
    "            for line, values in self.get_scores().items():\n",
    "                axs[0].plot(values, label=line)\n",
    "            axs[0].axhline(9350, linestyle='--')\n",
    "            axs[0].set_title('Objective')\n",
    "            axs[0].legend()\n",
    "            \n",
    "            # Plot scatter plot in second plot\n",
    "            for i, prob in enumerate(zip(*self.get_historical_probabilities())):\n",
    "                axs[1].plot(prob, label=str(i))\n",
    "            axs[1].set_title('Probabilities')\n",
    "            \n",
    "            # Adjust spacing between plots\n",
    "            plt.subplots_adjust(wspace=0.3)\n",
    "            \n",
    "            # Display plot\n",
    "            plt.suptitle('PBIL Experiment')\n",
    "            if self.wandb_log:\n",
    "                wandb.log({'final_plot': wandb.Image(fig)})\n",
    "        \n",
    "            plt.show()\n",
    "            \n",
    "\n",
    "    def get_scores(self):\n",
    "        return {\n",
    "            f'best_score_{self.name}': [scores.max() for scores in self.objective_values],\n",
    "            f'mean_score_{self.name}': [scores.mean() for scores in self.objective_values],\n",
    "            f'worst_score_{self.name}': [scores.min() for scores in self.objective_values]\n",
    "        }\n",
    "\n",
    "    def get_historical_probabilities(self):\n",
    "        return self.historical_probabilities\n"
   ]
  },
  {
   "cell_type": "markdown",
   "id": "aff657c3-2bcf-477f-b028-4a46677c5796",
   "metadata": {},
   "source": [
    "## Data loading"
   ]
  },
  {
   "cell_type": "code",
   "execution_count": 8,
   "id": "7099d00d-fce9-4e24-8486-d1dc5a4156f6",
   "metadata": {},
   "outputs": [],
   "source": [
    "with open('satelite_data/ImageExpertReduced.txt', 'r') as expert_file:\n",
    "    ground_truth = expert_file.read().split()\n",
    "ground_truth = np.array([int(float(x)) for x in ground_truth])"
   ]
  },
  {
   "cell_type": "code",
   "execution_count": 9,
   "id": "9a47fcd0-0cac-4a16-860b-faeb53e6c07c",
   "metadata": {},
   "outputs": [],
   "source": [
    "ground_truth_series = pd.Series(ground_truth)"
   ]
  },
  {
   "cell_type": "code",
   "execution_count": 10,
   "id": "2ce6f45a-8639-4c08-9da8-77feb64c938b",
   "metadata": {},
   "outputs": [
    {
     "data": {
      "text/plain": [
       "3    3683\n",
       "1    2991\n",
       "2    2676\n",
       "Name: count, dtype: int64"
      ]
     },
     "execution_count": 10,
     "metadata": {},
     "output_type": "execute_result"
    }
   ],
   "source": [
    "ground_truth_series.value_counts()"
   ]
  },
  {
   "cell_type": "code",
   "execution_count": 11,
   "id": "20ebd6e7-4762-481e-91a1-6f8378d70ea3",
   "metadata": {},
   "outputs": [],
   "source": [
    "with open('satelite_data/ImageRawReduced.txt', 'r') as data_file:\n",
    "    satelite_images = data_file.read().split('\\n')[:-1]\n",
    "satelite_images = [[float(x) for x in line.split()] for line in satelite_images]\n",
    "satelite_images = np.array(satelite_images)"
   ]
  },
  {
   "cell_type": "code",
   "execution_count": 12,
   "id": "d07006bf-ac3e-4f8c-8332-d1df34e5ffbf",
   "metadata": {},
   "outputs": [
    {
     "data": {
      "text/plain": [
       "(3, 9350)"
      ]
     },
     "execution_count": 12,
     "metadata": {},
     "output_type": "execute_result"
    }
   ],
   "source": [
    "satelite_images.shape"
   ]
  },
  {
   "cell_type": "code",
   "execution_count": 13,
   "id": "8f96759b-6fd4-4047-ad16-36531d03bfeb",
   "metadata": {},
   "outputs": [],
   "source": [
    "with open('satelite_data/ClassificationRules.txt', 'r') as rules_file:\n",
    "    rules = rules_file.read().split('\\n')[:-1]\n",
    "rules = [[int(float(x)) for x in rule.split()] for rule in rules]\n",
    "rules = np.array(rules)"
   ]
  },
  {
   "cell_type": "code",
   "execution_count": 14,
   "id": "68a50dd2-85a7-4044-8ad2-835d3f3e6b5e",
   "metadata": {},
   "outputs": [
    {
     "data": {
      "text/plain": [
       "(266, 9350)"
      ]
     },
     "execution_count": 14,
     "metadata": {},
     "output_type": "execute_result"
    }
   ],
   "source": [
    "rules.shape"
   ]
  },
  {
   "cell_type": "markdown",
   "id": "65b0c53c-ea62-41f0-8ac4-0f9ac625915b",
   "metadata": {},
   "source": [
    "## Problem definition"
   ]
  },
  {
   "cell_type": "code",
   "execution_count": 15,
   "id": "336f7b6d-5eb8-4bbf-9937-716eb63e7ac6",
   "metadata": {},
   "outputs": [],
   "source": [
    "def satelite_image_success(population):\n",
    "    def evaluate_chromosome(chromosome):\n",
    "        rules_subset = rules[chromosome.astype('bool')]\n",
    "        rules_results = pd.DataFrame(rules_subset).mode(axis=0, numeric_only=True, dropna=True).iloc[0, :]\n",
    "        return (rules_results.to_numpy() == ground_truth).sum()\n",
    "\n",
    "    cost = Parallel(n_jobs=-1, verbose=0)(delayed(evaluate_chromosome)(population[i]) for i in range(population.shape[0]))\n",
    "    return np.array(cost)"
   ]
  },
  {
   "cell_type": "code",
   "execution_count": 31,
   "id": "a1b00acf-db74-4190-abe9-23d5ab75fc20",
   "metadata": {},
   "outputs": [],
   "source": [
    "experiment_configs = [\n",
    "                {\n",
    "                    \"chromosome_length\": 266,\n",
    "                    \"population_size\": 12,\n",
    "                    \"learning_rate\": 0.1,\n",
    "                    \"mutation_rate\": 0.1,\n",
    "                    \"mutation_distortion_rate\": 0.05,\n",
    "                    \"name\": '',\n",
    "                    \"epochs\": 400\n",
    "                },\n",
    "                {\n",
    "                    \"chromosome_length\": 266,\n",
    "                    \"population_size\": 96,\n",
    "                    \"learning_rate\": 0.1,\n",
    "                    \"mutation_rate\": 0.05,\n",
    "                    \"mutation_distortion_rate\": 0.05,\n",
    "                    \"name\": '',\n",
    "                    \"epochs\": 400\n",
    "                },\n",
    "                {\n",
    "                    \"chromosome_length\": 266,\n",
    "                    \"population_size\": 144,\n",
    "                    \"learning_rate\": 0.1,\n",
    "                    \"mutation_rate\": 0.05,\n",
    "                    \"mutation_distortion_rate\": 0.05,\n",
    "                    \"name\": '',\n",
    "                    \"epochs\": 400\n",
    "                },\n",
    "]"
   ]
  },
  {
   "cell_type": "code",
   "execution_count": 32,
   "id": "ceab6f3f-0b2d-4977-bdb8-c60a306889a5",
   "metadata": {},
   "outputs": [],
   "source": [
    "def run_pbil_experiment(**kwargs):\n",
    "    epochs = kwargs.pop('epochs')\n",
    "    pbil = PBIL(**kwargs, objective=satelite_image_success)\n",
    "    pbil.evolve(epochs)\n",
    "    pbil.plot_evolution()"
   ]
  },
  {
   "cell_type": "code",
   "execution_count": 36,
   "id": "80e04dde-4b22-4f75-9293-ef126554092d",
   "metadata": {},
   "outputs": [
    {
     "data": {
      "text/html": [
       "Tracking run with wandb version 0.15.12"
      ],
      "text/plain": [
       "<IPython.core.display.HTML object>"
      ]
     },
     "metadata": {},
     "output_type": "display_data"
    },
    {
     "data": {
      "text/html": [
       "Run data is saved locally in <code>/workspaces/Algorytmy Ewolucyjne/wandb/run-20231101_232628-7xtlgqmr</code>"
      ],
      "text/plain": [
       "<IPython.core.display.HTML object>"
      ]
     },
     "metadata": {},
     "output_type": "display_data"
    },
    {
     "data": {
      "text/html": [
       "Syncing run <strong><a href='https://wandb.ai/pgrabinski/PBIL_satalite_image_classification/runs/7xtlgqmr' target=\"_blank\">stellar-dust-14</a></strong> to <a href='https://wandb.ai/pgrabinski/PBIL_satalite_image_classification' target=\"_blank\">Weights & Biases</a> (<a href='https://wandb.me/run' target=\"_blank\">docs</a>)<br/>"
      ],
      "text/plain": [
       "<IPython.core.display.HTML object>"
      ]
     },
     "metadata": {},
     "output_type": "display_data"
    },
    {
     "data": {
      "text/html": [
       " View project at <a href='https://wandb.ai/pgrabinski/PBIL_satalite_image_classification' target=\"_blank\">https://wandb.ai/pgrabinski/PBIL_satalite_image_classification</a>"
      ],
      "text/plain": [
       "<IPython.core.display.HTML object>"
      ]
     },
     "metadata": {},
     "output_type": "display_data"
    },
    {
     "data": {
      "text/html": [
       " View run at <a href='https://wandb.ai/pgrabinski/PBIL_satalite_image_classification/runs/7xtlgqmr' target=\"_blank\">https://wandb.ai/pgrabinski/PBIL_satalite_image_classification/runs/7xtlgqmr</a>"
      ],
      "text/plain": [
       "<IPython.core.display.HTML object>"
      ]
     },
     "metadata": {},
     "output_type": "display_data"
    },
    {
     "data": {
      "application/vnd.jupyter.widget-view+json": {
       "model_id": "7ae00c4866b14fe4a57e98819a9ac520",
       "version_major": 2,
       "version_minor": 0
      },
      "text/plain": [
       "  0%|          | 0/3 [00:00<?, ?it/s]"
      ]
     },
     "metadata": {},
     "output_type": "display_data"
    },
    {
     "ename": "KeyboardInterrupt",
     "evalue": "",
     "output_type": "error",
     "traceback": [
      "\u001b[0;31m---------------------------------------------------------------------------\u001b[0m",
      "\u001b[0;31mKeyboardInterrupt\u001b[0m                         Traceback (most recent call last)",
      "Cell \u001b[0;32mIn[36], line 3\u001b[0m\n\u001b[1;32m      1\u001b[0m \u001b[38;5;28;01mfor\u001b[39;00m config \u001b[38;5;129;01min\u001b[39;00m experiment_configs:\n\u001b[1;32m      2\u001b[0m     wandb\u001b[38;5;241m.\u001b[39minit(project\u001b[38;5;241m=\u001b[39m\u001b[38;5;124m'\u001b[39m\u001b[38;5;124mPBIL_satalite_image_classification\u001b[39m\u001b[38;5;124m'\u001b[39m, config\u001b[38;5;241m=\u001b[39mconfig)\n\u001b[0;32m----> 3\u001b[0m     \u001b[43mrun_pbil_experiment\u001b[49m\u001b[43m(\u001b[49m\u001b[38;5;241;43m*\u001b[39;49m\u001b[38;5;241;43m*\u001b[39;49m\u001b[43mconfig\u001b[49m\u001b[43m)\u001b[49m\n\u001b[1;32m      5\u001b[0m     wandb\u001b[38;5;241m.\u001b[39mfinish()\n",
      "Cell \u001b[0;32mIn[32], line 4\u001b[0m, in \u001b[0;36mrun_pbil_experiment\u001b[0;34m(**kwargs)\u001b[0m\n\u001b[1;32m      2\u001b[0m epochs \u001b[38;5;241m=\u001b[39m kwargs\u001b[38;5;241m.\u001b[39mpop(\u001b[38;5;124m'\u001b[39m\u001b[38;5;124mepochs\u001b[39m\u001b[38;5;124m'\u001b[39m)\n\u001b[1;32m      3\u001b[0m pbil \u001b[38;5;241m=\u001b[39m PBIL(\u001b[38;5;241m*\u001b[39m\u001b[38;5;241m*\u001b[39mkwargs, objective\u001b[38;5;241m=\u001b[39msatelite_image_success)\n\u001b[0;32m----> 4\u001b[0m \u001b[43mpbil\u001b[49m\u001b[38;5;241;43m.\u001b[39;49m\u001b[43mevolve\u001b[49m\u001b[43m(\u001b[49m\u001b[43mepochs\u001b[49m\u001b[43m)\u001b[49m\n\u001b[1;32m      5\u001b[0m pbil\u001b[38;5;241m.\u001b[39mplot_evolution()\n",
      "Cell \u001b[0;32mIn[34], line 50\u001b[0m, in \u001b[0;36mPBIL.evolve\u001b[0;34m(self, epochs)\u001b[0m\n\u001b[1;32m     48\u001b[0m \u001b[38;5;28;01mdef\u001b[39;00m \u001b[38;5;21mevolve\u001b[39m(\u001b[38;5;28mself\u001b[39m, epochs):\n\u001b[1;32m     49\u001b[0m     \u001b[38;5;28;01mfor\u001b[39;00m epoch \u001b[38;5;129;01min\u001b[39;00m trange(epochs):\n\u001b[0;32m---> 50\u001b[0m         \u001b[38;5;28;43mself\u001b[39;49m\u001b[38;5;241;43m.\u001b[39;49m\u001b[43mevaluate_objective\u001b[49m\u001b[43m(\u001b[49m\u001b[43m)\u001b[49m\n\u001b[1;32m     51\u001b[0m         best_chromosome \u001b[38;5;241m=\u001b[39m \u001b[38;5;28mself\u001b[39m\u001b[38;5;241m.\u001b[39mpopulation[\u001b[38;5;28mself\u001b[39m\u001b[38;5;241m.\u001b[39mobjective_values[\u001b[38;5;241m-\u001b[39m\u001b[38;5;241m1\u001b[39m]\u001b[38;5;241m.\u001b[39margmax()]\n\u001b[1;32m     52\u001b[0m         \u001b[38;5;28mself\u001b[39m\u001b[38;5;241m.\u001b[39mprobabilities \u001b[38;5;241m=\u001b[39m \u001b[38;5;28mself\u001b[39m\u001b[38;5;241m.\u001b[39mprobabilities\u001b[38;5;241m*\u001b[39m(\u001b[38;5;241m1\u001b[39m\u001b[38;5;241m-\u001b[39m\u001b[38;5;28mself\u001b[39m\u001b[38;5;241m.\u001b[39mlearning_rate) \u001b[38;5;241m+\u001b[39m \u001b[38;5;28mself\u001b[39m\u001b[38;5;241m.\u001b[39mlearning_rate\u001b[38;5;241m*\u001b[39mbest_chromosome\n",
      "Cell \u001b[0;32mIn[34], line 34\u001b[0m, in \u001b[0;36mPBIL.evaluate_objective\u001b[0;34m(self)\u001b[0m\n\u001b[1;32m     32\u001b[0m \u001b[38;5;28;01mdef\u001b[39;00m \u001b[38;5;21mevaluate_objective\u001b[39m(\u001b[38;5;28mself\u001b[39m):\n\u001b[1;32m     33\u001b[0m     objective \u001b[38;5;241m=\u001b[39m \u001b[38;5;28mself\u001b[39m\u001b[38;5;241m.\u001b[39mobjective(\u001b[38;5;28mself\u001b[39m\u001b[38;5;241m.\u001b[39mpopulation)\n\u001b[0;32m---> 34\u001b[0m     \u001b[38;5;28mself\u001b[39m\u001b[38;5;241m.\u001b[39mobjective_values\u001b[38;5;241m.\u001b[39mappend(\u001b[38;5;28;43mself\u001b[39;49m\u001b[38;5;241;43m.\u001b[39;49m\u001b[43mobjective\u001b[49m\u001b[43m(\u001b[49m\u001b[38;5;28;43mself\u001b[39;49m\u001b[38;5;241;43m.\u001b[39;49m\u001b[43mpopulation\u001b[49m\u001b[43m)\u001b[49m)\n\u001b[1;32m     35\u001b[0m     \u001b[38;5;28mself\u001b[39m\u001b[38;5;241m.\u001b[39mhistorical_probabilities\u001b[38;5;241m.\u001b[39mappend(\u001b[38;5;28mself\u001b[39m\u001b[38;5;241m.\u001b[39mprobabilities\u001b[38;5;241m.\u001b[39mtolist())\n\u001b[1;32m     36\u001b[0m     \u001b[38;5;28;01mif\u001b[39;00m \u001b[38;5;28mself\u001b[39m\u001b[38;5;241m.\u001b[39mwandb_log:\n",
      "Cell \u001b[0;32mIn[15], line 7\u001b[0m, in \u001b[0;36msatelite_image_success\u001b[0;34m(population)\u001b[0m\n\u001b[1;32m      4\u001b[0m     rules_results \u001b[38;5;241m=\u001b[39m pd\u001b[38;5;241m.\u001b[39mDataFrame(rules_subset)\u001b[38;5;241m.\u001b[39mmode(axis\u001b[38;5;241m=\u001b[39m\u001b[38;5;241m0\u001b[39m, numeric_only\u001b[38;5;241m=\u001b[39m\u001b[38;5;28;01mTrue\u001b[39;00m, dropna\u001b[38;5;241m=\u001b[39m\u001b[38;5;28;01mTrue\u001b[39;00m)\u001b[38;5;241m.\u001b[39miloc[\u001b[38;5;241m0\u001b[39m, :]\n\u001b[1;32m      5\u001b[0m     \u001b[38;5;28;01mreturn\u001b[39;00m (rules_results\u001b[38;5;241m.\u001b[39mto_numpy() \u001b[38;5;241m==\u001b[39m ground_truth)\u001b[38;5;241m.\u001b[39msum()\n\u001b[0;32m----> 7\u001b[0m cost \u001b[38;5;241m=\u001b[39m \u001b[43mParallel\u001b[49m\u001b[43m(\u001b[49m\u001b[43mn_jobs\u001b[49m\u001b[38;5;241;43m=\u001b[39;49m\u001b[38;5;241;43m-\u001b[39;49m\u001b[38;5;241;43m1\u001b[39;49m\u001b[43m,\u001b[49m\u001b[43m \u001b[49m\u001b[43mverbose\u001b[49m\u001b[38;5;241;43m=\u001b[39;49m\u001b[38;5;241;43m0\u001b[39;49m\u001b[43m)\u001b[49m\u001b[43m(\u001b[49m\u001b[43mdelayed\u001b[49m\u001b[43m(\u001b[49m\u001b[43mevaluate_chromosome\u001b[49m\u001b[43m)\u001b[49m\u001b[43m(\u001b[49m\u001b[43mpopulation\u001b[49m\u001b[43m[\u001b[49m\u001b[43mi\u001b[49m\u001b[43m]\u001b[49m\u001b[43m)\u001b[49m\u001b[43m \u001b[49m\u001b[38;5;28;43;01mfor\u001b[39;49;00m\u001b[43m \u001b[49m\u001b[43mi\u001b[49m\u001b[43m \u001b[49m\u001b[38;5;129;43;01min\u001b[39;49;00m\u001b[43m \u001b[49m\u001b[38;5;28;43mrange\u001b[39;49m\u001b[43m(\u001b[49m\u001b[43mpopulation\u001b[49m\u001b[38;5;241;43m.\u001b[39;49m\u001b[43mshape\u001b[49m\u001b[43m[\u001b[49m\u001b[38;5;241;43m0\u001b[39;49m\u001b[43m]\u001b[49m\u001b[43m)\u001b[49m\u001b[43m)\u001b[49m\n\u001b[1;32m      8\u001b[0m \u001b[38;5;28;01mreturn\u001b[39;00m np\u001b[38;5;241m.\u001b[39marray(cost)\n",
      "File \u001b[0;32m~/.cache/pypoetry/virtualenvs/algorytmy_ewolucyjne-ix3uuJ_O-py3.11/lib/python3.11/site-packages/joblib/parallel.py:1952\u001b[0m, in \u001b[0;36mParallel.__call__\u001b[0;34m(self, iterable)\u001b[0m\n\u001b[1;32m   1946\u001b[0m \u001b[38;5;66;03m# The first item from the output is blank, but it makes the interpreter\u001b[39;00m\n\u001b[1;32m   1947\u001b[0m \u001b[38;5;66;03m# progress until it enters the Try/Except block of the generator and\u001b[39;00m\n\u001b[1;32m   1948\u001b[0m \u001b[38;5;66;03m# reach the first `yield` statement. This starts the aynchronous\u001b[39;00m\n\u001b[1;32m   1949\u001b[0m \u001b[38;5;66;03m# dispatch of the tasks to the workers.\u001b[39;00m\n\u001b[1;32m   1950\u001b[0m \u001b[38;5;28mnext\u001b[39m(output)\n\u001b[0;32m-> 1952\u001b[0m \u001b[38;5;28;01mreturn\u001b[39;00m output \u001b[38;5;28;01mif\u001b[39;00m \u001b[38;5;28mself\u001b[39m\u001b[38;5;241m.\u001b[39mreturn_generator \u001b[38;5;28;01melse\u001b[39;00m \u001b[38;5;28mlist\u001b[39m(output)\n",
      "File \u001b[0;32m~/.cache/pypoetry/virtualenvs/algorytmy_ewolucyjne-ix3uuJ_O-py3.11/lib/python3.11/site-packages/joblib/parallel.py:1595\u001b[0m, in \u001b[0;36mParallel._get_outputs\u001b[0;34m(self, iterator, pre_dispatch)\u001b[0m\n\u001b[1;32m   1592\u001b[0m     \u001b[38;5;28;01myield\u001b[39;00m\n\u001b[1;32m   1594\u001b[0m     \u001b[38;5;28;01mwith\u001b[39;00m \u001b[38;5;28mself\u001b[39m\u001b[38;5;241m.\u001b[39m_backend\u001b[38;5;241m.\u001b[39mretrieval_context():\n\u001b[0;32m-> 1595\u001b[0m         \u001b[38;5;28;01myield from\u001b[39;00m \u001b[38;5;28mself\u001b[39m\u001b[38;5;241m.\u001b[39m_retrieve()\n\u001b[1;32m   1597\u001b[0m \u001b[38;5;28;01mexcept\u001b[39;00m \u001b[38;5;167;01mGeneratorExit\u001b[39;00m:\n\u001b[1;32m   1598\u001b[0m     \u001b[38;5;66;03m# The generator has been garbage collected before being fully\u001b[39;00m\n\u001b[1;32m   1599\u001b[0m     \u001b[38;5;66;03m# consumed. This aborts the remaining tasks if possible and warn\u001b[39;00m\n\u001b[1;32m   1600\u001b[0m     \u001b[38;5;66;03m# the user if necessary.\u001b[39;00m\n\u001b[1;32m   1601\u001b[0m     \u001b[38;5;28mself\u001b[39m\u001b[38;5;241m.\u001b[39m_exception \u001b[38;5;241m=\u001b[39m \u001b[38;5;28;01mTrue\u001b[39;00m\n",
      "File \u001b[0;32m~/.cache/pypoetry/virtualenvs/algorytmy_ewolucyjne-ix3uuJ_O-py3.11/lib/python3.11/site-packages/joblib/parallel.py:1707\u001b[0m, in \u001b[0;36mParallel._retrieve\u001b[0;34m(self)\u001b[0m\n\u001b[1;32m   1702\u001b[0m \u001b[38;5;66;03m# If the next job is not ready for retrieval yet, we just wait for\u001b[39;00m\n\u001b[1;32m   1703\u001b[0m \u001b[38;5;66;03m# async callbacks to progress.\u001b[39;00m\n\u001b[1;32m   1704\u001b[0m \u001b[38;5;28;01mif\u001b[39;00m ((\u001b[38;5;28mlen\u001b[39m(\u001b[38;5;28mself\u001b[39m\u001b[38;5;241m.\u001b[39m_jobs) \u001b[38;5;241m==\u001b[39m \u001b[38;5;241m0\u001b[39m) \u001b[38;5;129;01mor\u001b[39;00m\n\u001b[1;32m   1705\u001b[0m     (\u001b[38;5;28mself\u001b[39m\u001b[38;5;241m.\u001b[39m_jobs[\u001b[38;5;241m0\u001b[39m]\u001b[38;5;241m.\u001b[39mget_status(\n\u001b[1;32m   1706\u001b[0m         timeout\u001b[38;5;241m=\u001b[39m\u001b[38;5;28mself\u001b[39m\u001b[38;5;241m.\u001b[39mtimeout) \u001b[38;5;241m==\u001b[39m TASK_PENDING)):\n\u001b[0;32m-> 1707\u001b[0m     time\u001b[38;5;241m.\u001b[39msleep(\u001b[38;5;241m0.01\u001b[39m)\n\u001b[1;32m   1708\u001b[0m     \u001b[38;5;28;01mcontinue\u001b[39;00m\n\u001b[1;32m   1710\u001b[0m \u001b[38;5;66;03m# We need to be careful: the job list can be filling up as\u001b[39;00m\n\u001b[1;32m   1711\u001b[0m \u001b[38;5;66;03m# we empty it and Python list are not thread-safe by\u001b[39;00m\n\u001b[1;32m   1712\u001b[0m \u001b[38;5;66;03m# default hence the use of the lock\u001b[39;00m\n",
      "\u001b[0;31mKeyboardInterrupt\u001b[0m: "
     ]
    }
   ],
   "source": [
    "for config in experiment_configs:\n",
    "    wandb.init(project='PBIL_satalite_image_classification', config=config)\n",
    "    run_pbil_experiment(**config)\n",
    "    \n",
    "    wandb.finish()"
   ]
  },
  {
   "cell_type": "code",
   "execution_count": null,
   "id": "18a49803-b1b8-465d-ad67-5fad458116ef",
   "metadata": {},
   "outputs": [],
   "source": []
  }
 ],
 "metadata": {
  "kernelspec": {
   "display_name": "Python 3 (ipykernel)",
   "language": "python",
   "name": "python3"
  },
  "language_info": {
   "codemirror_mode": {
    "name": "ipython",
    "version": 3
   },
   "file_extension": ".py",
   "mimetype": "text/x-python",
   "name": "python",
   "nbconvert_exporter": "python",
   "pygments_lexer": "ipython3",
   "version": "3.11.6"
  }
 },
 "nbformat": 4,
 "nbformat_minor": 5
}
