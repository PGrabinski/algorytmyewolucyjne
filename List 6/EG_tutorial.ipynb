{
 "cells": [
  {
   "cell_type": "code",
   "execution_count": 1,
   "id": "3d3dca7c-17bc-4f91-9e42-14032803dfb5",
   "metadata": {},
   "outputs": [],
   "source": [
    "from pyneurgen.grammatical_evolution import GrammaticalEvolution\n",
    "from pyneurgen.fitness import FitnessElites, FitnessTournament\n",
    "from pyneurgen.fitness import ReplacementTournament, MAX, MIN, CENTER"
   ]
  },
  {
   "cell_type": "code",
   "execution_count": 2,
   "id": "06674481-03d8-4504-944e-c24d9e450ceb",
   "metadata": {},
   "outputs": [],
   "source": [
    "bnf =  \"\"\"\n",
    "<expr>              ::= <expr> <biop> <expr> | <uop> <expr> | <real> |\n",
    "                        math.log(abs(<expr>)) | <pow> | math.sin(<expr> )|\n",
    "                        value | (<expr>)\n",
    "<biop>              ::= + | - | * | /\n",
    "<uop>               ::= + | -\n",
    "<pow>               ::= pow(<expr>, <real>)\n",
    "<plus>              ::= +\n",
    "<minus>             ::= -\n",
    "<real>              ::= <int-const>.<int-const>\n",
    "<int-const>         ::= <int-const> | 1 | 2 | 3 | 4 | 5 | 6 |\n",
    "                        7 | 8 | 9 | 0\n",
    "<S>                 ::=\n",
    "import math\n",
    "total = 0.0\n",
    "for i in xrange(100):\n",
    "    value = float(i) / float(100)\n",
    "    total += abs(<expr> - pow(value, 3))\n",
    "fitness = total\n",
    "self.set_bnf_variable('<fitness>', fitness)\n",
    "\"\"\""
   ]
  },
  {
   "cell_type": "code",
   "execution_count": 3,
   "id": "955f7127-61d6-4ba1-bc3a-6777fb09de84",
   "metadata": {},
   "outputs": [
    {
     "ename": "NameError",
     "evalue": "name 'long' is not defined",
     "output_type": "error",
     "traceback": [
      "\u001b[0;31m---------------------------------------------------------------------------\u001b[0m",
      "\u001b[0;31mNameError\u001b[0m                                 Traceback (most recent call last)",
      "Cell \u001b[0;32mIn[3], line 4\u001b[0m\n\u001b[1;32m      1\u001b[0m ges \u001b[38;5;241m=\u001b[39m GrammaticalEvolution()\n\u001b[1;32m      3\u001b[0m ges\u001b[38;5;241m.\u001b[39mset_bnf(bnf)\n\u001b[0;32m----> 4\u001b[0m \u001b[43mges\u001b[49m\u001b[38;5;241;43m.\u001b[39;49m\u001b[43mset_genotype_length\u001b[49m\u001b[43m(\u001b[49m\u001b[43mstart_gene_length\u001b[49m\u001b[38;5;241;43m=\u001b[39;49m\u001b[38;5;241;43m20\u001b[39;49m\u001b[43m,\u001b[49m\n\u001b[1;32m      5\u001b[0m \u001b[43m                        \u001b[49m\u001b[43mmax_gene_length\u001b[49m\u001b[38;5;241;43m=\u001b[39;49m\u001b[38;5;241;43m50\u001b[39;49m\u001b[43m)\u001b[49m\n\u001b[1;32m      6\u001b[0m ges\u001b[38;5;241m.\u001b[39mset_population_size(\u001b[38;5;241m50\u001b[39m)\n\u001b[1;32m      7\u001b[0m ges\u001b[38;5;241m.\u001b[39mset_wrap(\u001b[38;5;28;01mTrue\u001b[39;00m)\n",
      "File \u001b[0;32m~/.cache/pypoetry/virtualenvs/algorytmy_ewolucyjne-ix3uuJ_O-py3.11/lib/python3.11/site-packages/pyneurgen/grammatical_evolution.py:167\u001b[0m, in \u001b[0;36mGrammaticalEvolution.set_genotype_length\u001b[0;34m(self, start_gene_length, max_gene_length)\u001b[0m\n\u001b[1;32m    164\u001b[0m \u001b[38;5;28;01mif\u001b[39;00m max_gene_length \u001b[38;5;129;01mis\u001b[39;00m \u001b[38;5;28;01mNone\u001b[39;00m:\n\u001b[1;32m    165\u001b[0m     max_gene_length \u001b[38;5;241m=\u001b[39m start_gene_length\n\u001b[0;32m--> 167\u001b[0m start_gene_length \u001b[38;5;241m=\u001b[39m \u001b[43mlong\u001b[49m(start_gene_length)\n\u001b[1;32m    168\u001b[0m max_gene_length \u001b[38;5;241m=\u001b[39m long(max_gene_length)\n\u001b[1;32m    169\u001b[0m \u001b[38;5;28;01mif\u001b[39;00m \u001b[38;5;129;01mnot\u001b[39;00m \u001b[38;5;28misinstance\u001b[39m(start_gene_length, long):\n",
      "\u001b[0;31mNameError\u001b[0m: name 'long' is not defined"
     ]
    }
   ],
   "source": [
    "ges = GrammaticalEvolution()\n",
    "\n",
    "ges.set_bnf(bnf)\n",
    "ges.set_genotype_length(start_gene_length=20,\n",
    "                        max_gene_length=50)\n",
    "ges.set_population_size(50)\n",
    "ges.set_wrap(True)"
   ]
  },
  {
   "cell_type": "code",
   "execution_count": null,
   "id": "3b31afa6-c283-40ef-8806-83a7d779bf5f",
   "metadata": {},
   "outputs": [],
   "source": []
  }
 ],
 "metadata": {
  "kernelspec": {
   "display_name": "Python 3 (ipykernel)",
   "language": "python",
   "name": "python3"
  },
  "language_info": {
   "codemirror_mode": {
    "name": "ipython",
    "version": 3
   },
   "file_extension": ".py",
   "mimetype": "text/x-python",
   "name": "python",
   "nbconvert_exporter": "python",
   "pygments_lexer": "ipython3",
   "version": "3.11.6"
  }
 },
 "nbformat": 4,
 "nbformat_minor": 5
}
