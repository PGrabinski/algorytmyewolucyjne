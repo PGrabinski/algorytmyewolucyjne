{
 "cells": [
  {
   "cell_type": "code",
   "execution_count": 1,
   "id": "3d3dca7c-17bc-4f91-9e42-14032803dfb5",
   "metadata": {},
   "outputs": [],
   "source": [
    "from pyneurgen.grammatical_evolution import GrammaticalEvolution\n",
    "from pyneurgen.fitness import FitnessElites, FitnessTournament\n",
    "from pyneurgen.fitness import ReplacementTournament, MAX, MIN, CENTER"
   ]
  },
  {
   "cell_type": "code",
   "execution_count": 4,
   "id": "06674481-03d8-4504-944e-c24d9e450ceb",
   "metadata": {},
   "outputs": [],
   "source": [
    "bnf =  \"\"\"\n",
    "<expr>              ::= <expr> <biop> <expr> | <uop> <expr> | <real> |\n",
    "                        math.log(abs(<expr>)) | <pow> | math.sin(<expr> )|\n",
    "                        value | (<expr>)\n",
    "<biop>              ::= + | - | * | /\n",
    "<uop>               ::= + | -\n",
    "<pow>               ::= pow(<expr>, <real>)\n",
    "<plus>              ::= +\n",
    "<minus>             ::= -\n",
    "<real>              ::= <int-const>.<int-const>\n",
    "<int-const>         ::= <int-const> | 1 | 2 | 3 | 4 | 5 | 6 |\n",
    "                        7 | 8 | 9 | 0\n",
    "<S>                 ::=\n",
    "import math\n",
    "total = 0.0\n",
    "for i in xrange(100):\n",
    "    value = float(i) / float(100)\n",
    "    total += abs(<expr> - pow(value, 3))\n",
    "fitness = total\n",
    "self.set_bnf_variable('<fitness>', fitness)\n",
    "\"\"\""
   ]
  },
  {
   "cell_type": "code",
   "execution_count": null,
   "id": "955f7127-61d6-4ba1-bc3a-6777fb09de84",
   "metadata": {},
   "outputs": [],
   "source": []
  }
 ],
 "metadata": {
  "kernelspec": {
   "display_name": "Python 3 (ipykernel)",
   "language": "python",
   "name": "python3"
  },
  "language_info": {
   "codemirror_mode": {
    "name": "ipython",
    "version": 3
   },
   "file_extension": ".py",
   "mimetype": "text/x-python",
   "name": "python",
   "nbconvert_exporter": "python",
   "pygments_lexer": "ipython3",
   "version": "3.11.6"
  }
 },
 "nbformat": 4,
 "nbformat_minor": 5
}
