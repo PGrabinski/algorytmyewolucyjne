{
 "cells": [
  {
   "cell_type": "code",
   "execution_count": 1,
   "id": "f888c497-afb9-41d1-a363-8e05a609896e",
   "metadata": {},
   "outputs": [],
   "source": [
    "def run_PBIL_experiments(number_of_runs, **kwargs):\n",
    "    costs = None\n",
    "    probabilities = []\n",
    "    epochs = kwargs.pop(\"epochs\")\n",
    "    def run_single_experiment(run):\n",
    "        pbil_run = PBIL(**kwargs, name=run)\n",
    "        pbil_run.evolve(epochs=epochs)\n",
    "        return pbil_run.get_scores(), pbil_run.get_historical_probabilities()\n",
    "    \n",
    "    experiments = Parallel(n_jobs=10, verbose=10)(delayed(run_single_experiment)(i) for i in range(number_of_runs))\n",
    "\n",
    "    costs, probabilities = zip(*experiments)\n",
    "    fig = make_subplots(rows=1, cols=2)\n",
    "    for line, values in costs[0].items():\n",
    "        fig.add_trace(\n",
    "            go.Scatter(y=values, mode='lines', name=line), row=1, col=1\n",
    "        )\n",
    "\n",
    "    for i, history in enumerate([[sum(probability_vector)/kwargs[\"chromosome_length\"] for probability_vector in history]\n",
    "                      for history in probabilities]):\n",
    "        fig.add_trace(\n",
    "            go.Scatter(y=history, mode='lines', name=i), row=1, col=2\n",
    "        )\n",
    "\n",
    "    fig.update_layout(title_text=\"PBIL Experiment\")\n",
    "    fig.show()"
   ]
  },
  {
   "cell_type": "code",
   "execution_count": null,
   "id": "b73c7066-2648-44c5-aeba-48126debbf81",
   "metadata": {},
   "outputs": [],
   "source": []
  }
 ],
 "metadata": {
  "kernelspec": {
   "display_name": "Python 3 (ipykernel)",
   "language": "python",
   "name": "python3"
  },
  "language_info": {
   "codemirror_mode": {
    "name": "ipython",
    "version": 3
   },
   "file_extension": ".py",
   "mimetype": "text/x-python",
   "name": "python",
   "nbconvert_exporter": "python",
   "pygments_lexer": "ipython3",
   "version": "3.11.6"
  }
 },
 "nbformat": 4,
 "nbformat_minor": 5
}
