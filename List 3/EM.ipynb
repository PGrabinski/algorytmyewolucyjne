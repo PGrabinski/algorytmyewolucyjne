{
 "cells": [
  {
   "cell_type": "markdown",
   "id": "1ec82e09-ab9b-4fc1-b894-066e548eee9a",
   "metadata": {},
   "source": [
    "# $ES(\\mu$, $\\lambda)$ and $ES(\\mu+\\lambda)$ algorithms "
   ]
  },
  {
   "cell_type": "code",
   "execution_count": null,
   "metadata": {},
   "outputs": [],
   "source": [
    "import numpy as np\n",
    "import wandb"
   ]
  },
  {
   "cell_type": "code",
   "execution_count": 15,
   "id": "c37819b8-82b0-48cc-8fdc-86cc2dba975b",
   "metadata": {},
   "outputs": [],
   "source": [
    "class ES_search:\n",
    "    problem_dimensionality: int\n",
    "    parents_number: int\n",
    "    descendants_number: int\n",
    "    tau: float\n",
    "    tau_zero: float\n",
    "\n",
    "    def __init__(self, problem_dimensionality, parents_number, descendants_number, tau, tau_zero, fitness_function) -> None:\n",
    "        self.problem_dimensionality = problem_dimensionality\n",
    "        self.parents_number = parents_number\n",
    "        self.descendants_number = descendants_number\n",
    "        self.tau = tau\n",
    "        self.tau_zero = tau_zero\n",
    "        self.fitness_function = fitness_function\n",
    "\n",
    "        self.initialize_population()\n",
    "\n",
    "    def initialize_population(self):\n",
    "        genes = np.random.uniform(-1, 1, (self.parents_number, self.problem_dimensionality)) \n",
    "        mutation_rates = np.random.uniform(-1, 1, (self.parents_number, self.problem_dimensionality)) \n",
    "        self.population = (genes, mutation_rates)\n",
    "\n",
    "    def evaluate_population(self, generation):\n",
    "        genes, mutation_rates = self.population\n",
    "        fitness = np.array([self.fitness_function(gene) for gene in genes])\n",
    "        wandb.log({\"generation\": generation, \"fitness_max\": fitness.max(), \"fitness_min\": fitness.min(), \"fitness_avg\": fitness.mean()})\n",
    "        return fitness\n",
    "\n",
    "    def evolve(self, max_generations):\n",
    "        self.evaluate_population(0)\n",
    "        for generation in range(max_generations):\n",
    "            self.population = self.evolve_generation()\n",
    "            print(f\"Generation {generation}\")\n",
    "\n",
    "    def select_parents(self, genes, mutation_rates, fitness):\n",
    "        indices_to_be_mutated = np.random.choice(self.parents_number, self.descendants_number, replace=True, p=fitness/fitness.sum())\n",
    "\n",
    "    def evolve_generation(self):\n",
    "        genes, mutation_rates = self.population\n",
    "        fitness = self.evaluate_population(generation)\n",
    "        genes_to_be_mutated, mutation_rates_to_be_mutated = self.select_parents(genes, mutations_rates, fitness)\n",
    "        descendants = self.generate_descendants(parents)\n",
    "\n",
    "        self.population = self.recombine_populations(parents, descendants)"
   ]
  },
  {
   "cell_type": "code",
   "execution_count": 14,
   "id": "f533d60c-de09-4d55-a0a8-66188cef7628",
   "metadata": {},
   "outputs": [],
   "source": [
    "ES_search(2, 10, 10, 0.1, 0.1, lambda x: (x**2).sum()).initialize_population()"
   ]
  },
  {
   "cell_type": "code",
   "execution_count": null,
   "metadata": {},
   "outputs": [],
   "source": []
  }
 ],
 "metadata": {
  "kernelspec": {
   "display_name": "Python 3 (ipykernel)",
   "language": "python",
   "name": "python3"
  },
  "language_info": {
   "codemirror_mode": {
    "name": "ipython",
    "version": 3
   },
   "file_extension": ".py",
   "mimetype": "text/x-python",
   "name": "python",
   "nbconvert_exporter": "python",
   "pygments_lexer": "ipython3",
   "version": "3.11.6"
  }
 },
 "nbformat": 4,
 "nbformat_minor": 5
}
